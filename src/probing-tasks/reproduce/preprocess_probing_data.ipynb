{
  "nbformat": 4,
  "nbformat_minor": 2,
  "metadata": {
    "colab": {
      "name": "preprocess-probing-data.ipynb",
      "provenance": [],
      "collapsed_sections": []
    },
    "kernelspec": {
      "display_name": "Python 3",
      "name": "python3"
    },
    "language_info": {
      "name": "python"
    },
    "metadata": {
      "interpreter": {
        "hash": "a76e1f3b3a43d56eebec3005daa29b5127721f42f968f9183bdc32f9f210ea51"
      }
    }
  },
  "cells": [
    {
      "cell_type": "markdown",
      "source": [
        "**Use this notebook to get the ner, rel and coref datasets**"
      ],
      "metadata": {}
    },
    {
      "cell_type": "markdown",
      "source": [
        "First we install some dependencies for jiant 1.3.2, clone jiant and OntoNotes and set a few environment variables."
      ],
      "metadata": {
        "id": "R4O43zb_xUR0"
      }
    },
    {
      "cell_type": "code",
      "execution_count": null,
      "source": [
        "!pip install allennlp==0.8.4\n",
        "!pip install overrides==3.1.0\n",
        "!pip install jsondiff\n",
        "!pip install sacremoses\n",
        "!pip install pyhocon==0.3.35\n",
        "!pip install transformers==2.6.0\n",
        "!pip install python-Levenshtein==0.12.0\n",
        "!pip install tensorflow==1.15.0\n",
        "\n",
        "!python -m nltk.downloader perluniprops nonbreaking_prefixes punkt\n",
        "\n",
        "!pip uninstall overrides\n",
        "!pip install overrides==3.1.0\n",
        "\n",
        "!pip install tensorflow==1.15"
      ],
      "outputs": [],
      "metadata": {
        "colab": {
          "base_uri": "https://localhost:8080/"
        },
        "id": "gC82xIyaxV48",
        "outputId": "db44877b-04f1-49d8-8236-02a120681ef6"
      }
    },
    {
      "cell_type": "code",
      "execution_count": null,
      "source": [
        "!git clone --branch v1.3.2  --recursive https://github.com/nyu-mll/jiant.git jiant\n",
        "!git clone https://github.com/yuchenlin/OntoNotes-5.0-NER-BIO.git"
      ],
      "outputs": [
        {
          "output_type": "stream",
          "name": "stdout",
          "text": [
            "fatal: destination path 'jiant' already exists and is not an empty directory.\n",
            "fatal: destination path 'OntoNotes-5.0-NER-BIO' already exists and is not an empty directory.\n"
          ]
        }
      ],
      "metadata": {
        "colab": {
          "base_uri": "https://localhost:8080/"
        },
        "id": "bPpCTvbAf538",
        "outputId": "88288524-b607-433c-ffe3-b99c3bd3f183"
      }
    },
    {
      "cell_type": "code",
      "execution_count": null,
      "source": [
        "import os\n",
        "os.environ['JIANT_PROJECT_PREFIX'] = 'output'\n",
        "os.environ['JIANT_DATA_DIR'] = 'data'\n",
        "os.environ['WORD_EMBS_FILE'] = 'embs'"
      ],
      "outputs": [],
      "metadata": {
        "id": "OeTyhpGr1yGA"
      }
    },
    {
      "cell_type": "markdown",
      "source": [
        "Copy the ontonotes path (/content/OntoNotes-5.0-NER-BIO/conll-formatted-ontonotes-5.0) to /content/jiant/probing/get_and_process_all_data.sh\n",
        "Comment out SPR data and tokenizing for OpenAI, Moses and bert-large in /content/jiant/probing/get_and_process_all_data.sh. \n",
        "Then run the preprocessing script. Afterwards copy the data to a mounted google Drive."
      ],
      "metadata": {
        "id": "mvpD_1Hr8zdY"
      }
    },
    {
      "cell_type": "code",
      "execution_count": null,
      "source": [
        "!./jiant/probing/get_and_process_all_data.sh"
      ],
      "outputs": [],
      "metadata": {
        "colab": {
          "base_uri": "https://localhost:8080/"
        },
        "id": "cOe5JKh_9Vlw",
        "outputId": "78413566-595a-4762-adba-011c799c29f4"
      }
    },
    {
      "cell_type": "code",
      "execution_count": null,
      "source": [
        "from google.colab import drive\n",
        "drive.mount('/content/drive')\n",
        "\n",
        "!cp -r /root /content/drive/MyDrive"
      ],
      "outputs": [],
      "metadata": {
        "colab": {
          "base_uri": "https://localhost:8080/"
        },
        "id": "ZH_WEgbCxYkU",
        "outputId": "d28cd1a8-1be2-47aa-952a-acbffc6cc1c2"
      }
    },
    {
      "cell_type": "code",
      "execution_count": null,
      "source": [],
      "outputs": [],
      "metadata": {
        "id": "8ZkVSxO2xnlQ"
      }
    }
  ]
}