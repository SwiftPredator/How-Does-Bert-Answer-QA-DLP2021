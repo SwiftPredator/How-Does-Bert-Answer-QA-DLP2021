{
  "nbformat": 4,
  "nbformat_minor": 0,
  "metadata": {
    "colab": {
      "name": "reproduce-probing-tasks.ipynb",
      "provenance": [],
      "collapsed_sections": []
    },
    "kernelspec": {
      "name": "python3",
      "display_name": "Python 3"
    },
    "language_info": {
      "name": "python"
    },
    "widgets": {
      "application/vnd.jupyter.widget-state+json": {
        "511b5ba63ef64493bc2d9e806b795c82": {
          "model_module": "@jupyter-widgets/controls",
          "model_name": "HBoxModel",
          "state": {
            "_view_name": "HBoxView",
            "_dom_classes": [],
            "_model_name": "HBoxModel",
            "_view_module": "@jupyter-widgets/controls",
            "_model_module_version": "1.5.0",
            "_view_count": null,
            "_view_module_version": "1.5.0",
            "box_style": "",
            "layout": "IPY_MODEL_1f77a3d31bbd41daa53144bf6dcb7d70",
            "_model_module": "@jupyter-widgets/controls",
            "children": [
              "IPY_MODEL_82773ee7e74243f6b83d62c82f5aad6d",
              "IPY_MODEL_cb97404ce71b45cc841f8c42c3db9b06"
            ]
          }
        },
        "1f77a3d31bbd41daa53144bf6dcb7d70": {
          "model_module": "@jupyter-widgets/base",
          "model_name": "LayoutModel",
          "state": {
            "_view_name": "LayoutView",
            "grid_template_rows": null,
            "right": null,
            "justify_content": null,
            "_view_module": "@jupyter-widgets/base",
            "overflow": null,
            "_model_module_version": "1.2.0",
            "_view_count": null,
            "flex_flow": null,
            "width": null,
            "min_width": null,
            "border": null,
            "align_items": null,
            "bottom": null,
            "_model_module": "@jupyter-widgets/base",
            "top": null,
            "grid_column": null,
            "overflow_y": null,
            "overflow_x": null,
            "grid_auto_flow": null,
            "grid_area": null,
            "grid_template_columns": null,
            "flex": null,
            "_model_name": "LayoutModel",
            "justify_items": null,
            "grid_row": null,
            "max_height": null,
            "align_content": null,
            "visibility": null,
            "align_self": null,
            "height": null,
            "min_height": null,
            "padding": null,
            "grid_auto_rows": null,
            "grid_gap": null,
            "max_width": null,
            "order": null,
            "_view_module_version": "1.2.0",
            "grid_template_areas": null,
            "object_position": null,
            "object_fit": null,
            "grid_auto_columns": null,
            "margin": null,
            "display": null,
            "left": null
          }
        },
        "82773ee7e74243f6b83d62c82f5aad6d": {
          "model_module": "@jupyter-widgets/controls",
          "model_name": "FloatProgressModel",
          "state": {
            "_view_name": "ProgressView",
            "style": "IPY_MODEL_1ee1c4f9ccbf49b3a5d2eaafde908a39",
            "_dom_classes": [],
            "description": "Downloading: 100%",
            "_model_name": "FloatProgressModel",
            "bar_style": "success",
            "max": 477,
            "_view_module": "@jupyter-widgets/controls",
            "_model_module_version": "1.5.0",
            "value": 477,
            "_view_count": null,
            "_view_module_version": "1.5.0",
            "orientation": "horizontal",
            "min": 0,
            "description_tooltip": null,
            "_model_module": "@jupyter-widgets/controls",
            "layout": "IPY_MODEL_887e1a373cfe47e88dda89f44920d95e"
          }
        },
        "cb97404ce71b45cc841f8c42c3db9b06": {
          "model_module": "@jupyter-widgets/controls",
          "model_name": "HTMLModel",
          "state": {
            "_view_name": "HTMLView",
            "style": "IPY_MODEL_9ce01b39c869424db1b648cc6bf72215",
            "_dom_classes": [],
            "description": "",
            "_model_name": "HTMLModel",
            "placeholder": "​",
            "_view_module": "@jupyter-widgets/controls",
            "_model_module_version": "1.5.0",
            "value": " 477/477 [00:09&lt;00:00, 49.0B/s]",
            "_view_count": null,
            "_view_module_version": "1.5.0",
            "description_tooltip": null,
            "_model_module": "@jupyter-widgets/controls",
            "layout": "IPY_MODEL_c627c31e03544e91b695e5af0155e835"
          }
        },
        "1ee1c4f9ccbf49b3a5d2eaafde908a39": {
          "model_module": "@jupyter-widgets/controls",
          "model_name": "ProgressStyleModel",
          "state": {
            "_view_name": "StyleView",
            "_model_name": "ProgressStyleModel",
            "description_width": "initial",
            "_view_module": "@jupyter-widgets/base",
            "_model_module_version": "1.5.0",
            "_view_count": null,
            "_view_module_version": "1.2.0",
            "bar_color": null,
            "_model_module": "@jupyter-widgets/controls"
          }
        },
        "887e1a373cfe47e88dda89f44920d95e": {
          "model_module": "@jupyter-widgets/base",
          "model_name": "LayoutModel",
          "state": {
            "_view_name": "LayoutView",
            "grid_template_rows": null,
            "right": null,
            "justify_content": null,
            "_view_module": "@jupyter-widgets/base",
            "overflow": null,
            "_model_module_version": "1.2.0",
            "_view_count": null,
            "flex_flow": null,
            "width": null,
            "min_width": null,
            "border": null,
            "align_items": null,
            "bottom": null,
            "_model_module": "@jupyter-widgets/base",
            "top": null,
            "grid_column": null,
            "overflow_y": null,
            "overflow_x": null,
            "grid_auto_flow": null,
            "grid_area": null,
            "grid_template_columns": null,
            "flex": null,
            "_model_name": "LayoutModel",
            "justify_items": null,
            "grid_row": null,
            "max_height": null,
            "align_content": null,
            "visibility": null,
            "align_self": null,
            "height": null,
            "min_height": null,
            "padding": null,
            "grid_auto_rows": null,
            "grid_gap": null,
            "max_width": null,
            "order": null,
            "_view_module_version": "1.2.0",
            "grid_template_areas": null,
            "object_position": null,
            "object_fit": null,
            "grid_auto_columns": null,
            "margin": null,
            "display": null,
            "left": null
          }
        },
        "9ce01b39c869424db1b648cc6bf72215": {
          "model_module": "@jupyter-widgets/controls",
          "model_name": "DescriptionStyleModel",
          "state": {
            "_view_name": "StyleView",
            "_model_name": "DescriptionStyleModel",
            "description_width": "",
            "_view_module": "@jupyter-widgets/base",
            "_model_module_version": "1.5.0",
            "_view_count": null,
            "_view_module_version": "1.2.0",
            "_model_module": "@jupyter-widgets/controls"
          }
        },
        "c627c31e03544e91b695e5af0155e835": {
          "model_module": "@jupyter-widgets/base",
          "model_name": "LayoutModel",
          "state": {
            "_view_name": "LayoutView",
            "grid_template_rows": null,
            "right": null,
            "justify_content": null,
            "_view_module": "@jupyter-widgets/base",
            "overflow": null,
            "_model_module_version": "1.2.0",
            "_view_count": null,
            "flex_flow": null,
            "width": null,
            "min_width": null,
            "border": null,
            "align_items": null,
            "bottom": null,
            "_model_module": "@jupyter-widgets/base",
            "top": null,
            "grid_column": null,
            "overflow_y": null,
            "overflow_x": null,
            "grid_auto_flow": null,
            "grid_area": null,
            "grid_template_columns": null,
            "flex": null,
            "_model_name": "LayoutModel",
            "justify_items": null,
            "grid_row": null,
            "max_height": null,
            "align_content": null,
            "visibility": null,
            "align_self": null,
            "height": null,
            "min_height": null,
            "padding": null,
            "grid_auto_rows": null,
            "grid_gap": null,
            "max_width": null,
            "order": null,
            "_view_module_version": "1.2.0",
            "grid_template_areas": null,
            "object_position": null,
            "object_fit": null,
            "grid_auto_columns": null,
            "margin": null,
            "display": null,
            "left": null
          }
        },
        "33b9b9d2f7184ab4ace38779b8c80ed9": {
          "model_module": "@jupyter-widgets/controls",
          "model_name": "HBoxModel",
          "state": {
            "_view_name": "HBoxView",
            "_dom_classes": [],
            "_model_name": "HBoxModel",
            "_view_module": "@jupyter-widgets/controls",
            "_model_module_version": "1.5.0",
            "_view_count": null,
            "_view_module_version": "1.5.0",
            "box_style": "",
            "layout": "IPY_MODEL_9111b0a13b4844619140c4499245fbdd",
            "_model_module": "@jupyter-widgets/controls",
            "children": [
              "IPY_MODEL_9d76f3be7dbc49adadd6a18dd46659ce",
              "IPY_MODEL_1513a35de28a49cd9bdfe0d0d3acc0e0"
            ]
          }
        },
        "9111b0a13b4844619140c4499245fbdd": {
          "model_module": "@jupyter-widgets/base",
          "model_name": "LayoutModel",
          "state": {
            "_view_name": "LayoutView",
            "grid_template_rows": null,
            "right": null,
            "justify_content": null,
            "_view_module": "@jupyter-widgets/base",
            "overflow": null,
            "_model_module_version": "1.2.0",
            "_view_count": null,
            "flex_flow": null,
            "width": null,
            "min_width": null,
            "border": null,
            "align_items": null,
            "bottom": null,
            "_model_module": "@jupyter-widgets/base",
            "top": null,
            "grid_column": null,
            "overflow_y": null,
            "overflow_x": null,
            "grid_auto_flow": null,
            "grid_area": null,
            "grid_template_columns": null,
            "flex": null,
            "_model_name": "LayoutModel",
            "justify_items": null,
            "grid_row": null,
            "max_height": null,
            "align_content": null,
            "visibility": null,
            "align_self": null,
            "height": null,
            "min_height": null,
            "padding": null,
            "grid_auto_rows": null,
            "grid_gap": null,
            "max_width": null,
            "order": null,
            "_view_module_version": "1.2.0",
            "grid_template_areas": null,
            "object_position": null,
            "object_fit": null,
            "grid_auto_columns": null,
            "margin": null,
            "display": null,
            "left": null
          }
        },
        "9d76f3be7dbc49adadd6a18dd46659ce": {
          "model_module": "@jupyter-widgets/controls",
          "model_name": "FloatProgressModel",
          "state": {
            "_view_name": "ProgressView",
            "style": "IPY_MODEL_3e0828be11b747e881fab1b914dd609e",
            "_dom_classes": [],
            "description": "Downloading: 100%",
            "_model_name": "FloatProgressModel",
            "bar_style": "success",
            "max": 437983344,
            "_view_module": "@jupyter-widgets/controls",
            "_model_module_version": "1.5.0",
            "value": 437983344,
            "_view_count": null,
            "_view_module_version": "1.5.0",
            "orientation": "horizontal",
            "min": 0,
            "description_tooltip": null,
            "_model_module": "@jupyter-widgets/controls",
            "layout": "IPY_MODEL_f867399e9772466c84b2847356132fdd"
          }
        },
        "1513a35de28a49cd9bdfe0d0d3acc0e0": {
          "model_module": "@jupyter-widgets/controls",
          "model_name": "HTMLModel",
          "state": {
            "_view_name": "HTMLView",
            "style": "IPY_MODEL_8a4d5ae5fc574a01accc3c74b647a8cc",
            "_dom_classes": [],
            "description": "",
            "_model_name": "HTMLModel",
            "placeholder": "​",
            "_view_module": "@jupyter-widgets/controls",
            "_model_module_version": "1.5.0",
            "value": " 438M/438M [00:09&lt;00:00, 46.7MB/s]",
            "_view_count": null,
            "_view_module_version": "1.5.0",
            "description_tooltip": null,
            "_model_module": "@jupyter-widgets/controls",
            "layout": "IPY_MODEL_b2554dd8e95b4b7e821d6840ef3ac27d"
          }
        },
        "3e0828be11b747e881fab1b914dd609e": {
          "model_module": "@jupyter-widgets/controls",
          "model_name": "ProgressStyleModel",
          "state": {
            "_view_name": "StyleView",
            "_model_name": "ProgressStyleModel",
            "description_width": "initial",
            "_view_module": "@jupyter-widgets/base",
            "_model_module_version": "1.5.0",
            "_view_count": null,
            "_view_module_version": "1.2.0",
            "bar_color": null,
            "_model_module": "@jupyter-widgets/controls"
          }
        },
        "f867399e9772466c84b2847356132fdd": {
          "model_module": "@jupyter-widgets/base",
          "model_name": "LayoutModel",
          "state": {
            "_view_name": "LayoutView",
            "grid_template_rows": null,
            "right": null,
            "justify_content": null,
            "_view_module": "@jupyter-widgets/base",
            "overflow": null,
            "_model_module_version": "1.2.0",
            "_view_count": null,
            "flex_flow": null,
            "width": null,
            "min_width": null,
            "border": null,
            "align_items": null,
            "bottom": null,
            "_model_module": "@jupyter-widgets/base",
            "top": null,
            "grid_column": null,
            "overflow_y": null,
            "overflow_x": null,
            "grid_auto_flow": null,
            "grid_area": null,
            "grid_template_columns": null,
            "flex": null,
            "_model_name": "LayoutModel",
            "justify_items": null,
            "grid_row": null,
            "max_height": null,
            "align_content": null,
            "visibility": null,
            "align_self": null,
            "height": null,
            "min_height": null,
            "padding": null,
            "grid_auto_rows": null,
            "grid_gap": null,
            "max_width": null,
            "order": null,
            "_view_module_version": "1.2.0",
            "grid_template_areas": null,
            "object_position": null,
            "object_fit": null,
            "grid_auto_columns": null,
            "margin": null,
            "display": null,
            "left": null
          }
        },
        "8a4d5ae5fc574a01accc3c74b647a8cc": {
          "model_module": "@jupyter-widgets/controls",
          "model_name": "DescriptionStyleModel",
          "state": {
            "_view_name": "StyleView",
            "_model_name": "DescriptionStyleModel",
            "description_width": "",
            "_view_module": "@jupyter-widgets/base",
            "_model_module_version": "1.5.0",
            "_view_count": null,
            "_view_module_version": "1.2.0",
            "_model_module": "@jupyter-widgets/controls"
          }
        },
        "b2554dd8e95b4b7e821d6840ef3ac27d": {
          "model_module": "@jupyter-widgets/base",
          "model_name": "LayoutModel",
          "state": {
            "_view_name": "LayoutView",
            "grid_template_rows": null,
            "right": null,
            "justify_content": null,
            "_view_module": "@jupyter-widgets/base",
            "overflow": null,
            "_model_module_version": "1.2.0",
            "_view_count": null,
            "flex_flow": null,
            "width": null,
            "min_width": null,
            "border": null,
            "align_items": null,
            "bottom": null,
            "_model_module": "@jupyter-widgets/base",
            "top": null,
            "grid_column": null,
            "overflow_y": null,
            "overflow_x": null,
            "grid_auto_flow": null,
            "grid_area": null,
            "grid_template_columns": null,
            "flex": null,
            "_model_name": "LayoutModel",
            "justify_items": null,
            "grid_row": null,
            "max_height": null,
            "align_content": null,
            "visibility": null,
            "align_self": null,
            "height": null,
            "min_height": null,
            "padding": null,
            "grid_auto_rows": null,
            "grid_gap": null,
            "max_width": null,
            "order": null,
            "_view_module_version": "1.2.0",
            "grid_template_areas": null,
            "object_position": null,
            "object_fit": null,
            "grid_auto_columns": null,
            "margin": null,
            "display": null,
            "left": null
          }
        },
        "b4ce8c6a5ff5426f9e383e6d85ba0bdf": {
          "model_module": "@jupyter-widgets/controls",
          "model_name": "HBoxModel",
          "state": {
            "_view_name": "HBoxView",
            "_dom_classes": [],
            "_model_name": "HBoxModel",
            "_view_module": "@jupyter-widgets/controls",
            "_model_module_version": "1.5.0",
            "_view_count": null,
            "_view_module_version": "1.5.0",
            "box_style": "",
            "layout": "IPY_MODEL_4c7afdcbaf3849feaf1d5666ac58af9d",
            "_model_module": "@jupyter-widgets/controls",
            "children": [
              "IPY_MODEL_f0dacfa14041418f9020cac973a2dbb8",
              "IPY_MODEL_b2e8fe7d060a4b0886e24e74ce4e6eed"
            ]
          }
        },
        "4c7afdcbaf3849feaf1d5666ac58af9d": {
          "model_module": "@jupyter-widgets/base",
          "model_name": "LayoutModel",
          "state": {
            "_view_name": "LayoutView",
            "grid_template_rows": null,
            "right": null,
            "justify_content": null,
            "_view_module": "@jupyter-widgets/base",
            "overflow": null,
            "_model_module_version": "1.2.0",
            "_view_count": null,
            "flex_flow": null,
            "width": null,
            "min_width": null,
            "border": null,
            "align_items": null,
            "bottom": null,
            "_model_module": "@jupyter-widgets/base",
            "top": null,
            "grid_column": null,
            "overflow_y": null,
            "overflow_x": null,
            "grid_auto_flow": null,
            "grid_area": null,
            "grid_template_columns": null,
            "flex": null,
            "_model_name": "LayoutModel",
            "justify_items": null,
            "grid_row": null,
            "max_height": null,
            "align_content": null,
            "visibility": null,
            "align_self": null,
            "height": null,
            "min_height": null,
            "padding": null,
            "grid_auto_rows": null,
            "grid_gap": null,
            "max_width": null,
            "order": null,
            "_view_module_version": "1.2.0",
            "grid_template_areas": null,
            "object_position": null,
            "object_fit": null,
            "grid_auto_columns": null,
            "margin": null,
            "display": null,
            "left": null
          }
        },
        "f0dacfa14041418f9020cac973a2dbb8": {
          "model_module": "@jupyter-widgets/controls",
          "model_name": "FloatProgressModel",
          "state": {
            "_view_name": "ProgressView",
            "style": "IPY_MODEL_bc95c2aac5a64a418a1fc9436b63e1f7",
            "_dom_classes": [],
            "description": "Downloading: 100%",
            "_model_name": "FloatProgressModel",
            "bar_style": "success",
            "max": 231508,
            "_view_module": "@jupyter-widgets/controls",
            "_model_module_version": "1.5.0",
            "value": 231508,
            "_view_count": null,
            "_view_module_version": "1.5.0",
            "orientation": "horizontal",
            "min": 0,
            "description_tooltip": null,
            "_model_module": "@jupyter-widgets/controls",
            "layout": "IPY_MODEL_688a82e7850d4fc9916b575ddc658ce0"
          }
        },
        "b2e8fe7d060a4b0886e24e74ce4e6eed": {
          "model_module": "@jupyter-widgets/controls",
          "model_name": "HTMLModel",
          "state": {
            "_view_name": "HTMLView",
            "style": "IPY_MODEL_9116b944b9104656ace0187d1b9474da",
            "_dom_classes": [],
            "description": "",
            "_model_name": "HTMLModel",
            "placeholder": "​",
            "_view_module": "@jupyter-widgets/controls",
            "_model_module_version": "1.5.0",
            "value": " 232k/232k [00:00&lt;00:00, 1.62MB/s]",
            "_view_count": null,
            "_view_module_version": "1.5.0",
            "description_tooltip": null,
            "_model_module": "@jupyter-widgets/controls",
            "layout": "IPY_MODEL_aa850a4ad7c24f83ba4b78a39b4dee16"
          }
        },
        "bc95c2aac5a64a418a1fc9436b63e1f7": {
          "model_module": "@jupyter-widgets/controls",
          "model_name": "ProgressStyleModel",
          "state": {
            "_view_name": "StyleView",
            "_model_name": "ProgressStyleModel",
            "description_width": "initial",
            "_view_module": "@jupyter-widgets/base",
            "_model_module_version": "1.5.0",
            "_view_count": null,
            "_view_module_version": "1.2.0",
            "bar_color": null,
            "_model_module": "@jupyter-widgets/controls"
          }
        },
        "688a82e7850d4fc9916b575ddc658ce0": {
          "model_module": "@jupyter-widgets/base",
          "model_name": "LayoutModel",
          "state": {
            "_view_name": "LayoutView",
            "grid_template_rows": null,
            "right": null,
            "justify_content": null,
            "_view_module": "@jupyter-widgets/base",
            "overflow": null,
            "_model_module_version": "1.2.0",
            "_view_count": null,
            "flex_flow": null,
            "width": null,
            "min_width": null,
            "border": null,
            "align_items": null,
            "bottom": null,
            "_model_module": "@jupyter-widgets/base",
            "top": null,
            "grid_column": null,
            "overflow_y": null,
            "overflow_x": null,
            "grid_auto_flow": null,
            "grid_area": null,
            "grid_template_columns": null,
            "flex": null,
            "_model_name": "LayoutModel",
            "justify_items": null,
            "grid_row": null,
            "max_height": null,
            "align_content": null,
            "visibility": null,
            "align_self": null,
            "height": null,
            "min_height": null,
            "padding": null,
            "grid_auto_rows": null,
            "grid_gap": null,
            "max_width": null,
            "order": null,
            "_view_module_version": "1.2.0",
            "grid_template_areas": null,
            "object_position": null,
            "object_fit": null,
            "grid_auto_columns": null,
            "margin": null,
            "display": null,
            "left": null
          }
        },
        "9116b944b9104656ace0187d1b9474da": {
          "model_module": "@jupyter-widgets/controls",
          "model_name": "DescriptionStyleModel",
          "state": {
            "_view_name": "StyleView",
            "_model_name": "DescriptionStyleModel",
            "description_width": "",
            "_view_module": "@jupyter-widgets/base",
            "_model_module_version": "1.5.0",
            "_view_count": null,
            "_view_module_version": "1.2.0",
            "_model_module": "@jupyter-widgets/controls"
          }
        },
        "aa850a4ad7c24f83ba4b78a39b4dee16": {
          "model_module": "@jupyter-widgets/base",
          "model_name": "LayoutModel",
          "state": {
            "_view_name": "LayoutView",
            "grid_template_rows": null,
            "right": null,
            "justify_content": null,
            "_view_module": "@jupyter-widgets/base",
            "overflow": null,
            "_model_module_version": "1.2.0",
            "_view_count": null,
            "flex_flow": null,
            "width": null,
            "min_width": null,
            "border": null,
            "align_items": null,
            "bottom": null,
            "_model_module": "@jupyter-widgets/base",
            "top": null,
            "grid_column": null,
            "overflow_y": null,
            "overflow_x": null,
            "grid_auto_flow": null,
            "grid_area": null,
            "grid_template_columns": null,
            "flex": null,
            "_model_name": "LayoutModel",
            "justify_items": null,
            "grid_row": null,
            "max_height": null,
            "align_content": null,
            "visibility": null,
            "align_self": null,
            "height": null,
            "min_height": null,
            "padding": null,
            "grid_auto_rows": null,
            "grid_gap": null,
            "max_width": null,
            "order": null,
            "_view_module_version": "1.2.0",
            "grid_template_areas": null,
            "object_position": null,
            "object_fit": null,
            "grid_auto_columns": null,
            "margin": null,
            "display": null,
            "left": null
          }
        },
        "c2df3f70e51146c28ee914580263231c": {
          "model_module": "@jupyter-widgets/controls",
          "model_name": "HBoxModel",
          "state": {
            "_view_name": "HBoxView",
            "_dom_classes": [],
            "_model_name": "HBoxModel",
            "_view_module": "@jupyter-widgets/controls",
            "_model_module_version": "1.5.0",
            "_view_count": null,
            "_view_module_version": "1.5.0",
            "box_style": "",
            "layout": "IPY_MODEL_53b23f1709cd4ed984efac05b4800a11",
            "_model_module": "@jupyter-widgets/controls",
            "children": [
              "IPY_MODEL_f72c4072b323404b861ea11b08eb2ba8",
              "IPY_MODEL_e290786d77d842509ae8376dec16afc9"
            ]
          }
        },
        "53b23f1709cd4ed984efac05b4800a11": {
          "model_module": "@jupyter-widgets/base",
          "model_name": "LayoutModel",
          "state": {
            "_view_name": "LayoutView",
            "grid_template_rows": null,
            "right": null,
            "justify_content": null,
            "_view_module": "@jupyter-widgets/base",
            "overflow": null,
            "_model_module_version": "1.2.0",
            "_view_count": null,
            "flex_flow": null,
            "width": null,
            "min_width": null,
            "border": null,
            "align_items": null,
            "bottom": null,
            "_model_module": "@jupyter-widgets/base",
            "top": null,
            "grid_column": null,
            "overflow_y": null,
            "overflow_x": null,
            "grid_auto_flow": null,
            "grid_area": null,
            "grid_template_columns": null,
            "flex": null,
            "_model_name": "LayoutModel",
            "justify_items": null,
            "grid_row": null,
            "max_height": null,
            "align_content": null,
            "visibility": null,
            "align_self": null,
            "height": null,
            "min_height": null,
            "padding": null,
            "grid_auto_rows": null,
            "grid_gap": null,
            "max_width": null,
            "order": null,
            "_view_module_version": "1.2.0",
            "grid_template_areas": null,
            "object_position": null,
            "object_fit": null,
            "grid_auto_columns": null,
            "margin": null,
            "display": null,
            "left": null
          }
        },
        "f72c4072b323404b861ea11b08eb2ba8": {
          "model_module": "@jupyter-widgets/controls",
          "model_name": "FloatProgressModel",
          "state": {
            "_view_name": "ProgressView",
            "style": "IPY_MODEL_5c5c3184e8594166a5606452308e8edb",
            "_dom_classes": [],
            "description": "Downloading: 100%",
            "_model_name": "FloatProgressModel",
            "bar_style": "success",
            "max": 112,
            "_view_module": "@jupyter-widgets/controls",
            "_model_module_version": "1.5.0",
            "value": 112,
            "_view_count": null,
            "_view_module_version": "1.5.0",
            "orientation": "horizontal",
            "min": 0,
            "description_tooltip": null,
            "_model_module": "@jupyter-widgets/controls",
            "layout": "IPY_MODEL_8573e5abda024d9dac0652923cebd8f7"
          }
        },
        "e290786d77d842509ae8376dec16afc9": {
          "model_module": "@jupyter-widgets/controls",
          "model_name": "HTMLModel",
          "state": {
            "_view_name": "HTMLView",
            "style": "IPY_MODEL_1e2c802c61a0493894e3ba7381a43296",
            "_dom_classes": [],
            "description": "",
            "_model_name": "HTMLModel",
            "placeholder": "​",
            "_view_module": "@jupyter-widgets/controls",
            "_model_module_version": "1.5.0",
            "value": " 112/112 [00:00&lt;00:00, 582B/s]",
            "_view_count": null,
            "_view_module_version": "1.5.0",
            "description_tooltip": null,
            "_model_module": "@jupyter-widgets/controls",
            "layout": "IPY_MODEL_7997a3216cc249209d31691aab3fb144"
          }
        },
        "5c5c3184e8594166a5606452308e8edb": {
          "model_module": "@jupyter-widgets/controls",
          "model_name": "ProgressStyleModel",
          "state": {
            "_view_name": "StyleView",
            "_model_name": "ProgressStyleModel",
            "description_width": "initial",
            "_view_module": "@jupyter-widgets/base",
            "_model_module_version": "1.5.0",
            "_view_count": null,
            "_view_module_version": "1.2.0",
            "bar_color": null,
            "_model_module": "@jupyter-widgets/controls"
          }
        },
        "8573e5abda024d9dac0652923cebd8f7": {
          "model_module": "@jupyter-widgets/base",
          "model_name": "LayoutModel",
          "state": {
            "_view_name": "LayoutView",
            "grid_template_rows": null,
            "right": null,
            "justify_content": null,
            "_view_module": "@jupyter-widgets/base",
            "overflow": null,
            "_model_module_version": "1.2.0",
            "_view_count": null,
            "flex_flow": null,
            "width": null,
            "min_width": null,
            "border": null,
            "align_items": null,
            "bottom": null,
            "_model_module": "@jupyter-widgets/base",
            "top": null,
            "grid_column": null,
            "overflow_y": null,
            "overflow_x": null,
            "grid_auto_flow": null,
            "grid_area": null,
            "grid_template_columns": null,
            "flex": null,
            "_model_name": "LayoutModel",
            "justify_items": null,
            "grid_row": null,
            "max_height": null,
            "align_content": null,
            "visibility": null,
            "align_self": null,
            "height": null,
            "min_height": null,
            "padding": null,
            "grid_auto_rows": null,
            "grid_gap": null,
            "max_width": null,
            "order": null,
            "_view_module_version": "1.2.0",
            "grid_template_areas": null,
            "object_position": null,
            "object_fit": null,
            "grid_auto_columns": null,
            "margin": null,
            "display": null,
            "left": null
          }
        },
        "1e2c802c61a0493894e3ba7381a43296": {
          "model_module": "@jupyter-widgets/controls",
          "model_name": "DescriptionStyleModel",
          "state": {
            "_view_name": "StyleView",
            "_model_name": "DescriptionStyleModel",
            "description_width": "",
            "_view_module": "@jupyter-widgets/base",
            "_model_module_version": "1.5.0",
            "_view_count": null,
            "_view_module_version": "1.2.0",
            "_model_module": "@jupyter-widgets/controls"
          }
        },
        "7997a3216cc249209d31691aab3fb144": {
          "model_module": "@jupyter-widgets/base",
          "model_name": "LayoutModel",
          "state": {
            "_view_name": "LayoutView",
            "grid_template_rows": null,
            "right": null,
            "justify_content": null,
            "_view_module": "@jupyter-widgets/base",
            "overflow": null,
            "_model_module_version": "1.2.0",
            "_view_count": null,
            "flex_flow": null,
            "width": null,
            "min_width": null,
            "border": null,
            "align_items": null,
            "bottom": null,
            "_model_module": "@jupyter-widgets/base",
            "top": null,
            "grid_column": null,
            "overflow_y": null,
            "overflow_x": null,
            "grid_auto_flow": null,
            "grid_area": null,
            "grid_template_columns": null,
            "flex": null,
            "_model_name": "LayoutModel",
            "justify_items": null,
            "grid_row": null,
            "max_height": null,
            "align_content": null,
            "visibility": null,
            "align_self": null,
            "height": null,
            "min_height": null,
            "padding": null,
            "grid_auto_rows": null,
            "grid_gap": null,
            "max_width": null,
            "order": null,
            "_view_module_version": "1.2.0",
            "grid_template_areas": null,
            "object_position": null,
            "object_fit": null,
            "grid_auto_columns": null,
            "margin": null,
            "display": null,
            "left": null
          }
        },
        "4e77106b64f44de9bd067cdd8f0f75c0": {
          "model_module": "@jupyter-widgets/controls",
          "model_name": "HBoxModel",
          "state": {
            "_view_name": "HBoxView",
            "_dom_classes": [],
            "_model_name": "HBoxModel",
            "_view_module": "@jupyter-widgets/controls",
            "_model_module_version": "1.5.0",
            "_view_count": null,
            "_view_module_version": "1.5.0",
            "box_style": "",
            "layout": "IPY_MODEL_16f8449f07324ed996696fd4f76f939a",
            "_model_module": "@jupyter-widgets/controls",
            "children": [
              "IPY_MODEL_0f64c63987934365842a4857bd1f73a1",
              "IPY_MODEL_13fb2962335c44a982a0017d2ad87682"
            ]
          }
        },
        "16f8449f07324ed996696fd4f76f939a": {
          "model_module": "@jupyter-widgets/base",
          "model_name": "LayoutModel",
          "state": {
            "_view_name": "LayoutView",
            "grid_template_rows": null,
            "right": null,
            "justify_content": null,
            "_view_module": "@jupyter-widgets/base",
            "overflow": null,
            "_model_module_version": "1.2.0",
            "_view_count": null,
            "flex_flow": null,
            "width": null,
            "min_width": null,
            "border": null,
            "align_items": null,
            "bottom": null,
            "_model_module": "@jupyter-widgets/base",
            "top": null,
            "grid_column": null,
            "overflow_y": null,
            "overflow_x": null,
            "grid_auto_flow": null,
            "grid_area": null,
            "grid_template_columns": null,
            "flex": null,
            "_model_name": "LayoutModel",
            "justify_items": null,
            "grid_row": null,
            "max_height": null,
            "align_content": null,
            "visibility": null,
            "align_self": null,
            "height": null,
            "min_height": null,
            "padding": null,
            "grid_auto_rows": null,
            "grid_gap": null,
            "max_width": null,
            "order": null,
            "_view_module_version": "1.2.0",
            "grid_template_areas": null,
            "object_position": null,
            "object_fit": null,
            "grid_auto_columns": null,
            "margin": null,
            "display": null,
            "left": null
          }
        },
        "0f64c63987934365842a4857bd1f73a1": {
          "model_module": "@jupyter-widgets/controls",
          "model_name": "FloatProgressModel",
          "state": {
            "_view_name": "ProgressView",
            "style": "IPY_MODEL_e29443164e574548ae37fb60d3ed6afc",
            "_dom_classes": [],
            "description": "Downloading: 100%",
            "_model_name": "FloatProgressModel",
            "bar_style": "success",
            "max": 48,
            "_view_module": "@jupyter-widgets/controls",
            "_model_module_version": "1.5.0",
            "value": 48,
            "_view_count": null,
            "_view_module_version": "1.5.0",
            "orientation": "horizontal",
            "min": 0,
            "description_tooltip": null,
            "_model_module": "@jupyter-widgets/controls",
            "layout": "IPY_MODEL_8dae70478a2f4d35b81878f16df48cb2"
          }
        },
        "13fb2962335c44a982a0017d2ad87682": {
          "model_module": "@jupyter-widgets/controls",
          "model_name": "HTMLModel",
          "state": {
            "_view_name": "HTMLView",
            "style": "IPY_MODEL_bec9195e90594b7cbf0b250e47dd4ff9",
            "_dom_classes": [],
            "description": "",
            "_model_name": "HTMLModel",
            "placeholder": "​",
            "_view_module": "@jupyter-widgets/controls",
            "_model_module_version": "1.5.0",
            "value": " 48.0/48.0 [00:00&lt;00:00, 496B/s]",
            "_view_count": null,
            "_view_module_version": "1.5.0",
            "description_tooltip": null,
            "_model_module": "@jupyter-widgets/controls",
            "layout": "IPY_MODEL_7eb7fa7d3d8047d6b2451330aad41b0a"
          }
        },
        "e29443164e574548ae37fb60d3ed6afc": {
          "model_module": "@jupyter-widgets/controls",
          "model_name": "ProgressStyleModel",
          "state": {
            "_view_name": "StyleView",
            "_model_name": "ProgressStyleModel",
            "description_width": "initial",
            "_view_module": "@jupyter-widgets/base",
            "_model_module_version": "1.5.0",
            "_view_count": null,
            "_view_module_version": "1.2.0",
            "bar_color": null,
            "_model_module": "@jupyter-widgets/controls"
          }
        },
        "8dae70478a2f4d35b81878f16df48cb2": {
          "model_module": "@jupyter-widgets/base",
          "model_name": "LayoutModel",
          "state": {
            "_view_name": "LayoutView",
            "grid_template_rows": null,
            "right": null,
            "justify_content": null,
            "_view_module": "@jupyter-widgets/base",
            "overflow": null,
            "_model_module_version": "1.2.0",
            "_view_count": null,
            "flex_flow": null,
            "width": null,
            "min_width": null,
            "border": null,
            "align_items": null,
            "bottom": null,
            "_model_module": "@jupyter-widgets/base",
            "top": null,
            "grid_column": null,
            "overflow_y": null,
            "overflow_x": null,
            "grid_auto_flow": null,
            "grid_area": null,
            "grid_template_columns": null,
            "flex": null,
            "_model_name": "LayoutModel",
            "justify_items": null,
            "grid_row": null,
            "max_height": null,
            "align_content": null,
            "visibility": null,
            "align_self": null,
            "height": null,
            "min_height": null,
            "padding": null,
            "grid_auto_rows": null,
            "grid_gap": null,
            "max_width": null,
            "order": null,
            "_view_module_version": "1.2.0",
            "grid_template_areas": null,
            "object_position": null,
            "object_fit": null,
            "grid_auto_columns": null,
            "margin": null,
            "display": null,
            "left": null
          }
        },
        "bec9195e90594b7cbf0b250e47dd4ff9": {
          "model_module": "@jupyter-widgets/controls",
          "model_name": "DescriptionStyleModel",
          "state": {
            "_view_name": "StyleView",
            "_model_name": "DescriptionStyleModel",
            "description_width": "",
            "_view_module": "@jupyter-widgets/base",
            "_model_module_version": "1.5.0",
            "_view_count": null,
            "_view_module_version": "1.2.0",
            "_model_module": "@jupyter-widgets/controls"
          }
        },
        "7eb7fa7d3d8047d6b2451330aad41b0a": {
          "model_module": "@jupyter-widgets/base",
          "model_name": "LayoutModel",
          "state": {
            "_view_name": "LayoutView",
            "grid_template_rows": null,
            "right": null,
            "justify_content": null,
            "_view_module": "@jupyter-widgets/base",
            "overflow": null,
            "_model_module_version": "1.2.0",
            "_view_count": null,
            "flex_flow": null,
            "width": null,
            "min_width": null,
            "border": null,
            "align_items": null,
            "bottom": null,
            "_model_module": "@jupyter-widgets/base",
            "top": null,
            "grid_column": null,
            "overflow_y": null,
            "overflow_x": null,
            "grid_auto_flow": null,
            "grid_area": null,
            "grid_template_columns": null,
            "flex": null,
            "_model_name": "LayoutModel",
            "justify_items": null,
            "grid_row": null,
            "max_height": null,
            "align_content": null,
            "visibility": null,
            "align_self": null,
            "height": null,
            "min_height": null,
            "padding": null,
            "grid_auto_rows": null,
            "grid_gap": null,
            "max_width": null,
            "order": null,
            "_view_module_version": "1.2.0",
            "grid_template_areas": null,
            "object_position": null,
            "object_fit": null,
            "grid_auto_columns": null,
            "margin": null,
            "display": null,
            "left": null
          }
        },
        "21619f93762a4dcaaf4f159bf695281e": {
          "model_module": "@jupyter-widgets/controls",
          "model_name": "HBoxModel",
          "state": {
            "_view_name": "HBoxView",
            "_dom_classes": [],
            "_model_name": "HBoxModel",
            "_view_module": "@jupyter-widgets/controls",
            "_model_module_version": "1.5.0",
            "_view_count": null,
            "_view_module_version": "1.5.0",
            "box_style": "",
            "layout": "IPY_MODEL_a97492bfa7c348f0943a4227b286d51a",
            "_model_module": "@jupyter-widgets/controls",
            "children": [
              "IPY_MODEL_733e8b9f290f4561bcee1ea00399dffb",
              "IPY_MODEL_42d484e88ae54743ad91d6587aadad5e"
            ]
          }
        },
        "a97492bfa7c348f0943a4227b286d51a": {
          "model_module": "@jupyter-widgets/base",
          "model_name": "LayoutModel",
          "state": {
            "_view_name": "LayoutView",
            "grid_template_rows": null,
            "right": null,
            "justify_content": null,
            "_view_module": "@jupyter-widgets/base",
            "overflow": null,
            "_model_module_version": "1.2.0",
            "_view_count": null,
            "flex_flow": null,
            "width": null,
            "min_width": null,
            "border": null,
            "align_items": null,
            "bottom": null,
            "_model_module": "@jupyter-widgets/base",
            "top": null,
            "grid_column": null,
            "overflow_y": null,
            "overflow_x": null,
            "grid_auto_flow": null,
            "grid_area": null,
            "grid_template_columns": null,
            "flex": null,
            "_model_name": "LayoutModel",
            "justify_items": null,
            "grid_row": null,
            "max_height": null,
            "align_content": null,
            "visibility": null,
            "align_self": null,
            "height": null,
            "min_height": null,
            "padding": null,
            "grid_auto_rows": null,
            "grid_gap": null,
            "max_width": null,
            "order": null,
            "_view_module_version": "1.2.0",
            "grid_template_areas": null,
            "object_position": null,
            "object_fit": null,
            "grid_auto_columns": null,
            "margin": null,
            "display": null,
            "left": null
          }
        },
        "733e8b9f290f4561bcee1ea00399dffb": {
          "model_module": "@jupyter-widgets/controls",
          "model_name": "FloatProgressModel",
          "state": {
            "_view_name": "ProgressView",
            "style": "IPY_MODEL_443e90072d6049fdb24bc71f972e7fb4",
            "_dom_classes": [],
            "description": "Tokenizing: 100%",
            "_model_name": "FloatProgressModel",
            "bar_style": "success",
            "max": 110,
            "_view_module": "@jupyter-widgets/controls",
            "_model_module_version": "1.5.0",
            "value": 110,
            "_view_count": null,
            "_view_module_version": "1.5.0",
            "orientation": "horizontal",
            "min": 0,
            "description_tooltip": null,
            "_model_module": "@jupyter-widgets/controls",
            "layout": "IPY_MODEL_98cab2fd1ffc4cafbfb2d7add1baa313"
          }
        },
        "42d484e88ae54743ad91d6587aadad5e": {
          "model_module": "@jupyter-widgets/controls",
          "model_name": "HTMLModel",
          "state": {
            "_view_name": "HTMLView",
            "style": "IPY_MODEL_073aca79ef434bd1bcbbcd11b8c62b2b",
            "_dom_classes": [],
            "description": "",
            "_model_name": "HTMLModel",
            "placeholder": "​",
            "_view_module": "@jupyter-widgets/controls",
            "_model_module_version": "1.5.0",
            "value": " 110/110 [07:13&lt;00:00,  3.94s/it]",
            "_view_count": null,
            "_view_module_version": "1.5.0",
            "description_tooltip": null,
            "_model_module": "@jupyter-widgets/controls",
            "layout": "IPY_MODEL_af4e2cc077b143ab912198f8060f872b"
          }
        },
        "443e90072d6049fdb24bc71f972e7fb4": {
          "model_module": "@jupyter-widgets/controls",
          "model_name": "ProgressStyleModel",
          "state": {
            "_view_name": "StyleView",
            "_model_name": "ProgressStyleModel",
            "description_width": "initial",
            "_view_module": "@jupyter-widgets/base",
            "_model_module_version": "1.5.0",
            "_view_count": null,
            "_view_module_version": "1.2.0",
            "bar_color": null,
            "_model_module": "@jupyter-widgets/controls"
          }
        },
        "98cab2fd1ffc4cafbfb2d7add1baa313": {
          "model_module": "@jupyter-widgets/base",
          "model_name": "LayoutModel",
          "state": {
            "_view_name": "LayoutView",
            "grid_template_rows": null,
            "right": null,
            "justify_content": null,
            "_view_module": "@jupyter-widgets/base",
            "overflow": null,
            "_model_module_version": "1.2.0",
            "_view_count": null,
            "flex_flow": null,
            "width": null,
            "min_width": null,
            "border": null,
            "align_items": null,
            "bottom": null,
            "_model_module": "@jupyter-widgets/base",
            "top": null,
            "grid_column": null,
            "overflow_y": null,
            "overflow_x": null,
            "grid_auto_flow": null,
            "grid_area": null,
            "grid_template_columns": null,
            "flex": null,
            "_model_name": "LayoutModel",
            "justify_items": null,
            "grid_row": null,
            "max_height": null,
            "align_content": null,
            "visibility": null,
            "align_self": null,
            "height": null,
            "min_height": null,
            "padding": null,
            "grid_auto_rows": null,
            "grid_gap": null,
            "max_width": null,
            "order": null,
            "_view_module_version": "1.2.0",
            "grid_template_areas": null,
            "object_position": null,
            "object_fit": null,
            "grid_auto_columns": null,
            "margin": null,
            "display": null,
            "left": null
          }
        },
        "073aca79ef434bd1bcbbcd11b8c62b2b": {
          "model_module": "@jupyter-widgets/controls",
          "model_name": "DescriptionStyleModel",
          "state": {
            "_view_name": "StyleView",
            "_model_name": "DescriptionStyleModel",
            "description_width": "",
            "_view_module": "@jupyter-widgets/base",
            "_model_module_version": "1.5.0",
            "_view_count": null,
            "_view_module_version": "1.2.0",
            "_model_module": "@jupyter-widgets/controls"
          }
        },
        "af4e2cc077b143ab912198f8060f872b": {
          "model_module": "@jupyter-widgets/base",
          "model_name": "LayoutModel",
          "state": {
            "_view_name": "LayoutView",
            "grid_template_rows": null,
            "right": null,
            "justify_content": null,
            "_view_module": "@jupyter-widgets/base",
            "overflow": null,
            "_model_module_version": "1.2.0",
            "_view_count": null,
            "flex_flow": null,
            "width": null,
            "min_width": null,
            "border": null,
            "align_items": null,
            "bottom": null,
            "_model_module": "@jupyter-widgets/base",
            "top": null,
            "grid_column": null,
            "overflow_y": null,
            "overflow_x": null,
            "grid_auto_flow": null,
            "grid_area": null,
            "grid_template_columns": null,
            "flex": null,
            "_model_name": "LayoutModel",
            "justify_items": null,
            "grid_row": null,
            "max_height": null,
            "align_content": null,
            "visibility": null,
            "align_self": null,
            "height": null,
            "min_height": null,
            "padding": null,
            "grid_auto_rows": null,
            "grid_gap": null,
            "max_width": null,
            "order": null,
            "_view_module_version": "1.2.0",
            "grid_template_areas": null,
            "object_position": null,
            "object_fit": null,
            "grid_auto_columns": null,
            "margin": null,
            "display": null,
            "left": null
          }
        },
        "7931aeb5553c47d29c0d4e994888686f": {
          "model_module": "@jupyter-widgets/controls",
          "model_name": "HBoxModel",
          "state": {
            "_view_name": "HBoxView",
            "_dom_classes": [],
            "_model_name": "HBoxModel",
            "_view_module": "@jupyter-widgets/controls",
            "_model_module_version": "1.5.0",
            "_view_count": null,
            "_view_module_version": "1.5.0",
            "box_style": "",
            "layout": "IPY_MODEL_6529a9a0dbd2440480ec56eb1b66f24e",
            "_model_module": "@jupyter-widgets/controls",
            "children": [
              "IPY_MODEL_0a8a53fc98cf48eb83eaec1b9f9580a3",
              "IPY_MODEL_e44ca639f652437fbd921dcf3004e986"
            ]
          }
        },
        "6529a9a0dbd2440480ec56eb1b66f24e": {
          "model_module": "@jupyter-widgets/base",
          "model_name": "LayoutModel",
          "state": {
            "_view_name": "LayoutView",
            "grid_template_rows": null,
            "right": null,
            "justify_content": null,
            "_view_module": "@jupyter-widgets/base",
            "overflow": null,
            "_model_module_version": "1.2.0",
            "_view_count": null,
            "flex_flow": null,
            "width": null,
            "min_width": null,
            "border": null,
            "align_items": null,
            "bottom": null,
            "_model_module": "@jupyter-widgets/base",
            "top": null,
            "grid_column": null,
            "overflow_y": null,
            "overflow_x": null,
            "grid_auto_flow": null,
            "grid_area": null,
            "grid_template_columns": null,
            "flex": null,
            "_model_name": "LayoutModel",
            "justify_items": null,
            "grid_row": null,
            "max_height": null,
            "align_content": null,
            "visibility": null,
            "align_self": null,
            "height": null,
            "min_height": null,
            "padding": null,
            "grid_auto_rows": null,
            "grid_gap": null,
            "max_width": null,
            "order": null,
            "_view_module_version": "1.2.0",
            "grid_template_areas": null,
            "object_position": null,
            "object_fit": null,
            "grid_auto_columns": null,
            "margin": null,
            "display": null,
            "left": null
          }
        },
        "0a8a53fc98cf48eb83eaec1b9f9580a3": {
          "model_module": "@jupyter-widgets/controls",
          "model_name": "FloatProgressModel",
          "state": {
            "_view_name": "ProgressView",
            "style": "IPY_MODEL_0968b51ea17b47a0a9ba9787c1e89fd0",
            "_dom_classes": [],
            "description": "Tokenizing: 100%",
            "_model_name": "FloatProgressModel",
            "bar_style": "success",
            "max": 8,
            "_view_module": "@jupyter-widgets/controls",
            "_model_module_version": "1.5.0",
            "value": 8,
            "_view_count": null,
            "_view_module_version": "1.5.0",
            "orientation": "horizontal",
            "min": 0,
            "description_tooltip": null,
            "_model_module": "@jupyter-widgets/controls",
            "layout": "IPY_MODEL_6372190d279744ec8422caa783c05cae"
          }
        },
        "e44ca639f652437fbd921dcf3004e986": {
          "model_module": "@jupyter-widgets/controls",
          "model_name": "HTMLModel",
          "state": {
            "_view_name": "HTMLView",
            "style": "IPY_MODEL_ac87f99da3074343b24f8422b6aae911",
            "_dom_classes": [],
            "description": "",
            "_model_name": "HTMLModel",
            "placeholder": "​",
            "_view_module": "@jupyter-widgets/controls",
            "_model_module_version": "1.5.0",
            "value": " 8/8 [00:25&lt;00:00,  3.17s/it]",
            "_view_count": null,
            "_view_module_version": "1.5.0",
            "description_tooltip": null,
            "_model_module": "@jupyter-widgets/controls",
            "layout": "IPY_MODEL_d3edf6235b8a464cbb4c5759f1e648cc"
          }
        },
        "0968b51ea17b47a0a9ba9787c1e89fd0": {
          "model_module": "@jupyter-widgets/controls",
          "model_name": "ProgressStyleModel",
          "state": {
            "_view_name": "StyleView",
            "_model_name": "ProgressStyleModel",
            "description_width": "initial",
            "_view_module": "@jupyter-widgets/base",
            "_model_module_version": "1.5.0",
            "_view_count": null,
            "_view_module_version": "1.2.0",
            "bar_color": null,
            "_model_module": "@jupyter-widgets/controls"
          }
        },
        "6372190d279744ec8422caa783c05cae": {
          "model_module": "@jupyter-widgets/base",
          "model_name": "LayoutModel",
          "state": {
            "_view_name": "LayoutView",
            "grid_template_rows": null,
            "right": null,
            "justify_content": null,
            "_view_module": "@jupyter-widgets/base",
            "overflow": null,
            "_model_module_version": "1.2.0",
            "_view_count": null,
            "flex_flow": null,
            "width": null,
            "min_width": null,
            "border": null,
            "align_items": null,
            "bottom": null,
            "_model_module": "@jupyter-widgets/base",
            "top": null,
            "grid_column": null,
            "overflow_y": null,
            "overflow_x": null,
            "grid_auto_flow": null,
            "grid_area": null,
            "grid_template_columns": null,
            "flex": null,
            "_model_name": "LayoutModel",
            "justify_items": null,
            "grid_row": null,
            "max_height": null,
            "align_content": null,
            "visibility": null,
            "align_self": null,
            "height": null,
            "min_height": null,
            "padding": null,
            "grid_auto_rows": null,
            "grid_gap": null,
            "max_width": null,
            "order": null,
            "_view_module_version": "1.2.0",
            "grid_template_areas": null,
            "object_position": null,
            "object_fit": null,
            "grid_auto_columns": null,
            "margin": null,
            "display": null,
            "left": null
          }
        },
        "ac87f99da3074343b24f8422b6aae911": {
          "model_module": "@jupyter-widgets/controls",
          "model_name": "DescriptionStyleModel",
          "state": {
            "_view_name": "StyleView",
            "_model_name": "DescriptionStyleModel",
            "description_width": "",
            "_view_module": "@jupyter-widgets/base",
            "_model_module_version": "1.5.0",
            "_view_count": null,
            "_view_module_version": "1.2.0",
            "_model_module": "@jupyter-widgets/controls"
          }
        },
        "d3edf6235b8a464cbb4c5759f1e648cc": {
          "model_module": "@jupyter-widgets/base",
          "model_name": "LayoutModel",
          "state": {
            "_view_name": "LayoutView",
            "grid_template_rows": null,
            "right": null,
            "justify_content": null,
            "_view_module": "@jupyter-widgets/base",
            "overflow": null,
            "_model_module_version": "1.2.0",
            "_view_count": null,
            "flex_flow": null,
            "width": null,
            "min_width": null,
            "border": null,
            "align_items": null,
            "bottom": null,
            "_model_module": "@jupyter-widgets/base",
            "top": null,
            "grid_column": null,
            "overflow_y": null,
            "overflow_x": null,
            "grid_auto_flow": null,
            "grid_area": null,
            "grid_template_columns": null,
            "flex": null,
            "_model_name": "LayoutModel",
            "justify_items": null,
            "grid_row": null,
            "max_height": null,
            "align_content": null,
            "visibility": null,
            "align_self": null,
            "height": null,
            "min_height": null,
            "padding": null,
            "grid_auto_rows": null,
            "grid_gap": null,
            "max_width": null,
            "order": null,
            "_view_module_version": "1.2.0",
            "grid_template_areas": null,
            "object_position": null,
            "object_fit": null,
            "grid_auto_columns": null,
            "margin": null,
            "display": null,
            "left": null
          }
        }
      }
    }
  },
  "cells": [
    {
      "cell_type": "code",
      "metadata": {
        "id": "H2kJIVCKPE3U"
      },
      "source": [
        "jiant_url = \"https://drive.google.com/u/0/uc?id=1lFbvdomHhLNSxm37OBxGYsinWy3vYC9U&export=download\"\n",
        "!wget \"$jiant_url\" -O jiant.zip\n",
        "!unzip jiant.zip -d ./\n",
        "!rm jiant.zip\n",
        "\n",
        "%cd jiant\n",
        "!pip install -r requirements-no-torch.txt\n",
        "!pip install --no-deps -e ./"
      ],
      "execution_count": null,
      "outputs": []
    },
    {
      "cell_type": "markdown",
      "metadata": {
        "id": "TkvpqthuQTZe"
      },
      "source": [
        "Restart runtime after installing libs"
      ]
    },
    {
      "cell_type": "code",
      "metadata": {
        "id": "1WptdOn-EsMA",
        "colab": {
          "base_uri": "https://localhost:8080/"
        },
        "outputId": "6ff697f5-d2ad-48fb-d469-24f74592c0d6"
      },
      "source": [
        "%cd /content/jiant\n",
        "\n",
        "import jiant.utils.python.io as py_io\n",
        "import jiant.utils.display as display\n",
        "import os\n",
        "\n",
        "def init_task_config(task_name):\n",
        "  jiant_task = task_name\n",
        "  if(task_name == \"sup-squad\" or task_name == \"sup-babi\"):\n",
        "    jiant_task = \"coref\"  # use coref task to probe supporting facts task because of the analog structure of jiant EP json format\n",
        "\n",
        "  os.makedirs(\"/content/tasks/configs/\", exist_ok=True)\n",
        "  os.makedirs(f\"/content/tasks/data/{task_name}\", exist_ok=True)\n",
        "\n",
        "  py_io.write_json({\n",
        "    \"task\": jiant_task,\n",
        "    \"paths\": {\n",
        "      \"train\": f\"/content/tasks/data/{task_name}/train.jsonl\",\n",
        "      \"val\":   f\"/content/tasks/data/{task_name}/val.jsonl\",\n",
        "    },\n",
        "    \"name\": jiant_task\n",
        "  }, f\"/content/tasks/configs/{task_name}_config.json\")"
      ],
      "execution_count": 2,
      "outputs": [
        {
          "output_type": "stream",
          "text": [
            "/content/jiant\n"
          ],
          "name": "stdout"
        }
      ]
    },
    {
      "cell_type": "code",
      "metadata": {
        "id": "n0OVplH1gSFW"
      },
      "source": [
        "task_names = [\n",
        "              #\"ner\", \n",
        "              #\"semeval\", \n",
        "              #\"coref\",  # supported by jiant \n",
        "              #\"srl\",                    # additional task for other badge     \n",
        "              \"sup-squad\", \n",
        "              #\"ques\"\n",
        "             ]  \n",
        "\n",
        "for task_name in task_names:\n",
        "  init_task_config(task_name)"
      ],
      "execution_count": 3,
      "outputs": []
    },
    {
      "cell_type": "code",
      "metadata": {
        "colab": {
          "base_uri": "https://localhost:8080/"
        },
        "id": "xnu3IKYmZhXY",
        "outputId": "7c7f43a3-badf-4b53-8ded-80f1f202ed6f"
      },
      "source": [
        "# contains data of all probing tasks above\n",
        "task_data_url = \"https://drive.google.com/u/0/uc?id=1-nlA_dTsAqQ5oO0vii2lMsm34yYMmn_f&export=download\"\n",
        "!wget \"$task_data_url\" -O /content/task_data.zip\n",
        "!unzip /content/task_data.zip -d /content/tasks/\n",
        "!rm /content/task_data.zip"
      ],
      "execution_count": 4,
      "outputs": [
        {
          "output_type": "stream",
          "text": [
            "--2021-06-27 21:55:24--  https://drive.google.com/u/0/uc?id=1-nlA_dTsAqQ5oO0vii2lMsm34yYMmn_f&export=download\n",
            "Resolving drive.google.com (drive.google.com)... 172.217.9.206, 2607:f8b0:4004:807::200e\n",
            "Connecting to drive.google.com (drive.google.com)|172.217.9.206|:443... connected.\n",
            "HTTP request sent, awaiting response... 302 Moved Temporarily\n",
            "Location: https://doc-04-18-docs.googleusercontent.com/docs/securesc/ha0ro937gcuc7l7deffksulhg5h7mbp1/9v2civmkn181540abn2dmfjoc1gbits6/1624830900000/13675844253040106205/*/1-nlA_dTsAqQ5oO0vii2lMsm34yYMmn_f?e=download [following]\n",
            "Warning: wildcards not supported in HTTP.\n",
            "--2021-06-27 21:55:25--  https://doc-04-18-docs.googleusercontent.com/docs/securesc/ha0ro937gcuc7l7deffksulhg5h7mbp1/9v2civmkn181540abn2dmfjoc1gbits6/1624830900000/13675844253040106205/*/1-nlA_dTsAqQ5oO0vii2lMsm34yYMmn_f?e=download\n",
            "Resolving doc-04-18-docs.googleusercontent.com (doc-04-18-docs.googleusercontent.com)... 142.250.73.225, 2607:f8b0:4004:82a::2001\n",
            "Connecting to doc-04-18-docs.googleusercontent.com (doc-04-18-docs.googleusercontent.com)|142.250.73.225|:443... connected.\n",
            "HTTP request sent, awaiting response... 200 OK\n",
            "Length: 27763 (27K) [application/x-zip-compressed]\n",
            "Saving to: ‘/content/task_data.zip’\n",
            "\n",
            "/content/task_data. 100%[===================>]  27.11K  --.-KB/s    in 0s      \n",
            "\n",
            "2021-06-27 21:55:25 (139 MB/s) - ‘/content/task_data.zip’ saved [27763/27763]\n",
            "\n",
            "Archive:  /content/task_data.zip\n",
            "   creating: /content/tasks/data/coref/\n",
            "  inflating: /content/tasks/data/coref/train.jsonl  \n",
            "  inflating: /content/tasks/data/coref/val.jsonl  \n",
            "   creating: /content/tasks/data/ner/\n",
            "  inflating: /content/tasks/data/ner/train.jsonl  \n",
            "  inflating: /content/tasks/data/ner/val.jsonl  \n",
            "   creating: /content/tasks/data/ques/\n",
            "  inflating: /content/tasks/data/ques/train.jsonl  \n",
            "  inflating: /content/tasks/data/ques/val.jsonl  \n",
            "   creating: /content/tasks/data/semeval/\n",
            "  inflating: /content/tasks/data/semeval/train.jsonl  \n",
            "  inflating: /content/tasks/data/semeval/val.jsonl  \n",
            "   creating: /content/tasks/data/srl/\n",
            "  inflating: /content/tasks/data/srl/train.jsonl  \n",
            "  inflating: /content/tasks/data/srl/val.jsonl  \n",
            "   creating: /content/tasks/data/sup-babi/\n",
            "  inflating: /content/tasks/data/sup-babi/train.jsonl  \n",
            "  inflating: /content/tasks/data/sup-babi/val.jsonl  \n",
            "  inflating: /content/tasks/data/sup-squad/train.jsonl  \n",
            "  inflating: /content/tasks/data/sup-squad/val.jsonl  \n"
          ],
          "name": "stdout"
        }
      ]
    },
    {
      "cell_type": "code",
      "metadata": {
        "id": "kICMJQvNllO6",
        "colab": {
          "base_uri": "https://localhost:8080/",
          "height": 365,
          "referenced_widgets": [
            "511b5ba63ef64493bc2d9e806b795c82",
            "1f77a3d31bbd41daa53144bf6dcb7d70",
            "82773ee7e74243f6b83d62c82f5aad6d",
            "cb97404ce71b45cc841f8c42c3db9b06",
            "1ee1c4f9ccbf49b3a5d2eaafde908a39",
            "887e1a373cfe47e88dda89f44920d95e",
            "9ce01b39c869424db1b648cc6bf72215",
            "c627c31e03544e91b695e5af0155e835",
            "33b9b9d2f7184ab4ace38779b8c80ed9",
            "9111b0a13b4844619140c4499245fbdd",
            "9d76f3be7dbc49adadd6a18dd46659ce",
            "1513a35de28a49cd9bdfe0d0d3acc0e0",
            "3e0828be11b747e881fab1b914dd609e",
            "f867399e9772466c84b2847356132fdd",
            "8a4d5ae5fc574a01accc3c74b647a8cc",
            "b2554dd8e95b4b7e821d6840ef3ac27d",
            "b4ce8c6a5ff5426f9e383e6d85ba0bdf",
            "4c7afdcbaf3849feaf1d5666ac58af9d",
            "f0dacfa14041418f9020cac973a2dbb8",
            "b2e8fe7d060a4b0886e24e74ce4e6eed",
            "bc95c2aac5a64a418a1fc9436b63e1f7",
            "688a82e7850d4fc9916b575ddc658ce0",
            "9116b944b9104656ace0187d1b9474da",
            "aa850a4ad7c24f83ba4b78a39b4dee16",
            "c2df3f70e51146c28ee914580263231c",
            "53b23f1709cd4ed984efac05b4800a11",
            "f72c4072b323404b861ea11b08eb2ba8",
            "e290786d77d842509ae8376dec16afc9",
            "5c5c3184e8594166a5606452308e8edb",
            "8573e5abda024d9dac0652923cebd8f7",
            "1e2c802c61a0493894e3ba7381a43296",
            "7997a3216cc249209d31691aab3fb144",
            "4e77106b64f44de9bd067cdd8f0f75c0",
            "16f8449f07324ed996696fd4f76f939a",
            "0f64c63987934365842a4857bd1f73a1",
            "13fb2962335c44a982a0017d2ad87682",
            "e29443164e574548ae37fb60d3ed6afc",
            "8dae70478a2f4d35b81878f16df48cb2",
            "bec9195e90594b7cbf0b250e47dd4ff9",
            "7eb7fa7d3d8047d6b2451330aad41b0a"
          ]
        },
        "outputId": "5243dd07-7a04-46f7-ce7c-6951b7b77bab"
      },
      "source": [
        "import jiant.proj.main.export_model as export_model\n",
        "\n",
        "models = [\n",
        "          #\"bert-base-uncased\", \n",
        "          \"csarron/bert-base-uncased-squad-v1\"\n",
        "          ]\n",
        "\n",
        "for model in models:\n",
        "  export_model.export_model(\n",
        "      hf_pretrained_model_name_or_path=model,\n",
        "      output_base_path=f\"/content/models/{model}\",\n",
        "  )"
      ],
      "execution_count": 5,
      "outputs": [
        {
          "output_type": "display_data",
          "data": {
            "application/vnd.jupyter.widget-view+json": {
              "model_id": "511b5ba63ef64493bc2d9e806b795c82",
              "version_minor": 0,
              "version_major": 2
            },
            "text/plain": [
              "HBox(children=(FloatProgress(value=0.0, description='Downloading', max=477.0, style=ProgressStyle(description_…"
            ]
          },
          "metadata": {
            "tags": []
          }
        },
        {
          "output_type": "stream",
          "text": [
            "\n"
          ],
          "name": "stdout"
        },
        {
          "output_type": "display_data",
          "data": {
            "application/vnd.jupyter.widget-view+json": {
              "model_id": "33b9b9d2f7184ab4ace38779b8c80ed9",
              "version_minor": 0,
              "version_major": 2
            },
            "text/plain": [
              "HBox(children=(FloatProgress(value=0.0, description='Downloading', max=437983344.0, style=ProgressStyle(descri…"
            ]
          },
          "metadata": {
            "tags": []
          }
        },
        {
          "output_type": "stream",
          "text": [
            "\n"
          ],
          "name": "stdout"
        },
        {
          "output_type": "stream",
          "text": [
            "Some weights of the model checkpoint at csarron/bert-base-uncased-squad-v1 were not used when initializing BertForPreTraining: ['qa_outputs.weight', 'qa_outputs.bias']\n",
            "- This IS expected if you are initializing BertForPreTraining from the checkpoint of a model trained on another task or with another architecture (e.g. initializing a BertForSequenceClassification model from a BertForPreTraining model).\n",
            "- This IS NOT expected if you are initializing BertForPreTraining from the checkpoint of a model that you expect to be exactly identical (initializing a BertForSequenceClassification model from a BertForSequenceClassification model).\n",
            "Some weights of BertForPreTraining were not initialized from the model checkpoint at csarron/bert-base-uncased-squad-v1 and are newly initialized: ['cls.predictions.bias', 'cls.predictions.transform.dense.weight', 'cls.predictions.transform.dense.bias', 'cls.predictions.transform.LayerNorm.weight', 'cls.predictions.transform.LayerNorm.bias', 'cls.predictions.decoder.weight', 'cls.predictions.decoder.bias', 'cls.seq_relationship.weight', 'cls.seq_relationship.bias']\n",
            "You should probably TRAIN this model on a down-stream task to be able to use it for predictions and inference.\n"
          ],
          "name": "stderr"
        },
        {
          "output_type": "display_data",
          "data": {
            "application/vnd.jupyter.widget-view+json": {
              "model_id": "b4ce8c6a5ff5426f9e383e6d85ba0bdf",
              "version_minor": 0,
              "version_major": 2
            },
            "text/plain": [
              "HBox(children=(FloatProgress(value=0.0, description='Downloading', max=231508.0, style=ProgressStyle(descripti…"
            ]
          },
          "metadata": {
            "tags": []
          }
        },
        {
          "output_type": "stream",
          "text": [
            "\n"
          ],
          "name": "stdout"
        },
        {
          "output_type": "display_data",
          "data": {
            "application/vnd.jupyter.widget-view+json": {
              "model_id": "c2df3f70e51146c28ee914580263231c",
              "version_minor": 0,
              "version_major": 2
            },
            "text/plain": [
              "HBox(children=(FloatProgress(value=0.0, description='Downloading', max=112.0, style=ProgressStyle(description_…"
            ]
          },
          "metadata": {
            "tags": []
          }
        },
        {
          "output_type": "stream",
          "text": [
            "\n"
          ],
          "name": "stdout"
        },
        {
          "output_type": "display_data",
          "data": {
            "application/vnd.jupyter.widget-view+json": {
              "model_id": "4e77106b64f44de9bd067cdd8f0f75c0",
              "version_minor": 0,
              "version_major": 2
            },
            "text/plain": [
              "HBox(children=(FloatProgress(value=0.0, description='Downloading', max=48.0, style=ProgressStyle(description_w…"
            ]
          },
          "metadata": {
            "tags": []
          }
        },
        {
          "output_type": "stream",
          "text": [
            "\n"
          ],
          "name": "stdout"
        }
      ]
    },
    {
      "cell_type": "code",
      "metadata": {
        "id": "wq2CmWcJRxK_",
        "colab": {
          "base_uri": "https://localhost:8080/",
          "height": 165,
          "referenced_widgets": [
            "21619f93762a4dcaaf4f159bf695281e",
            "a97492bfa7c348f0943a4227b286d51a",
            "733e8b9f290f4561bcee1ea00399dffb",
            "42d484e88ae54743ad91d6587aadad5e",
            "443e90072d6049fdb24bc71f972e7fb4",
            "98cab2fd1ffc4cafbfb2d7add1baa313",
            "073aca79ef434bd1bcbbcd11b8c62b2b",
            "af4e2cc077b143ab912198f8060f872b",
            "7931aeb5553c47d29c0d4e994888686f",
            "6529a9a0dbd2440480ec56eb1b66f24e",
            "0a8a53fc98cf48eb83eaec1b9f9580a3",
            "e44ca639f652437fbd921dcf3004e986",
            "0968b51ea17b47a0a9ba9787c1e89fd0",
            "6372190d279744ec8422caa783c05cae",
            "ac87f99da3074343b24f8422b6aae911",
            "d3edf6235b8a464cbb4c5759f1e648cc"
          ]
        },
        "outputId": "ae732e89-5ade-4159-b7d4-ee38408e0c5a"
      },
      "source": [
        "import jiant.shared.caching as caching\n",
        "import jiant.proj.main.tokenize_and_cache as tokenize_and_cache\n",
        "\n",
        "# Tokenize and cache each task\n",
        "def tokenize(task_names, models):\n",
        "  for task_name in task_names:\n",
        "    for model in models:\n",
        "      tokenize_and_cache.main(tokenize_and_cache.RunConfiguration(\n",
        "          task_config_path=f\"/content/tasks/configs/{task_name}_config.json\",\n",
        "          hf_pretrained_model_name_or_path=model,\n",
        "          output_dir=f\"/content/cache/{task_name}\",\n",
        "          phases=[\"train\", \"val\"],\n",
        "      ))\n",
        "\n",
        "tokenize(task_names, models)"
      ],
      "execution_count": 6,
      "outputs": [
        {
          "output_type": "stream",
          "text": [
            "CorefTask\n",
            "  [train]: /content/tasks/data/sup-squad/train.jsonl\n",
            "  [val]: /content/tasks/data/sup-squad/val.jsonl\n"
          ],
          "name": "stdout"
        },
        {
          "output_type": "display_data",
          "data": {
            "application/vnd.jupyter.widget-view+json": {
              "model_id": "21619f93762a4dcaaf4f159bf695281e",
              "version_minor": 0,
              "version_major": 2
            },
            "text/plain": [
              "HBox(children=(FloatProgress(value=0.0, description='Tokenizing', max=110.0, style=ProgressStyle(description_w…"
            ]
          },
          "metadata": {
            "tags": []
          }
        },
        {
          "output_type": "stream",
          "text": [
            "\n"
          ],
          "name": "stdout"
        },
        {
          "output_type": "display_data",
          "data": {
            "application/vnd.jupyter.widget-view+json": {
              "model_id": "7931aeb5553c47d29c0d4e994888686f",
              "version_minor": 0,
              "version_major": 2
            },
            "text/plain": [
              "HBox(children=(FloatProgress(value=0.0, description='Tokenizing', max=8.0, style=ProgressStyle(description_wid…"
            ]
          },
          "metadata": {
            "tags": []
          }
        },
        {
          "output_type": "stream",
          "text": [
            "\n"
          ],
          "name": "stdout"
        }
      ]
    },
    {
      "cell_type": "code",
      "metadata": {
        "id": "AjUks1IQClLO",
        "colab": {
          "base_uri": "https://localhost:8080/"
        },
        "outputId": "87d71e6b-0b6d-47dc-c859-e21146d007d0"
      },
      "source": [
        "row = caching.ChunkedFilesDataCache(f\"/content/cache/{task_names[0]}/train\").load_chunk(0)[0][\"data_row\"]\n",
        "print(row.input_ids)\n",
        "print(row.tokens)\n",
        "print(row.spans)\n",
        "print(row.tokens[row.spans[0][0]: row.spans[0][1]+1])\n",
        "#print(row.tokens[row.spans[1][0]: row.spans[1][1]+1])"
      ],
      "execution_count": 7,
      "outputs": [
        {
          "output_type": "stream",
          "text": [
            "[  101  2054  2079 26092  7486  2903  2003  1996  3114  2005  1996 17702\n",
            "  1997  2824  1998  3494  1999  1996  6331  1998 21288  1029  2429  2000\n",
            "  7842  4048  2232  2632  1011 20934 22510  2072  1010  1996 21288  2001\n",
            " 24843  2426 24485 10586  1998  8956  2015  1010  1998  6936  2011  8135\n",
            "  1998  5181  1010  2077  2009  2001 16367  1012  2049  2653  2001  2714\n",
            "  2000  1996 24109  2653  1012  1031 11091  2734  1033  1996 21288 23412\n",
            "  3441  1997  2116  1997  1996  2111  1998  2824 22906  1999  3644  1998\n",
            "  3017  6730  2808  1006  9092 27573  1010  6331  1007  1998 13347  2389\n",
            "  3906  1006  9706 10085  2854 21890  1010  3054  8180  2232  1007  1010\n",
            "  2348  2009 12980  1999  2116  4751  1012  4205  1010 28178  1010  7240\n",
            "  1010  1041  5677  1010  2016 14431  1010  8181  1010  2843  1010  2003\n",
            " 22444  2884  1010  7527  1010  6213  1010  3312  1010  3105  1010  6892\n",
            "  8093  2080  1010  2585  1010  9168  1010 14063  1010 12005  7377  1010\n",
            " 15617  1010  7158  1010  9952  1010 27838  7507  4360  2232  1010  2198\n",
            "  1996  7550  1998  4441  2024  3855  1999  1996 21288  2004 23172  1997\n",
            "  2643  1006  2156 23172  1997  7025  1007  1012  1999  2755  1010  9952\n",
            "  2003  3855  2062  1999  1996 21288  2084  2151  2060  3265  1012  4441\n",
            "  2003  3855  2062  2411  1999  1996 21288  2084  7187  1010  2096  2984\n",
            "  2003  3855  1999  1996 21288  2062  2084  1996  2047  9025  1012  7486\n",
            "  2903  1996  2691  3787  2030 14062  2015  2090  1996  6331  1998  2060\n",
            "  3644  1998  3017  7896  1998  5499  4487 13102  6132 10708  2003  2349\n",
            "  2000  2037  2691  7746  3120  1010  1031 11091  2734  1033  1998  2008\n",
            "  1996  2434  3017  2030  3644  6981  2020 14469  7746 22191  2445  2000\n",
            " 23172  1012   102     0     0     0     0     0     0     0     0     0\n",
            "     0     0     0     0     0     0     0     0     0     0     0     0\n",
            "     0     0     0     0     0     0     0     0     0     0     0     0\n",
            "     0     0     0     0     0     0     0     0     0     0     0     0\n",
            "     0     0     0     0     0     0     0     0     0     0     0     0\n",
            "     0     0     0     0     0     0     0     0     0     0     0     0\n",
            "     0     0     0     0     0     0     0     0     0     0     0     0\n",
            "     0     0     0     0     0     0     0     0     0     0     0     0\n",
            "     0     0     0     0     0     0     0     0     0     0     0     0]\n",
            "['[CLS]', 'what', 'do', 'devout', 'muslims', 'believe', 'is', 'the', 'reason', 'for', 'the', 'overlap', 'of', 'events', 'and', 'characters', 'in', 'the', 'bible', 'and', 'quran', '?', 'according', 'to', 'sa', '##hi', '##h', 'al', '-', 'bu', '##khar', '##i', ',', 'the', 'quran', 'was', 'recited', 'among', 'levant', '##ines', 'and', 'iraqi', '##s', ',', 'and', 'discussed', 'by', 'christians', 'and', 'jews', ',', 'before', 'it', 'was', 'standardized', '.', 'its', 'language', 'was', 'similar', 'to', 'the', 'syriac', 'language', '.', '[', 'citation', 'needed', ']', 'the', 'quran', 'recounts', 'stories', 'of', 'many', 'of', 'the', 'people', 'and', 'events', 'recounted', 'in', 'jewish', 'and', 'christian', 'sacred', 'books', '(', 'tan', '##akh', ',', 'bible', ')', 'and', 'devotion', '##al', 'literature', '(', 'ap', '##oc', '##ry', '##pha', ',', 'mid', '##ras', '##h', ')', ',', 'although', 'it', 'differs', 'in', 'many', 'details', '.', 'adam', ',', 'enoch', ',', 'noah', ',', 'e', '##ber', ',', 'she', '##lah', ',', 'abraham', ',', 'lot', ',', 'is', '##hma', '##el', ',', 'isaac', ',', 'jacob', ',', 'joseph', ',', 'job', ',', 'jet', '##hr', '##o', ',', 'david', ',', 'solomon', ',', 'elijah', ',', 'eli', '##sha', ',', 'jonah', ',', 'aaron', ',', 'moses', ',', 'ze', '##cha', '##ria', '##h', ',', 'john', 'the', 'baptist', 'and', 'jesus', 'are', 'mentioned', 'in', 'the', 'quran', 'as', 'prophets', 'of', 'god', '(', 'see', 'prophets', 'of', 'islam', ')', '.', 'in', 'fact', ',', 'moses', 'is', 'mentioned', 'more', 'in', 'the', 'quran', 'than', 'any', 'other', 'individual', '.', 'jesus', 'is', 'mentioned', 'more', 'often', 'in', 'the', 'quran', 'than', 'muhammad', ',', 'while', 'mary', 'is', 'mentioned', 'in', 'the', 'quran', 'more', 'than', 'the', 'new', 'testament', '.', 'muslims', 'believe', 'the', 'common', 'elements', 'or', 'resemblance', '##s', 'between', 'the', 'bible', 'and', 'other', 'jewish', 'and', 'christian', 'writings', 'and', 'islamic', 'di', '##sp', '##ens', '##ations', 'is', 'due', 'to', 'their', 'common', 'divine', 'source', ',', '[', 'citation', 'needed', ']', 'and', 'that', 'the', 'original', 'christian', 'or', 'jewish', 'texts', 'were', 'authentic', 'divine', 'revelations', 'given', 'to', 'prophets', '.', '[SEP]']\n",
            "[[ 1 21]\n",
            " [22 55]]\n",
            "['what', 'do', 'devout', 'muslims', 'believe', 'is', 'the', 'reason', 'for', 'the', 'overlap', 'of', 'events', 'and', 'characters', 'in', 'the', 'bible', 'and', 'quran', '?']\n"
          ],
          "name": "stdout"
        }
      ]
    },
    {
      "cell_type": "code",
      "metadata": {
        "id": "wQPixTeAClQD"
      },
      "source": [
        "import jiant.proj.main.scripts.configurator as configurator\n",
        "\n",
        "def create_jiant_task_config(task_name):\n",
        "  jiant_run_config = configurator.SimpleAPIMultiTaskConfigurator(\n",
        "      task_config_base_path=\"/content/tasks/configs\",\n",
        "      task_cache_base_path=\"/content/cache\",\n",
        "      train_task_name_list=[task_name],\n",
        "      val_task_name_list=[task_name],\n",
        "      train_batch_size=8,\n",
        "      eval_batch_size=2,\n",
        "      epochs=5,\n",
        "      num_gpus=1,\n",
        "  ).create_config()\n",
        "  os.makedirs(\"/content/run_configs/\", exist_ok=True)\n",
        "  py_io.write_json(jiant_run_config, f\"/content/run_configs/{task_name}_run_config.json\")\n",
        "  #display.show_json(jiant_run_config)"
      ],
      "execution_count": 12,
      "outputs": []
    },
    {
      "cell_type": "code",
      "metadata": {
        "id": "yyZbu_KjClfE"
      },
      "source": [
        "# You may restart runtime when you modify the jiant source code\n",
        "\n",
        "import jiant.proj.main.runscript as main_runscript\n",
        "\n",
        "def run_probing_task(task_name, model_name=\"bert-base-uncased\", num_layers=1):\n",
        "  run_args = main_runscript.RunConfiguration(\n",
        "      jiant_task_container_config_path=f\"/content/run_configs/{task_name}_run_config.json\",\n",
        "      output_dir=f\"/content/runs/{task_name}\",\n",
        "      hf_pretrained_model_name_or_path=model_name,\n",
        "      model_path=f\"/content/models/{model_name}/model/model.p\",\n",
        "      model_config_path=f\"/content/models/{model_name}/model/config.json\",\n",
        "      learning_rate=1e-3,\n",
        "      eval_every_steps=1000,\n",
        "      do_train=True,\n",
        "      do_val=True,\n",
        "      do_save=True,\n",
        "      force_overwrite=True,\n",
        "      num_hidden_layers=num_layers,\n",
        "  )\n",
        "  return main_runscript.run_loop(run_args)"
      ],
      "execution_count": 13,
      "outputs": []
    },
    {
      "cell_type": "code",
      "metadata": {
        "id": "ZOMHEETaEhq-"
      },
      "source": [
        "# test probing\n",
        "\n",
        "num_layers = list(range(1, 13))      # from 1 to 12 layers\n",
        "\n",
        "result = \"model\\ttask\\tlayer\\tacc\\tf1_macro\\n\"\n",
        "\n",
        "for model in models:\n",
        "  for task in task_names:\n",
        "    for n_layers in num_layers:\n",
        "      create_jiant_task_config(task)\n",
        "      probing_output = run_probing_task(task, model, n_layers)\n",
        "      acc = str(probing_output[task][\"metrics\"][\"minor\"][\"acc\"])\n",
        "      f1_macro = str(probing_output[task][\"metrics\"][\"minor\"][\"f1_macro\"])\n",
        "      result += model + \"\\t\" + task + \"\\t\" + str(n_layers) + \"\\t\" + acc + \"\\t\" + f1_macro + \"\\n\""
      ],
      "execution_count": null,
      "outputs": []
    },
    {
      "cell_type": "code",
      "metadata": {
        "colab": {
          "base_uri": "https://localhost:8080/"
        },
        "id": "wse2BUI9b-GV",
        "outputId": "1990eecb-5c79-4a5d-9313-6440e2476d8d"
      },
      "source": [
        "print(result)"
      ],
      "execution_count": 11,
      "outputs": [
        {
          "output_type": "stream",
          "text": [
            "model\ttask\tlayer\tacc\tf1_macro\n",
            "csarron/bert-base-uncased-squad-v1\tsup-squad\t1\t0.75\t0.4166666666666667\n",
            "csarron/bert-base-uncased-squad-v1\tsup-squad\t2\t0.75\t0.42857142857142855\n",
            "csarron/bert-base-uncased-squad-v1\tsup-squad\t3\t0.75\t0.42857142857142855\n",
            "csarron/bert-base-uncased-squad-v1\tsup-squad\t4\t0.75\t0.42857142857142855\n",
            "csarron/bert-base-uncased-squad-v1\tsup-squad\t5\t0.75\t0.42857142857142855\n",
            "csarron/bert-base-uncased-squad-v1\tsup-squad\t6\t0.75\t0.42857142857142855\n",
            "csarron/bert-base-uncased-squad-v1\tsup-squad\t7\t0.75\t0.42857142857142855\n",
            "csarron/bert-base-uncased-squad-v1\tsup-squad\t8\t0.75\t0.42857142857142855\n",
            "csarron/bert-base-uncased-squad-v1\tsup-squad\t9\t0.75\t0.42857142857142855\n",
            "csarron/bert-base-uncased-squad-v1\tsup-squad\t10\t0.75\t0.42857142857142855\n",
            "csarron/bert-base-uncased-squad-v1\tsup-squad\t11\t0.75\t0.42857142857142855\n",
            "csarron/bert-base-uncased-squad-v1\tsup-squad\t12\t0.75\t0.42857142857142855\n",
            "\n"
          ],
          "name": "stdout"
        }
      ]
    },
    {
      "cell_type": "code",
      "metadata": {
        "id": "YzrFWIxmlAQW"
      },
      "source": [
        "def plot_task(...):\n",
        "  ..."
      ],
      "execution_count": null,
      "outputs": []
    },
    {
      "cell_type": "code",
      "metadata": {
        "id": "-Qsiv7OQkLNT"
      },
      "source": [
        "# Probe NER task with bert-base and bert-squad and plot macro f1 score"
      ],
      "execution_count": 11,
      "outputs": []
    },
    {
      "cell_type": "code",
      "metadata": {
        "id": "lgma94TxknlJ"
      },
      "source": [
        "# Probe SEMEVAL task with bert-base and bert-squad and plot macro f1 score"
      ],
      "execution_count": null,
      "outputs": []
    },
    {
      "cell_type": "code",
      "metadata": {
        "id": "Ju9yPJx0ku4l"
      },
      "source": [
        "# Probe COREF task with bert-base and bert-squad and plot macro f1 score"
      ],
      "execution_count": null,
      "outputs": []
    },
    {
      "cell_type": "code",
      "metadata": {
        "id": "Lwe2FmANkzPt"
      },
      "source": [
        "# Probe SUP-SQUAD task with bert-base and bert-squad and plot macro f1 score"
      ],
      "execution_count": null,
      "outputs": []
    },
    {
      "cell_type": "code",
      "metadata": {
        "id": "ciTvHGbvk1du"
      },
      "source": [
        "# Probe QUES task with bert-base and bert-squad and plot macro f1 score to compare the models"
      ],
      "execution_count": null,
      "outputs": []
    }
  ]
}