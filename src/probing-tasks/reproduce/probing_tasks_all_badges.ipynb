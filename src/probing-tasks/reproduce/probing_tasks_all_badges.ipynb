{
  "nbformat": 4,
  "nbformat_minor": 0,
  "metadata": {
    "accelerator": "TPU",
    "colab": {
      "name": "probing_tasks_all_badges.ipynb",
      "provenance": [],
      "collapsed_sections": [
        "Yg6j-eMFjv_T",
        "eoeA4nPJdh3C",
        "csTU_f46G_BB",
        "ear-ihyitWp2",
        "U1Rc0qYJwe3M",
        "KCjy2WNXFhLN",
        "5h3GGF08GehK",
        "t516voTVG2M7",
        "BdB390hEFjOB",
        "J7Y4HoVIGkjE",
        "zaIKDsy1G36T",
        "bIZxm5OjFlr9",
        "I6Bi2RlbGnSG",
        "9lEZAMZWG7Qj",
        "C7OUyPpqFnfs",
        "hVVQ9N37GtaL",
        "ekuKPJwDFpsU",
        "nMpYhw3-HGEb",
        "ofro7P_jdYPd",
        "5kFmADAcY3Is",
        "csJ4irmFaMET",
        "x5ikDWwuaom2",
        "9N4VPL3FbbOM",
        "q0Tk82zq91nL",
        "vyJZimpR8iYp",
        "sdCcS8sb5ZwL",
        "8bKvw6yp6lK9",
        "PBYd8zsb4xsM",
        "XlHyU_KQCA7W"
      ],
      "toc_visible": true
    },
    "kernelspec": {
      "display_name": "Python 3",
      "name": "python3"
    },
    "language_info": {
      "name": "python"
    },
    "widgets": {
      "application/vnd.jupyter.widget-state+json": {
        "4c7bcbb43ca847aa9fd9cef61613c377": {
          "model_module": "@jupyter-widgets/controls",
          "model_name": "HBoxModel",
          "state": {
            "_view_name": "HBoxView",
            "_dom_classes": [],
            "_model_name": "HBoxModel",
            "_view_module": "@jupyter-widgets/controls",
            "_model_module_version": "1.5.0",
            "_view_count": null,
            "_view_module_version": "1.5.0",
            "box_style": "",
            "layout": "IPY_MODEL_608958f0bf24434abb4e5b14783f25d5",
            "_model_module": "@jupyter-widgets/controls",
            "children": [
              "IPY_MODEL_f3bd44781f2d4eeeaf503da6b6fc51d4",
              "IPY_MODEL_0218b88bbeee48b2b83f290ff9fe4c0e"
            ]
          }
        },
        "608958f0bf24434abb4e5b14783f25d5": {
          "model_module": "@jupyter-widgets/base",
          "model_name": "LayoutModel",
          "state": {
            "_view_name": "LayoutView",
            "grid_template_rows": null,
            "right": null,
            "justify_content": null,
            "_view_module": "@jupyter-widgets/base",
            "overflow": null,
            "_model_module_version": "1.2.0",
            "_view_count": null,
            "flex_flow": null,
            "width": null,
            "min_width": null,
            "border": null,
            "align_items": null,
            "bottom": null,
            "_model_module": "@jupyter-widgets/base",
            "top": null,
            "grid_column": null,
            "overflow_y": null,
            "overflow_x": null,
            "grid_auto_flow": null,
            "grid_area": null,
            "grid_template_columns": null,
            "flex": null,
            "_model_name": "LayoutModel",
            "justify_items": null,
            "grid_row": null,
            "max_height": null,
            "align_content": null,
            "visibility": null,
            "align_self": null,
            "height": null,
            "min_height": null,
            "padding": null,
            "grid_auto_rows": null,
            "grid_gap": null,
            "max_width": null,
            "order": null,
            "_view_module_version": "1.2.0",
            "grid_template_areas": null,
            "object_position": null,
            "object_fit": null,
            "grid_auto_columns": null,
            "margin": null,
            "display": null,
            "left": null
          }
        },
        "f3bd44781f2d4eeeaf503da6b6fc51d4": {
          "model_module": "@jupyter-widgets/controls",
          "model_name": "FloatProgressModel",
          "state": {
            "_view_name": "ProgressView",
            "style": "IPY_MODEL_a652dcb481bc44d8b20664eaab27902f",
            "_dom_classes": [],
            "description": "Downloading: 100%",
            "_model_name": "FloatProgressModel",
            "bar_style": "success",
            "max": 570,
            "_view_module": "@jupyter-widgets/controls",
            "_model_module_version": "1.5.0",
            "value": 570,
            "_view_count": null,
            "_view_module_version": "1.5.0",
            "orientation": "horizontal",
            "min": 0,
            "description_tooltip": null,
            "_model_module": "@jupyter-widgets/controls",
            "layout": "IPY_MODEL_4b432cdb1be84ce79c6340c8f59c53c5"
          }
        },
        "0218b88bbeee48b2b83f290ff9fe4c0e": {
          "model_module": "@jupyter-widgets/controls",
          "model_name": "HTMLModel",
          "state": {
            "_view_name": "HTMLView",
            "style": "IPY_MODEL_a49a71651bbb477c98b1edad699d19f5",
            "_dom_classes": [],
            "description": "",
            "_model_name": "HTMLModel",
            "placeholder": "​",
            "_view_module": "@jupyter-widgets/controls",
            "_model_module_version": "1.5.0",
            "value": " 570/570 [00:12&lt;00:00, 44.3B/s]",
            "_view_count": null,
            "_view_module_version": "1.5.0",
            "description_tooltip": null,
            "_model_module": "@jupyter-widgets/controls",
            "layout": "IPY_MODEL_e7fa837b9a1448c6b873e9e1ea48c86f"
          }
        },
        "a652dcb481bc44d8b20664eaab27902f": {
          "model_module": "@jupyter-widgets/controls",
          "model_name": "ProgressStyleModel",
          "state": {
            "_view_name": "StyleView",
            "_model_name": "ProgressStyleModel",
            "description_width": "initial",
            "_view_module": "@jupyter-widgets/base",
            "_model_module_version": "1.5.0",
            "_view_count": null,
            "_view_module_version": "1.2.0",
            "bar_color": null,
            "_model_module": "@jupyter-widgets/controls"
          }
        },
        "4b432cdb1be84ce79c6340c8f59c53c5": {
          "model_module": "@jupyter-widgets/base",
          "model_name": "LayoutModel",
          "state": {
            "_view_name": "LayoutView",
            "grid_template_rows": null,
            "right": null,
            "justify_content": null,
            "_view_module": "@jupyter-widgets/base",
            "overflow": null,
            "_model_module_version": "1.2.0",
            "_view_count": null,
            "flex_flow": null,
            "width": null,
            "min_width": null,
            "border": null,
            "align_items": null,
            "bottom": null,
            "_model_module": "@jupyter-widgets/base",
            "top": null,
            "grid_column": null,
            "overflow_y": null,
            "overflow_x": null,
            "grid_auto_flow": null,
            "grid_area": null,
            "grid_template_columns": null,
            "flex": null,
            "_model_name": "LayoutModel",
            "justify_items": null,
            "grid_row": null,
            "max_height": null,
            "align_content": null,
            "visibility": null,
            "align_self": null,
            "height": null,
            "min_height": null,
            "padding": null,
            "grid_auto_rows": null,
            "grid_gap": null,
            "max_width": null,
            "order": null,
            "_view_module_version": "1.2.0",
            "grid_template_areas": null,
            "object_position": null,
            "object_fit": null,
            "grid_auto_columns": null,
            "margin": null,
            "display": null,
            "left": null
          }
        },
        "a49a71651bbb477c98b1edad699d19f5": {
          "model_module": "@jupyter-widgets/controls",
          "model_name": "DescriptionStyleModel",
          "state": {
            "_view_name": "StyleView",
            "_model_name": "DescriptionStyleModel",
            "description_width": "",
            "_view_module": "@jupyter-widgets/base",
            "_model_module_version": "1.5.0",
            "_view_count": null,
            "_view_module_version": "1.2.0",
            "_model_module": "@jupyter-widgets/controls"
          }
        },
        "e7fa837b9a1448c6b873e9e1ea48c86f": {
          "model_module": "@jupyter-widgets/base",
          "model_name": "LayoutModel",
          "state": {
            "_view_name": "LayoutView",
            "grid_template_rows": null,
            "right": null,
            "justify_content": null,
            "_view_module": "@jupyter-widgets/base",
            "overflow": null,
            "_model_module_version": "1.2.0",
            "_view_count": null,
            "flex_flow": null,
            "width": null,
            "min_width": null,
            "border": null,
            "align_items": null,
            "bottom": null,
            "_model_module": "@jupyter-widgets/base",
            "top": null,
            "grid_column": null,
            "overflow_y": null,
            "overflow_x": null,
            "grid_auto_flow": null,
            "grid_area": null,
            "grid_template_columns": null,
            "flex": null,
            "_model_name": "LayoutModel",
            "justify_items": null,
            "grid_row": null,
            "max_height": null,
            "align_content": null,
            "visibility": null,
            "align_self": null,
            "height": null,
            "min_height": null,
            "padding": null,
            "grid_auto_rows": null,
            "grid_gap": null,
            "max_width": null,
            "order": null,
            "_view_module_version": "1.2.0",
            "grid_template_areas": null,
            "object_position": null,
            "object_fit": null,
            "grid_auto_columns": null,
            "margin": null,
            "display": null,
            "left": null
          }
        },
        "4a758ee8992d43e2878ae4a9aadbdd91": {
          "model_module": "@jupyter-widgets/controls",
          "model_name": "HBoxModel",
          "state": {
            "_view_name": "HBoxView",
            "_dom_classes": [],
            "_model_name": "HBoxModel",
            "_view_module": "@jupyter-widgets/controls",
            "_model_module_version": "1.5.0",
            "_view_count": null,
            "_view_module_version": "1.5.0",
            "box_style": "",
            "layout": "IPY_MODEL_21efb4295686474a9b48b83a4229ed21",
            "_model_module": "@jupyter-widgets/controls",
            "children": [
              "IPY_MODEL_112ea417a2854abc8cb0c954c4a21ffe",
              "IPY_MODEL_576aa6658e7c4f3d8a0ca842dc1c61a3"
            ]
          }
        },
        "21efb4295686474a9b48b83a4229ed21": {
          "model_module": "@jupyter-widgets/base",
          "model_name": "LayoutModel",
          "state": {
            "_view_name": "LayoutView",
            "grid_template_rows": null,
            "right": null,
            "justify_content": null,
            "_view_module": "@jupyter-widgets/base",
            "overflow": null,
            "_model_module_version": "1.2.0",
            "_view_count": null,
            "flex_flow": null,
            "width": null,
            "min_width": null,
            "border": null,
            "align_items": null,
            "bottom": null,
            "_model_module": "@jupyter-widgets/base",
            "top": null,
            "grid_column": null,
            "overflow_y": null,
            "overflow_x": null,
            "grid_auto_flow": null,
            "grid_area": null,
            "grid_template_columns": null,
            "flex": null,
            "_model_name": "LayoutModel",
            "justify_items": null,
            "grid_row": null,
            "max_height": null,
            "align_content": null,
            "visibility": null,
            "align_self": null,
            "height": null,
            "min_height": null,
            "padding": null,
            "grid_auto_rows": null,
            "grid_gap": null,
            "max_width": null,
            "order": null,
            "_view_module_version": "1.2.0",
            "grid_template_areas": null,
            "object_position": null,
            "object_fit": null,
            "grid_auto_columns": null,
            "margin": null,
            "display": null,
            "left": null
          }
        },
        "112ea417a2854abc8cb0c954c4a21ffe": {
          "model_module": "@jupyter-widgets/controls",
          "model_name": "FloatProgressModel",
          "state": {
            "_view_name": "ProgressView",
            "style": "IPY_MODEL_e69d2d51c1d9481594824d90392fd35e",
            "_dom_classes": [],
            "description": "Downloading: 100%",
            "_model_name": "FloatProgressModel",
            "bar_style": "success",
            "max": 440473133,
            "_view_module": "@jupyter-widgets/controls",
            "_model_module_version": "1.5.0",
            "value": 440473133,
            "_view_count": null,
            "_view_module_version": "1.5.0",
            "orientation": "horizontal",
            "min": 0,
            "description_tooltip": null,
            "_model_module": "@jupyter-widgets/controls",
            "layout": "IPY_MODEL_33eb20682fe54439837c1a8dfe043c79"
          }
        },
        "576aa6658e7c4f3d8a0ca842dc1c61a3": {
          "model_module": "@jupyter-widgets/controls",
          "model_name": "HTMLModel",
          "state": {
            "_view_name": "HTMLView",
            "style": "IPY_MODEL_60c7319c63124883b0692f25e4642be0",
            "_dom_classes": [],
            "description": "",
            "_model_name": "HTMLModel",
            "placeholder": "​",
            "_view_module": "@jupyter-widgets/controls",
            "_model_module_version": "1.5.0",
            "value": " 440M/440M [00:12&lt;00:00, 35.3MB/s]",
            "_view_count": null,
            "_view_module_version": "1.5.0",
            "description_tooltip": null,
            "_model_module": "@jupyter-widgets/controls",
            "layout": "IPY_MODEL_66292a2a12bb43b0add30cd633176cf2"
          }
        },
        "e69d2d51c1d9481594824d90392fd35e": {
          "model_module": "@jupyter-widgets/controls",
          "model_name": "ProgressStyleModel",
          "state": {
            "_view_name": "StyleView",
            "_model_name": "ProgressStyleModel",
            "description_width": "initial",
            "_view_module": "@jupyter-widgets/base",
            "_model_module_version": "1.5.0",
            "_view_count": null,
            "_view_module_version": "1.2.0",
            "bar_color": null,
            "_model_module": "@jupyter-widgets/controls"
          }
        },
        "33eb20682fe54439837c1a8dfe043c79": {
          "model_module": "@jupyter-widgets/base",
          "model_name": "LayoutModel",
          "state": {
            "_view_name": "LayoutView",
            "grid_template_rows": null,
            "right": null,
            "justify_content": null,
            "_view_module": "@jupyter-widgets/base",
            "overflow": null,
            "_model_module_version": "1.2.0",
            "_view_count": null,
            "flex_flow": null,
            "width": null,
            "min_width": null,
            "border": null,
            "align_items": null,
            "bottom": null,
            "_model_module": "@jupyter-widgets/base",
            "top": null,
            "grid_column": null,
            "overflow_y": null,
            "overflow_x": null,
            "grid_auto_flow": null,
            "grid_area": null,
            "grid_template_columns": null,
            "flex": null,
            "_model_name": "LayoutModel",
            "justify_items": null,
            "grid_row": null,
            "max_height": null,
            "align_content": null,
            "visibility": null,
            "align_self": null,
            "height": null,
            "min_height": null,
            "padding": null,
            "grid_auto_rows": null,
            "grid_gap": null,
            "max_width": null,
            "order": null,
            "_view_module_version": "1.2.0",
            "grid_template_areas": null,
            "object_position": null,
            "object_fit": null,
            "grid_auto_columns": null,
            "margin": null,
            "display": null,
            "left": null
          }
        },
        "60c7319c63124883b0692f25e4642be0": {
          "model_module": "@jupyter-widgets/controls",
          "model_name": "DescriptionStyleModel",
          "state": {
            "_view_name": "StyleView",
            "_model_name": "DescriptionStyleModel",
            "description_width": "",
            "_view_module": "@jupyter-widgets/base",
            "_model_module_version": "1.5.0",
            "_view_count": null,
            "_view_module_version": "1.2.0",
            "_model_module": "@jupyter-widgets/controls"
          }
        },
        "66292a2a12bb43b0add30cd633176cf2": {
          "model_module": "@jupyter-widgets/base",
          "model_name": "LayoutModel",
          "state": {
            "_view_name": "LayoutView",
            "grid_template_rows": null,
            "right": null,
            "justify_content": null,
            "_view_module": "@jupyter-widgets/base",
            "overflow": null,
            "_model_module_version": "1.2.0",
            "_view_count": null,
            "flex_flow": null,
            "width": null,
            "min_width": null,
            "border": null,
            "align_items": null,
            "bottom": null,
            "_model_module": "@jupyter-widgets/base",
            "top": null,
            "grid_column": null,
            "overflow_y": null,
            "overflow_x": null,
            "grid_auto_flow": null,
            "grid_area": null,
            "grid_template_columns": null,
            "flex": null,
            "_model_name": "LayoutModel",
            "justify_items": null,
            "grid_row": null,
            "max_height": null,
            "align_content": null,
            "visibility": null,
            "align_self": null,
            "height": null,
            "min_height": null,
            "padding": null,
            "grid_auto_rows": null,
            "grid_gap": null,
            "max_width": null,
            "order": null,
            "_view_module_version": "1.2.0",
            "grid_template_areas": null,
            "object_position": null,
            "object_fit": null,
            "grid_auto_columns": null,
            "margin": null,
            "display": null,
            "left": null
          }
        },
        "8af01736850b460689478c67100ca6b0": {
          "model_module": "@jupyter-widgets/controls",
          "model_name": "HBoxModel",
          "state": {
            "_view_name": "HBoxView",
            "_dom_classes": [],
            "_model_name": "HBoxModel",
            "_view_module": "@jupyter-widgets/controls",
            "_model_module_version": "1.5.0",
            "_view_count": null,
            "_view_module_version": "1.5.0",
            "box_style": "",
            "layout": "IPY_MODEL_154d5baf21634a3e80840d1295fd38d5",
            "_model_module": "@jupyter-widgets/controls",
            "children": [
              "IPY_MODEL_077c3baca2da4973b7d2804fd2c51408",
              "IPY_MODEL_85c21ffe4389419f8d2d6d3d903cf574"
            ]
          }
        },
        "154d5baf21634a3e80840d1295fd38d5": {
          "model_module": "@jupyter-widgets/base",
          "model_name": "LayoutModel",
          "state": {
            "_view_name": "LayoutView",
            "grid_template_rows": null,
            "right": null,
            "justify_content": null,
            "_view_module": "@jupyter-widgets/base",
            "overflow": null,
            "_model_module_version": "1.2.0",
            "_view_count": null,
            "flex_flow": null,
            "width": null,
            "min_width": null,
            "border": null,
            "align_items": null,
            "bottom": null,
            "_model_module": "@jupyter-widgets/base",
            "top": null,
            "grid_column": null,
            "overflow_y": null,
            "overflow_x": null,
            "grid_auto_flow": null,
            "grid_area": null,
            "grid_template_columns": null,
            "flex": null,
            "_model_name": "LayoutModel",
            "justify_items": null,
            "grid_row": null,
            "max_height": null,
            "align_content": null,
            "visibility": null,
            "align_self": null,
            "height": null,
            "min_height": null,
            "padding": null,
            "grid_auto_rows": null,
            "grid_gap": null,
            "max_width": null,
            "order": null,
            "_view_module_version": "1.2.0",
            "grid_template_areas": null,
            "object_position": null,
            "object_fit": null,
            "grid_auto_columns": null,
            "margin": null,
            "display": null,
            "left": null
          }
        },
        "077c3baca2da4973b7d2804fd2c51408": {
          "model_module": "@jupyter-widgets/controls",
          "model_name": "FloatProgressModel",
          "state": {
            "_view_name": "ProgressView",
            "style": "IPY_MODEL_78bebd2d6f88429e86283578d6fe6672",
            "_dom_classes": [],
            "description": "Downloading: 100%",
            "_model_name": "FloatProgressModel",
            "bar_style": "success",
            "max": 231508,
            "_view_module": "@jupyter-widgets/controls",
            "_model_module_version": "1.5.0",
            "value": 231508,
            "_view_count": null,
            "_view_module_version": "1.5.0",
            "orientation": "horizontal",
            "min": 0,
            "description_tooltip": null,
            "_model_module": "@jupyter-widgets/controls",
            "layout": "IPY_MODEL_75aafe55dbfc486db99784ae5900add7"
          }
        },
        "85c21ffe4389419f8d2d6d3d903cf574": {
          "model_module": "@jupyter-widgets/controls",
          "model_name": "HTMLModel",
          "state": {
            "_view_name": "HTMLView",
            "style": "IPY_MODEL_e05305ffbdfb4da68ffc511b6dff92e5",
            "_dom_classes": [],
            "description": "",
            "_model_name": "HTMLModel",
            "placeholder": "​",
            "_view_module": "@jupyter-widgets/controls",
            "_model_module_version": "1.5.0",
            "value": " 232k/232k [00:00&lt;00:00, 365kB/s]",
            "_view_count": null,
            "_view_module_version": "1.5.0",
            "description_tooltip": null,
            "_model_module": "@jupyter-widgets/controls",
            "layout": "IPY_MODEL_1da0c4befae3419e8c55310315c70159"
          }
        },
        "78bebd2d6f88429e86283578d6fe6672": {
          "model_module": "@jupyter-widgets/controls",
          "model_name": "ProgressStyleModel",
          "state": {
            "_view_name": "StyleView",
            "_model_name": "ProgressStyleModel",
            "description_width": "initial",
            "_view_module": "@jupyter-widgets/base",
            "_model_module_version": "1.5.0",
            "_view_count": null,
            "_view_module_version": "1.2.0",
            "bar_color": null,
            "_model_module": "@jupyter-widgets/controls"
          }
        },
        "75aafe55dbfc486db99784ae5900add7": {
          "model_module": "@jupyter-widgets/base",
          "model_name": "LayoutModel",
          "state": {
            "_view_name": "LayoutView",
            "grid_template_rows": null,
            "right": null,
            "justify_content": null,
            "_view_module": "@jupyter-widgets/base",
            "overflow": null,
            "_model_module_version": "1.2.0",
            "_view_count": null,
            "flex_flow": null,
            "width": null,
            "min_width": null,
            "border": null,
            "align_items": null,
            "bottom": null,
            "_model_module": "@jupyter-widgets/base",
            "top": null,
            "grid_column": null,
            "overflow_y": null,
            "overflow_x": null,
            "grid_auto_flow": null,
            "grid_area": null,
            "grid_template_columns": null,
            "flex": null,
            "_model_name": "LayoutModel",
            "justify_items": null,
            "grid_row": null,
            "max_height": null,
            "align_content": null,
            "visibility": null,
            "align_self": null,
            "height": null,
            "min_height": null,
            "padding": null,
            "grid_auto_rows": null,
            "grid_gap": null,
            "max_width": null,
            "order": null,
            "_view_module_version": "1.2.0",
            "grid_template_areas": null,
            "object_position": null,
            "object_fit": null,
            "grid_auto_columns": null,
            "margin": null,
            "display": null,
            "left": null
          }
        },
        "e05305ffbdfb4da68ffc511b6dff92e5": {
          "model_module": "@jupyter-widgets/controls",
          "model_name": "DescriptionStyleModel",
          "state": {
            "_view_name": "StyleView",
            "_model_name": "DescriptionStyleModel",
            "description_width": "",
            "_view_module": "@jupyter-widgets/base",
            "_model_module_version": "1.5.0",
            "_view_count": null,
            "_view_module_version": "1.2.0",
            "_model_module": "@jupyter-widgets/controls"
          }
        },
        "1da0c4befae3419e8c55310315c70159": {
          "model_module": "@jupyter-widgets/base",
          "model_name": "LayoutModel",
          "state": {
            "_view_name": "LayoutView",
            "grid_template_rows": null,
            "right": null,
            "justify_content": null,
            "_view_module": "@jupyter-widgets/base",
            "overflow": null,
            "_model_module_version": "1.2.0",
            "_view_count": null,
            "flex_flow": null,
            "width": null,
            "min_width": null,
            "border": null,
            "align_items": null,
            "bottom": null,
            "_model_module": "@jupyter-widgets/base",
            "top": null,
            "grid_column": null,
            "overflow_y": null,
            "overflow_x": null,
            "grid_auto_flow": null,
            "grid_area": null,
            "grid_template_columns": null,
            "flex": null,
            "_model_name": "LayoutModel",
            "justify_items": null,
            "grid_row": null,
            "max_height": null,
            "align_content": null,
            "visibility": null,
            "align_self": null,
            "height": null,
            "min_height": null,
            "padding": null,
            "grid_auto_rows": null,
            "grid_gap": null,
            "max_width": null,
            "order": null,
            "_view_module_version": "1.2.0",
            "grid_template_areas": null,
            "object_position": null,
            "object_fit": null,
            "grid_auto_columns": null,
            "margin": null,
            "display": null,
            "left": null
          }
        },
        "d9556350784d411e8e4f5621d59dfdbb": {
          "model_module": "@jupyter-widgets/controls",
          "model_name": "HBoxModel",
          "state": {
            "_view_name": "HBoxView",
            "_dom_classes": [],
            "_model_name": "HBoxModel",
            "_view_module": "@jupyter-widgets/controls",
            "_model_module_version": "1.5.0",
            "_view_count": null,
            "_view_module_version": "1.5.0",
            "box_style": "",
            "layout": "IPY_MODEL_2069ee1be1a143b9b4761127565fc67f",
            "_model_module": "@jupyter-widgets/controls",
            "children": [
              "IPY_MODEL_127728f654ea45de96bdd62d28a911a8",
              "IPY_MODEL_7f6cec02b49e4d9b9038cf6f3b2f1a05"
            ]
          }
        },
        "2069ee1be1a143b9b4761127565fc67f": {
          "model_module": "@jupyter-widgets/base",
          "model_name": "LayoutModel",
          "state": {
            "_view_name": "LayoutView",
            "grid_template_rows": null,
            "right": null,
            "justify_content": null,
            "_view_module": "@jupyter-widgets/base",
            "overflow": null,
            "_model_module_version": "1.2.0",
            "_view_count": null,
            "flex_flow": null,
            "width": null,
            "min_width": null,
            "border": null,
            "align_items": null,
            "bottom": null,
            "_model_module": "@jupyter-widgets/base",
            "top": null,
            "grid_column": null,
            "overflow_y": null,
            "overflow_x": null,
            "grid_auto_flow": null,
            "grid_area": null,
            "grid_template_columns": null,
            "flex": null,
            "_model_name": "LayoutModel",
            "justify_items": null,
            "grid_row": null,
            "max_height": null,
            "align_content": null,
            "visibility": null,
            "align_self": null,
            "height": null,
            "min_height": null,
            "padding": null,
            "grid_auto_rows": null,
            "grid_gap": null,
            "max_width": null,
            "order": null,
            "_view_module_version": "1.2.0",
            "grid_template_areas": null,
            "object_position": null,
            "object_fit": null,
            "grid_auto_columns": null,
            "margin": null,
            "display": null,
            "left": null
          }
        },
        "127728f654ea45de96bdd62d28a911a8": {
          "model_module": "@jupyter-widgets/controls",
          "model_name": "FloatProgressModel",
          "state": {
            "_view_name": "ProgressView",
            "style": "IPY_MODEL_5f2290d8eb6648a7a222fb2227eef3cd",
            "_dom_classes": [],
            "description": "Downloading: 100%",
            "_model_name": "FloatProgressModel",
            "bar_style": "success",
            "max": 28,
            "_view_module": "@jupyter-widgets/controls",
            "_model_module_version": "1.5.0",
            "value": 28,
            "_view_count": null,
            "_view_module_version": "1.5.0",
            "orientation": "horizontal",
            "min": 0,
            "description_tooltip": null,
            "_model_module": "@jupyter-widgets/controls",
            "layout": "IPY_MODEL_f768c75192bf42ae9334090b26d505d8"
          }
        },
        "7f6cec02b49e4d9b9038cf6f3b2f1a05": {
          "model_module": "@jupyter-widgets/controls",
          "model_name": "HTMLModel",
          "state": {
            "_view_name": "HTMLView",
            "style": "IPY_MODEL_a08b5172c62a4f33bb57408119cfa3f8",
            "_dom_classes": [],
            "description": "",
            "_model_name": "HTMLModel",
            "placeholder": "​",
            "_view_module": "@jupyter-widgets/controls",
            "_model_module_version": "1.5.0",
            "value": " 28.0/28.0 [00:00&lt;00:00, 62.6B/s]",
            "_view_count": null,
            "_view_module_version": "1.5.0",
            "description_tooltip": null,
            "_model_module": "@jupyter-widgets/controls",
            "layout": "IPY_MODEL_8618d90b2f0f4c8aab3965ceb251cd46"
          }
        },
        "5f2290d8eb6648a7a222fb2227eef3cd": {
          "model_module": "@jupyter-widgets/controls",
          "model_name": "ProgressStyleModel",
          "state": {
            "_view_name": "StyleView",
            "_model_name": "ProgressStyleModel",
            "description_width": "initial",
            "_view_module": "@jupyter-widgets/base",
            "_model_module_version": "1.5.0",
            "_view_count": null,
            "_view_module_version": "1.2.0",
            "bar_color": null,
            "_model_module": "@jupyter-widgets/controls"
          }
        },
        "f768c75192bf42ae9334090b26d505d8": {
          "model_module": "@jupyter-widgets/base",
          "model_name": "LayoutModel",
          "state": {
            "_view_name": "LayoutView",
            "grid_template_rows": null,
            "right": null,
            "justify_content": null,
            "_view_module": "@jupyter-widgets/base",
            "overflow": null,
            "_model_module_version": "1.2.0",
            "_view_count": null,
            "flex_flow": null,
            "width": null,
            "min_width": null,
            "border": null,
            "align_items": null,
            "bottom": null,
            "_model_module": "@jupyter-widgets/base",
            "top": null,
            "grid_column": null,
            "overflow_y": null,
            "overflow_x": null,
            "grid_auto_flow": null,
            "grid_area": null,
            "grid_template_columns": null,
            "flex": null,
            "_model_name": "LayoutModel",
            "justify_items": null,
            "grid_row": null,
            "max_height": null,
            "align_content": null,
            "visibility": null,
            "align_self": null,
            "height": null,
            "min_height": null,
            "padding": null,
            "grid_auto_rows": null,
            "grid_gap": null,
            "max_width": null,
            "order": null,
            "_view_module_version": "1.2.0",
            "grid_template_areas": null,
            "object_position": null,
            "object_fit": null,
            "grid_auto_columns": null,
            "margin": null,
            "display": null,
            "left": null
          }
        },
        "a08b5172c62a4f33bb57408119cfa3f8": {
          "model_module": "@jupyter-widgets/controls",
          "model_name": "DescriptionStyleModel",
          "state": {
            "_view_name": "StyleView",
            "_model_name": "DescriptionStyleModel",
            "description_width": "",
            "_view_module": "@jupyter-widgets/base",
            "_model_module_version": "1.5.0",
            "_view_count": null,
            "_view_module_version": "1.2.0",
            "_model_module": "@jupyter-widgets/controls"
          }
        },
        "8618d90b2f0f4c8aab3965ceb251cd46": {
          "model_module": "@jupyter-widgets/base",
          "model_name": "LayoutModel",
          "state": {
            "_view_name": "LayoutView",
            "grid_template_rows": null,
            "right": null,
            "justify_content": null,
            "_view_module": "@jupyter-widgets/base",
            "overflow": null,
            "_model_module_version": "1.2.0",
            "_view_count": null,
            "flex_flow": null,
            "width": null,
            "min_width": null,
            "border": null,
            "align_items": null,
            "bottom": null,
            "_model_module": "@jupyter-widgets/base",
            "top": null,
            "grid_column": null,
            "overflow_y": null,
            "overflow_x": null,
            "grid_auto_flow": null,
            "grid_area": null,
            "grid_template_columns": null,
            "flex": null,
            "_model_name": "LayoutModel",
            "justify_items": null,
            "grid_row": null,
            "max_height": null,
            "align_content": null,
            "visibility": null,
            "align_self": null,
            "height": null,
            "min_height": null,
            "padding": null,
            "grid_auto_rows": null,
            "grid_gap": null,
            "max_width": null,
            "order": null,
            "_view_module_version": "1.2.0",
            "grid_template_areas": null,
            "object_position": null,
            "object_fit": null,
            "grid_auto_columns": null,
            "margin": null,
            "display": null,
            "left": null
          }
        },
        "c0421f53f2ae474e86c18c4a4350b66a": {
          "model_module": "@jupyter-widgets/controls",
          "model_name": "HBoxModel",
          "state": {
            "_view_name": "HBoxView",
            "_dom_classes": [],
            "_model_name": "HBoxModel",
            "_view_module": "@jupyter-widgets/controls",
            "_model_module_version": "1.5.0",
            "_view_count": null,
            "_view_module_version": "1.5.0",
            "box_style": "",
            "layout": "IPY_MODEL_a31997e341c14cd4a552ab50dd355a17",
            "_model_module": "@jupyter-widgets/controls",
            "children": [
              "IPY_MODEL_af05889343e14c48ba3822953d304114",
              "IPY_MODEL_44709a79da4044e289dc29ee32beaeda"
            ]
          }
        },
        "a31997e341c14cd4a552ab50dd355a17": {
          "model_module": "@jupyter-widgets/base",
          "model_name": "LayoutModel",
          "state": {
            "_view_name": "LayoutView",
            "grid_template_rows": null,
            "right": null,
            "justify_content": null,
            "_view_module": "@jupyter-widgets/base",
            "overflow": null,
            "_model_module_version": "1.2.0",
            "_view_count": null,
            "flex_flow": null,
            "width": null,
            "min_width": null,
            "border": null,
            "align_items": null,
            "bottom": null,
            "_model_module": "@jupyter-widgets/base",
            "top": null,
            "grid_column": null,
            "overflow_y": null,
            "overflow_x": null,
            "grid_auto_flow": null,
            "grid_area": null,
            "grid_template_columns": null,
            "flex": null,
            "_model_name": "LayoutModel",
            "justify_items": null,
            "grid_row": null,
            "max_height": null,
            "align_content": null,
            "visibility": null,
            "align_self": null,
            "height": null,
            "min_height": null,
            "padding": null,
            "grid_auto_rows": null,
            "grid_gap": null,
            "max_width": null,
            "order": null,
            "_view_module_version": "1.2.0",
            "grid_template_areas": null,
            "object_position": null,
            "object_fit": null,
            "grid_auto_columns": null,
            "margin": null,
            "display": null,
            "left": null
          }
        },
        "af05889343e14c48ba3822953d304114": {
          "model_module": "@jupyter-widgets/controls",
          "model_name": "FloatProgressModel",
          "state": {
            "_view_name": "ProgressView",
            "style": "IPY_MODEL_930c490cd98149f28937babd0f0c8995",
            "_dom_classes": [],
            "description": "Downloading: 100%",
            "_model_name": "FloatProgressModel",
            "bar_style": "success",
            "max": 466062,
            "_view_module": "@jupyter-widgets/controls",
            "_model_module_version": "1.5.0",
            "value": 466062,
            "_view_count": null,
            "_view_module_version": "1.5.0",
            "orientation": "horizontal",
            "min": 0,
            "description_tooltip": null,
            "_model_module": "@jupyter-widgets/controls",
            "layout": "IPY_MODEL_fb4499df9a4e4c90aee2a2dcc5770f1d"
          }
        },
        "44709a79da4044e289dc29ee32beaeda": {
          "model_module": "@jupyter-widgets/controls",
          "model_name": "HTMLModel",
          "state": {
            "_view_name": "HTMLView",
            "style": "IPY_MODEL_9535be3b9a9f4892b88714a0d105990b",
            "_dom_classes": [],
            "description": "",
            "_model_name": "HTMLModel",
            "placeholder": "​",
            "_view_module": "@jupyter-widgets/controls",
            "_model_module_version": "1.5.0",
            "value": " 466k/466k [00:00&lt;00:00, 3.90MB/s]",
            "_view_count": null,
            "_view_module_version": "1.5.0",
            "description_tooltip": null,
            "_model_module": "@jupyter-widgets/controls",
            "layout": "IPY_MODEL_fc6d273846cc4ea787b6c9534e6d0182"
          }
        },
        "930c490cd98149f28937babd0f0c8995": {
          "model_module": "@jupyter-widgets/controls",
          "model_name": "ProgressStyleModel",
          "state": {
            "_view_name": "StyleView",
            "_model_name": "ProgressStyleModel",
            "description_width": "initial",
            "_view_module": "@jupyter-widgets/base",
            "_model_module_version": "1.5.0",
            "_view_count": null,
            "_view_module_version": "1.2.0",
            "bar_color": null,
            "_model_module": "@jupyter-widgets/controls"
          }
        },
        "fb4499df9a4e4c90aee2a2dcc5770f1d": {
          "model_module": "@jupyter-widgets/base",
          "model_name": "LayoutModel",
          "state": {
            "_view_name": "LayoutView",
            "grid_template_rows": null,
            "right": null,
            "justify_content": null,
            "_view_module": "@jupyter-widgets/base",
            "overflow": null,
            "_model_module_version": "1.2.0",
            "_view_count": null,
            "flex_flow": null,
            "width": null,
            "min_width": null,
            "border": null,
            "align_items": null,
            "bottom": null,
            "_model_module": "@jupyter-widgets/base",
            "top": null,
            "grid_column": null,
            "overflow_y": null,
            "overflow_x": null,
            "grid_auto_flow": null,
            "grid_area": null,
            "grid_template_columns": null,
            "flex": null,
            "_model_name": "LayoutModel",
            "justify_items": null,
            "grid_row": null,
            "max_height": null,
            "align_content": null,
            "visibility": null,
            "align_self": null,
            "height": null,
            "min_height": null,
            "padding": null,
            "grid_auto_rows": null,
            "grid_gap": null,
            "max_width": null,
            "order": null,
            "_view_module_version": "1.2.0",
            "grid_template_areas": null,
            "object_position": null,
            "object_fit": null,
            "grid_auto_columns": null,
            "margin": null,
            "display": null,
            "left": null
          }
        },
        "9535be3b9a9f4892b88714a0d105990b": {
          "model_module": "@jupyter-widgets/controls",
          "model_name": "DescriptionStyleModel",
          "state": {
            "_view_name": "StyleView",
            "_model_name": "DescriptionStyleModel",
            "description_width": "",
            "_view_module": "@jupyter-widgets/base",
            "_model_module_version": "1.5.0",
            "_view_count": null,
            "_view_module_version": "1.2.0",
            "_model_module": "@jupyter-widgets/controls"
          }
        },
        "fc6d273846cc4ea787b6c9534e6d0182": {
          "model_module": "@jupyter-widgets/base",
          "model_name": "LayoutModel",
          "state": {
            "_view_name": "LayoutView",
            "grid_template_rows": null,
            "right": null,
            "justify_content": null,
            "_view_module": "@jupyter-widgets/base",
            "overflow": null,
            "_model_module_version": "1.2.0",
            "_view_count": null,
            "flex_flow": null,
            "width": null,
            "min_width": null,
            "border": null,
            "align_items": null,
            "bottom": null,
            "_model_module": "@jupyter-widgets/base",
            "top": null,
            "grid_column": null,
            "overflow_y": null,
            "overflow_x": null,
            "grid_auto_flow": null,
            "grid_area": null,
            "grid_template_columns": null,
            "flex": null,
            "_model_name": "LayoutModel",
            "justify_items": null,
            "grid_row": null,
            "max_height": null,
            "align_content": null,
            "visibility": null,
            "align_self": null,
            "height": null,
            "min_height": null,
            "padding": null,
            "grid_auto_rows": null,
            "grid_gap": null,
            "max_width": null,
            "order": null,
            "_view_module_version": "1.2.0",
            "grid_template_areas": null,
            "object_position": null,
            "object_fit": null,
            "grid_auto_columns": null,
            "margin": null,
            "display": null,
            "left": null
          }
        },
        "f6314decab164bbb97fce53af855d713": {
          "model_module": "@jupyter-widgets/controls",
          "model_name": "HBoxModel",
          "state": {
            "_view_name": "HBoxView",
            "_dom_classes": [],
            "_model_name": "HBoxModel",
            "_view_module": "@jupyter-widgets/controls",
            "_model_module_version": "1.5.0",
            "_view_count": null,
            "_view_module_version": "1.5.0",
            "box_style": "",
            "layout": "IPY_MODEL_5d85b936eadc4b6f81f9c7ee18943355",
            "_model_module": "@jupyter-widgets/controls",
            "children": [
              "IPY_MODEL_545194b070804c138a045d841b111c89",
              "IPY_MODEL_f11ce959db664092bd125b1402a70e9c"
            ]
          }
        },
        "5d85b936eadc4b6f81f9c7ee18943355": {
          "model_module": "@jupyter-widgets/base",
          "model_name": "LayoutModel",
          "state": {
            "_view_name": "LayoutView",
            "grid_template_rows": null,
            "right": null,
            "justify_content": null,
            "_view_module": "@jupyter-widgets/base",
            "overflow": null,
            "_model_module_version": "1.2.0",
            "_view_count": null,
            "flex_flow": null,
            "width": null,
            "min_width": null,
            "border": null,
            "align_items": null,
            "bottom": null,
            "_model_module": "@jupyter-widgets/base",
            "top": null,
            "grid_column": null,
            "overflow_y": null,
            "overflow_x": null,
            "grid_auto_flow": null,
            "grid_area": null,
            "grid_template_columns": null,
            "flex": null,
            "_model_name": "LayoutModel",
            "justify_items": null,
            "grid_row": null,
            "max_height": null,
            "align_content": null,
            "visibility": null,
            "align_self": null,
            "height": null,
            "min_height": null,
            "padding": null,
            "grid_auto_rows": null,
            "grid_gap": null,
            "max_width": null,
            "order": null,
            "_view_module_version": "1.2.0",
            "grid_template_areas": null,
            "object_position": null,
            "object_fit": null,
            "grid_auto_columns": null,
            "margin": null,
            "display": null,
            "left": null
          }
        },
        "545194b070804c138a045d841b111c89": {
          "model_module": "@jupyter-widgets/controls",
          "model_name": "FloatProgressModel",
          "state": {
            "_view_name": "ProgressView",
            "style": "IPY_MODEL_90f8505fe3d446ef9fad40f557175b3b",
            "_dom_classes": [],
            "description": "Downloading: 100%",
            "_model_name": "FloatProgressModel",
            "bar_style": "success",
            "max": 477,
            "_view_module": "@jupyter-widgets/controls",
            "_model_module_version": "1.5.0",
            "value": 477,
            "_view_count": null,
            "_view_module_version": "1.5.0",
            "orientation": "horizontal",
            "min": 0,
            "description_tooltip": null,
            "_model_module": "@jupyter-widgets/controls",
            "layout": "IPY_MODEL_07f1698bbcda44cca29edd8d9429af84"
          }
        },
        "f11ce959db664092bd125b1402a70e9c": {
          "model_module": "@jupyter-widgets/controls",
          "model_name": "HTMLModel",
          "state": {
            "_view_name": "HTMLView",
            "style": "IPY_MODEL_b089bcbf64614532959cbe18925f2ab2",
            "_dom_classes": [],
            "description": "",
            "_model_name": "HTMLModel",
            "placeholder": "​",
            "_view_module": "@jupyter-widgets/controls",
            "_model_module_version": "1.5.0",
            "value": " 477/477 [00:01&lt;00:00, 394B/s]",
            "_view_count": null,
            "_view_module_version": "1.5.0",
            "description_tooltip": null,
            "_model_module": "@jupyter-widgets/controls",
            "layout": "IPY_MODEL_1686eb26f78142b0b1cdad212c76bced"
          }
        },
        "90f8505fe3d446ef9fad40f557175b3b": {
          "model_module": "@jupyter-widgets/controls",
          "model_name": "ProgressStyleModel",
          "state": {
            "_view_name": "StyleView",
            "_model_name": "ProgressStyleModel",
            "description_width": "initial",
            "_view_module": "@jupyter-widgets/base",
            "_model_module_version": "1.5.0",
            "_view_count": null,
            "_view_module_version": "1.2.0",
            "bar_color": null,
            "_model_module": "@jupyter-widgets/controls"
          }
        },
        "07f1698bbcda44cca29edd8d9429af84": {
          "model_module": "@jupyter-widgets/base",
          "model_name": "LayoutModel",
          "state": {
            "_view_name": "LayoutView",
            "grid_template_rows": null,
            "right": null,
            "justify_content": null,
            "_view_module": "@jupyter-widgets/base",
            "overflow": null,
            "_model_module_version": "1.2.0",
            "_view_count": null,
            "flex_flow": null,
            "width": null,
            "min_width": null,
            "border": null,
            "align_items": null,
            "bottom": null,
            "_model_module": "@jupyter-widgets/base",
            "top": null,
            "grid_column": null,
            "overflow_y": null,
            "overflow_x": null,
            "grid_auto_flow": null,
            "grid_area": null,
            "grid_template_columns": null,
            "flex": null,
            "_model_name": "LayoutModel",
            "justify_items": null,
            "grid_row": null,
            "max_height": null,
            "align_content": null,
            "visibility": null,
            "align_self": null,
            "height": null,
            "min_height": null,
            "padding": null,
            "grid_auto_rows": null,
            "grid_gap": null,
            "max_width": null,
            "order": null,
            "_view_module_version": "1.2.0",
            "grid_template_areas": null,
            "object_position": null,
            "object_fit": null,
            "grid_auto_columns": null,
            "margin": null,
            "display": null,
            "left": null
          }
        },
        "b089bcbf64614532959cbe18925f2ab2": {
          "model_module": "@jupyter-widgets/controls",
          "model_name": "DescriptionStyleModel",
          "state": {
            "_view_name": "StyleView",
            "_model_name": "DescriptionStyleModel",
            "description_width": "",
            "_view_module": "@jupyter-widgets/base",
            "_model_module_version": "1.5.0",
            "_view_count": null,
            "_view_module_version": "1.2.0",
            "_model_module": "@jupyter-widgets/controls"
          }
        },
        "1686eb26f78142b0b1cdad212c76bced": {
          "model_module": "@jupyter-widgets/base",
          "model_name": "LayoutModel",
          "state": {
            "_view_name": "LayoutView",
            "grid_template_rows": null,
            "right": null,
            "justify_content": null,
            "_view_module": "@jupyter-widgets/base",
            "overflow": null,
            "_model_module_version": "1.2.0",
            "_view_count": null,
            "flex_flow": null,
            "width": null,
            "min_width": null,
            "border": null,
            "align_items": null,
            "bottom": null,
            "_model_module": "@jupyter-widgets/base",
            "top": null,
            "grid_column": null,
            "overflow_y": null,
            "overflow_x": null,
            "grid_auto_flow": null,
            "grid_area": null,
            "grid_template_columns": null,
            "flex": null,
            "_model_name": "LayoutModel",
            "justify_items": null,
            "grid_row": null,
            "max_height": null,
            "align_content": null,
            "visibility": null,
            "align_self": null,
            "height": null,
            "min_height": null,
            "padding": null,
            "grid_auto_rows": null,
            "grid_gap": null,
            "max_width": null,
            "order": null,
            "_view_module_version": "1.2.0",
            "grid_template_areas": null,
            "object_position": null,
            "object_fit": null,
            "grid_auto_columns": null,
            "margin": null,
            "display": null,
            "left": null
          }
        },
        "453f7003545743e1b008ab01e6233219": {
          "model_module": "@jupyter-widgets/controls",
          "model_name": "HBoxModel",
          "state": {
            "_view_name": "HBoxView",
            "_dom_classes": [],
            "_model_name": "HBoxModel",
            "_view_module": "@jupyter-widgets/controls",
            "_model_module_version": "1.5.0",
            "_view_count": null,
            "_view_module_version": "1.5.0",
            "box_style": "",
            "layout": "IPY_MODEL_550f370b79e146549d1adf0f25358745",
            "_model_module": "@jupyter-widgets/controls",
            "children": [
              "IPY_MODEL_0b0ade4779b54d2688318b1559685b21",
              "IPY_MODEL_5021505a9b794e11bfd12d39a2951b98"
            ]
          }
        },
        "550f370b79e146549d1adf0f25358745": {
          "model_module": "@jupyter-widgets/base",
          "model_name": "LayoutModel",
          "state": {
            "_view_name": "LayoutView",
            "grid_template_rows": null,
            "right": null,
            "justify_content": null,
            "_view_module": "@jupyter-widgets/base",
            "overflow": null,
            "_model_module_version": "1.2.0",
            "_view_count": null,
            "flex_flow": null,
            "width": null,
            "min_width": null,
            "border": null,
            "align_items": null,
            "bottom": null,
            "_model_module": "@jupyter-widgets/base",
            "top": null,
            "grid_column": null,
            "overflow_y": null,
            "overflow_x": null,
            "grid_auto_flow": null,
            "grid_area": null,
            "grid_template_columns": null,
            "flex": null,
            "_model_name": "LayoutModel",
            "justify_items": null,
            "grid_row": null,
            "max_height": null,
            "align_content": null,
            "visibility": null,
            "align_self": null,
            "height": null,
            "min_height": null,
            "padding": null,
            "grid_auto_rows": null,
            "grid_gap": null,
            "max_width": null,
            "order": null,
            "_view_module_version": "1.2.0",
            "grid_template_areas": null,
            "object_position": null,
            "object_fit": null,
            "grid_auto_columns": null,
            "margin": null,
            "display": null,
            "left": null
          }
        },
        "0b0ade4779b54d2688318b1559685b21": {
          "model_module": "@jupyter-widgets/controls",
          "model_name": "FloatProgressModel",
          "state": {
            "_view_name": "ProgressView",
            "style": "IPY_MODEL_d3c4327ac23c4f61ac694a066befcff5",
            "_dom_classes": [],
            "description": "Downloading: 100%",
            "_model_name": "FloatProgressModel",
            "bar_style": "success",
            "max": 437983344,
            "_view_module": "@jupyter-widgets/controls",
            "_model_module_version": "1.5.0",
            "value": 437983344,
            "_view_count": null,
            "_view_module_version": "1.5.0",
            "orientation": "horizontal",
            "min": 0,
            "description_tooltip": null,
            "_model_module": "@jupyter-widgets/controls",
            "layout": "IPY_MODEL_a58dd450eb3143dd8e226885f24b5ab3"
          }
        },
        "5021505a9b794e11bfd12d39a2951b98": {
          "model_module": "@jupyter-widgets/controls",
          "model_name": "HTMLModel",
          "state": {
            "_view_name": "HTMLView",
            "style": "IPY_MODEL_759a1682fc9741f28e28b13e5da3114a",
            "_dom_classes": [],
            "description": "",
            "_model_name": "HTMLModel",
            "placeholder": "​",
            "_view_module": "@jupyter-widgets/controls",
            "_model_module_version": "1.5.0",
            "value": " 438M/438M [00:16&lt;00:00, 25.9MB/s]",
            "_view_count": null,
            "_view_module_version": "1.5.0",
            "description_tooltip": null,
            "_model_module": "@jupyter-widgets/controls",
            "layout": "IPY_MODEL_00562921832048bd8bd58764478e3117"
          }
        },
        "d3c4327ac23c4f61ac694a066befcff5": {
          "model_module": "@jupyter-widgets/controls",
          "model_name": "ProgressStyleModel",
          "state": {
            "_view_name": "StyleView",
            "_model_name": "ProgressStyleModel",
            "description_width": "initial",
            "_view_module": "@jupyter-widgets/base",
            "_model_module_version": "1.5.0",
            "_view_count": null,
            "_view_module_version": "1.2.0",
            "bar_color": null,
            "_model_module": "@jupyter-widgets/controls"
          }
        },
        "a58dd450eb3143dd8e226885f24b5ab3": {
          "model_module": "@jupyter-widgets/base",
          "model_name": "LayoutModel",
          "state": {
            "_view_name": "LayoutView",
            "grid_template_rows": null,
            "right": null,
            "justify_content": null,
            "_view_module": "@jupyter-widgets/base",
            "overflow": null,
            "_model_module_version": "1.2.0",
            "_view_count": null,
            "flex_flow": null,
            "width": null,
            "min_width": null,
            "border": null,
            "align_items": null,
            "bottom": null,
            "_model_module": "@jupyter-widgets/base",
            "top": null,
            "grid_column": null,
            "overflow_y": null,
            "overflow_x": null,
            "grid_auto_flow": null,
            "grid_area": null,
            "grid_template_columns": null,
            "flex": null,
            "_model_name": "LayoutModel",
            "justify_items": null,
            "grid_row": null,
            "max_height": null,
            "align_content": null,
            "visibility": null,
            "align_self": null,
            "height": null,
            "min_height": null,
            "padding": null,
            "grid_auto_rows": null,
            "grid_gap": null,
            "max_width": null,
            "order": null,
            "_view_module_version": "1.2.0",
            "grid_template_areas": null,
            "object_position": null,
            "object_fit": null,
            "grid_auto_columns": null,
            "margin": null,
            "display": null,
            "left": null
          }
        },
        "759a1682fc9741f28e28b13e5da3114a": {
          "model_module": "@jupyter-widgets/controls",
          "model_name": "DescriptionStyleModel",
          "state": {
            "_view_name": "StyleView",
            "_model_name": "DescriptionStyleModel",
            "description_width": "",
            "_view_module": "@jupyter-widgets/base",
            "_model_module_version": "1.5.0",
            "_view_count": null,
            "_view_module_version": "1.2.0",
            "_model_module": "@jupyter-widgets/controls"
          }
        },
        "00562921832048bd8bd58764478e3117": {
          "model_module": "@jupyter-widgets/base",
          "model_name": "LayoutModel",
          "state": {
            "_view_name": "LayoutView",
            "grid_template_rows": null,
            "right": null,
            "justify_content": null,
            "_view_module": "@jupyter-widgets/base",
            "overflow": null,
            "_model_module_version": "1.2.0",
            "_view_count": null,
            "flex_flow": null,
            "width": null,
            "min_width": null,
            "border": null,
            "align_items": null,
            "bottom": null,
            "_model_module": "@jupyter-widgets/base",
            "top": null,
            "grid_column": null,
            "overflow_y": null,
            "overflow_x": null,
            "grid_auto_flow": null,
            "grid_area": null,
            "grid_template_columns": null,
            "flex": null,
            "_model_name": "LayoutModel",
            "justify_items": null,
            "grid_row": null,
            "max_height": null,
            "align_content": null,
            "visibility": null,
            "align_self": null,
            "height": null,
            "min_height": null,
            "padding": null,
            "grid_auto_rows": null,
            "grid_gap": null,
            "max_width": null,
            "order": null,
            "_view_module_version": "1.2.0",
            "grid_template_areas": null,
            "object_position": null,
            "object_fit": null,
            "grid_auto_columns": null,
            "margin": null,
            "display": null,
            "left": null
          }
        },
        "29977ec1ff50458dbbf983cd5cd4d80f": {
          "model_module": "@jupyter-widgets/controls",
          "model_name": "HBoxModel",
          "state": {
            "_view_name": "HBoxView",
            "_dom_classes": [],
            "_model_name": "HBoxModel",
            "_view_module": "@jupyter-widgets/controls",
            "_model_module_version": "1.5.0",
            "_view_count": null,
            "_view_module_version": "1.5.0",
            "box_style": "",
            "layout": "IPY_MODEL_23f55fdca3c04e2fa2742b6d86f7972f",
            "_model_module": "@jupyter-widgets/controls",
            "children": [
              "IPY_MODEL_c4bcdc8c4f2e47c490aaee39acad3ed3",
              "IPY_MODEL_f88b3225b2e04a24a4f53172961d55c7"
            ]
          }
        },
        "23f55fdca3c04e2fa2742b6d86f7972f": {
          "model_module": "@jupyter-widgets/base",
          "model_name": "LayoutModel",
          "state": {
            "_view_name": "LayoutView",
            "grid_template_rows": null,
            "right": null,
            "justify_content": null,
            "_view_module": "@jupyter-widgets/base",
            "overflow": null,
            "_model_module_version": "1.2.0",
            "_view_count": null,
            "flex_flow": null,
            "width": null,
            "min_width": null,
            "border": null,
            "align_items": null,
            "bottom": null,
            "_model_module": "@jupyter-widgets/base",
            "top": null,
            "grid_column": null,
            "overflow_y": null,
            "overflow_x": null,
            "grid_auto_flow": null,
            "grid_area": null,
            "grid_template_columns": null,
            "flex": null,
            "_model_name": "LayoutModel",
            "justify_items": null,
            "grid_row": null,
            "max_height": null,
            "align_content": null,
            "visibility": null,
            "align_self": null,
            "height": null,
            "min_height": null,
            "padding": null,
            "grid_auto_rows": null,
            "grid_gap": null,
            "max_width": null,
            "order": null,
            "_view_module_version": "1.2.0",
            "grid_template_areas": null,
            "object_position": null,
            "object_fit": null,
            "grid_auto_columns": null,
            "margin": null,
            "display": null,
            "left": null
          }
        },
        "c4bcdc8c4f2e47c490aaee39acad3ed3": {
          "model_module": "@jupyter-widgets/controls",
          "model_name": "FloatProgressModel",
          "state": {
            "_view_name": "ProgressView",
            "style": "IPY_MODEL_49261392b4334050a2e5b86b911dda04",
            "_dom_classes": [],
            "description": "Downloading: 100%",
            "_model_name": "FloatProgressModel",
            "bar_style": "success",
            "max": 231508,
            "_view_module": "@jupyter-widgets/controls",
            "_model_module_version": "1.5.0",
            "value": 231508,
            "_view_count": null,
            "_view_module_version": "1.5.0",
            "orientation": "horizontal",
            "min": 0,
            "description_tooltip": null,
            "_model_module": "@jupyter-widgets/controls",
            "layout": "IPY_MODEL_50d092810af0420bb0dd1889bd3001a9"
          }
        },
        "f88b3225b2e04a24a4f53172961d55c7": {
          "model_module": "@jupyter-widgets/controls",
          "model_name": "HTMLModel",
          "state": {
            "_view_name": "HTMLView",
            "style": "IPY_MODEL_22108c6d5c7a464dbe40d395afb10a8a",
            "_dom_classes": [],
            "description": "",
            "_model_name": "HTMLModel",
            "placeholder": "​",
            "_view_module": "@jupyter-widgets/controls",
            "_model_module_version": "1.5.0",
            "value": " 232k/232k [00:00&lt;00:00, 458kB/s]",
            "_view_count": null,
            "_view_module_version": "1.5.0",
            "description_tooltip": null,
            "_model_module": "@jupyter-widgets/controls",
            "layout": "IPY_MODEL_743df4bea15a4fc0bd6d82e01cc3583e"
          }
        },
        "49261392b4334050a2e5b86b911dda04": {
          "model_module": "@jupyter-widgets/controls",
          "model_name": "ProgressStyleModel",
          "state": {
            "_view_name": "StyleView",
            "_model_name": "ProgressStyleModel",
            "description_width": "initial",
            "_view_module": "@jupyter-widgets/base",
            "_model_module_version": "1.5.0",
            "_view_count": null,
            "_view_module_version": "1.2.0",
            "bar_color": null,
            "_model_module": "@jupyter-widgets/controls"
          }
        },
        "50d092810af0420bb0dd1889bd3001a9": {
          "model_module": "@jupyter-widgets/base",
          "model_name": "LayoutModel",
          "state": {
            "_view_name": "LayoutView",
            "grid_template_rows": null,
            "right": null,
            "justify_content": null,
            "_view_module": "@jupyter-widgets/base",
            "overflow": null,
            "_model_module_version": "1.2.0",
            "_view_count": null,
            "flex_flow": null,
            "width": null,
            "min_width": null,
            "border": null,
            "align_items": null,
            "bottom": null,
            "_model_module": "@jupyter-widgets/base",
            "top": null,
            "grid_column": null,
            "overflow_y": null,
            "overflow_x": null,
            "grid_auto_flow": null,
            "grid_area": null,
            "grid_template_columns": null,
            "flex": null,
            "_model_name": "LayoutModel",
            "justify_items": null,
            "grid_row": null,
            "max_height": null,
            "align_content": null,
            "visibility": null,
            "align_self": null,
            "height": null,
            "min_height": null,
            "padding": null,
            "grid_auto_rows": null,
            "grid_gap": null,
            "max_width": null,
            "order": null,
            "_view_module_version": "1.2.0",
            "grid_template_areas": null,
            "object_position": null,
            "object_fit": null,
            "grid_auto_columns": null,
            "margin": null,
            "display": null,
            "left": null
          }
        },
        "22108c6d5c7a464dbe40d395afb10a8a": {
          "model_module": "@jupyter-widgets/controls",
          "model_name": "DescriptionStyleModel",
          "state": {
            "_view_name": "StyleView",
            "_model_name": "DescriptionStyleModel",
            "description_width": "",
            "_view_module": "@jupyter-widgets/base",
            "_model_module_version": "1.5.0",
            "_view_count": null,
            "_view_module_version": "1.2.0",
            "_model_module": "@jupyter-widgets/controls"
          }
        },
        "743df4bea15a4fc0bd6d82e01cc3583e": {
          "model_module": "@jupyter-widgets/base",
          "model_name": "LayoutModel",
          "state": {
            "_view_name": "LayoutView",
            "grid_template_rows": null,
            "right": null,
            "justify_content": null,
            "_view_module": "@jupyter-widgets/base",
            "overflow": null,
            "_model_module_version": "1.2.0",
            "_view_count": null,
            "flex_flow": null,
            "width": null,
            "min_width": null,
            "border": null,
            "align_items": null,
            "bottom": null,
            "_model_module": "@jupyter-widgets/base",
            "top": null,
            "grid_column": null,
            "overflow_y": null,
            "overflow_x": null,
            "grid_auto_flow": null,
            "grid_area": null,
            "grid_template_columns": null,
            "flex": null,
            "_model_name": "LayoutModel",
            "justify_items": null,
            "grid_row": null,
            "max_height": null,
            "align_content": null,
            "visibility": null,
            "align_self": null,
            "height": null,
            "min_height": null,
            "padding": null,
            "grid_auto_rows": null,
            "grid_gap": null,
            "max_width": null,
            "order": null,
            "_view_module_version": "1.2.0",
            "grid_template_areas": null,
            "object_position": null,
            "object_fit": null,
            "grid_auto_columns": null,
            "margin": null,
            "display": null,
            "left": null
          }
        },
        "cf661203e1ed4001bd8cd9eaff89c8b1": {
          "model_module": "@jupyter-widgets/controls",
          "model_name": "HBoxModel",
          "state": {
            "_view_name": "HBoxView",
            "_dom_classes": [],
            "_model_name": "HBoxModel",
            "_view_module": "@jupyter-widgets/controls",
            "_model_module_version": "1.5.0",
            "_view_count": null,
            "_view_module_version": "1.5.0",
            "box_style": "",
            "layout": "IPY_MODEL_0b73c96679f6422580a86e344f8e3dc2",
            "_model_module": "@jupyter-widgets/controls",
            "children": [
              "IPY_MODEL_7bb33a22949047f194b71e4f330f7ed2",
              "IPY_MODEL_17199783f0514699b944c66035f0fbfb"
            ]
          }
        },
        "0b73c96679f6422580a86e344f8e3dc2": {
          "model_module": "@jupyter-widgets/base",
          "model_name": "LayoutModel",
          "state": {
            "_view_name": "LayoutView",
            "grid_template_rows": null,
            "right": null,
            "justify_content": null,
            "_view_module": "@jupyter-widgets/base",
            "overflow": null,
            "_model_module_version": "1.2.0",
            "_view_count": null,
            "flex_flow": null,
            "width": null,
            "min_width": null,
            "border": null,
            "align_items": null,
            "bottom": null,
            "_model_module": "@jupyter-widgets/base",
            "top": null,
            "grid_column": null,
            "overflow_y": null,
            "overflow_x": null,
            "grid_auto_flow": null,
            "grid_area": null,
            "grid_template_columns": null,
            "flex": null,
            "_model_name": "LayoutModel",
            "justify_items": null,
            "grid_row": null,
            "max_height": null,
            "align_content": null,
            "visibility": null,
            "align_self": null,
            "height": null,
            "min_height": null,
            "padding": null,
            "grid_auto_rows": null,
            "grid_gap": null,
            "max_width": null,
            "order": null,
            "_view_module_version": "1.2.0",
            "grid_template_areas": null,
            "object_position": null,
            "object_fit": null,
            "grid_auto_columns": null,
            "margin": null,
            "display": null,
            "left": null
          }
        },
        "7bb33a22949047f194b71e4f330f7ed2": {
          "model_module": "@jupyter-widgets/controls",
          "model_name": "FloatProgressModel",
          "state": {
            "_view_name": "ProgressView",
            "style": "IPY_MODEL_d6b884fd4b19414197cc4927217e24bd",
            "_dom_classes": [],
            "description": "Downloading: 100%",
            "_model_name": "FloatProgressModel",
            "bar_style": "success",
            "max": 112,
            "_view_module": "@jupyter-widgets/controls",
            "_model_module_version": "1.5.0",
            "value": 112,
            "_view_count": null,
            "_view_module_version": "1.5.0",
            "orientation": "horizontal",
            "min": 0,
            "description_tooltip": null,
            "_model_module": "@jupyter-widgets/controls",
            "layout": "IPY_MODEL_5985974b973849ec9ad8efc326543ce9"
          }
        },
        "17199783f0514699b944c66035f0fbfb": {
          "model_module": "@jupyter-widgets/controls",
          "model_name": "HTMLModel",
          "state": {
            "_view_name": "HTMLView",
            "style": "IPY_MODEL_8755a9c440c84bc189d9e7ccc1dbbcc3",
            "_dom_classes": [],
            "description": "",
            "_model_name": "HTMLModel",
            "placeholder": "​",
            "_view_module": "@jupyter-widgets/controls",
            "_model_module_version": "1.5.0",
            "value": " 112/112 [00:00&lt;00:00, 211B/s]",
            "_view_count": null,
            "_view_module_version": "1.5.0",
            "description_tooltip": null,
            "_model_module": "@jupyter-widgets/controls",
            "layout": "IPY_MODEL_bbb2fb070d3748708622e75899b97746"
          }
        },
        "d6b884fd4b19414197cc4927217e24bd": {
          "model_module": "@jupyter-widgets/controls",
          "model_name": "ProgressStyleModel",
          "state": {
            "_view_name": "StyleView",
            "_model_name": "ProgressStyleModel",
            "description_width": "initial",
            "_view_module": "@jupyter-widgets/base",
            "_model_module_version": "1.5.0",
            "_view_count": null,
            "_view_module_version": "1.2.0",
            "bar_color": null,
            "_model_module": "@jupyter-widgets/controls"
          }
        },
        "5985974b973849ec9ad8efc326543ce9": {
          "model_module": "@jupyter-widgets/base",
          "model_name": "LayoutModel",
          "state": {
            "_view_name": "LayoutView",
            "grid_template_rows": null,
            "right": null,
            "justify_content": null,
            "_view_module": "@jupyter-widgets/base",
            "overflow": null,
            "_model_module_version": "1.2.0",
            "_view_count": null,
            "flex_flow": null,
            "width": null,
            "min_width": null,
            "border": null,
            "align_items": null,
            "bottom": null,
            "_model_module": "@jupyter-widgets/base",
            "top": null,
            "grid_column": null,
            "overflow_y": null,
            "overflow_x": null,
            "grid_auto_flow": null,
            "grid_area": null,
            "grid_template_columns": null,
            "flex": null,
            "_model_name": "LayoutModel",
            "justify_items": null,
            "grid_row": null,
            "max_height": null,
            "align_content": null,
            "visibility": null,
            "align_self": null,
            "height": null,
            "min_height": null,
            "padding": null,
            "grid_auto_rows": null,
            "grid_gap": null,
            "max_width": null,
            "order": null,
            "_view_module_version": "1.2.0",
            "grid_template_areas": null,
            "object_position": null,
            "object_fit": null,
            "grid_auto_columns": null,
            "margin": null,
            "display": null,
            "left": null
          }
        },
        "8755a9c440c84bc189d9e7ccc1dbbcc3": {
          "model_module": "@jupyter-widgets/controls",
          "model_name": "DescriptionStyleModel",
          "state": {
            "_view_name": "StyleView",
            "_model_name": "DescriptionStyleModel",
            "description_width": "",
            "_view_module": "@jupyter-widgets/base",
            "_model_module_version": "1.5.0",
            "_view_count": null,
            "_view_module_version": "1.2.0",
            "_model_module": "@jupyter-widgets/controls"
          }
        },
        "bbb2fb070d3748708622e75899b97746": {
          "model_module": "@jupyter-widgets/base",
          "model_name": "LayoutModel",
          "state": {
            "_view_name": "LayoutView",
            "grid_template_rows": null,
            "right": null,
            "justify_content": null,
            "_view_module": "@jupyter-widgets/base",
            "overflow": null,
            "_model_module_version": "1.2.0",
            "_view_count": null,
            "flex_flow": null,
            "width": null,
            "min_width": null,
            "border": null,
            "align_items": null,
            "bottom": null,
            "_model_module": "@jupyter-widgets/base",
            "top": null,
            "grid_column": null,
            "overflow_y": null,
            "overflow_x": null,
            "grid_auto_flow": null,
            "grid_area": null,
            "grid_template_columns": null,
            "flex": null,
            "_model_name": "LayoutModel",
            "justify_items": null,
            "grid_row": null,
            "max_height": null,
            "align_content": null,
            "visibility": null,
            "align_self": null,
            "height": null,
            "min_height": null,
            "padding": null,
            "grid_auto_rows": null,
            "grid_gap": null,
            "max_width": null,
            "order": null,
            "_view_module_version": "1.2.0",
            "grid_template_areas": null,
            "object_position": null,
            "object_fit": null,
            "grid_auto_columns": null,
            "margin": null,
            "display": null,
            "left": null
          }
        },
        "4344484a3d1347dfa1ae633b089d9a1f": {
          "model_module": "@jupyter-widgets/controls",
          "model_name": "HBoxModel",
          "state": {
            "_view_name": "HBoxView",
            "_dom_classes": [],
            "_model_name": "HBoxModel",
            "_view_module": "@jupyter-widgets/controls",
            "_model_module_version": "1.5.0",
            "_view_count": null,
            "_view_module_version": "1.5.0",
            "box_style": "",
            "layout": "IPY_MODEL_03956378126c48dab0961e7e0211594d",
            "_model_module": "@jupyter-widgets/controls",
            "children": [
              "IPY_MODEL_8919446caeef43cf8f5b59e29cb9b5ea",
              "IPY_MODEL_d643c1387fbd4245aa6cf00d6929e0a9"
            ]
          }
        },
        "03956378126c48dab0961e7e0211594d": {
          "model_module": "@jupyter-widgets/base",
          "model_name": "LayoutModel",
          "state": {
            "_view_name": "LayoutView",
            "grid_template_rows": null,
            "right": null,
            "justify_content": null,
            "_view_module": "@jupyter-widgets/base",
            "overflow": null,
            "_model_module_version": "1.2.0",
            "_view_count": null,
            "flex_flow": null,
            "width": null,
            "min_width": null,
            "border": null,
            "align_items": null,
            "bottom": null,
            "_model_module": "@jupyter-widgets/base",
            "top": null,
            "grid_column": null,
            "overflow_y": null,
            "overflow_x": null,
            "grid_auto_flow": null,
            "grid_area": null,
            "grid_template_columns": null,
            "flex": null,
            "_model_name": "LayoutModel",
            "justify_items": null,
            "grid_row": null,
            "max_height": null,
            "align_content": null,
            "visibility": null,
            "align_self": null,
            "height": null,
            "min_height": null,
            "padding": null,
            "grid_auto_rows": null,
            "grid_gap": null,
            "max_width": null,
            "order": null,
            "_view_module_version": "1.2.0",
            "grid_template_areas": null,
            "object_position": null,
            "object_fit": null,
            "grid_auto_columns": null,
            "margin": null,
            "display": null,
            "left": null
          }
        },
        "8919446caeef43cf8f5b59e29cb9b5ea": {
          "model_module": "@jupyter-widgets/controls",
          "model_name": "FloatProgressModel",
          "state": {
            "_view_name": "ProgressView",
            "style": "IPY_MODEL_581cd9013f004a06bac55ea90d01fbad",
            "_dom_classes": [],
            "description": "Downloading: 100%",
            "_model_name": "FloatProgressModel",
            "bar_style": "success",
            "max": 48,
            "_view_module": "@jupyter-widgets/controls",
            "_model_module_version": "1.5.0",
            "value": 48,
            "_view_count": null,
            "_view_module_version": "1.5.0",
            "orientation": "horizontal",
            "min": 0,
            "description_tooltip": null,
            "_model_module": "@jupyter-widgets/controls",
            "layout": "IPY_MODEL_493b438ec2524fcca4e67db0d831af62"
          }
        },
        "d643c1387fbd4245aa6cf00d6929e0a9": {
          "model_module": "@jupyter-widgets/controls",
          "model_name": "HTMLModel",
          "state": {
            "_view_name": "HTMLView",
            "style": "IPY_MODEL_a1baf6b1a47f4e7fa09b88f53b489768",
            "_dom_classes": [],
            "description": "",
            "_model_name": "HTMLModel",
            "placeholder": "​",
            "_view_module": "@jupyter-widgets/controls",
            "_model_module_version": "1.5.0",
            "value": " 48.0/48.0 [00:00&lt;00:00, 241B/s]",
            "_view_count": null,
            "_view_module_version": "1.5.0",
            "description_tooltip": null,
            "_model_module": "@jupyter-widgets/controls",
            "layout": "IPY_MODEL_f1b239c161da46d08cef554f952b7f5e"
          }
        },
        "581cd9013f004a06bac55ea90d01fbad": {
          "model_module": "@jupyter-widgets/controls",
          "model_name": "ProgressStyleModel",
          "state": {
            "_view_name": "StyleView",
            "_model_name": "ProgressStyleModel",
            "description_width": "initial",
            "_view_module": "@jupyter-widgets/base",
            "_model_module_version": "1.5.0",
            "_view_count": null,
            "_view_module_version": "1.2.0",
            "bar_color": null,
            "_model_module": "@jupyter-widgets/controls"
          }
        },
        "493b438ec2524fcca4e67db0d831af62": {
          "model_module": "@jupyter-widgets/base",
          "model_name": "LayoutModel",
          "state": {
            "_view_name": "LayoutView",
            "grid_template_rows": null,
            "right": null,
            "justify_content": null,
            "_view_module": "@jupyter-widgets/base",
            "overflow": null,
            "_model_module_version": "1.2.0",
            "_view_count": null,
            "flex_flow": null,
            "width": null,
            "min_width": null,
            "border": null,
            "align_items": null,
            "bottom": null,
            "_model_module": "@jupyter-widgets/base",
            "top": null,
            "grid_column": null,
            "overflow_y": null,
            "overflow_x": null,
            "grid_auto_flow": null,
            "grid_area": null,
            "grid_template_columns": null,
            "flex": null,
            "_model_name": "LayoutModel",
            "justify_items": null,
            "grid_row": null,
            "max_height": null,
            "align_content": null,
            "visibility": null,
            "align_self": null,
            "height": null,
            "min_height": null,
            "padding": null,
            "grid_auto_rows": null,
            "grid_gap": null,
            "max_width": null,
            "order": null,
            "_view_module_version": "1.2.0",
            "grid_template_areas": null,
            "object_position": null,
            "object_fit": null,
            "grid_auto_columns": null,
            "margin": null,
            "display": null,
            "left": null
          }
        },
        "a1baf6b1a47f4e7fa09b88f53b489768": {
          "model_module": "@jupyter-widgets/controls",
          "model_name": "DescriptionStyleModel",
          "state": {
            "_view_name": "StyleView",
            "_model_name": "DescriptionStyleModel",
            "description_width": "",
            "_view_module": "@jupyter-widgets/base",
            "_model_module_version": "1.5.0",
            "_view_count": null,
            "_view_module_version": "1.2.0",
            "_model_module": "@jupyter-widgets/controls"
          }
        },
        "f1b239c161da46d08cef554f952b7f5e": {
          "model_module": "@jupyter-widgets/base",
          "model_name": "LayoutModel",
          "state": {
            "_view_name": "LayoutView",
            "grid_template_rows": null,
            "right": null,
            "justify_content": null,
            "_view_module": "@jupyter-widgets/base",
            "overflow": null,
            "_model_module_version": "1.2.0",
            "_view_count": null,
            "flex_flow": null,
            "width": null,
            "min_width": null,
            "border": null,
            "align_items": null,
            "bottom": null,
            "_model_module": "@jupyter-widgets/base",
            "top": null,
            "grid_column": null,
            "overflow_y": null,
            "overflow_x": null,
            "grid_auto_flow": null,
            "grid_area": null,
            "grid_template_columns": null,
            "flex": null,
            "_model_name": "LayoutModel",
            "justify_items": null,
            "grid_row": null,
            "max_height": null,
            "align_content": null,
            "visibility": null,
            "align_self": null,
            "height": null,
            "min_height": null,
            "padding": null,
            "grid_auto_rows": null,
            "grid_gap": null,
            "max_width": null,
            "order": null,
            "_view_module_version": "1.2.0",
            "grid_template_areas": null,
            "object_position": null,
            "object_fit": null,
            "grid_auto_columns": null,
            "margin": null,
            "display": null,
            "left": null
          }
        },
        "96342b0bceb14eca99d3469c361c1787": {
          "model_module": "@jupyter-widgets/controls",
          "model_name": "HBoxModel",
          "state": {
            "_view_name": "HBoxView",
            "_dom_classes": [],
            "_model_name": "HBoxModel",
            "_view_module": "@jupyter-widgets/controls",
            "_model_module_version": "1.5.0",
            "_view_count": null,
            "_view_module_version": "1.5.0",
            "box_style": "",
            "layout": "IPY_MODEL_1df9968d8c55443fbf4d87b1d099566e",
            "_model_module": "@jupyter-widgets/controls",
            "children": [
              "IPY_MODEL_a317d3db0bf547cb9f732e25f25eddc2",
              "IPY_MODEL_328aa01640a748318e37937a55bc0e74"
            ]
          }
        },
        "1df9968d8c55443fbf4d87b1d099566e": {
          "model_module": "@jupyter-widgets/base",
          "model_name": "LayoutModel",
          "state": {
            "_view_name": "LayoutView",
            "grid_template_rows": null,
            "right": null,
            "justify_content": null,
            "_view_module": "@jupyter-widgets/base",
            "overflow": null,
            "_model_module_version": "1.2.0",
            "_view_count": null,
            "flex_flow": null,
            "width": null,
            "min_width": null,
            "border": null,
            "align_items": null,
            "bottom": null,
            "_model_module": "@jupyter-widgets/base",
            "top": null,
            "grid_column": null,
            "overflow_y": null,
            "overflow_x": null,
            "grid_auto_flow": null,
            "grid_area": null,
            "grid_template_columns": null,
            "flex": null,
            "_model_name": "LayoutModel",
            "justify_items": null,
            "grid_row": null,
            "max_height": null,
            "align_content": null,
            "visibility": null,
            "align_self": null,
            "height": null,
            "min_height": null,
            "padding": null,
            "grid_auto_rows": null,
            "grid_gap": null,
            "max_width": null,
            "order": null,
            "_view_module_version": "1.2.0",
            "grid_template_areas": null,
            "object_position": null,
            "object_fit": null,
            "grid_auto_columns": null,
            "margin": null,
            "display": null,
            "left": null
          }
        },
        "a317d3db0bf547cb9f732e25f25eddc2": {
          "model_module": "@jupyter-widgets/controls",
          "model_name": "FloatProgressModel",
          "state": {
            "_view_name": "ProgressView",
            "style": "IPY_MODEL_a81a7c9862f6442f91f8fdaf5250a997",
            "_dom_classes": [],
            "description": "Tokenizing: 100%",
            "_model_name": "FloatProgressModel",
            "bar_style": "success",
            "max": 135,
            "_view_module": "@jupyter-widgets/controls",
            "_model_module_version": "1.5.0",
            "value": 135,
            "_view_count": null,
            "_view_module_version": "1.5.0",
            "orientation": "horizontal",
            "min": 0,
            "description_tooltip": null,
            "_model_module": "@jupyter-widgets/controls",
            "layout": "IPY_MODEL_6a4ea60acb3d46089103a5fbb918b436"
          }
        },
        "328aa01640a748318e37937a55bc0e74": {
          "model_module": "@jupyter-widgets/controls",
          "model_name": "HTMLModel",
          "state": {
            "_view_name": "HTMLView",
            "style": "IPY_MODEL_d9df8d4a6d2245c78aa51f45d8aa1777",
            "_dom_classes": [],
            "description": "",
            "_model_name": "HTMLModel",
            "placeholder": "​",
            "_view_module": "@jupyter-widgets/controls",
            "_model_module_version": "1.5.0",
            "value": " 135/135 [00:03&lt;00:00, 42.42it/s]",
            "_view_count": null,
            "_view_module_version": "1.5.0",
            "description_tooltip": null,
            "_model_module": "@jupyter-widgets/controls",
            "layout": "IPY_MODEL_2fd54572ebc64cc69b7b340ecb548e1e"
          }
        },
        "a81a7c9862f6442f91f8fdaf5250a997": {
          "model_module": "@jupyter-widgets/controls",
          "model_name": "ProgressStyleModel",
          "state": {
            "_view_name": "StyleView",
            "_model_name": "ProgressStyleModel",
            "description_width": "initial",
            "_view_module": "@jupyter-widgets/base",
            "_model_module_version": "1.5.0",
            "_view_count": null,
            "_view_module_version": "1.2.0",
            "bar_color": null,
            "_model_module": "@jupyter-widgets/controls"
          }
        },
        "6a4ea60acb3d46089103a5fbb918b436": {
          "model_module": "@jupyter-widgets/base",
          "model_name": "LayoutModel",
          "state": {
            "_view_name": "LayoutView",
            "grid_template_rows": null,
            "right": null,
            "justify_content": null,
            "_view_module": "@jupyter-widgets/base",
            "overflow": null,
            "_model_module_version": "1.2.0",
            "_view_count": null,
            "flex_flow": null,
            "width": null,
            "min_width": null,
            "border": null,
            "align_items": null,
            "bottom": null,
            "_model_module": "@jupyter-widgets/base",
            "top": null,
            "grid_column": null,
            "overflow_y": null,
            "overflow_x": null,
            "grid_auto_flow": null,
            "grid_area": null,
            "grid_template_columns": null,
            "flex": null,
            "_model_name": "LayoutModel",
            "justify_items": null,
            "grid_row": null,
            "max_height": null,
            "align_content": null,
            "visibility": null,
            "align_self": null,
            "height": null,
            "min_height": null,
            "padding": null,
            "grid_auto_rows": null,
            "grid_gap": null,
            "max_width": null,
            "order": null,
            "_view_module_version": "1.2.0",
            "grid_template_areas": null,
            "object_position": null,
            "object_fit": null,
            "grid_auto_columns": null,
            "margin": null,
            "display": null,
            "left": null
          }
        },
        "d9df8d4a6d2245c78aa51f45d8aa1777": {
          "model_module": "@jupyter-widgets/controls",
          "model_name": "DescriptionStyleModel",
          "state": {
            "_view_name": "StyleView",
            "_model_name": "DescriptionStyleModel",
            "description_width": "",
            "_view_module": "@jupyter-widgets/base",
            "_model_module_version": "1.5.0",
            "_view_count": null,
            "_view_module_version": "1.2.0",
            "_model_module": "@jupyter-widgets/controls"
          }
        },
        "2fd54572ebc64cc69b7b340ecb548e1e": {
          "model_module": "@jupyter-widgets/base",
          "model_name": "LayoutModel",
          "state": {
            "_view_name": "LayoutView",
            "grid_template_rows": null,
            "right": null,
            "justify_content": null,
            "_view_module": "@jupyter-widgets/base",
            "overflow": null,
            "_model_module_version": "1.2.0",
            "_view_count": null,
            "flex_flow": null,
            "width": null,
            "min_width": null,
            "border": null,
            "align_items": null,
            "bottom": null,
            "_model_module": "@jupyter-widgets/base",
            "top": null,
            "grid_column": null,
            "overflow_y": null,
            "overflow_x": null,
            "grid_auto_flow": null,
            "grid_area": null,
            "grid_template_columns": null,
            "flex": null,
            "_model_name": "LayoutModel",
            "justify_items": null,
            "grid_row": null,
            "max_height": null,
            "align_content": null,
            "visibility": null,
            "align_self": null,
            "height": null,
            "min_height": null,
            "padding": null,
            "grid_auto_rows": null,
            "grid_gap": null,
            "max_width": null,
            "order": null,
            "_view_module_version": "1.2.0",
            "grid_template_areas": null,
            "object_position": null,
            "object_fit": null,
            "grid_auto_columns": null,
            "margin": null,
            "display": null,
            "left": null
          }
        },
        "b9c2da975cc34f27849abae1b5623308": {
          "model_module": "@jupyter-widgets/controls",
          "model_name": "HBoxModel",
          "state": {
            "_view_name": "HBoxView",
            "_dom_classes": [],
            "_model_name": "HBoxModel",
            "_view_module": "@jupyter-widgets/controls",
            "_model_module_version": "1.5.0",
            "_view_count": null,
            "_view_module_version": "1.5.0",
            "box_style": "",
            "layout": "IPY_MODEL_90f5ed19314f482495b7469058a8e534",
            "_model_module": "@jupyter-widgets/controls",
            "children": [
              "IPY_MODEL_31839acc1000425984af32549a992a84",
              "IPY_MODEL_51a3a68ecec147329bbc2d9bda87aa6d"
            ]
          }
        },
        "90f5ed19314f482495b7469058a8e534": {
          "model_module": "@jupyter-widgets/base",
          "model_name": "LayoutModel",
          "state": {
            "_view_name": "LayoutView",
            "grid_template_rows": null,
            "right": null,
            "justify_content": null,
            "_view_module": "@jupyter-widgets/base",
            "overflow": null,
            "_model_module_version": "1.2.0",
            "_view_count": null,
            "flex_flow": null,
            "width": null,
            "min_width": null,
            "border": null,
            "align_items": null,
            "bottom": null,
            "_model_module": "@jupyter-widgets/base",
            "top": null,
            "grid_column": null,
            "overflow_y": null,
            "overflow_x": null,
            "grid_auto_flow": null,
            "grid_area": null,
            "grid_template_columns": null,
            "flex": null,
            "_model_name": "LayoutModel",
            "justify_items": null,
            "grid_row": null,
            "max_height": null,
            "align_content": null,
            "visibility": null,
            "align_self": null,
            "height": null,
            "min_height": null,
            "padding": null,
            "grid_auto_rows": null,
            "grid_gap": null,
            "max_width": null,
            "order": null,
            "_view_module_version": "1.2.0",
            "grid_template_areas": null,
            "object_position": null,
            "object_fit": null,
            "grid_auto_columns": null,
            "margin": null,
            "display": null,
            "left": null
          }
        },
        "31839acc1000425984af32549a992a84": {
          "model_module": "@jupyter-widgets/controls",
          "model_name": "FloatProgressModel",
          "state": {
            "_view_name": "ProgressView",
            "style": "IPY_MODEL_95a2f965e0df4f75b42d23ee1349734d",
            "_dom_classes": [],
            "description": "Tokenizing: 100%",
            "_model_name": "FloatProgressModel",
            "bar_style": "success",
            "max": 21,
            "_view_module": "@jupyter-widgets/controls",
            "_model_module_version": "1.5.0",
            "value": 21,
            "_view_count": null,
            "_view_module_version": "1.5.0",
            "orientation": "horizontal",
            "min": 0,
            "description_tooltip": null,
            "_model_module": "@jupyter-widgets/controls",
            "layout": "IPY_MODEL_4f18af8570c74d1aab5669b61f9d5d87"
          }
        },
        "51a3a68ecec147329bbc2d9bda87aa6d": {
          "model_module": "@jupyter-widgets/controls",
          "model_name": "HTMLModel",
          "state": {
            "_view_name": "HTMLView",
            "style": "IPY_MODEL_f47491efb5fe4033ad79a13cea1233b7",
            "_dom_classes": [],
            "description": "",
            "_model_name": "HTMLModel",
            "placeholder": "​",
            "_view_module": "@jupyter-widgets/controls",
            "_model_module_version": "1.5.0",
            "value": " 21/21 [00:00&lt;00:00, 67.29it/s]",
            "_view_count": null,
            "_view_module_version": "1.5.0",
            "description_tooltip": null,
            "_model_module": "@jupyter-widgets/controls",
            "layout": "IPY_MODEL_4153eff89fc44910aa100b34928bcf00"
          }
        },
        "95a2f965e0df4f75b42d23ee1349734d": {
          "model_module": "@jupyter-widgets/controls",
          "model_name": "ProgressStyleModel",
          "state": {
            "_view_name": "StyleView",
            "_model_name": "ProgressStyleModel",
            "description_width": "initial",
            "_view_module": "@jupyter-widgets/base",
            "_model_module_version": "1.5.0",
            "_view_count": null,
            "_view_module_version": "1.2.0",
            "bar_color": null,
            "_model_module": "@jupyter-widgets/controls"
          }
        },
        "4f18af8570c74d1aab5669b61f9d5d87": {
          "model_module": "@jupyter-widgets/base",
          "model_name": "LayoutModel",
          "state": {
            "_view_name": "LayoutView",
            "grid_template_rows": null,
            "right": null,
            "justify_content": null,
            "_view_module": "@jupyter-widgets/base",
            "overflow": null,
            "_model_module_version": "1.2.0",
            "_view_count": null,
            "flex_flow": null,
            "width": null,
            "min_width": null,
            "border": null,
            "align_items": null,
            "bottom": null,
            "_model_module": "@jupyter-widgets/base",
            "top": null,
            "grid_column": null,
            "overflow_y": null,
            "overflow_x": null,
            "grid_auto_flow": null,
            "grid_area": null,
            "grid_template_columns": null,
            "flex": null,
            "_model_name": "LayoutModel",
            "justify_items": null,
            "grid_row": null,
            "max_height": null,
            "align_content": null,
            "visibility": null,
            "align_self": null,
            "height": null,
            "min_height": null,
            "padding": null,
            "grid_auto_rows": null,
            "grid_gap": null,
            "max_width": null,
            "order": null,
            "_view_module_version": "1.2.0",
            "grid_template_areas": null,
            "object_position": null,
            "object_fit": null,
            "grid_auto_columns": null,
            "margin": null,
            "display": null,
            "left": null
          }
        },
        "f47491efb5fe4033ad79a13cea1233b7": {
          "model_module": "@jupyter-widgets/controls",
          "model_name": "DescriptionStyleModel",
          "state": {
            "_view_name": "StyleView",
            "_model_name": "DescriptionStyleModel",
            "description_width": "",
            "_view_module": "@jupyter-widgets/base",
            "_model_module_version": "1.5.0",
            "_view_count": null,
            "_view_module_version": "1.2.0",
            "_model_module": "@jupyter-widgets/controls"
          }
        },
        "4153eff89fc44910aa100b34928bcf00": {
          "model_module": "@jupyter-widgets/base",
          "model_name": "LayoutModel",
          "state": {
            "_view_name": "LayoutView",
            "grid_template_rows": null,
            "right": null,
            "justify_content": null,
            "_view_module": "@jupyter-widgets/base",
            "overflow": null,
            "_model_module_version": "1.2.0",
            "_view_count": null,
            "flex_flow": null,
            "width": null,
            "min_width": null,
            "border": null,
            "align_items": null,
            "bottom": null,
            "_model_module": "@jupyter-widgets/base",
            "top": null,
            "grid_column": null,
            "overflow_y": null,
            "overflow_x": null,
            "grid_auto_flow": null,
            "grid_area": null,
            "grid_template_columns": null,
            "flex": null,
            "_model_name": "LayoutModel",
            "justify_items": null,
            "grid_row": null,
            "max_height": null,
            "align_content": null,
            "visibility": null,
            "align_self": null,
            "height": null,
            "min_height": null,
            "padding": null,
            "grid_auto_rows": null,
            "grid_gap": null,
            "max_width": null,
            "order": null,
            "_view_module_version": "1.2.0",
            "grid_template_areas": null,
            "object_position": null,
            "object_fit": null,
            "grid_auto_columns": null,
            "margin": null,
            "display": null,
            "left": null
          }
        },
        "9ed28113a7db4dc8beb392dbb264c435": {
          "model_module": "@jupyter-widgets/controls",
          "model_name": "HBoxModel",
          "state": {
            "_view_name": "HBoxView",
            "_dom_classes": [],
            "_model_name": "HBoxModel",
            "_view_module": "@jupyter-widgets/controls",
            "_model_module_version": "1.5.0",
            "_view_count": null,
            "_view_module_version": "1.5.0",
            "box_style": "",
            "layout": "IPY_MODEL_6e0d57c98cde4aa281adf626d8ecfaae",
            "_model_module": "@jupyter-widgets/controls",
            "children": [
              "IPY_MODEL_e4da4fe9639848b9a0e2b3406f292c9a",
              "IPY_MODEL_c1e80ebc8fa84b7e86b862e26fa7f64f"
            ]
          }
        },
        "6e0d57c98cde4aa281adf626d8ecfaae": {
          "model_module": "@jupyter-widgets/base",
          "model_name": "LayoutModel",
          "state": {
            "_view_name": "LayoutView",
            "grid_template_rows": null,
            "right": null,
            "justify_content": null,
            "_view_module": "@jupyter-widgets/base",
            "overflow": null,
            "_model_module_version": "1.2.0",
            "_view_count": null,
            "flex_flow": null,
            "width": null,
            "min_width": null,
            "border": null,
            "align_items": null,
            "bottom": null,
            "_model_module": "@jupyter-widgets/base",
            "top": null,
            "grid_column": null,
            "overflow_y": null,
            "overflow_x": null,
            "grid_auto_flow": null,
            "grid_area": null,
            "grid_template_columns": null,
            "flex": null,
            "_model_name": "LayoutModel",
            "justify_items": null,
            "grid_row": null,
            "max_height": null,
            "align_content": null,
            "visibility": null,
            "align_self": null,
            "height": null,
            "min_height": null,
            "padding": null,
            "grid_auto_rows": null,
            "grid_gap": null,
            "max_width": null,
            "order": null,
            "_view_module_version": "1.2.0",
            "grid_template_areas": null,
            "object_position": null,
            "object_fit": null,
            "grid_auto_columns": null,
            "margin": null,
            "display": null,
            "left": null
          }
        },
        "e4da4fe9639848b9a0e2b3406f292c9a": {
          "model_module": "@jupyter-widgets/controls",
          "model_name": "FloatProgressModel",
          "state": {
            "_view_name": "ProgressView",
            "style": "IPY_MODEL_9df91804c8be489b94e95861835c13d9",
            "_dom_classes": [],
            "description": "Tokenizing: 100%",
            "_model_name": "FloatProgressModel",
            "bar_style": "success",
            "max": 135,
            "_view_module": "@jupyter-widgets/controls",
            "_model_module_version": "1.5.0",
            "value": 135,
            "_view_count": null,
            "_view_module_version": "1.5.0",
            "orientation": "horizontal",
            "min": 0,
            "description_tooltip": null,
            "_model_module": "@jupyter-widgets/controls",
            "layout": "IPY_MODEL_b85989889124428e88c3d845ad7f3f9c"
          }
        },
        "c1e80ebc8fa84b7e86b862e26fa7f64f": {
          "model_module": "@jupyter-widgets/controls",
          "model_name": "HTMLModel",
          "state": {
            "_view_name": "HTMLView",
            "style": "IPY_MODEL_d811184f83e140d7abe3de5c84108c04",
            "_dom_classes": [],
            "description": "",
            "_model_name": "HTMLModel",
            "placeholder": "​",
            "_view_module": "@jupyter-widgets/controls",
            "_model_module_version": "1.5.0",
            "value": " 135/135 [01:49&lt;00:00,  1.23it/s]",
            "_view_count": null,
            "_view_module_version": "1.5.0",
            "description_tooltip": null,
            "_model_module": "@jupyter-widgets/controls",
            "layout": "IPY_MODEL_35d4d27901d14723b72f750fdc8eaf3f"
          }
        },
        "9df91804c8be489b94e95861835c13d9": {
          "model_module": "@jupyter-widgets/controls",
          "model_name": "ProgressStyleModel",
          "state": {
            "_view_name": "StyleView",
            "_model_name": "ProgressStyleModel",
            "description_width": "initial",
            "_view_module": "@jupyter-widgets/base",
            "_model_module_version": "1.5.0",
            "_view_count": null,
            "_view_module_version": "1.2.0",
            "bar_color": null,
            "_model_module": "@jupyter-widgets/controls"
          }
        },
        "b85989889124428e88c3d845ad7f3f9c": {
          "model_module": "@jupyter-widgets/base",
          "model_name": "LayoutModel",
          "state": {
            "_view_name": "LayoutView",
            "grid_template_rows": null,
            "right": null,
            "justify_content": null,
            "_view_module": "@jupyter-widgets/base",
            "overflow": null,
            "_model_module_version": "1.2.0",
            "_view_count": null,
            "flex_flow": null,
            "width": null,
            "min_width": null,
            "border": null,
            "align_items": null,
            "bottom": null,
            "_model_module": "@jupyter-widgets/base",
            "top": null,
            "grid_column": null,
            "overflow_y": null,
            "overflow_x": null,
            "grid_auto_flow": null,
            "grid_area": null,
            "grid_template_columns": null,
            "flex": null,
            "_model_name": "LayoutModel",
            "justify_items": null,
            "grid_row": null,
            "max_height": null,
            "align_content": null,
            "visibility": null,
            "align_self": null,
            "height": null,
            "min_height": null,
            "padding": null,
            "grid_auto_rows": null,
            "grid_gap": null,
            "max_width": null,
            "order": null,
            "_view_module_version": "1.2.0",
            "grid_template_areas": null,
            "object_position": null,
            "object_fit": null,
            "grid_auto_columns": null,
            "margin": null,
            "display": null,
            "left": null
          }
        },
        "d811184f83e140d7abe3de5c84108c04": {
          "model_module": "@jupyter-widgets/controls",
          "model_name": "DescriptionStyleModel",
          "state": {
            "_view_name": "StyleView",
            "_model_name": "DescriptionStyleModel",
            "description_width": "",
            "_view_module": "@jupyter-widgets/base",
            "_model_module_version": "1.5.0",
            "_view_count": null,
            "_view_module_version": "1.2.0",
            "_model_module": "@jupyter-widgets/controls"
          }
        },
        "35d4d27901d14723b72f750fdc8eaf3f": {
          "model_module": "@jupyter-widgets/base",
          "model_name": "LayoutModel",
          "state": {
            "_view_name": "LayoutView",
            "grid_template_rows": null,
            "right": null,
            "justify_content": null,
            "_view_module": "@jupyter-widgets/base",
            "overflow": null,
            "_model_module_version": "1.2.0",
            "_view_count": null,
            "flex_flow": null,
            "width": null,
            "min_width": null,
            "border": null,
            "align_items": null,
            "bottom": null,
            "_model_module": "@jupyter-widgets/base",
            "top": null,
            "grid_column": null,
            "overflow_y": null,
            "overflow_x": null,
            "grid_auto_flow": null,
            "grid_area": null,
            "grid_template_columns": null,
            "flex": null,
            "_model_name": "LayoutModel",
            "justify_items": null,
            "grid_row": null,
            "max_height": null,
            "align_content": null,
            "visibility": null,
            "align_self": null,
            "height": null,
            "min_height": null,
            "padding": null,
            "grid_auto_rows": null,
            "grid_gap": null,
            "max_width": null,
            "order": null,
            "_view_module_version": "1.2.0",
            "grid_template_areas": null,
            "object_position": null,
            "object_fit": null,
            "grid_auto_columns": null,
            "margin": null,
            "display": null,
            "left": null
          }
        },
        "c616489ec3b74e0896a105df4f0697f3": {
          "model_module": "@jupyter-widgets/controls",
          "model_name": "HBoxModel",
          "state": {
            "_view_name": "HBoxView",
            "_dom_classes": [],
            "_model_name": "HBoxModel",
            "_view_module": "@jupyter-widgets/controls",
            "_model_module_version": "1.5.0",
            "_view_count": null,
            "_view_module_version": "1.5.0",
            "box_style": "",
            "layout": "IPY_MODEL_3b64527f75fc40a1badd554b3d5e7858",
            "_model_module": "@jupyter-widgets/controls",
            "children": [
              "IPY_MODEL_439311978986457781bd4e22acba9fd0",
              "IPY_MODEL_8f5acc128a004675b6a4346d5bb3aea9"
            ]
          }
        },
        "3b64527f75fc40a1badd554b3d5e7858": {
          "model_module": "@jupyter-widgets/base",
          "model_name": "LayoutModel",
          "state": {
            "_view_name": "LayoutView",
            "grid_template_rows": null,
            "right": null,
            "justify_content": null,
            "_view_module": "@jupyter-widgets/base",
            "overflow": null,
            "_model_module_version": "1.2.0",
            "_view_count": null,
            "flex_flow": null,
            "width": null,
            "min_width": null,
            "border": null,
            "align_items": null,
            "bottom": null,
            "_model_module": "@jupyter-widgets/base",
            "top": null,
            "grid_column": null,
            "overflow_y": null,
            "overflow_x": null,
            "grid_auto_flow": null,
            "grid_area": null,
            "grid_template_columns": null,
            "flex": null,
            "_model_name": "LayoutModel",
            "justify_items": null,
            "grid_row": null,
            "max_height": null,
            "align_content": null,
            "visibility": null,
            "align_self": null,
            "height": null,
            "min_height": null,
            "padding": null,
            "grid_auto_rows": null,
            "grid_gap": null,
            "max_width": null,
            "order": null,
            "_view_module_version": "1.2.0",
            "grid_template_areas": null,
            "object_position": null,
            "object_fit": null,
            "grid_auto_columns": null,
            "margin": null,
            "display": null,
            "left": null
          }
        },
        "439311978986457781bd4e22acba9fd0": {
          "model_module": "@jupyter-widgets/controls",
          "model_name": "FloatProgressModel",
          "state": {
            "_view_name": "ProgressView",
            "style": "IPY_MODEL_7024aec9de8240d39fdb6fa477bdb23d",
            "_dom_classes": [],
            "description": "Tokenizing: 100%",
            "_model_name": "FloatProgressModel",
            "bar_style": "success",
            "max": 21,
            "_view_module": "@jupyter-widgets/controls",
            "_model_module_version": "1.5.0",
            "value": 21,
            "_view_count": null,
            "_view_module_version": "1.5.0",
            "orientation": "horizontal",
            "min": 0,
            "description_tooltip": null,
            "_model_module": "@jupyter-widgets/controls",
            "layout": "IPY_MODEL_992e9e547a824562bf800aa41bdeb24b"
          }
        },
        "8f5acc128a004675b6a4346d5bb3aea9": {
          "model_module": "@jupyter-widgets/controls",
          "model_name": "HTMLModel",
          "state": {
            "_view_name": "HTMLView",
            "style": "IPY_MODEL_b8238e56ca574dd8b6b3099595d8ca32",
            "_dom_classes": [],
            "description": "",
            "_model_name": "HTMLModel",
            "placeholder": "​",
            "_view_module": "@jupyter-widgets/controls",
            "_model_module_version": "1.5.0",
            "value": " 21/21 [00:00&lt;00:00, 113.87it/s]",
            "_view_count": null,
            "_view_module_version": "1.5.0",
            "description_tooltip": null,
            "_model_module": "@jupyter-widgets/controls",
            "layout": "IPY_MODEL_ff1071d3f8734c118ceccedb508380d1"
          }
        },
        "7024aec9de8240d39fdb6fa477bdb23d": {
          "model_module": "@jupyter-widgets/controls",
          "model_name": "ProgressStyleModel",
          "state": {
            "_view_name": "StyleView",
            "_model_name": "ProgressStyleModel",
            "description_width": "initial",
            "_view_module": "@jupyter-widgets/base",
            "_model_module_version": "1.5.0",
            "_view_count": null,
            "_view_module_version": "1.2.0",
            "bar_color": null,
            "_model_module": "@jupyter-widgets/controls"
          }
        },
        "992e9e547a824562bf800aa41bdeb24b": {
          "model_module": "@jupyter-widgets/base",
          "model_name": "LayoutModel",
          "state": {
            "_view_name": "LayoutView",
            "grid_template_rows": null,
            "right": null,
            "justify_content": null,
            "_view_module": "@jupyter-widgets/base",
            "overflow": null,
            "_model_module_version": "1.2.0",
            "_view_count": null,
            "flex_flow": null,
            "width": null,
            "min_width": null,
            "border": null,
            "align_items": null,
            "bottom": null,
            "_model_module": "@jupyter-widgets/base",
            "top": null,
            "grid_column": null,
            "overflow_y": null,
            "overflow_x": null,
            "grid_auto_flow": null,
            "grid_area": null,
            "grid_template_columns": null,
            "flex": null,
            "_model_name": "LayoutModel",
            "justify_items": null,
            "grid_row": null,
            "max_height": null,
            "align_content": null,
            "visibility": null,
            "align_self": null,
            "height": null,
            "min_height": null,
            "padding": null,
            "grid_auto_rows": null,
            "grid_gap": null,
            "max_width": null,
            "order": null,
            "_view_module_version": "1.2.0",
            "grid_template_areas": null,
            "object_position": null,
            "object_fit": null,
            "grid_auto_columns": null,
            "margin": null,
            "display": null,
            "left": null
          }
        },
        "b8238e56ca574dd8b6b3099595d8ca32": {
          "model_module": "@jupyter-widgets/controls",
          "model_name": "DescriptionStyleModel",
          "state": {
            "_view_name": "StyleView",
            "_model_name": "DescriptionStyleModel",
            "description_width": "",
            "_view_module": "@jupyter-widgets/base",
            "_model_module_version": "1.5.0",
            "_view_count": null,
            "_view_module_version": "1.2.0",
            "_model_module": "@jupyter-widgets/controls"
          }
        },
        "ff1071d3f8734c118ceccedb508380d1": {
          "model_module": "@jupyter-widgets/base",
          "model_name": "LayoutModel",
          "state": {
            "_view_name": "LayoutView",
            "grid_template_rows": null,
            "right": null,
            "justify_content": null,
            "_view_module": "@jupyter-widgets/base",
            "overflow": null,
            "_model_module_version": "1.2.0",
            "_view_count": null,
            "flex_flow": null,
            "width": null,
            "min_width": null,
            "border": null,
            "align_items": null,
            "bottom": null,
            "_model_module": "@jupyter-widgets/base",
            "top": null,
            "grid_column": null,
            "overflow_y": null,
            "overflow_x": null,
            "grid_auto_flow": null,
            "grid_area": null,
            "grid_template_columns": null,
            "flex": null,
            "_model_name": "LayoutModel",
            "justify_items": null,
            "grid_row": null,
            "max_height": null,
            "align_content": null,
            "visibility": null,
            "align_self": null,
            "height": null,
            "min_height": null,
            "padding": null,
            "grid_auto_rows": null,
            "grid_gap": null,
            "max_width": null,
            "order": null,
            "_view_module_version": "1.2.0",
            "grid_template_areas": null,
            "object_position": null,
            "object_fit": null,
            "grid_auto_columns": null,
            "margin": null,
            "display": null,
            "left": null
          }
        },
        "a9572f721ae944f0b2ac4823f5afbeda": {
          "model_module": "@jupyter-widgets/controls",
          "model_name": "HBoxModel",
          "state": {
            "_view_name": "HBoxView",
            "_dom_classes": [],
            "_model_name": "HBoxModel",
            "_view_module": "@jupyter-widgets/controls",
            "_model_module_version": "1.5.0",
            "_view_count": null,
            "_view_module_version": "1.5.0",
            "box_style": "",
            "layout": "IPY_MODEL_1a2d2fbd8c0843ed95507e79b89d77cc",
            "_model_module": "@jupyter-widgets/controls",
            "children": [
              "IPY_MODEL_9a51a8c778a64727bf6cc10921629bfa",
              "IPY_MODEL_2f72ca83cd614ab8b13e2885317bf228"
            ]
          }
        },
        "1a2d2fbd8c0843ed95507e79b89d77cc": {
          "model_module": "@jupyter-widgets/base",
          "model_name": "LayoutModel",
          "state": {
            "_view_name": "LayoutView",
            "grid_template_rows": null,
            "right": null,
            "justify_content": null,
            "_view_module": "@jupyter-widgets/base",
            "overflow": null,
            "_model_module_version": "1.2.0",
            "_view_count": null,
            "flex_flow": null,
            "width": null,
            "min_width": null,
            "border": null,
            "align_items": null,
            "bottom": null,
            "_model_module": "@jupyter-widgets/base",
            "top": null,
            "grid_column": null,
            "overflow_y": null,
            "overflow_x": null,
            "grid_auto_flow": null,
            "grid_area": null,
            "grid_template_columns": null,
            "flex": null,
            "_model_name": "LayoutModel",
            "justify_items": null,
            "grid_row": null,
            "max_height": null,
            "align_content": null,
            "visibility": null,
            "align_self": null,
            "height": null,
            "min_height": null,
            "padding": null,
            "grid_auto_rows": null,
            "grid_gap": null,
            "max_width": null,
            "order": null,
            "_view_module_version": "1.2.0",
            "grid_template_areas": null,
            "object_position": null,
            "object_fit": null,
            "grid_auto_columns": null,
            "margin": null,
            "display": null,
            "left": null
          }
        },
        "9a51a8c778a64727bf6cc10921629bfa": {
          "model_module": "@jupyter-widgets/controls",
          "model_name": "FloatProgressModel",
          "state": {
            "_view_name": "ProgressView",
            "style": "IPY_MODEL_4b50c7faf0e04ad09767dc4f7e5754b7",
            "_dom_classes": [],
            "description": "Downloading: 100%",
            "_model_name": "FloatProgressModel",
            "bar_style": "success",
            "max": 501200538,
            "_view_module": "@jupyter-widgets/controls",
            "_model_module_version": "1.5.0",
            "value": 501200538,
            "_view_count": null,
            "_view_module_version": "1.5.0",
            "orientation": "horizontal",
            "min": 0,
            "description_tooltip": null,
            "_model_module": "@jupyter-widgets/controls",
            "layout": "IPY_MODEL_c59220931cd548b5b579961e0cbd3a56"
          }
        },
        "2f72ca83cd614ab8b13e2885317bf228": {
          "model_module": "@jupyter-widgets/controls",
          "model_name": "HTMLModel",
          "state": {
            "_view_name": "HTMLView",
            "style": "IPY_MODEL_eb6a5e2710f246f2bbc41b62d2f85a68",
            "_dom_classes": [],
            "description": "",
            "_model_name": "HTMLModel",
            "placeholder": "​",
            "_view_module": "@jupyter-widgets/controls",
            "_model_module_version": "1.5.0",
            "value": " 501M/501M [00:15&lt;00:00, 31.4MB/s]",
            "_view_count": null,
            "_view_module_version": "1.5.0",
            "description_tooltip": null,
            "_model_module": "@jupyter-widgets/controls",
            "layout": "IPY_MODEL_c0c0a53e5808476bb6b1f7b1980413bb"
          }
        },
        "4b50c7faf0e04ad09767dc4f7e5754b7": {
          "model_module": "@jupyter-widgets/controls",
          "model_name": "ProgressStyleModel",
          "state": {
            "_view_name": "StyleView",
            "_model_name": "ProgressStyleModel",
            "description_width": "initial",
            "_view_module": "@jupyter-widgets/base",
            "_model_module_version": "1.5.0",
            "_view_count": null,
            "_view_module_version": "1.2.0",
            "bar_color": null,
            "_model_module": "@jupyter-widgets/controls"
          }
        },
        "c59220931cd548b5b579961e0cbd3a56": {
          "model_module": "@jupyter-widgets/base",
          "model_name": "LayoutModel",
          "state": {
            "_view_name": "LayoutView",
            "grid_template_rows": null,
            "right": null,
            "justify_content": null,
            "_view_module": "@jupyter-widgets/base",
            "overflow": null,
            "_model_module_version": "1.2.0",
            "_view_count": null,
            "flex_flow": null,
            "width": null,
            "min_width": null,
            "border": null,
            "align_items": null,
            "bottom": null,
            "_model_module": "@jupyter-widgets/base",
            "top": null,
            "grid_column": null,
            "overflow_y": null,
            "overflow_x": null,
            "grid_auto_flow": null,
            "grid_area": null,
            "grid_template_columns": null,
            "flex": null,
            "_model_name": "LayoutModel",
            "justify_items": null,
            "grid_row": null,
            "max_height": null,
            "align_content": null,
            "visibility": null,
            "align_self": null,
            "height": null,
            "min_height": null,
            "padding": null,
            "grid_auto_rows": null,
            "grid_gap": null,
            "max_width": null,
            "order": null,
            "_view_module_version": "1.2.0",
            "grid_template_areas": null,
            "object_position": null,
            "object_fit": null,
            "grid_auto_columns": null,
            "margin": null,
            "display": null,
            "left": null
          }
        },
        "eb6a5e2710f246f2bbc41b62d2f85a68": {
          "model_module": "@jupyter-widgets/controls",
          "model_name": "DescriptionStyleModel",
          "state": {
            "_view_name": "StyleView",
            "_model_name": "DescriptionStyleModel",
            "description_width": "",
            "_view_module": "@jupyter-widgets/base",
            "_model_module_version": "1.5.0",
            "_view_count": null,
            "_view_module_version": "1.2.0",
            "_model_module": "@jupyter-widgets/controls"
          }
        },
        "c0c0a53e5808476bb6b1f7b1980413bb": {
          "model_module": "@jupyter-widgets/base",
          "model_name": "LayoutModel",
          "state": {
            "_view_name": "LayoutView",
            "grid_template_rows": null,
            "right": null,
            "justify_content": null,
            "_view_module": "@jupyter-widgets/base",
            "overflow": null,
            "_model_module_version": "1.2.0",
            "_view_count": null,
            "flex_flow": null,
            "width": null,
            "min_width": null,
            "border": null,
            "align_items": null,
            "bottom": null,
            "_model_module": "@jupyter-widgets/base",
            "top": null,
            "grid_column": null,
            "overflow_y": null,
            "overflow_x": null,
            "grid_auto_flow": null,
            "grid_area": null,
            "grid_template_columns": null,
            "flex": null,
            "_model_name": "LayoutModel",
            "justify_items": null,
            "grid_row": null,
            "max_height": null,
            "align_content": null,
            "visibility": null,
            "align_self": null,
            "height": null,
            "min_height": null,
            "padding": null,
            "grid_auto_rows": null,
            "grid_gap": null,
            "max_width": null,
            "order": null,
            "_view_module_version": "1.2.0",
            "grid_template_areas": null,
            "object_position": null,
            "object_fit": null,
            "grid_auto_columns": null,
            "margin": null,
            "display": null,
            "left": null
          }
        }
      }
    }
  },
  "cells": [
    {
      "cell_type": "markdown",
      "metadata": {
        "id": "Ydn1RkgqV33e"
      },
      "source": [
        "# **Probing Tasks - How Does BERT Answer Questions?**\n",
        "In this notebook, we will carry out the following badges:\n",
        "\n",
        "**0.** implement the `jiant`'s pipeline: \n",
        "\n",
        "**1.**   reproduce the probing tasks: (with bert-base and bert-finetuned)\n",
        "  *   NEL, REL, COREF on the Ontonotes dataset\n",
        "  *   QUES on TREC-10 dataset\n",
        "  *   SUP on the Squad dataset\n",
        "  *   SUP on the Babi dataset\n",
        "  *   ~~SUP on the Hotpot dataset~~: *We don't do this probing task because for this task we need to train bert-large. It might take very long time to train.*\n",
        "\n",
        "**2.**   experiment with BERT base uncased trained on Adversarial dataset\n",
        "\n",
        "**3.**   experiment with Roberta-base model on a task\n",
        "\n"
      ]
    },
    {
      "cell_type": "markdown",
      "metadata": {
        "id": "U1iV-pKNjJDS"
      },
      "source": [
        "# **0. Implement `jiant's` pipeline**\n",
        "\n",
        "---\n",
        "\n"
      ]
    },
    {
      "cell_type": "markdown",
      "metadata": {
        "id": "HPmDe-byoi4q"
      },
      "source": [
        "`jiant` has a new training pipeline to facilitate modern experimental workflows (see report). For further use, we implement a convenient method to complete the whole pipeline and to train the model on probing task."
      ]
    },
    {
      "cell_type": "markdown",
      "metadata": {
        "id": "Yg6j-eMFjv_T"
      },
      "source": [
        "## **0.1 Use modified `jiant` library**\n",
        "We modified some codes of the [original jiant library](https://github.com/nyu-mll/jiant) in order to achieve our desired functions that aren't supported by `jiant` e.g probing each layer. For more details please see our pdf report.\n",
        "\n",
        "First, we will clone the modified jiant and install libraries we need for this code."
      ]
    },
    {
      "cell_type": "code",
      "metadata": {
        "colab": {
          "base_uri": "https://localhost:8080/",
          "height": 0
        },
        "id": "6oaJe7PeGpDE",
        "outputId": "83d14434-f8a0-45e9-e1e4-d2801fb49375"
      },
      "source": [
        "!git clone https://github.com/SwiftPredator/How-Does-Bert-Answer-QA-DLP2021.git\n",
        "\n",
        "# copy the modified jiant lib to the /content/\n",
        "!mv \"/content/How-Does-Bert-Answer-QA-DLP2021/src/probing-tasks/jiant\" \"/content/\"\n",
        "\n",
        "%cd jiant\n",
        "!pip install -r requirements-no-torch.txt\n",
        "!pip install --no-deps -e ./\n",
        "!pip install gdown  # lib to download file from googlde drive link"
      ],
      "execution_count": 1,
      "outputs": [
        {
          "output_type": "stream",
          "text": [
            "Cloning into 'How-Does-Bert-Answer-QA-DLP2021'...\n",
            "remote: Enumerating objects: 1494, done.\u001b[K\n",
            "remote: Counting objects: 100% (130/130), done.\u001b[K\n",
            "remote: Compressing objects: 100% (94/94), done.\u001b[K\n",
            "remote: Total 1494 (delta 66), reused 78 (delta 33), pack-reused 1364\u001b[K\n",
            "Receiving objects: 100% (1494/1494), 164.54 MiB | 19.26 MiB/s, done.\n",
            "Resolving deltas: 100% (731/731), done.\n",
            "Checking out files: 100% (467/467), done.\n",
            "/content/jiant\n",
            "Collecting attrs==19.3.0\n",
            "  Downloading attrs-19.3.0-py2.py3-none-any.whl (39 kB)\n",
            "Requirement already satisfied: bs4==0.0.1 in /usr/local/lib/python3.7/dist-packages (from -r requirements-no-torch.txt (line 2)) (0.0.1)\n",
            "Collecting jsonnet==0.15.0\n",
            "  Downloading jsonnet-0.15.0.tar.gz (255 kB)\n",
            "\u001b[K     |████████████████████████████████| 255 kB 5.3 MB/s \n",
            "\u001b[?25hCollecting lxml==4.6.3\n",
            "  Downloading lxml-4.6.3-cp37-cp37m-manylinux2014_x86_64.whl (6.3 MB)\n",
            "\u001b[K     |████████████████████████████████| 6.3 MB 8.3 MB/s \n",
            "\u001b[?25hCollecting datasets==1.1.2\n",
            "  Downloading datasets-1.1.2-py3-none-any.whl (147 kB)\n",
            "\u001b[K     |████████████████████████████████| 147 kB 51.3 MB/s \n",
            "\u001b[?25hCollecting nltk>=3.5\n",
            "  Downloading nltk-3.6.2-py3-none-any.whl (1.5 MB)\n",
            "\u001b[K     |████████████████████████████████| 1.5 MB 50.1 MB/s \n",
            "\u001b[?25hCollecting numexpr==2.7.1\n",
            "  Downloading numexpr-2.7.1-cp37-cp37m-manylinux1_x86_64.whl (162 kB)\n",
            "\u001b[K     |████████████████████████████████| 162 kB 48.0 MB/s \n",
            "\u001b[?25hCollecting numpy==1.18.4\n",
            "  Downloading numpy-1.18.4-cp37-cp37m-manylinux1_x86_64.whl (20.2 MB)\n",
            "\u001b[K     |████████████████████████████████| 20.2 MB 1.9 MB/s \n",
            "\u001b[?25hCollecting pandas==1.0.3\n",
            "  Downloading pandas-1.0.3-cp37-cp37m-manylinux1_x86_64.whl (10.0 MB)\n",
            "\u001b[K     |████████████████████████████████| 10.0 MB 47.2 MB/s \n",
            "\u001b[?25hCollecting python-Levenshtein==0.12.0\n",
            "  Downloading python-Levenshtein-0.12.0.tar.gz (48 kB)\n",
            "\u001b[K     |████████████████████████████████| 48 kB 4.3 MB/s \n",
            "\u001b[?25hCollecting sacremoses==0.0.43\n",
            "  Downloading sacremoses-0.0.43.tar.gz (883 kB)\n",
            "\u001b[K     |████████████████████████████████| 883 kB 35.6 MB/s \n",
            "\u001b[?25hCollecting seqeval==0.0.12\n",
            "  Downloading seqeval-0.0.12.tar.gz (21 kB)\n",
            "Requirement already satisfied: scikit-learn==0.22.2.post1 in /usr/local/lib/python3.7/dist-packages (from -r requirements-no-torch.txt (line 13)) (0.22.2.post1)\n",
            "Requirement already satisfied: scipy==1.4.1 in /usr/local/lib/python3.7/dist-packages (from -r requirements-no-torch.txt (line 14)) (1.4.1)\n",
            "Collecting sentencepiece==0.1.91\n",
            "  Downloading sentencepiece-0.1.91-cp37-cp37m-manylinux1_x86_64.whl (1.1 MB)\n",
            "\u001b[K     |████████████████████████████████| 1.1 MB 49.8 MB/s \n",
            "\u001b[?25hCollecting tokenizers==0.10.1\n",
            "  Downloading tokenizers-0.10.1-cp37-cp37m-manylinux2010_x86_64.whl (3.2 MB)\n",
            "\u001b[K     |████████████████████████████████| 3.2 MB 48.0 MB/s \n",
            "\u001b[?25hCollecting tqdm==4.46.0\n",
            "  Downloading tqdm-4.46.0-py2.py3-none-any.whl (63 kB)\n",
            "\u001b[K     |████████████████████████████████| 63 kB 2.2 MB/s \n",
            "\u001b[?25hCollecting transformers==4.5.0\n",
            "  Downloading transformers-4.5.0-py3-none-any.whl (2.1 MB)\n",
            "\u001b[K     |████████████████████████████████| 2.1 MB 63.9 MB/s \n",
            "\u001b[?25hRequirement already satisfied: beautifulsoup4 in /usr/local/lib/python3.7/dist-packages (from bs4==0.0.1->-r requirements-no-torch.txt (line 2)) (4.6.3)\n",
            "Requirement already satisfied: pyarrow>=0.17.1 in /usr/local/lib/python3.7/dist-packages (from datasets==1.1.2->-r requirements-no-torch.txt (line 5)) (3.0.0)\n",
            "Requirement already satisfied: requests>=2.19.0 in /usr/local/lib/python3.7/dist-packages (from datasets==1.1.2->-r requirements-no-torch.txt (line 5)) (2.23.0)\n",
            "Requirement already satisfied: filelock in /usr/local/lib/python3.7/dist-packages (from datasets==1.1.2->-r requirements-no-torch.txt (line 5)) (3.0.12)\n",
            "Requirement already satisfied: multiprocess in /usr/local/lib/python3.7/dist-packages (from datasets==1.1.2->-r requirements-no-torch.txt (line 5)) (0.70.12.2)\n",
            "Collecting xxhash\n",
            "  Downloading xxhash-2.0.2-cp37-cp37m-manylinux2010_x86_64.whl (243 kB)\n",
            "\u001b[K     |████████████████████████████████| 243 kB 60.0 MB/s \n",
            "\u001b[?25hRequirement already satisfied: dill in /usr/local/lib/python3.7/dist-packages (from datasets==1.1.2->-r requirements-no-torch.txt (line 5)) (0.3.4)\n",
            "Requirement already satisfied: python-dateutil>=2.6.1 in /usr/local/lib/python3.7/dist-packages (from pandas==1.0.3->-r requirements-no-torch.txt (line 9)) (2.8.1)\n",
            "Requirement already satisfied: pytz>=2017.2 in /usr/local/lib/python3.7/dist-packages (from pandas==1.0.3->-r requirements-no-torch.txt (line 9)) (2018.9)\n",
            "Requirement already satisfied: setuptools in /usr/local/lib/python3.7/dist-packages (from python-Levenshtein==0.12.0->-r requirements-no-torch.txt (line 10)) (57.2.0)\n",
            "Requirement already satisfied: regex in /usr/local/lib/python3.7/dist-packages (from sacremoses==0.0.43->-r requirements-no-torch.txt (line 11)) (2019.12.20)\n",
            "Requirement already satisfied: six in /usr/local/lib/python3.7/dist-packages (from sacremoses==0.0.43->-r requirements-no-torch.txt (line 11)) (1.15.0)\n",
            "Requirement already satisfied: click in /usr/local/lib/python3.7/dist-packages (from sacremoses==0.0.43->-r requirements-no-torch.txt (line 11)) (7.1.2)\n",
            "Requirement already satisfied: joblib in /usr/local/lib/python3.7/dist-packages (from sacremoses==0.0.43->-r requirements-no-torch.txt (line 11)) (1.0.1)\n",
            "Requirement already satisfied: Keras>=2.2.4 in /usr/local/lib/python3.7/dist-packages (from seqeval==0.0.12->-r requirements-no-torch.txt (line 12)) (2.4.3)\n",
            "Requirement already satisfied: packaging in /usr/local/lib/python3.7/dist-packages (from transformers==4.5.0->-r requirements-no-torch.txt (line 18)) (21.0)\n",
            "Requirement already satisfied: importlib-metadata in /usr/local/lib/python3.7/dist-packages (from transformers==4.5.0->-r requirements-no-torch.txt (line 18)) (4.6.1)\n",
            "Requirement already satisfied: pyyaml in /usr/local/lib/python3.7/dist-packages (from Keras>=2.2.4->seqeval==0.0.12->-r requirements-no-torch.txt (line 12)) (3.13)\n",
            "Requirement already satisfied: h5py in /usr/local/lib/python3.7/dist-packages (from Keras>=2.2.4->seqeval==0.0.12->-r requirements-no-torch.txt (line 12)) (3.1.0)\n",
            "Requirement already satisfied: chardet<4,>=3.0.2 in /usr/local/lib/python3.7/dist-packages (from requests>=2.19.0->datasets==1.1.2->-r requirements-no-torch.txt (line 5)) (3.0.4)\n",
            "Requirement already satisfied: urllib3!=1.25.0,!=1.25.1,<1.26,>=1.21.1 in /usr/local/lib/python3.7/dist-packages (from requests>=2.19.0->datasets==1.1.2->-r requirements-no-torch.txt (line 5)) (1.24.3)\n",
            "Requirement already satisfied: idna<3,>=2.5 in /usr/local/lib/python3.7/dist-packages (from requests>=2.19.0->datasets==1.1.2->-r requirements-no-torch.txt (line 5)) (2.10)\n",
            "Requirement already satisfied: certifi>=2017.4.17 in /usr/local/lib/python3.7/dist-packages (from requests>=2.19.0->datasets==1.1.2->-r requirements-no-torch.txt (line 5)) (2021.5.30)\n",
            "Requirement already satisfied: cached-property in /usr/local/lib/python3.7/dist-packages (from h5py->Keras>=2.2.4->seqeval==0.0.12->-r requirements-no-torch.txt (line 12)) (1.5.2)\n",
            "Requirement already satisfied: zipp>=0.5 in /usr/local/lib/python3.7/dist-packages (from importlib-metadata->transformers==4.5.0->-r requirements-no-torch.txt (line 18)) (3.5.0)\n",
            "Requirement already satisfied: typing-extensions>=3.6.4 in /usr/local/lib/python3.7/dist-packages (from importlib-metadata->transformers==4.5.0->-r requirements-no-torch.txt (line 18)) (3.7.4.3)\n",
            "Requirement already satisfied: pyparsing>=2.0.2 in /usr/local/lib/python3.7/dist-packages (from packaging->transformers==4.5.0->-r requirements-no-torch.txt (line 18)) (2.4.7)\n",
            "\u001b[33mWARNING: The candidate selected for download or install is a yanked version: 'python-levenshtein' candidate (version 0.12.0 at https://files.pythonhosted.org/packages/42/a9/d1785c85ebf9b7dfacd08938dd028209c34a0ea3b1bcdb895208bd40a67d/python-Levenshtein-0.12.0.tar.gz#sha256=033a11de5e3d19ea25c9302d11224e1a1898fe5abd23c61c7c360c25195e3eb1 (from https://pypi.org/simple/python-levenshtein/))\n",
            "Reason for being yanked: Insecure, upgrade to 0.12.1\u001b[0m\n",
            "Building wheels for collected packages: jsonnet, python-Levenshtein, sacremoses, seqeval\n",
            "  Building wheel for jsonnet (setup.py) ... \u001b[?25l\u001b[?25hdone\n",
            "  Created wheel for jsonnet: filename=jsonnet-0.15.0-cp37-cp37m-linux_x86_64.whl size=3320405 sha256=faf51e274bdd919ff60b4267f7d3b0bbf3e14329700d5389e75b710f7cc88578\n",
            "  Stored in directory: /root/.cache/pip/wheels/21/01/e4/6fabcb0c191f51e98452f2af6cb2086f0f1cec94a2c0ce9948\n",
            "  Building wheel for python-Levenshtein (setup.py) ... \u001b[?25l\u001b[?25hdone\n",
            "  Created wheel for python-Levenshtein: filename=python_Levenshtein-0.12.0-cp37-cp37m-linux_x86_64.whl size=145915 sha256=bfcd5722b2e783ac01e1ff982faf2da29c695b8800b5624cf3f61732556378dd\n",
            "  Stored in directory: /root/.cache/pip/wheels/f0/9b/13/49c281164c37be18343230d3cd0fca29efb23a493351db0009\n",
            "  Building wheel for sacremoses (setup.py) ... \u001b[?25l\u001b[?25hdone\n",
            "  Created wheel for sacremoses: filename=sacremoses-0.0.43-py3-none-any.whl size=893251 sha256=3d7321dffb5e02db1a893be4999eaad6d0f32f57b804ec8b375c7ce61a94dd05\n",
            "  Stored in directory: /root/.cache/pip/wheels/69/09/d1/bf058f7d6fa0ecba2ce7c66be3b8d012beb4bf61a6e0c101c0\n",
            "  Building wheel for seqeval (setup.py) ... \u001b[?25l\u001b[?25hdone\n",
            "  Created wheel for seqeval: filename=seqeval-0.0.12-py3-none-any.whl size=7434 sha256=b862ed9529c0bf8a62a26384b4e07ca4b1007f3409a7cc71ad75e640f04a1ed3\n",
            "  Stored in directory: /root/.cache/pip/wheels/dc/cc/62/a3b81f92d35a80e39eb9b2a9d8b31abac54c02b21b2d466edc\n",
            "Successfully built jsonnet python-Levenshtein sacremoses seqeval\n",
            "Installing collected packages: numpy, tqdm, xxhash, tokenizers, sacremoses, pandas, transformers, seqeval, sentencepiece, python-Levenshtein, numexpr, nltk, lxml, jsonnet, datasets, attrs\n",
            "  Attempting uninstall: numpy\n",
            "    Found existing installation: numpy 1.19.5\n",
            "    Uninstalling numpy-1.19.5:\n",
            "      Successfully uninstalled numpy-1.19.5\n",
            "  Attempting uninstall: tqdm\n",
            "    Found existing installation: tqdm 4.41.1\n",
            "    Uninstalling tqdm-4.41.1:\n",
            "      Successfully uninstalled tqdm-4.41.1\n",
            "  Attempting uninstall: pandas\n",
            "    Found existing installation: pandas 1.1.5\n",
            "    Uninstalling pandas-1.1.5:\n",
            "      Successfully uninstalled pandas-1.1.5\n",
            "  Attempting uninstall: numexpr\n",
            "    Found existing installation: numexpr 2.7.3\n",
            "    Uninstalling numexpr-2.7.3:\n",
            "      Successfully uninstalled numexpr-2.7.3\n",
            "  Attempting uninstall: nltk\n",
            "    Found existing installation: nltk 3.2.5\n",
            "    Uninstalling nltk-3.2.5:\n",
            "      Successfully uninstalled nltk-3.2.5\n",
            "  Attempting uninstall: lxml\n",
            "    Found existing installation: lxml 4.2.6\n",
            "    Uninstalling lxml-4.2.6:\n",
            "      Successfully uninstalled lxml-4.2.6\n",
            "  Attempting uninstall: attrs\n",
            "    Found existing installation: attrs 21.2.0\n",
            "    Uninstalling attrs-21.2.0:\n",
            "      Successfully uninstalled attrs-21.2.0\n",
            "\u001b[31mERROR: pip's dependency resolver does not currently take into account all the packages that are installed. This behaviour is the source of the following dependency conflicts.\n",
            "tensorflow 2.5.0 requires numpy~=1.19.2, but you have numpy 1.18.4 which is incompatible.\n",
            "kapre 0.3.5 requires numpy>=1.18.5, but you have numpy 1.18.4 which is incompatible.\n",
            "google-colab 1.0.0 requires pandas~=1.1.0; python_version >= \"3.0\", but you have pandas 1.0.3 which is incompatible.\n",
            "fbprophet 0.7.1 requires pandas>=1.0.4, but you have pandas 1.0.3 which is incompatible.\n",
            "datascience 0.10.6 requires folium==0.2.1, but you have folium 0.8.3 which is incompatible.\n",
            "albumentations 0.1.12 requires imgaug<0.2.7,>=0.2.5, but you have imgaug 0.2.9 which is incompatible.\u001b[0m\n",
            "Successfully installed attrs-19.3.0 datasets-1.1.2 jsonnet-0.15.0 lxml-4.6.3 nltk-3.6.2 numexpr-2.7.1 numpy-1.18.4 pandas-1.0.3 python-Levenshtein-0.12.0 sacremoses-0.0.43 sentencepiece-0.1.91 seqeval-0.0.12 tokenizers-0.10.1 tqdm-4.46.0 transformers-4.5.0 xxhash-2.0.2\n"
          ],
          "name": "stdout"
        },
        {
          "output_type": "display_data",
          "data": {
            "application/vnd.colab-display-data+json": {
              "pip_warning": {
                "packages": [
                  "numpy",
                  "pandas"
                ]
              }
            }
          },
          "metadata": {
            "tags": []
          }
        },
        {
          "output_type": "stream",
          "text": [
            "Obtaining file:///content/jiant\n",
            "  Installing build dependencies ... \u001b[?25l\u001b[?25hdone\n",
            "  Getting requirements to build wheel ... \u001b[?25l\u001b[?25hdone\n",
            "    Preparing wheel metadata ... \u001b[?25l\u001b[?25hdone\n",
            "Installing collected packages: jiant\n",
            "  Running setup.py develop for jiant\n",
            "Successfully installed jiant\n",
            "Requirement already satisfied: gdown in /usr/local/lib/python3.7/dist-packages (3.6.4)\n",
            "Requirement already satisfied: requests in /usr/local/lib/python3.7/dist-packages (from gdown) (2.23.0)\n",
            "Requirement already satisfied: six in /usr/local/lib/python3.7/dist-packages (from gdown) (1.15.0)\n",
            "Requirement already satisfied: tqdm in /usr/local/lib/python3.7/dist-packages (from gdown) (4.46.0)\n",
            "Requirement already satisfied: chardet<4,>=3.0.2 in /usr/local/lib/python3.7/dist-packages (from requests->gdown) (3.0.4)\n",
            "Requirement already satisfied: idna<3,>=2.5 in /usr/local/lib/python3.7/dist-packages (from requests->gdown) (2.10)\n",
            "Requirement already satisfied: urllib3!=1.25.0,!=1.25.1,<1.26,>=1.21.1 in /usr/local/lib/python3.7/dist-packages (from requests->gdown) (1.24.3)\n",
            "Requirement already satisfied: certifi>=2017.4.17 in /usr/local/lib/python3.7/dist-packages (from requests->gdown) (2021.5.30)\n"
          ],
          "name": "stdout"
        }
      ]
    },
    {
      "cell_type": "markdown",
      "metadata": {
        "id": "TkvpqthuQTZe"
      },
      "source": [
        "Restart runtime after installing libs"
      ]
    },
    {
      "cell_type": "markdown",
      "metadata": {
        "id": "OFXf-RICoEqh"
      },
      "source": [
        "## **0.2 Download Edge Probing data**\n",
        "After preprocessing and generating the Edge Probing data for all the tasks (see report for details), these data was uploaded to our github and will be used here. Next, we will create the corresponding task configs.\n",
        "\n",
        "Because the tasks QUES and SUP are not supported by jiant, we added new task QUES to the jiant library (see report). The task SUP has the same jiant format structure as COREF, therefore we will reuse the default COREF task in jiant to probe SUP task."
      ]
    },
    {
      "cell_type": "code",
      "metadata": {
        "colab": {
          "base_uri": "https://localhost:8080/"
        },
        "id": "1WptdOn-EsMA",
        "outputId": "8ebf64a2-746d-43e7-fa9c-02287663da79"
      },
      "source": [
        "%cd /content/jiant\n",
        "\n",
        "import jiant.utils.python.io as py_io\n",
        "import jiant.utils.display as display\n",
        "import os\n",
        "\n",
        "def init_task_config(task_name, size):\n",
        "  jiant_task = task_name\n",
        "  if(task_name == \"sup-squad\" or task_name == \"sup-babi\"):\n",
        "    jiant_task = \"coref\"  # use coref task to probe supporting facts task because of the analog structure of jiant EP json format\n",
        "\n",
        "  os.makedirs(\"/content/tasks/configs/\", exist_ok=True)\n",
        "  os.makedirs(f\"/content/tasks/data/{task_name}\", exist_ok=True)\n",
        "\n",
        "  py_io.write_json({\n",
        "    \"task\": jiant_task,\n",
        "    \"paths\": {\n",
        "      \"train\": f\"/content/tasks/data/{task_name}/{size}/train.jsonl\",\n",
        "      \"val\":   f\"/content/tasks/data/{task_name}/{size}/val.jsonl\",\n",
        "    },\n",
        "    \"name\": jiant_task\n",
        "  }, f\"/content/tasks/configs/{task_name}_config.json\")"
      ],
      "execution_count": 2,
      "outputs": [
        {
          "output_type": "stream",
          "text": [
            "/content/jiant\n"
          ],
          "name": "stdout"
        }
      ]
    },
    {
      "cell_type": "code",
      "metadata": {
        "id": "n0OVplH1gSFW"
      },
      "source": [
        "task_names = [\n",
        "              #\"ner\", \n",
        "              #\"semeval\", \n",
        "              \"coref\",    \n",
        "              #\"ques\" \n",
        "              #\"sup-squad\", \n",
        "              #\"sup-babi\",\n",
        "              #\"sup-hotpot\",\n",
        "             ]\n",
        "\n",
        "size = \"test\" # small, medium or big\n",
        "\n",
        "for task_name in task_names:\n",
        "  init_task_config(task_name, size)"
      ],
      "execution_count": 3,
      "outputs": []
    },
    {
      "cell_type": "code",
      "metadata": {
        "id": "Y6Y2zTi1JRtp"
      },
      "source": [
        "# copy the task data to the tasks folder created above\n",
        "!cp -r \"/content/How-Does-Bert-Answer-QA-DLP2021/src/probing-tasks/data\" \"/content/tasks\""
      ],
      "execution_count": 4,
      "outputs": []
    },
    {
      "cell_type": "markdown",
      "metadata": {
        "id": "4CZBFmqsr2A4"
      },
      "source": [
        "## **0.3 Download BERT models**\n",
        "Next, we download the models we want to train, for example a `bert-base-uncased` and a `bert-base-uncased-squad-v1` model\n",
        "\n"
      ]
    },
    {
      "cell_type": "code",
      "metadata": {
        "colab": {
          "base_uri": "https://localhost:8080/",
          "height": 646,
          "referenced_widgets": [
            "4c7bcbb43ca847aa9fd9cef61613c377",
            "608958f0bf24434abb4e5b14783f25d5",
            "f3bd44781f2d4eeeaf503da6b6fc51d4",
            "0218b88bbeee48b2b83f290ff9fe4c0e",
            "a652dcb481bc44d8b20664eaab27902f",
            "4b432cdb1be84ce79c6340c8f59c53c5",
            "a49a71651bbb477c98b1edad699d19f5",
            "e7fa837b9a1448c6b873e9e1ea48c86f",
            "4a758ee8992d43e2878ae4a9aadbdd91",
            "21efb4295686474a9b48b83a4229ed21",
            "112ea417a2854abc8cb0c954c4a21ffe",
            "576aa6658e7c4f3d8a0ca842dc1c61a3",
            "e69d2d51c1d9481594824d90392fd35e",
            "33eb20682fe54439837c1a8dfe043c79",
            "60c7319c63124883b0692f25e4642be0",
            "66292a2a12bb43b0add30cd633176cf2",
            "8af01736850b460689478c67100ca6b0",
            "154d5baf21634a3e80840d1295fd38d5",
            "077c3baca2da4973b7d2804fd2c51408",
            "85c21ffe4389419f8d2d6d3d903cf574",
            "78bebd2d6f88429e86283578d6fe6672",
            "75aafe55dbfc486db99784ae5900add7",
            "e05305ffbdfb4da68ffc511b6dff92e5",
            "1da0c4befae3419e8c55310315c70159",
            "d9556350784d411e8e4f5621d59dfdbb",
            "2069ee1be1a143b9b4761127565fc67f",
            "127728f654ea45de96bdd62d28a911a8",
            "7f6cec02b49e4d9b9038cf6f3b2f1a05",
            "5f2290d8eb6648a7a222fb2227eef3cd",
            "f768c75192bf42ae9334090b26d505d8",
            "a08b5172c62a4f33bb57408119cfa3f8",
            "8618d90b2f0f4c8aab3965ceb251cd46",
            "c0421f53f2ae474e86c18c4a4350b66a",
            "a31997e341c14cd4a552ab50dd355a17",
            "af05889343e14c48ba3822953d304114",
            "44709a79da4044e289dc29ee32beaeda",
            "930c490cd98149f28937babd0f0c8995",
            "fb4499df9a4e4c90aee2a2dcc5770f1d",
            "9535be3b9a9f4892b88714a0d105990b",
            "fc6d273846cc4ea787b6c9534e6d0182",
            "f6314decab164bbb97fce53af855d713",
            "5d85b936eadc4b6f81f9c7ee18943355",
            "545194b070804c138a045d841b111c89",
            "f11ce959db664092bd125b1402a70e9c",
            "90f8505fe3d446ef9fad40f557175b3b",
            "07f1698bbcda44cca29edd8d9429af84",
            "b089bcbf64614532959cbe18925f2ab2",
            "1686eb26f78142b0b1cdad212c76bced",
            "453f7003545743e1b008ab01e6233219",
            "550f370b79e146549d1adf0f25358745",
            "0b0ade4779b54d2688318b1559685b21",
            "5021505a9b794e11bfd12d39a2951b98",
            "d3c4327ac23c4f61ac694a066befcff5",
            "a58dd450eb3143dd8e226885f24b5ab3",
            "759a1682fc9741f28e28b13e5da3114a",
            "00562921832048bd8bd58764478e3117",
            "29977ec1ff50458dbbf983cd5cd4d80f",
            "23f55fdca3c04e2fa2742b6d86f7972f",
            "c4bcdc8c4f2e47c490aaee39acad3ed3",
            "f88b3225b2e04a24a4f53172961d55c7",
            "49261392b4334050a2e5b86b911dda04",
            "50d092810af0420bb0dd1889bd3001a9",
            "22108c6d5c7a464dbe40d395afb10a8a",
            "743df4bea15a4fc0bd6d82e01cc3583e",
            "cf661203e1ed4001bd8cd9eaff89c8b1",
            "0b73c96679f6422580a86e344f8e3dc2",
            "7bb33a22949047f194b71e4f330f7ed2",
            "17199783f0514699b944c66035f0fbfb",
            "d6b884fd4b19414197cc4927217e24bd",
            "5985974b973849ec9ad8efc326543ce9",
            "8755a9c440c84bc189d9e7ccc1dbbcc3",
            "bbb2fb070d3748708622e75899b97746",
            "4344484a3d1347dfa1ae633b089d9a1f",
            "03956378126c48dab0961e7e0211594d",
            "8919446caeef43cf8f5b59e29cb9b5ea",
            "d643c1387fbd4245aa6cf00d6929e0a9",
            "581cd9013f004a06bac55ea90d01fbad",
            "493b438ec2524fcca4e67db0d831af62",
            "a1baf6b1a47f4e7fa09b88f53b489768",
            "f1b239c161da46d08cef554f952b7f5e"
          ]
        },
        "id": "kICMJQvNllO6",
        "outputId": "03581915-06c4-4594-ff5e-e60be0ae6eeb"
      },
      "source": [
        "import jiant.proj.main.export_model as export_model\n",
        "\n",
        "models = [\n",
        "          \"bert-base-uncased\", \n",
        "          \"csarron/bert-base-uncased-squad-v1\"\n",
        "          ]\n",
        "\n",
        "for model in models:\n",
        "  export_model.export_model(\n",
        "      hf_pretrained_model_name_or_path=model,\n",
        "      output_base_path=f\"/content/models/{model}\",\n",
        "  )"
      ],
      "execution_count": 5,
      "outputs": [
        {
          "output_type": "display_data",
          "data": {
            "application/vnd.jupyter.widget-view+json": {
              "model_id": "4c7bcbb43ca847aa9fd9cef61613c377",
              "version_minor": 0,
              "version_major": 2
            },
            "text/plain": [
              "HBox(children=(FloatProgress(value=0.0, description='Downloading', max=570.0, style=ProgressStyle(description_…"
            ]
          },
          "metadata": {
            "tags": []
          }
        },
        {
          "output_type": "stream",
          "text": [
            "\n"
          ],
          "name": "stdout"
        },
        {
          "output_type": "display_data",
          "data": {
            "application/vnd.jupyter.widget-view+json": {
              "model_id": "4a758ee8992d43e2878ae4a9aadbdd91",
              "version_minor": 0,
              "version_major": 2
            },
            "text/plain": [
              "HBox(children=(FloatProgress(value=0.0, description='Downloading', max=440473133.0, style=ProgressStyle(descri…"
            ]
          },
          "metadata": {
            "tags": []
          }
        },
        {
          "output_type": "stream",
          "text": [
            "\n"
          ],
          "name": "stdout"
        },
        {
          "output_type": "stream",
          "text": [
            "Some weights of BertForPreTraining were not initialized from the model checkpoint at bert-base-uncased and are newly initialized: ['cls.predictions.decoder.bias']\n",
            "You should probably TRAIN this model on a down-stream task to be able to use it for predictions and inference.\n"
          ],
          "name": "stderr"
        },
        {
          "output_type": "display_data",
          "data": {
            "application/vnd.jupyter.widget-view+json": {
              "model_id": "8af01736850b460689478c67100ca6b0",
              "version_minor": 0,
              "version_major": 2
            },
            "text/plain": [
              "HBox(children=(FloatProgress(value=0.0, description='Downloading', max=231508.0, style=ProgressStyle(descripti…"
            ]
          },
          "metadata": {
            "tags": []
          }
        },
        {
          "output_type": "stream",
          "text": [
            "\n"
          ],
          "name": "stdout"
        },
        {
          "output_type": "display_data",
          "data": {
            "application/vnd.jupyter.widget-view+json": {
              "model_id": "d9556350784d411e8e4f5621d59dfdbb",
              "version_minor": 0,
              "version_major": 2
            },
            "text/plain": [
              "HBox(children=(FloatProgress(value=0.0, description='Downloading', max=28.0, style=ProgressStyle(description_w…"
            ]
          },
          "metadata": {
            "tags": []
          }
        },
        {
          "output_type": "stream",
          "text": [
            "\n"
          ],
          "name": "stdout"
        },
        {
          "output_type": "display_data",
          "data": {
            "application/vnd.jupyter.widget-view+json": {
              "model_id": "c0421f53f2ae474e86c18c4a4350b66a",
              "version_minor": 0,
              "version_major": 2
            },
            "text/plain": [
              "HBox(children=(FloatProgress(value=0.0, description='Downloading', max=466062.0, style=ProgressStyle(descripti…"
            ]
          },
          "metadata": {
            "tags": []
          }
        },
        {
          "output_type": "stream",
          "text": [
            "\n"
          ],
          "name": "stdout"
        },
        {
          "output_type": "display_data",
          "data": {
            "application/vnd.jupyter.widget-view+json": {
              "model_id": "f6314decab164bbb97fce53af855d713",
              "version_minor": 0,
              "version_major": 2
            },
            "text/plain": [
              "HBox(children=(FloatProgress(value=0.0, description='Downloading', max=477.0, style=ProgressStyle(description_…"
            ]
          },
          "metadata": {
            "tags": []
          }
        },
        {
          "output_type": "stream",
          "text": [
            "\n"
          ],
          "name": "stdout"
        },
        {
          "output_type": "display_data",
          "data": {
            "application/vnd.jupyter.widget-view+json": {
              "model_id": "453f7003545743e1b008ab01e6233219",
              "version_minor": 0,
              "version_major": 2
            },
            "text/plain": [
              "HBox(children=(FloatProgress(value=0.0, description='Downloading', max=437983344.0, style=ProgressStyle(descri…"
            ]
          },
          "metadata": {
            "tags": []
          }
        },
        {
          "output_type": "stream",
          "text": [
            "\n"
          ],
          "name": "stdout"
        },
        {
          "output_type": "stream",
          "text": [
            "Some weights of the model checkpoint at csarron/bert-base-uncased-squad-v1 were not used when initializing BertForPreTraining: ['qa_outputs.weight', 'qa_outputs.bias']\n",
            "- This IS expected if you are initializing BertForPreTraining from the checkpoint of a model trained on another task or with another architecture (e.g. initializing a BertForSequenceClassification model from a BertForPreTraining model).\n",
            "- This IS NOT expected if you are initializing BertForPreTraining from the checkpoint of a model that you expect to be exactly identical (initializing a BertForSequenceClassification model from a BertForSequenceClassification model).\n",
            "Some weights of BertForPreTraining were not initialized from the model checkpoint at csarron/bert-base-uncased-squad-v1 and are newly initialized: ['cls.predictions.bias', 'cls.predictions.transform.dense.weight', 'cls.predictions.transform.dense.bias', 'cls.predictions.transform.LayerNorm.weight', 'cls.predictions.transform.LayerNorm.bias', 'cls.predictions.decoder.weight', 'cls.predictions.decoder.bias', 'cls.seq_relationship.weight', 'cls.seq_relationship.bias']\n",
            "You should probably TRAIN this model on a down-stream task to be able to use it for predictions and inference.\n"
          ],
          "name": "stderr"
        },
        {
          "output_type": "display_data",
          "data": {
            "application/vnd.jupyter.widget-view+json": {
              "model_id": "29977ec1ff50458dbbf983cd5cd4d80f",
              "version_minor": 0,
              "version_major": 2
            },
            "text/plain": [
              "HBox(children=(FloatProgress(value=0.0, description='Downloading', max=231508.0, style=ProgressStyle(descripti…"
            ]
          },
          "metadata": {
            "tags": []
          }
        },
        {
          "output_type": "stream",
          "text": [
            "\n"
          ],
          "name": "stdout"
        },
        {
          "output_type": "display_data",
          "data": {
            "application/vnd.jupyter.widget-view+json": {
              "model_id": "cf661203e1ed4001bd8cd9eaff89c8b1",
              "version_minor": 0,
              "version_major": 2
            },
            "text/plain": [
              "HBox(children=(FloatProgress(value=0.0, description='Downloading', max=112.0, style=ProgressStyle(description_…"
            ]
          },
          "metadata": {
            "tags": []
          }
        },
        {
          "output_type": "stream",
          "text": [
            "\n"
          ],
          "name": "stdout"
        },
        {
          "output_type": "display_data",
          "data": {
            "application/vnd.jupyter.widget-view+json": {
              "model_id": "4344484a3d1347dfa1ae633b089d9a1f",
              "version_minor": 0,
              "version_major": 2
            },
            "text/plain": [
              "HBox(children=(FloatProgress(value=0.0, description='Downloading', max=48.0, style=ProgressStyle(description_w…"
            ]
          },
          "metadata": {
            "tags": []
          }
        },
        {
          "output_type": "stream",
          "text": [
            "\n"
          ],
          "name": "stdout"
        }
      ]
    },
    {
      "cell_type": "markdown",
      "metadata": {
        "id": "3I4NLR9HteB3"
      },
      "source": [
        "## **0.4 Tokenize and cache**\n",
        "With the model and data ready, we can now tokenize and cache the inputs features for our task. This converts the input examples to tokenized features ready to be consumed by the model, and saved them to disk in chunks."
      ]
    },
    {
      "cell_type": "code",
      "metadata": {
        "colab": {
          "base_uri": "https://localhost:8080/",
          "height": 315,
          "referenced_widgets": [
            "96342b0bceb14eca99d3469c361c1787",
            "1df9968d8c55443fbf4d87b1d099566e",
            "a317d3db0bf547cb9f732e25f25eddc2",
            "328aa01640a748318e37937a55bc0e74",
            "a81a7c9862f6442f91f8fdaf5250a997",
            "6a4ea60acb3d46089103a5fbb918b436",
            "d9df8d4a6d2245c78aa51f45d8aa1777",
            "2fd54572ebc64cc69b7b340ecb548e1e",
            "b9c2da975cc34f27849abae1b5623308",
            "90f5ed19314f482495b7469058a8e534",
            "31839acc1000425984af32549a992a84",
            "51a3a68ecec147329bbc2d9bda87aa6d",
            "95a2f965e0df4f75b42d23ee1349734d",
            "4f18af8570c74d1aab5669b61f9d5d87",
            "f47491efb5fe4033ad79a13cea1233b7",
            "4153eff89fc44910aa100b34928bcf00",
            "9ed28113a7db4dc8beb392dbb264c435",
            "6e0d57c98cde4aa281adf626d8ecfaae",
            "e4da4fe9639848b9a0e2b3406f292c9a",
            "c1e80ebc8fa84b7e86b862e26fa7f64f",
            "9df91804c8be489b94e95861835c13d9",
            "b85989889124428e88c3d845ad7f3f9c",
            "d811184f83e140d7abe3de5c84108c04",
            "35d4d27901d14723b72f750fdc8eaf3f",
            "c616489ec3b74e0896a105df4f0697f3",
            "3b64527f75fc40a1badd554b3d5e7858",
            "439311978986457781bd4e22acba9fd0",
            "8f5acc128a004675b6a4346d5bb3aea9",
            "7024aec9de8240d39fdb6fa477bdb23d",
            "992e9e547a824562bf800aa41bdeb24b",
            "b8238e56ca574dd8b6b3099595d8ca32",
            "ff1071d3f8734c118ceccedb508380d1"
          ]
        },
        "id": "wq2CmWcJRxK_",
        "outputId": "885adfa4-01ee-485a-bb18-d8fd412bd2ee"
      },
      "source": [
        "import jiant.shared.caching as caching\n",
        "import jiant.proj.main.tokenize_and_cache as tokenize_and_cache\n",
        "\n",
        "seq_length_options = {\n",
        "    \"ner\":        128, \n",
        "    \"semeval\":    128, \n",
        "    \"coref\":      128,\n",
        "    \"ques\":       128,     \n",
        "    \"sup-squad\":  384, \n",
        "    \"sup-babi\":   384,\n",
        "    \"sup-hotpot\": 384,\n",
        "}\n",
        "\n",
        "# Tokenize and cache each task\n",
        "def tokenize(task_name, model):\n",
        "    tokenize_and_cache.main(tokenize_and_cache.RunConfiguration(\n",
        "        task_config_path=f\"/content/tasks/configs/{task_name}_config.json\",\n",
        "        hf_pretrained_model_name_or_path=model,\n",
        "        output_dir=f\"/content/cache/{task_name}\",\n",
        "        phases=[\"train\", \"val\"],\n",
        "        max_seq_length=seq_length_options[task_name],\n",
        "    ))\n",
        "\n",
        "for task_name in task_names:\n",
        "  for model in models:\n",
        "    tokenize(task_name, model)"
      ],
      "execution_count": 6,
      "outputs": [
        {
          "output_type": "stream",
          "text": [
            "CorefTask\n",
            "  [train]: /content/tasks/data/coref/test/train.jsonl\n",
            "  [val]: /content/tasks/data/coref/test/val.jsonl\n"
          ],
          "name": "stdout"
        },
        {
          "output_type": "display_data",
          "data": {
            "application/vnd.jupyter.widget-view+json": {
              "model_id": "96342b0bceb14eca99d3469c361c1787",
              "version_minor": 0,
              "version_major": 2
            },
            "text/plain": [
              "HBox(children=(FloatProgress(value=0.0, description='Tokenizing', max=135.0, style=ProgressStyle(description_w…"
            ]
          },
          "metadata": {
            "tags": []
          }
        },
        {
          "output_type": "stream",
          "text": [
            "\n"
          ],
          "name": "stdout"
        },
        {
          "output_type": "display_data",
          "data": {
            "application/vnd.jupyter.widget-view+json": {
              "model_id": "b9c2da975cc34f27849abae1b5623308",
              "version_minor": 0,
              "version_major": 2
            },
            "text/plain": [
              "HBox(children=(FloatProgress(value=0.0, description='Tokenizing', max=21.0, style=ProgressStyle(description_wi…"
            ]
          },
          "metadata": {
            "tags": []
          }
        },
        {
          "output_type": "stream",
          "text": [
            "\n",
            "CorefTask\n",
            "  [train]: /content/tasks/data/coref/test/train.jsonl\n",
            "  [val]: /content/tasks/data/coref/test/val.jsonl\n"
          ],
          "name": "stdout"
        },
        {
          "output_type": "display_data",
          "data": {
            "application/vnd.jupyter.widget-view+json": {
              "model_id": "9ed28113a7db4dc8beb392dbb264c435",
              "version_minor": 0,
              "version_major": 2
            },
            "text/plain": [
              "HBox(children=(FloatProgress(value=0.0, description='Tokenizing', max=135.0, style=ProgressStyle(description_w…"
            ]
          },
          "metadata": {
            "tags": []
          }
        },
        {
          "output_type": "stream",
          "text": [
            "\n"
          ],
          "name": "stdout"
        },
        {
          "output_type": "display_data",
          "data": {
            "application/vnd.jupyter.widget-view+json": {
              "model_id": "c616489ec3b74e0896a105df4f0697f3",
              "version_minor": 0,
              "version_major": 2
            },
            "text/plain": [
              "HBox(children=(FloatProgress(value=0.0, description='Tokenizing', max=21.0, style=ProgressStyle(description_wi…"
            ]
          },
          "metadata": {
            "tags": []
          }
        },
        {
          "output_type": "stream",
          "text": [
            "\n"
          ],
          "name": "stdout"
        }
      ]
    },
    {
      "cell_type": "markdown",
      "metadata": {
        "id": "YlyEeBQOtwrv"
      },
      "source": [
        "We can inspect the first examples of the first chunk of each task."
      ]
    },
    {
      "cell_type": "code",
      "metadata": {
        "colab": {
          "base_uri": "https://localhost:8080/"
        },
        "id": "AjUks1IQClLO",
        "outputId": "9c5ed7eb-3505-4c4b-c102-fe1815d86c48"
      },
      "source": [
        "row = caching.ChunkedFilesDataCache(f\"/content/cache/{task_names[0]}/train\").load_chunk(0)[0][\"data_row\"]\n",
        "print(row.input_ids)\n",
        "print(row.tokens)\n",
        "print(row.spans)\n",
        "print(row.tokens[row.spans[0][0]: row.spans[0][1]+1])\n",
        "#print(row.tokens[row.spans[1][0]: row.spans[1][1]+1])"
      ],
      "execution_count": 7,
      "outputs": [
        {
          "output_type": "stream",
          "text": [
            "[  101 24111  1005  1055  2197  2420  1998  2054  2003  2056  2002  2001\n",
            "  2066   102     0     0     0     0     0     0     0     0     0     0\n",
            "     0     0     0     0     0     0     0     0     0     0     0     0\n",
            "     0     0     0     0     0     0     0     0     0     0     0     0\n",
            "     0     0     0     0     0     0     0     0     0     0     0     0\n",
            "     0     0     0     0     0     0     0     0     0     0     0     0\n",
            "     0     0     0     0     0     0     0     0     0     0     0     0\n",
            "     0     0     0     0     0     0     0     0     0     0     0     0\n",
            "     0     0     0     0     0     0     0     0     0     0     0     0\n",
            "     0     0     0     0     0     0     0     0     0     0     0     0\n",
            "     0     0     0     0     0     0     0     0]\n",
            "['[CLS]', 'saddam', \"'\", 's', 'last', 'days', 'and', 'what', 'is', 'said', 'he', 'was', 'like', '[SEP]']\n",
            "[[ 1  3]\n",
            " [10 10]]\n",
            "['saddam', \"'\", 's']\n"
          ],
          "name": "stdout"
        }
      ]
    },
    {
      "cell_type": "markdown",
      "metadata": {
        "id": "XWb2rZ49ukZy"
      },
      "source": [
        "## **0.5 Write a run config**\n",
        "Here we are going to write what we call a `jiant_task_config`. This configuration file basically defines a lot of the subtleties of our training pipeline, such as what tasks we will train on, do evaluation on, batch size for each task. We use a helper `Configurator` to write out a `jiant_task_container_config`."
      ]
    },
    {
      "cell_type": "code",
      "metadata": {
        "id": "wQPixTeAClQD"
      },
      "source": [
        "import jiant.proj.main.scripts.configurator as configurator\n",
        "\n",
        "def create_jiant_task_config(task_name):\n",
        "  jiant_run_config = configurator.SimpleAPIMultiTaskConfigurator(\n",
        "      task_config_base_path=\"/content/tasks/configs\",\n",
        "      task_cache_base_path=\"/content/cache\",\n",
        "      train_task_name_list=[task_name],\n",
        "      val_task_name_list=[task_name],\n",
        "      train_batch_size=16,\n",
        "      eval_batch_size=32,\n",
        "      epochs=5,\n",
        "      num_gpus=1,\n",
        "  ).create_config()\n",
        "  os.makedirs(\"/content/tasks/run_configs/\", exist_ok=True)\n",
        "  py_io.write_json(jiant_run_config, f\"/content/tasks/run_configs/{task_name}_run_config.json\")\n",
        "  #display.show_json(jiant_run_config)"
      ],
      "execution_count": 8,
      "outputs": []
    },
    {
      "cell_type": "markdown",
      "metadata": {
        "id": "BjTi5usdvdKo"
      },
      "source": [
        "## **0.6 Write the training function**\n",
        "The last step is to train the model on the probing tasks. We create a function that allows us to configure the training process through the parameters e.g which probing task, which model and number of layers you want to train."
      ]
    },
    {
      "cell_type": "code",
      "metadata": {
        "id": "yyZbu_KjClfE"
      },
      "source": [
        "import jiant.proj.main.runscript as main_runscript\n",
        "\n",
        "def run_probing_task(task_name, model_name=\"bert-base-uncased\", num_layers=1, bin_model_path=\"\"):\n",
        "  hf_model_name = model_name\n",
        "  if(model_name == \"bert-babi\"):\n",
        "    hf_model_name = \"bert-base-uncased\"\n",
        "  \n",
        "  run_args = main_runscript.RunConfiguration(\n",
        "      jiant_task_container_config_path=f\"/content/tasks/run_configs/{task_name}_run_config.json\",\n",
        "      output_dir=f\"/content/tasks/runs/{task_name}\",\n",
        "      hf_pretrained_model_name_or_path=hf_model_name,\n",
        "      model_path=f\"/content/models/{model_name}/model/model.p\",\n",
        "      model_config_path=f\"/content/models/{model_name}/model/config.json\",\n",
        "      learning_rate=1e-2,\n",
        "      eval_every_steps=1000,\n",
        "      do_train=True,\n",
        "      do_val=True,\n",
        "      do_save=True,\n",
        "      force_overwrite=True,\n",
        "      num_hidden_layers=num_layers,\n",
        "      bin_model_path=bin_model_path,\n",
        "  )\n",
        "  return main_runscript.run_loop(run_args)"
      ],
      "execution_count": 9,
      "outputs": []
    },
    {
      "cell_type": "markdown",
      "metadata": {
        "id": "4JgLIkk8SmhM"
      },
      "source": [
        "We sum up all the steps above in a convenient method that do the whole probing pipeline. After probing we extract the macro averaged F1 to prepare for the visualization."
      ]
    },
    {
      "cell_type": "code",
      "metadata": {
        "id": "SI3lqN7KGXcV"
      },
      "source": [
        "# the whole jiant pipeline\n",
        "def probe(model, task_name, n_layers, dataset_size):\n",
        "  init_task_config(task_name, dataset_size)\n",
        "  tokenize(task_name, model)\n",
        "  create_jiant_task_config(task_name)\n",
        "  probing_output = run_probing_task(task_name, model, n_layers)\n",
        "  f1_macro = str(probing_output[task_name][\"metrics\"][\"minor\"][\"f1_macro\"])\n",
        "  \n",
        "  return f1_macro"
      ],
      "execution_count": 10,
      "outputs": []
    },
    {
      "cell_type": "markdown",
      "metadata": {
        "id": "34qwAWqYSlns"
      },
      "source": [
        "## **0.7 Write the visualization**\n"
      ]
    },
    {
      "cell_type": "code",
      "metadata": {
        "id": "ojJ2BLYlaZ0o"
      },
      "source": [
        "import os\n",
        "import json\n",
        "import matplotlib.pyplot as plt\n",
        "\n",
        "num_layers = list(range(1, 13, 2))      # from 1 to 12 layers\n",
        "\n",
        "def plot_task(model, task, linestyle, f1_result):\n",
        "  y = [float(f1_result[model][task][n_layers]['f1_macro']) for n_layers in num_layers]\n",
        "  plt.plot(num_layers, y,linestyle, label=model)\n",
        "  plt.grid(True)\n",
        "  plt.legend(loc='lower center', bbox_to_anchor=(0.5, -0.5))\n",
        "  plt.suptitle(task)\n",
        "  plt.xlim(0, 12)\n",
        "\n",
        "def plot_task_from_file(input_path, model, task, linestyle, f1_result):\n",
        "  with open(input_path, \"r\") as f:\n",
        "    f1_result = json.load(f)\n",
        "  y = [float(f1_result[model][task][n_layers]['f1_macro']) for n_layers in num_layers]\n",
        "  plt.plot(num_layers, y,linestyle, label=model)\n",
        "  plt.legend()\n",
        "  plt.suptitle(task)\n",
        "\n",
        "\n",
        "model_to_linestyle = {\n",
        "    \"bert-base-uncased\": \":g\", \n",
        "    \"csarron/bert-base-uncased-squad-v1\": \"-y\",\n",
        "    \"bert-babi\": \"b\",\n",
        "    \"bert-adversarial\": \"r\",\n",
        "    \"roberta-base\": \"m\",\n",
        "}"
      ],
      "execution_count": 176,
      "outputs": []
    },
    {
      "cell_type": "markdown",
      "metadata": {
        "id": "ZZuCr3C1n7C2"
      },
      "source": [
        "# **1. Reproduce the probing tasks**\n",
        "\n",
        "---\n",
        "\n"
      ]
    },
    {
      "cell_type": "markdown",
      "metadata": {
        "id": "eoeA4nPJdh3C"
      },
      "source": [
        "##**1.0 Download and export models**"
      ]
    },
    {
      "cell_type": "markdown",
      "metadata": {
        "id": "gNp6qgqTHybL"
      },
      "source": [
        "Now we can start training the models on the probing tasks like the paper did, and then visualize the results."
      ]
    },
    {
      "cell_type": "markdown",
      "metadata": {
        "id": "_mWl9Q8IIvK_"
      },
      "source": [
        "Download the bert models from huggingface web. Skip this step If these models was already downloaded."
      ]
    },
    {
      "cell_type": "code",
      "metadata": {
        "colab": {
          "base_uri": "https://localhost:8080/"
        },
        "id": "ZOMHEETaEhq-",
        "outputId": "3cac2b98-6626-4ee5-e63b-053cc41cd624"
      },
      "source": [
        "import jiant.proj.main.export_model as export_model\n",
        "\n",
        "models = [\n",
        "          \"bert-base-uncased\", \n",
        "          \"csarron/bert-base-uncased-squad-v1\"\n",
        "          ]\n",
        "\n",
        "for model in models:\n",
        "  export_model.export_model(\n",
        "      hf_pretrained_model_name_or_path=model,\n",
        "      output_base_path=f\"/content/models/{model}\",\n",
        "  )"
      ],
      "execution_count": null,
      "outputs": [
        {
          "output_type": "stream",
          "text": [
            "Some weights of BertForPreTraining were not initialized from the model checkpoint at bert-base-uncased and are newly initialized: ['cls.predictions.decoder.bias']\n",
            "You should probably TRAIN this model on a down-stream task to be able to use it for predictions and inference.\n",
            "Some weights of the model checkpoint at csarron/bert-base-uncased-squad-v1 were not used when initializing BertForPreTraining: ['qa_outputs.weight', 'qa_outputs.bias']\n",
            "- This IS expected if you are initializing BertForPreTraining from the checkpoint of a model trained on another task or with another architecture (e.g. initializing a BertForSequenceClassification model from a BertForPreTraining model).\n",
            "- This IS NOT expected if you are initializing BertForPreTraining from the checkpoint of a model that you expect to be exactly identical (initializing a BertForSequenceClassification model from a BertForSequenceClassification model).\n",
            "Some weights of BertForPreTraining were not initialized from the model checkpoint at csarron/bert-base-uncased-squad-v1 and are newly initialized: ['cls.predictions.bias', 'cls.predictions.transform.dense.weight', 'cls.predictions.transform.dense.bias', 'cls.predictions.transform.LayerNorm.weight', 'cls.predictions.transform.LayerNorm.bias', 'cls.predictions.decoder.weight', 'cls.predictions.decoder.bias', 'cls.seq_relationship.weight', 'cls.seq_relationship.bias']\n",
            "You should probably TRAIN this model on a down-stream task to be able to use it for predictions and inference.\n"
          ],
          "name": "stderr"
        }
      ]
    },
    {
      "cell_type": "markdown",
      "metadata": {
        "id": "1QYZbMuwwwQz"
      },
      "source": [
        "Download and export bert babi model provided by Betty (https://cloud.beuth-hochschule.de/index.php/s/X8NN6BaZA3Wg7JW)"
      ]
    },
    {
      "cell_type": "code",
      "metadata": {
        "colab": {
          "base_uri": "https://localhost:8080/"
        },
        "id": "DloPYpRxwpvz",
        "outputId": "fd927ba2-7921-40d5-f07d-d2785d944265"
      },
      "source": [
        "babi_id_url = \"1nl8Hft8isOmocwjZ-ulAvIfwifAyMTtY\"\n",
        "os.makedirs(\"/content/babi-bin-betty/\", exist_ok=True)\n",
        "!gdown --id $babi_id_url -O \"/content/babi-bin-betty/babi.bin\"\n",
        "\n",
        "\n",
        "babi_model_path = \"/content/babi-bin-betty/babi.bin\"\n",
        "model_name = \"bert-babi\"\n",
        "export_model.export_model(\n",
        "    hf_pretrained_model_name_or_path=\"bert-base-uncased\",\n",
        "    bin_model_path=babi_model_path,\n",
        "    output_base_path=f\"/content/models/{model_name}\",\n",
        ")"
      ],
      "execution_count": null,
      "outputs": [
        {
          "output_type": "stream",
          "text": [
            "Downloading...\n",
            "From: https://drive.google.com/uc?id=1nl8Hft8isOmocwjZ-ulAvIfwifAyMTtY\n",
            "To: /content/babi-bin-betty/babi.bin\n",
            "438MB [00:06, 70.2MB/s]\n"
          ],
          "name": "stdout"
        }
      ]
    },
    {
      "cell_type": "markdown",
      "metadata": {
        "id": "30ep-DwIGwr-"
      },
      "source": [
        "## **1.1 NER Task**"
      ]
    },
    {
      "cell_type": "code",
      "metadata": {
        "id": "MDN_iozgtwRb"
      },
      "source": [
        "ner_results = {}\n",
        "task = \"ner\"\n",
        "dataset_size = \"small\"\n",
        "\n",
        "bert_base_model = \"bert-base-uncased\"\n",
        "bert_squad_model = \"csarron/bert-base-uncased-squad-v1\"\n",
        "bert_babi_model = \"bert-babi\""
      ],
      "execution_count": 151,
      "outputs": []
    },
    {
      "cell_type": "markdown",
      "metadata": {
        "id": "csTU_f46G_BB"
      },
      "source": [
        "### 1.1.1 Train `bert-base` model"
      ]
    },
    {
      "cell_type": "code",
      "metadata": {
        "id": "-Qsiv7OQkLNT"
      },
      "source": [
        "bert_base_model = \"bert-base-uncased\"\n",
        "num_layers = list(range(1, 13, 2))      # from 1 to 12 layers \n",
        "\n",
        "ner_results[bert_base_model] = {}\n",
        "ner_results[bert_base_model][task] = {}\n",
        "\n",
        "for n_layers in num_layers:\n",
        "    f1_macro = probe(bert_base_model, task, n_layers, dataset_size) # get f1_macro after probing\n",
        "    ner_results[bert_base_model][task][n_layers] = {}\n",
        "    ner_results[bert_base_model][task][n_layers]['f1_macro'] = f1_macro # save f1 macro for plotting"
      ],
      "execution_count": null,
      "outputs": []
    },
    {
      "cell_type": "code",
      "metadata": {
        "id": "xx3TvnPuT8k1"
      },
      "source": [
        "ner_results[bert_base_model] = {\n",
        "      'ner': {\n",
        "          1: {'f1_macro': '0.3268712768712769'}, \n",
        "          3: {'f1_macro': '0.3961069023569024'}, \n",
        "          5: {'f1_macro': '0.0'}, \n",
        "          7: {'f1_macro': '0.0'}, \n",
        "          9: {'f1_macro': '0.0'}, \n",
        "          11: {'f1_macro': '0.0'}\n",
        "        }\n",
        "      }"
      ],
      "execution_count": 152,
      "outputs": []
    },
    {
      "cell_type": "markdown",
      "metadata": {
        "id": "ear-ihyitWp2"
      },
      "source": [
        "### 1.1.2 Train `bert-base-finetuned-squad` model"
      ]
    },
    {
      "cell_type": "code",
      "metadata": {
        "id": "khMmPpl9tcXh"
      },
      "source": [
        "bert_squad_model = \"csarron/bert-base-uncased-squad-v1\"\n",
        "num_layers = list(range(7, 13, 2))      # from 1 to 12 layers \n",
        "\n",
        "ner_results[bert_squad_model] = {}\n",
        "ner_results[bert_squad_model][task] = {}\n",
        "for n_layers in num_layers:\n",
        "    f1_macro = probe(bert_squad_model, task, n_layers, dataset_size) # get f1_macro after probing\n",
        "    ner_results[bert_squad_model][task][n_layers] = {}\n",
        "    ner_results[bert_squad_model][task][n_layers]['f1_macro'] = f1_macro # save f1 macro for plotting"
      ],
      "execution_count": null,
      "outputs": []
    },
    {
      "cell_type": "code",
      "metadata": {
        "id": "YoXw2bVjtcny"
      },
      "source": [
        "ner_results[bert_squad_model] = {\n",
        "      'ner': {\n",
        "          1: {'f1_macro': '0.3846153846153846'}, \n",
        "          3: {'f1_macro': '0.42857142857142855'}, \n",
        "          5: {'f1_macro': '0.42857142857142855'}, \n",
        "          7: {'f1_macro': '0.0'}, \n",
        "          9: {'f1_macro': '0.0'}, \n",
        "          11: {'f1_macro': '0.0'}\n",
        "        }\n",
        "      }"
      ],
      "execution_count": 153,
      "outputs": []
    },
    {
      "cell_type": "markdown",
      "metadata": {
        "id": "U1Rc0qYJwe3M"
      },
      "source": [
        "### 1.1.3 Train `bert-base-finetuned-babi` model"
      ]
    },
    {
      "cell_type": "code",
      "metadata": {
        "id": "x5bQBXq7xBif"
      },
      "source": [
        "bert_babi_model = \"bert-babi\"\n",
        "num_layers = list(range(1, 13, 2))      # from 1 to 12 layers \n",
        "\n",
        "ner_results[bert_babi_model] = {}\n",
        "ner_results[bert_babi_model][task] = {}\n",
        "\n",
        "for n_layers in num_layers:\n",
        "    init_task_config(task, dataset_size)\n",
        "    tokenize(task, \"bert-base-uncased\")  # use tokenizer of bert base\n",
        "    create_jiant_task_config(task)\n",
        "    probing_output = run_probing_task(task, bert_babi_model, n_layers, bin_model_path=babi_model_path)\n",
        "    f1_macro = str(probing_output[task][\"metrics\"][\"minor\"][\"f1_macro\"])\n",
        "\n",
        "    ner_results[bert_babi_model][task][n_layers] = {}\n",
        "    ner_results[bert_babi_model][task][n_layers]['f1_macro'] = f1_macro # save f1 macro for plotting\n"
      ],
      "execution_count": null,
      "outputs": []
    },
    {
      "cell_type": "code",
      "metadata": {
        "id": "EloSlEjK5pig"
      },
      "source": [
        "ner_results[bert_babi_model] = {\n",
        "      'ner': {\n",
        "          1: {'f1_macro': '0.36396805106482527'}, \n",
        "          3: {'f1_macro': '0.2668458781362007'}, \n",
        "          5: {'f1_macro': '0.0'}, \n",
        "          7: {'f1_macro': '0.0'}, \n",
        "          9: {'f1_macro': '0.0'}, \n",
        "          11: {'f1_macro': '0.0'}\n",
        "        }\n",
        "      }"
      ],
      "execution_count": 154,
      "outputs": []
    },
    {
      "cell_type": "markdown",
      "metadata": {
        "id": "eVcNpk3lzSiV"
      },
      "source": [
        "### 1.1.4 Visualization"
      ]
    },
    {
      "cell_type": "code",
      "metadata": {
        "colab": {
          "base_uri": "https://localhost:8080/",
          "height": 359
        },
        "id": "HuZHGl2J58Q5",
        "outputId": "3ab7f41e-c33c-4e9c-8b21-a3b58e3c28ee"
      },
      "source": [
        "models = [bert_base_model, bert_squad_model, bert_babi_model]\n",
        "\n",
        "for model in models:\n",
        "  plot_task(model, task, model_to_linestyle[model], ner_results)\n",
        "plt.show()"
      ],
      "execution_count": 171,
      "outputs": [
        {
          "output_type": "display_data",
          "data": {
            "image/png": "[encoded data removed]",
            "text/plain": [
              "<Figure size 432x288 with 1 Axes>"
            ]
          },
          "metadata": {
            "tags": [],
            "needs_background": "light"
          }
        }
      ]
    },
    {
      "cell_type": "markdown",
      "metadata": {
        "id": "oHXy9ZmYJ721"
      },
      "source": [
        "## **1.2 SEMEVAL (aka REL) Task**"
      ]
    },
    {
      "cell_type": "code",
      "metadata": {
        "id": "-3CgsuCbFafO"
      },
      "source": [
        "semeval_results = {}\n",
        "task = \"semeval\"\n",
        "dataset_size = \"small\""
      ],
      "execution_count": 178,
      "outputs": []
    },
    {
      "cell_type": "markdown",
      "metadata": {
        "id": "KCjy2WNXFhLN"
      },
      "source": [
        "### 1.2.1 Train `bert-base` model"
      ]
    },
    {
      "cell_type": "code",
      "metadata": {
        "id": "lgma94TxknlJ"
      },
      "source": [
        "# Probe SEMEVAL task with bert-base and bert-squad and plot macro f1 score\n",
        "bert_base_model = \"bert-base-uncased\"\n",
        "num_layers = list(range(1, 13, 2))      # from 1 to 12 layers \n",
        "\n",
        "semeval_results[bert_base_model] = {}\n",
        "semeval_results[bert_base_model][task] = {}\n",
        "\n",
        "for n_layers in num_layers:\n",
        "    f1_macro = probe(bert_base_model, task, n_layers, dataset_size) # get f1_macro after probing\n",
        "    semeval_results[bert_base_model][task][n_layers] = {}\n",
        "    semeval_results[bert_base_model][task][n_layers]['f1_macro'] = f1_macro # save f1 macro for plotting"
      ],
      "execution_count": null,
      "outputs": []
    },
    {
      "cell_type": "code",
      "metadata": {
        "id": "vIOajzZtTQRi"
      },
      "source": [
        "semeval_results[bert_base_model] = {\n",
        "      'semeval': {\n",
        "          1: {'f1_macro': '0.021052631578947368'}, \n",
        "          3: {'f1_macro': '0.0'}, \n",
        "          5: {'f1_macro': '0.0'}, \n",
        "          7: {'f1_macro': '0.0'}, \n",
        "          9: {'f1_macro': '0.0'}, \n",
        "          11: {'f1_macro': '0.0'}\n",
        "        }\n",
        "      }"
      ],
      "execution_count": 179,
      "outputs": []
    },
    {
      "cell_type": "markdown",
      "metadata": {
        "id": "5h3GGF08GehK"
      },
      "source": [
        "### 1.2.2 Train `bert-base-finetuned-squad` model"
      ]
    },
    {
      "cell_type": "code",
      "metadata": {
        "id": "UXPFT9ZjOtqE"
      },
      "source": [
        "bert_squad_model = \"csarron/bert-base-uncased-squad-v1\"\n",
        "num_layers = list(range(7, 13, 2))      # from 1 to 12 layers \n",
        "\n",
        "semeval_results[bert_squad_model] = {}\n",
        "semeval_results[bert_squad_model][task] = {}\n",
        "for n_layers in num_layers:\n",
        "    f1_macro = probe(bert_squad_model, task, n_layers, dataset_size) # get f1_macro after probing\n",
        "    semeval_results[bert_squad_model][task][n_layers] = {}\n",
        "    semeval_results[bert_squad_model][task][n_layers]['f1_macro'] = f1_macro # save f1 macro for plotting"
      ],
      "execution_count": null,
      "outputs": []
    },
    {
      "cell_type": "code",
      "metadata": {
        "id": "hAOhH1cDTwNC"
      },
      "source": [
        "semeval_results[bert_squad_model] = {\n",
        "      'semeval': {\n",
        "          1: {'f1_macro': '0.17449392712550607'}, \n",
        "          3: {'f1_macro': '0.0'}, \n",
        "          5: {'f1_macro': '0.0'}, \n",
        "          7: {'f1_macro': '0.0'}, \n",
        "          9: {'f1_macro': '0.0'}, \n",
        "          11: {'f1_macro': '0.0'}\n",
        "        }\n",
        "      }"
      ],
      "execution_count": 180,
      "outputs": []
    },
    {
      "cell_type": "markdown",
      "metadata": {
        "id": "t516voTVG2M7"
      },
      "source": [
        "### 1.2.3 Train `bert-base-finetuned-babi` model"
      ]
    },
    {
      "cell_type": "code",
      "metadata": {
        "id": "KwaWfl_4inkY"
      },
      "source": [
        "bert_babi_model = \"bert-babi\"\n",
        "num_layers = list(range(1, 13, 2))      # from 1 to 12 layers \n",
        "\n",
        "semeval_results[bert_babi_model] = {}\n",
        "semeval_results[bert_babi_model][task] = {}\n",
        "\n",
        "for n_layers in num_layers:\n",
        "    init_task_config(task, dataset_size)\n",
        "    tokenize(task, \"bert-base-uncased\")  # use tokenizer of bert base\n",
        "    create_jiant_task_config(task)\n",
        "    probing_output = run_probing_task(task, bert_babi_model, n_layers, bin_model_path=babi_model_path)\n",
        "    f1_macro = str(probing_output[task][\"metrics\"][\"minor\"][\"f1_macro\"])\n",
        "\n",
        "    semeval_results[bert_babi_model][task][n_layers] = {}\n",
        "    semeval_results[bert_babi_model][task][n_layers]['f1_macro'] = f1_macro # save f1 macro for plotting"
      ],
      "execution_count": null,
      "outputs": []
    },
    {
      "cell_type": "code",
      "metadata": {
        "id": "vgvCLYfTrLwl"
      },
      "source": [
        "semeval_results[bert_babi_model] = {\n",
        "      'semeval': {\n",
        "          1: {'f1_macro': '0.16478696741854637'}, \n",
        "          3: {'f1_macro': '0.011695906432748537'}, \n",
        "          5: {'f1_macro': '0.0'}, \n",
        "          7: {'f1_macro': '0.0'}, \n",
        "          9: {'f1_macro': '0.0'}, \n",
        "          11: {'f1_macro': '0.0'}\n",
        "      }\n",
        "    }"
      ],
      "execution_count": 181,
      "outputs": []
    },
    {
      "cell_type": "markdown",
      "metadata": {
        "id": "YUjTK3-qHPWa"
      },
      "source": [
        "### 1.2.4 Visualization"
      ]
    },
    {
      "cell_type": "code",
      "metadata": {
        "colab": {
          "base_uri": "https://localhost:8080/",
          "height": 381
        },
        "id": "tMdN66q5tllt",
        "outputId": "795c3ebf-a793-4d6b-b40e-7f919f0df621"
      },
      "source": [
        "models = [bert_base_model, bert_squad_model, bert_babi_model]\n",
        "\n",
        "for model in models:\n",
        "  plot_task(model, task, model_to_linestyle[model], semeval_results)\n",
        "plt.show()"
      ],
      "execution_count": 182,
      "outputs": [
        {
          "output_type": "display_data",
          "data": {
            "image/png": "[encoded data removed]",
            "text/plain": [
              "<Figure size 432x288 with 1 Axes>"
            ]
          },
          "metadata": {
            "tags": [],
            "needs_background": "light"
          }
        }
      ]
    },
    {
      "cell_type": "markdown",
      "metadata": {
        "id": "Aq6uRwboQ9B8"
      },
      "source": [
        "## **1.3 COREF Task**"
      ]
    },
    {
      "cell_type": "code",
      "metadata": {
        "id": "VWbbb1u6kJ8i"
      },
      "source": [
        "coref_results = {}\n",
        "task = \"coref\"\n",
        "dataset_size = \"small\""
      ],
      "execution_count": 208,
      "outputs": []
    },
    {
      "cell_type": "markdown",
      "metadata": {
        "id": "BdB390hEFjOB"
      },
      "source": [
        "### 1.3.1 Train `bert-base` model"
      ]
    },
    {
      "cell_type": "code",
      "metadata": {
        "id": "M1tAKACzVx1s"
      },
      "source": [
        "bert_base_model = \"bert-base-uncased\"\n",
        "num_layers = list(range(1, 13, 2))      # from 1 to 12 layers \n",
        "\n",
        "coref_results[bert_base_model] = {}\n",
        "coref_results[bert_base_model][task] = {}\n",
        "\n",
        "for n_layers in num_layers:\n",
        "    f1_macro = probe(bert_base_model, task, n_layers, dataset_size) # get f1_macro after probing\n",
        "    coref_results[bert_base_model][task][n_layers] = {}\n",
        "    coref_results[bert_base_model][task][n_layers]['f1_macro'] = f1_macro # save f1 macro for plotting"
      ],
      "execution_count": null,
      "outputs": []
    },
    {
      "cell_type": "code",
      "metadata": {
        "id": "X0BG1ANXQuBj"
      },
      "source": [
        "bert_base_model = \"bert-base-uncased\"\n",
        "coref_results[bert_base_model] = {\n",
        "    'coref': {\n",
        "        1: {'f1_macro': '0.7942326490713587'}, \n",
        "        3: {'f1_macro': '0.4074074074074074'}, \n",
        "        5: {'f1_macro': '0.0'}, \n",
        "        7: {'f1_macro': '0.0'}, \n",
        "        9: {'f1_macro': '0.0'}, \n",
        "        11: {'f1_macro': '0.0'}\n",
        "      }\n",
        "    }"
      ],
      "execution_count": 209,
      "outputs": []
    },
    {
      "cell_type": "markdown",
      "metadata": {
        "id": "J7Y4HoVIGkjE"
      },
      "source": [
        "### 1.3.2 Train `bert-base-finetuned-squad` model"
      ]
    },
    {
      "cell_type": "code",
      "metadata": {
        "id": "9TJ_daSWl6Xy"
      },
      "source": [
        "bert_squad_model = \"csarron/bert-base-uncased-squad-v1\"\n",
        "num_layers = list(range(5, 13, 2))      # from 1 to 12 layers \n",
        "\n",
        "coref_results[bert_squad_model] = {}\n",
        "coref_results[bert_squad_model][task] = {}\n",
        "for n_layers in num_layers:\n",
        "    f1_macro = probe(bert_squad_model, task, n_layers, dataset_size) # get f1_macro after probing\n",
        "    coref_results[bert_squad_model][task][n_layers] = {}\n",
        "    coref_results[bert_squad_model][task][n_layers]['f1_macro'] = f1_macro # save f1 macro for plotting"
      ],
      "execution_count": null,
      "outputs": []
    },
    {
      "cell_type": "code",
      "metadata": {
        "id": "JYayuyx_4H3l"
      },
      "source": [
        "bert_squad_model = \"csarron/bert-base-uncased-squad-v1\"\n",
        "coref_results[bert_squad_model] = {\n",
        "    'coref': {\n",
        "        1: {'f1_macro': '0.7834101382488479'}, \n",
        "        3: {'f1_macro': '0.3928571428571429'}, \n",
        "        5: {'f1_macro': '0.0'}, \n",
        "        7: {'f1_macro': '0.3928571428571429'}, \n",
        "        9: {'f1_macro': '0.0'}, \n",
        "        11: {'f1_macro': '0.0'}\n",
        "      }\n",
        "    }"
      ],
      "execution_count": 210,
      "outputs": []
    },
    {
      "cell_type": "markdown",
      "metadata": {
        "id": "zaIKDsy1G36T"
      },
      "source": [
        "### 1.3.3 Train `bert-base-finetuned-babi` model"
      ]
    },
    {
      "cell_type": "code",
      "metadata": {
        "id": "_u91xmvSmXy4"
      },
      "source": [
        "bert_babi_model = \"bert-babi\"\n",
        "num_layers = list(range(1, 13, 2))      # from 1 to 12 layers \n",
        "\n",
        "coref_results[bert_babi_model] = {}\n",
        "coref_results[bert_babi_model][task] = {}\n",
        "\n",
        "for n_layers in num_layers:\n",
        "    init_task_config(task, dataset_size)\n",
        "    tokenize(task, \"bert-base-uncased\")  # use tokenizer of bert base\n",
        "    create_jiant_task_config(task)\n",
        "    probing_output = run_probing_task(task, bert_babi_model, n_layers, bin_model_path=babi_model_path)\n",
        "    f1_macro = str(probing_output[task][\"metrics\"][\"minor\"][\"f1_macro\"])\n",
        "\n",
        "    coref_results[bert_babi_model][task][n_layers] = {}\n",
        "    coref_results[bert_babi_model][task][n_layers]['f1_macro'] = f1_macro # save f1 macro for plotting"
      ],
      "execution_count": null,
      "outputs": []
    },
    {
      "cell_type": "code",
      "metadata": {
        "id": "MTJvRX9kgNMP"
      },
      "source": [
        "bert_babi_model = \"bert-babi\"\n",
        "coref_results[bert_babi_model] = {\n",
        "    'coref': {\n",
        "        1: {'f1_macro': '0.746031746031746'}, \n",
        "        3: {'f1_macro': '0.45022194039315155'}, \n",
        "        5: {'f1_macro': '0.0'}, \n",
        "        7: {'f1_macro': '0.0'}, \n",
        "        9: {'f1_macro': '0.0'}, \n",
        "        11: {'f1_macro': '0.0'}\n",
        "      }\n",
        "    }"
      ],
      "execution_count": 211,
      "outputs": []
    },
    {
      "cell_type": "markdown",
      "metadata": {
        "id": "iZOOz79kHRHE"
      },
      "source": [
        "### 1.3.4 Visualization"
      ]
    },
    {
      "cell_type": "code",
      "metadata": {
        "colab": {
          "base_uri": "https://localhost:8080/",
          "height": 381
        },
        "id": "1AitqJocgMfz",
        "outputId": "3deaddd7-d603-4e39-8df0-319b65d2cfca"
      },
      "source": [
        "models = [bert_base_model, bert_squad_model, bert_babi_model]\n",
        "\n",
        "for model in models:\n",
        "  plot_task(model, task, model_to_linestyle[model], coref_results)\n",
        "plt.show()"
      ],
      "execution_count": 191,
      "outputs": [
        {
          "output_type": "display_data",
          "data": {
            "image/png": "[encoded data removed]",
            "text/plain": [
              "<Figure size 432x288 with 1 Axes>"
            ]
          },
          "metadata": {
            "tags": [],
            "needs_background": "light"
          }
        }
      ]
    },
    {
      "cell_type": "markdown",
      "metadata": {
        "id": "l2ONkVJcRuhl"
      },
      "source": [
        "## **1.4 QUES Task**"
      ]
    },
    {
      "cell_type": "code",
      "metadata": {
        "id": "k0XvXEWikT6c"
      },
      "source": [
        "ques_results = {}\n",
        "task = \"ques\"\n",
        "dataset_size = \"small\""
      ],
      "execution_count": 197,
      "outputs": []
    },
    {
      "cell_type": "markdown",
      "metadata": {
        "id": "bIZxm5OjFlr9"
      },
      "source": [
        "### 1.4.1 Train `bert-base` model"
      ]
    },
    {
      "cell_type": "code",
      "metadata": {
        "id": "68Dy2J-3V2oU"
      },
      "source": [
        "bert_base_model = \"bert-base-uncased\"\n",
        "num_layers = list(range(1, 13, 2))      # from 1 to 12 layers \n",
        "\n",
        "ques_results[bert_base_model] = {}\n",
        "ques_results[bert_base_model][task] = {}\n",
        "\n",
        "for n_layers in num_layers:\n",
        "    f1_macro = probe(bert_base_model, task, n_layers, dataset_size) # get f1_macro after probing\n",
        "    ques_results[bert_base_model][task][n_layers] = {}\n",
        "    ques_results[bert_base_model][task][n_layers]['f1_macro'] = f1_macro # save f1 macro for plotting"
      ],
      "execution_count": null,
      "outputs": []
    },
    {
      "cell_type": "code",
      "metadata": {
        "id": "Rxl3F1TBqrZo"
      },
      "source": [
        "bert_base_model = \"bert-base-uncased\"\n",
        "ques_results[bert_base_model] = {\n",
        "    'ques': {\n",
        "        1: {'f1_macro': '0.0833234303822539'}, \n",
        "        3: {'f1_macro': '0.0'}, \n",
        "        5: {'f1_macro': '0.0'}, \n",
        "        7: {'f1_macro': '0.0'}, \n",
        "        9: {'f1_macro': '0.0'}, \n",
        "        11: {'f1_macro': '0.0'}\n",
        "      }\n",
        "    }"
      ],
      "execution_count": 198,
      "outputs": []
    },
    {
      "cell_type": "markdown",
      "metadata": {
        "id": "I6Bi2RlbGnSG"
      },
      "source": [
        "### 1.4.2 Train `bert-base-finetuned-squad` model"
      ]
    },
    {
      "cell_type": "code",
      "metadata": {
        "id": "nituPzsKl_Vz"
      },
      "source": [
        "bert_squad_model = \"csarron/bert-base-uncased-squad-v1\"\n",
        "num_layers = list(range(1, 13, 2))      # from 1 to 12 layers \n",
        "\n",
        "ques_results[bert_squad_model] = {}\n",
        "ques_results[bert_squad_model][task] = {}\n",
        "for n_layers in num_layers:\n",
        "    f1_macro = probe(bert_squad_model, task, n_layers, dataset_size) # get f1_macro after probing\n",
        "    ques_results[bert_squad_model][task][n_layers] = {}\n",
        "    ques_results[bert_squad_model][task][n_layers]['f1_macro'] = f1_macro # save f1 macro for plotting"
      ],
      "execution_count": null,
      "outputs": []
    },
    {
      "cell_type": "code",
      "metadata": {
        "id": "xBu7XCXZrB4N"
      },
      "source": [
        "bert_squad_model = \"csarron/bert-base-uncased-squad-v1\"\n",
        "ques_results[bert_squad_model] = {\n",
        "    'ques': {\n",
        "        1: {'f1_macro': '0.0404040404040404'}, \n",
        "        3: {'f1_macro': '0.0'}, \n",
        "        5: {'f1_macro': '0.0'}, \n",
        "        7: {'f1_macro': '0.0'}, \n",
        "        9: {'f1_macro': '0.0'}, \n",
        "        11: {'f1_macro': '0.0'}\n",
        "      }\n",
        "    }"
      ],
      "execution_count": 199,
      "outputs": []
    },
    {
      "cell_type": "markdown",
      "metadata": {
        "id": "9lEZAMZWG7Qj"
      },
      "source": [
        "### 1.4.3 Train `bert-base-finetuned-babi` model"
      ]
    },
    {
      "cell_type": "code",
      "metadata": {
        "id": "CP5rKMrimbqP"
      },
      "source": [
        "bert_babi_model = \"bert-babi\"\n",
        "num_layers = list(range(1, 13, 2))      # from 1 to 12 layers \n",
        "\n",
        "ques_results[bert_babi_model] = {}\n",
        "ques_results[bert_babi_model][task] = {}\n",
        "\n",
        "for n_layers in num_layers:\n",
        "    init_task_config(task, dataset_size)\n",
        "    tokenize(task, \"bert-base-uncased\")  # use tokenizer of bert base\n",
        "    create_jiant_task_config(task)\n",
        "    probing_output = run_probing_task(task, bert_babi_model, n_layers, bin_model_path=babi_model_path)\n",
        "    f1_macro = str(probing_output[task][\"metrics\"][\"minor\"][\"f1_macro\"])\n",
        "\n",
        "    ques_results[bert_babi_model][task][n_layers] = {}\n",
        "    ques_results[bert_babi_model][task][n_layers]['f1_macro'] = f1_macro # save f1 macro for plotting"
      ],
      "execution_count": null,
      "outputs": []
    },
    {
      "cell_type": "code",
      "metadata": {
        "id": "j5YSqSiqzPQE"
      },
      "source": [
        "bert_babi_model = \"bert-babi\"\n",
        "ques_results[bert_babi_model] = {\n",
        "    'ques': {\n",
        "        1: {'f1_macro': '0.0665478312537136'}, \n",
        "        3: {'f1_macro': '0.0'}, \n",
        "        5: {'f1_macro': '0.0'}, \n",
        "        7: {'f1_macro': '0.0'}, \n",
        "        9: {'f1_macro': '0.0'}, \n",
        "        11: {'f1_macro': '0.0'}\n",
        "      }\n",
        "    }"
      ],
      "execution_count": 200,
      "outputs": []
    },
    {
      "cell_type": "markdown",
      "metadata": {
        "id": "mVq_g1AYHTbB"
      },
      "source": [
        "### 1.4.4 Visualization"
      ]
    },
    {
      "cell_type": "code",
      "metadata": {
        "colab": {
          "base_uri": "https://localhost:8080/",
          "height": 381
        },
        "id": "r4jqLoJ0z3J5",
        "outputId": "613fd9fb-ef7b-4b28-a23b-4055a4a72421"
      },
      "source": [
        "models = [bert_base_model, bert_squad_model, bert_babi_model]\n",
        "\n",
        "for model in models:\n",
        "  plot_task(model, task, model_to_linestyle[model], ques_results)\n",
        "plt.show()"
      ],
      "execution_count": 201,
      "outputs": [
        {
          "output_type": "display_data",
          "data": {
            "image/png": "[encoded data removed]",
            "text/plain": [
              "<Figure size 432x288 with 1 Axes>"
            ]
          },
          "metadata": {
            "tags": [],
            "needs_background": "light"
          }
        }
      ]
    },
    {
      "cell_type": "markdown",
      "metadata": {
        "id": "TkeTt8ZqS1at"
      },
      "source": [
        "## **1.5 SUP-SQUAD Task**"
      ]
    },
    {
      "cell_type": "code",
      "metadata": {
        "id": "uQcutZWvkXcu"
      },
      "source": [
        "sup_squad_results = {}\n",
        "task = \"sup-squad\"\n",
        "dataset_size = \"test\""
      ],
      "execution_count": 214,
      "outputs": []
    },
    {
      "cell_type": "markdown",
      "metadata": {
        "id": "C7OUyPpqFnfs"
      },
      "source": [
        "### 1.5.1 Train `bert-base` model"
      ]
    },
    {
      "cell_type": "code",
      "metadata": {
        "id": "0Yjy-9HOV9Kd"
      },
      "source": [
        "bert_base_model = \"bert-base-uncased\"\n",
        "num_layers = list(range(9, 13, 2))      # from 1 to 12 layers \n",
        "\n",
        "sup_squad_results[bert_base_model] = {}\n",
        "sup_squad_results[bert_base_model][task] = {}\n",
        "\n",
        "for n_layers in num_layers:\n",
        "    f1_macro = probe(bert_base_model, task, n_layers, dataset_size) # get f1_macro after probing\n",
        "    sup_squad_results[bert_base_model][task][n_layers] = {}\n",
        "    sup_squad_results[bert_base_model][task][n_layers]['f1_macro'] = f1_macro # save f1 macro for plotting"
      ],
      "execution_count": null,
      "outputs": []
    },
    {
      "cell_type": "code",
      "metadata": {
        "id": "Umz3qKRkr3tV"
      },
      "source": [
        "bert_base_model = \"bert-base-uncased\"\n",
        "sup_squad_results[bert_base_model] = {\n",
        "    'sup-squad': {\n",
        "        1: {'f1_macro': '0.3846153846153846'}, \n",
        "        3: {'f1_macro': '0.3333333333333333'}, \n",
        "        5: {'f1_macro': '0.42857142857142855'}, \n",
        "        7: {'f1_macro': '0.42857142857142855'}, \n",
        "        9: {'f1_macro': '0.42857142857142855'}, \n",
        "        11: {'f1_macro': '0.42857142857142855'}\n",
        "      }\n",
        "    }"
      ],
      "execution_count": 215,
      "outputs": []
    },
    {
      "cell_type": "markdown",
      "metadata": {
        "id": "hVVQ9N37GtaL"
      },
      "source": [
        "### 1.5.2 Train `bert-base-finetuned-squad` model"
      ]
    },
    {
      "cell_type": "code",
      "metadata": {
        "id": "zabGRyWVmDeZ"
      },
      "source": [
        "bert_squad_model = \"csarron/bert-base-uncased-squad-v1\"\n",
        "num_layers = list(range(1, 13, 2))      # from 1 to 12 layers \n",
        "\n",
        "sup_squad_results[bert_squad_model] = {}\n",
        "sup_squad_results[bert_squad_model][task] = {}\n",
        "for n_layers in num_layers:\n",
        "    f1_macro = probe(bert_squad_model, task, n_layers, dataset_size) # get f1_macro after probing\n",
        "    sup_squad_results[bert_squad_model][task][n_layers] = {}\n",
        "    sup_squad_results[bert_squad_model][task][n_layers]['f1_macro'] = f1_macro # save f1 macro for plotting"
      ],
      "execution_count": null,
      "outputs": []
    },
    {
      "cell_type": "code",
      "metadata": {
        "id": "J0DIO3eG28GN"
      },
      "source": [
        "bert_squad_model = \"csarron/bert-base-uncased-squad-v1\"\n",
        "sup_squad_results[bert_squad_model] = {\n",
        "    'sup-squad': {\n",
        "        1: {'f1_macro': '0.3846153846153846'}, \n",
        "        3: {'f1_macro': '0.42857142857142855'}, \n",
        "        5: {'f1_macro': '0.42857142857142855'}, \n",
        "        7: {'f1_macro': '0.42857142857142855'}, \n",
        "        9: {'f1_macro': '0.42857142857142855'}, \n",
        "        11: {'f1_macro': '0.42857142857142855'}\n",
        "      }\n",
        "    }"
      ],
      "execution_count": 216,
      "outputs": []
    },
    {
      "cell_type": "markdown",
      "metadata": {
        "id": "eHGFSu39HV5M"
      },
      "source": [
        "### 1.5.3 Visualization"
      ]
    },
    {
      "cell_type": "code",
      "metadata": {
        "colab": {
          "base_uri": "https://localhost:8080/",
          "height": 381
        },
        "id": "SHYqFX2936g7",
        "outputId": "6603e508-473d-4db6-97c0-430a50be87c4"
      },
      "source": [
        "models = [bert_base_model, bert_squad_model]\n",
        "\n",
        "for model in models:\n",
        "  plot_task(model, task, model_to_linestyle[model], sup_squad_results)\n",
        "plt.show()"
      ],
      "execution_count": 217,
      "outputs": [
        {
          "output_type": "display_data",
          "data": {
            "image/png": "[encoded data removed]",
            "text/plain": [
              "<Figure size 432x288 with 1 Axes>"
            ]
          },
          "metadata": {
            "tags": [],
            "needs_background": "light"
          }
        }
      ]
    },
    {
      "cell_type": "markdown",
      "metadata": {
        "id": "-aWsXihuXSOt"
      },
      "source": [
        "## **1.6 SUP-BABI Task**"
      ]
    },
    {
      "cell_type": "code",
      "metadata": {
        "id": "auBd_ikJkaY7"
      },
      "source": [
        "sup_babi_results = {}\n",
        "task = \"sup-babi\"\n",
        "dataset_size = \"test\""
      ],
      "execution_count": 220,
      "outputs": []
    },
    {
      "cell_type": "markdown",
      "metadata": {
        "id": "ekuKPJwDFpsU"
      },
      "source": [
        "### 1.6.1 Train `bert-base` model"
      ]
    },
    {
      "cell_type": "code",
      "metadata": {
        "id": "wfC1UpST7n1P"
      },
      "source": [
        "bert_base_model = \"bert-base-uncased\"\n",
        "num_layers = list(range(11, 13, 2))      # from 1 to 12 layers \n",
        "\n",
        "sup_babi_results[bert_base_model] = {}\n",
        "sup_babi_results[bert_base_model][task] = {}\n",
        "\n",
        "for n_layers in num_layers:\n",
        "    f1_macro = probe(bert_base_model, task, n_layers, dataset_size) # get f1_macro after probing\n",
        "    sup_babi_results[bert_base_model][task][n_layers] = {}\n",
        "    sup_babi_results[bert_base_model][task][n_layers]['f1_macro'] = f1_macro # save f1 macro for plotting"
      ],
      "execution_count": null,
      "outputs": []
    },
    {
      "cell_type": "code",
      "metadata": {
        "id": "DFq1Vsjxcnh3"
      },
      "source": [
        "bert_base_model = \"bert-base-uncased\"\n",
        "sup_babi_results[bert_base_model] = {\n",
        "    'sup-babi': {\n",
        "        1: {'f1_macro': '0.7700578990901572'}, \n",
        "        3: {'f1_macro': '0.47058823529411764'}, \n",
        "        5: {'f1_macro': '0.47058823529411764'}, \n",
        "        7: {'f1_macro': '0.47058823529411764'}, \n",
        "        9: {'f1_macro': '0.47058823529411764'}, \n",
        "        11: {'f1_macro': '0.47058823529411764'}\n",
        "      }\n",
        "    }"
      ],
      "execution_count": 221,
      "outputs": []
    },
    {
      "cell_type": "markdown",
      "metadata": {
        "id": "nMpYhw3-HGEb"
      },
      "source": [
        "### 1.6.2 Train `bert-base-finetuned-babi` model"
      ]
    },
    {
      "cell_type": "code",
      "metadata": {
        "id": "5qU1EJrRkvEj"
      },
      "source": [
        "bert_babi_model = \"bert-babi\"\n",
        "num_layers = list(range(11, 13, 2))      # from 1 to 12 layers \n",
        "\n",
        "sup_babi_results[bert_babi_model] = {}\n",
        "sup_babi_results[bert_babi_model][task] = {}\n",
        "\n",
        "for n_layers in num_layers:\n",
        "    init_task_config(task, dataset_size)\n",
        "    tokenize(task, \"bert-base-uncased\")  # use tokenizer of bert base\n",
        "    create_jiant_task_config(task)\n",
        "    probing_output = run_probing_task(task, bert_babi_model, n_layers, bin_model_path=babi_model_path)\n",
        "    f1_macro = str(probing_output[task][\"metrics\"][\"minor\"][\"f1_macro\"])\n",
        "\n",
        "    sup_babi_results[bert_babi_model][task][n_layers] = {}\n",
        "    sup_babi_results[bert_babi_model][task][n_layers]['f1_macro'] = f1_macro # save f1 macro for plotting\n"
      ],
      "execution_count": null,
      "outputs": []
    },
    {
      "cell_type": "code",
      "metadata": {
        "id": "6pIrFZ_pgmnG"
      },
      "source": [
        "bert_babi_model = \"bert-babi\"\n",
        "sup_babi_results[bert_babi_model] = {\n",
        "    'sup-babi': {\n",
        "        1: {'f1_macro': '0.6228571428571429'}, \n",
        "        3: {'f1_macro': '0.47058823529411764'}, \n",
        "        5: {'f1_macro': '0.47058823529411764'}, \n",
        "        7: {'f1_macro': '0.47058823529411764'}, \n",
        "        9: {'f1_macro': '0.47058823529411764'}, \n",
        "        11: {'f1_macro': '0.47058823529411764'}\n",
        "      }\n",
        "    }"
      ],
      "execution_count": 222,
      "outputs": []
    },
    {
      "cell_type": "markdown",
      "metadata": {
        "id": "HN4-HBQbHawl"
      },
      "source": [
        "### 1.6.3 Visualization"
      ]
    },
    {
      "cell_type": "code",
      "metadata": {
        "colab": {
          "base_uri": "https://localhost:8080/",
          "height": 398
        },
        "id": "xhgJ_7lBM3Vw",
        "outputId": "c3c3aa04-6b28-4166-b153-0dca4f66a057"
      },
      "source": [
        "models = [bert_base_model, bert_babi_model]\n",
        "\n",
        "for model in models:\n",
        "  plot_task(model, task, model_to_linestyle[model], sup_babi_results)\n",
        "plt.show()"
      ],
      "execution_count": 223,
      "outputs": [
        {
          "output_type": "stream",
          "text": [
            "\n"
          ],
          "name": "stdout"
        },
        {
          "output_type": "display_data",
          "data": {
            "image/png": "[encoded data removed]",
            "text/plain": [
              "<Figure size 432x288 with 1 Axes>"
            ]
          },
          "metadata": {
            "tags": [],
            "needs_background": "light"
          }
        }
      ]
    },
    {
      "cell_type": "markdown",
      "metadata": {
        "id": "80d4GNwNxZhl"
      },
      "source": [
        "# **2. Experiment with `Bert-base-uncased` trained on `AdversarialQA` dataset**\n",
        "\n",
        "---\n",
        "\n"
      ]
    },
    {
      "cell_type": "markdown",
      "metadata": {
        "id": "ofro7P_jdYPd"
      },
      "source": [
        "##**2.0 Download and export Bert finetuned Adversarial dataset model**"
      ]
    },
    {
      "cell_type": "code",
      "metadata": {
        "id": "wIUUb9uY5mnt"
      },
      "source": [
        "import os\n",
        "\n",
        "bert_adversarial_model = \"bert-adversarial\"\n",
        "bert_adversarial_path = \"/content/bert-adversarial\"\n",
        "os.makedirs(bert_adversarial_path, exist_ok=True)\n",
        "\n",
        "# google drive id of all files included in bert-base-adversarial\n",
        "config_json_id = \"19-gobmJ_8PWuQURkHZ1JvEtublNS29Cd\"\n",
        "pytorch_model_bin_id = \"1G8WurpHMyfk14nHgaZ9b6CKPCi3HdbQc\"\n",
        "special_tokens_map_id = \"1GZI4j31ejNFYlEJfgW70bs1cV6He_LEX\"\n",
        "tokenizer_config_id = \"1qhSB_QoGL1Kel_2OwAXHP5uTCkPAW4Pl\"\n",
        "tokenizer_json_id = \"1wWRk5BdPBwGUd6X3halFrDWq_KqPCVe3\"\n",
        "training_args_id = \"1bHZqsV08OjsN6n4Gax1luwF5Rcn4e3AG\"\n",
        "vocab_id = \"1aAYV6W5isBQe2T09QbkAkYGibyEsXDyE\"\n",
        "\n",
        "!gdown --id \"{config_json_id}\" -O \"{bert_adversarial_path}/config.json\"\n",
        "!gdown --id \"{pytorch_model_bin_id}\" -O \"{bert_adversarial_path}/pytorch_model.bin\"\n",
        "!gdown --id \"{special_tokens_map_id}\" -O \"{bert_adversarial_path}/special_tokens_map.json\"\n",
        "!gdown --id \"{tokenizer_config_id}\" -O \"{bert_adversarial_path}/tokenizer_config.json\"\n",
        "!gdown --id \"{tokenizer_json_id}\" -O \"{bert_adversarial_path}/tokenizer.json\"\n",
        "!gdown --id \"{training_args_id}\" -O \"{bert_adversarial_path}/training_args.bin\"\n",
        "!gdown --id \"{vocab_id}\" -O \"{bert_adversarial_path}/vocab.txt\""
      ],
      "execution_count": null,
      "outputs": []
    },
    {
      "cell_type": "code",
      "metadata": {
        "id": "g_3hbgh8HXrk"
      },
      "source": [
        "export_model.export_model(\n",
        "    hf_pretrained_model_name_or_path=bert_adversarial_path,\n",
        "    output_base_path=f\"/content/models/{bert_adversarial_model}\",\n",
        ")"
      ],
      "execution_count": null,
      "outputs": []
    },
    {
      "cell_type": "markdown",
      "metadata": {
        "id": "QqUmwLpEF0D2"
      },
      "source": [
        "## **2.1 NER Task**"
      ]
    },
    {
      "cell_type": "markdown",
      "metadata": {
        "id": "5kFmADAcY3Is"
      },
      "source": [
        "### 2.1.1 Train"
      ]
    },
    {
      "cell_type": "code",
      "metadata": {
        "id": "iy3PmgJW-ZJm"
      },
      "source": [
        "task = \"ner\"\n",
        "dataset_size = \"small\"\n",
        "ner_results = {}\n",
        "\n",
        "bert_adversarial_model = \"bert-adversarial\"\n",
        "num_layers = list(range(1, 13, 2))      # from 1 to 12 layers \n",
        "\n",
        "ner_results[bert_adversarial_model] = {}\n",
        "ner_results[bert_adversarial_model][task] = {}\n",
        "\n",
        "for n_layers in num_layers:\n",
        "    init_task_config(task, dataset_size)\n",
        "    tokenize(task, \"bert-base-uncased\")  # use tokenizer of bert base\n",
        "    create_jiant_task_config(task)\n",
        "\n",
        "    run_args = main_runscript.RunConfiguration(\n",
        "        jiant_task_container_config_path=f\"/content/tasks/run_configs/{task}_run_config.json\",\n",
        "        output_dir=f\"/content/tasks/runs/{task}\",\n",
        "        hf_pretrained_model_name_or_path=bert_adversarial_path,\n",
        "        model_path=f\"/content/models/{bert_adversarial_model}/model/model.p\",\n",
        "        model_config_path=f\"/content/models/{bert_adversarial_model}/model/config.json\",\n",
        "        learning_rate=1e-3,\n",
        "        eval_every_steps=1000,\n",
        "        do_train=True,\n",
        "        do_val=True,\n",
        "        do_save=True,\n",
        "        force_overwrite=True,\n",
        "        num_hidden_layers=n_layers,\n",
        "    )\n",
        "    probing_output = main_runscript.run_loop(run_args)\n",
        "    f1_macro = str(probing_output[task][\"metrics\"][\"minor\"][\"f1_macro\"])\n",
        "\n",
        "    ner_results[bert_adversarial_model][task][n_layers] = {}\n",
        "    ner_results[bert_adversarial_model][task][n_layers]['f1_macro'] = f1_macro # save f1 macro for plotting"
      ],
      "execution_count": null,
      "outputs": []
    },
    {
      "cell_type": "code",
      "metadata": {
        "id": "pevaXiWCORGY"
      },
      "source": [
        "bert_adversarial_model = \"bert-adversarial\"\n",
        "ner_results[bert_adversarial_model] = {\n",
        "    'ner': {\n",
        "        1: {'f1_macro': '0.10784313725490197'}, \n",
        "        3: {'f1_macro': '0.0971861471861472'}, \n",
        "        5: {'f1_macro': '0.0'}, \n",
        "        7: {'f1_macro': '0.14662822557559402'}, \n",
        "        9: {'f1_macro': '0.0'}, \n",
        "        11: {'f1_macro': '0.0'}\n",
        "      }\n",
        "    }"
      ],
      "execution_count": 172,
      "outputs": []
    },
    {
      "cell_type": "markdown",
      "metadata": {
        "id": "kHbRFa5NY8zz"
      },
      "source": [
        "### 2.1.2 Visualization"
      ]
    },
    {
      "cell_type": "code",
      "metadata": {
        "colab": {
          "base_uri": "https://localhost:8080/",
          "height": 359
        },
        "id": "c-lhKpaiZB58",
        "outputId": "60585224-7bb1-4f45-df2d-527570491336"
      },
      "source": [
        "models = [bert_base_model, bert_squad_model, bert_babi_model, bert_adversarial_model]\n",
        "\n",
        "for model in models:\n",
        "  plot_task(model, task, model_to_linestyle[model], ner_results)\n",
        "plt.show()"
      ],
      "execution_count": 173,
      "outputs": [
        {
          "output_type": "display_data",
          "data": {
            "image/png": "[encoded data removed]",
            "text/plain": [
              "<Figure size 432x288 with 1 Axes>"
            ]
          },
          "metadata": {
            "tags": [],
            "needs_background": "light"
          }
        }
      ]
    },
    {
      "cell_type": "markdown",
      "metadata": {
        "id": "YLw2i4RdHzTD"
      },
      "source": [
        "## **2.2 SEMEVAL Task**"
      ]
    },
    {
      "cell_type": "markdown",
      "metadata": {
        "id": "csJ4irmFaMET"
      },
      "source": [
        "### 2.2.1 Train"
      ]
    },
    {
      "cell_type": "code",
      "metadata": {
        "id": "VhCCe0aEM7AG"
      },
      "source": [
        "task = \"semeval\"\n",
        "dataset_size = \"small\"\n",
        "\n",
        "bert_adversarial_model = \"bert-adversarial\"\n",
        "num_layers = list(range(1, 13, 2))      # from 1 to 12 layers \n",
        "\n",
        "semeval_results[bert_adversarial_model] = {}\n",
        "semeval_results[bert_adversarial_model][task] = {}\n",
        "\n",
        "for n_layers in num_layers:\n",
        "    init_task_config(task, dataset_size)\n",
        "    tokenize(task, \"bert-base-uncased\")  # use tokenizer of bert base\n",
        "    create_jiant_task_config(task)\n",
        "\n",
        "    run_args = main_runscript.RunConfiguration(\n",
        "        jiant_task_container_config_path=f\"/content/tasks/run_configs/{task}_run_config.json\",\n",
        "        output_dir=f\"/content/tasks/runs/{task}\",\n",
        "        hf_pretrained_model_name_or_path=bert_adversarial_path,\n",
        "        model_path=f\"/content/models/{bert_adversarial_model}/model/model.p\",\n",
        "        model_config_path=f\"/content/models/{bert_adversarial_model}/model/config.json\",\n",
        "        learning_rate=1e-3,\n",
        "        eval_every_steps=1000,\n",
        "        do_train=True,\n",
        "        do_val=True,\n",
        "        do_save=True,\n",
        "        force_overwrite=True,\n",
        "        num_hidden_layers=n_layers,\n",
        "    )\n",
        "    probing_output = main_runscript.run_loop(run_args)\n",
        "    f1_macro = str(probing_output[task][\"metrics\"][\"minor\"][\"f1_macro\"])\n",
        "\n",
        "    semeval_results[bert_adversarial_model][task][n_layers] = {}\n",
        "    semeval_results[bert_adversarial_model][task][n_layers]['f1_macro'] = f1_macro # save f1 macro for plotting"
      ],
      "execution_count": null,
      "outputs": []
    },
    {
      "cell_type": "code",
      "metadata": {
        "id": "fhsh-FNKPitO"
      },
      "source": [
        "bert_adversarial_model = \"bert-adversarial\"\n",
        "semeval_results[bert_adversarial_model] = {\n",
        "    'semeval': {\n",
        "        1: {'f1_macro': '0.07832080200501253'}, \n",
        "        3: {'f1_macro': '0.0'}, \n",
        "        5: {'f1_macro': '0.0'}, \n",
        "        7: {'f1_macro': '0.0'}, \n",
        "        9: {'f1_macro': '0.0'}, \n",
        "        11: {'f1_macro': '0.0'}\n",
        "      }\n",
        "    }"
      ],
      "execution_count": 183,
      "outputs": []
    },
    {
      "cell_type": "markdown",
      "metadata": {
        "id": "jM59_QYbaPlm"
      },
      "source": [
        "### 2.2.2 Visualization"
      ]
    },
    {
      "cell_type": "code",
      "metadata": {
        "colab": {
          "base_uri": "https://localhost:8080/",
          "height": 381
        },
        "id": "8gKJpn8baTGK",
        "outputId": "8db14af9-77ba-4d06-cfd7-5924315afa22"
      },
      "source": [
        "models = [bert_base_model, bert_squad_model, bert_babi_model, bert_adversarial_model]\n",
        "\n",
        "for model in models:\n",
        "  plot_task(model, task, model_to_linestyle[model], semeval_results)\n",
        "plt.show()"
      ],
      "execution_count": 184,
      "outputs": [
        {
          "output_type": "display_data",
          "data": {
            "image/png": "[encoded data removed]",
            "text/plain": [
              "<Figure size 432x288 with 1 Axes>"
            ]
          },
          "metadata": {
            "tags": [],
            "needs_background": "light"
          }
        }
      ]
    },
    {
      "cell_type": "markdown",
      "metadata": {
        "id": "TjPmagJpH3Ck"
      },
      "source": [
        "## **2.3 COREF Task**"
      ]
    },
    {
      "cell_type": "markdown",
      "metadata": {
        "id": "x5ikDWwuaom2"
      },
      "source": [
        "### 2.3.1 Train"
      ]
    },
    {
      "cell_type": "code",
      "metadata": {
        "id": "VVNMrpRgNFOR"
      },
      "source": [
        "task = \"coref\"\n",
        "dataset_size = \"small\"\n",
        "\n",
        "bert_adversarial_model = \"bert-adversarial\"\n",
        "num_layers = list(range(1, 13, 2))      # from 1 to 12 layers \n",
        "\n",
        "coref_results[bert_adversarial_model] = {}\n",
        "coref_results[bert_adversarial_model][task] = {}\n",
        "\n",
        "for n_layers in num_layers:\n",
        "    init_task_config(task, dataset_size)\n",
        "    tokenize(task, \"bert-base-uncased\")  # use tokenizer of bert base\n",
        "    create_jiant_task_config(task)\n",
        "\n",
        "    run_args = main_runscript.RunConfiguration(\n",
        "        jiant_task_container_config_path=f\"/content/tasks/run_configs/{task}_run_config.json\",\n",
        "        output_dir=f\"/content/tasks/runs/{task}\",\n",
        "        hf_pretrained_model_name_or_path=bert_adversarial_path,\n",
        "        model_path=f\"/content/models/{bert_adversarial_model}/model/model.p\",\n",
        "        model_config_path=f\"/content/models/{bert_adversarial_model}/model/config.json\",\n",
        "        learning_rate=1e-3,\n",
        "        eval_every_steps=1000,\n",
        "        do_train=True,\n",
        "        do_val=True,\n",
        "        do_save=True,\n",
        "        force_overwrite=True,\n",
        "        num_hidden_layers=n_layers,\n",
        "    )\n",
        "    probing_output = main_runscript.run_loop(run_args)\n",
        "    f1_macro = str(probing_output[task][\"metrics\"][\"minor\"][\"f1_macro\"])\n",
        "\n",
        "    coref_results[bert_adversarial_model][task][n_layers] = {}\n",
        "    coref_results[bert_adversarial_model][task][n_layers]['f1_macro'] = f1_macro # save f1 macro for plotting"
      ],
      "execution_count": null,
      "outputs": []
    },
    {
      "cell_type": "code",
      "metadata": {
        "id": "GM_ThlLXP6yg"
      },
      "source": [
        "bert_adversarial_model = \"bert-adversarial\"\n",
        "coref_results[bert_adversarial_model] = {\n",
        "    'coref': {\n",
        "        1: {'f1_macro': '0.5064102564102564'}, \n",
        "        3: {'f1_macro': '0.37499999999999994'}, \n",
        "        5: {'f1_macro': '0.0'}, \n",
        "        7: {'f1_macro': '0.0'}, \n",
        "        9: {'f1_macro': '0.0'}, \n",
        "        11: {'f1_macro': '0.0'}\n",
        "      }\n",
        "    }"
      ],
      "execution_count": 212,
      "outputs": []
    },
    {
      "cell_type": "markdown",
      "metadata": {
        "id": "xvwx7oJRasRD"
      },
      "source": [
        "### 2.3.2 Visualization"
      ]
    },
    {
      "cell_type": "code",
      "metadata": {
        "colab": {
          "base_uri": "https://localhost:8080/",
          "height": 381
        },
        "id": "Jyo-RG8wa95k",
        "outputId": "31127d4c-231f-44c1-86ed-48c5ff05f890"
      },
      "source": [
        "models = [bert_base_model, bert_squad_model, bert_babi_model, bert_adversarial_model]\n",
        "\n",
        "for model in models:\n",
        "  plot_task(model, task, model_to_linestyle[model], coref_results)\n",
        "plt.show()"
      ],
      "execution_count": 213,
      "outputs": [
        {
          "output_type": "display_data",
          "data": {
            "image/png": "[encoded data removed]",
            "text/plain": [
              "<Figure size 432x288 with 1 Axes>"
            ]
          },
          "metadata": {
            "tags": [],
            "needs_background": "light"
          }
        }
      ]
    },
    {
      "cell_type": "markdown",
      "metadata": {
        "id": "loiZsMccH5gU"
      },
      "source": [
        "## **2.4 QUES Task**"
      ]
    },
    {
      "cell_type": "markdown",
      "metadata": {
        "id": "9N4VPL3FbbOM"
      },
      "source": [
        "###2.4.1 Train"
      ]
    },
    {
      "cell_type": "code",
      "metadata": {
        "id": "ia3dMdajNNN_"
      },
      "source": [
        "task = \"ques\"\n",
        "dataset_size = \"small\"\n",
        "ques_results = {}\n",
        "\n",
        "bert_adversarial_model = \"bert-adversarial\"\n",
        "num_layers = list(range(1, 13, 2))      # from 1 to 12 layers \n",
        "\n",
        "ques_results[bert_adversarial_model] = {}\n",
        "ques_results[bert_adversarial_model][task] = {}\n",
        "\n",
        "for n_layers in num_layers:\n",
        "    init_task_config(task, dataset_size)\n",
        "    tokenize(task, \"bert-base-uncased\")  # use tokenizer of bert base\n",
        "    create_jiant_task_config(task)\n",
        "\n",
        "    run_args = main_runscript.RunConfiguration(\n",
        "        jiant_task_container_config_path=f\"/content/tasks/run_configs/{task}_run_config.json\",\n",
        "        output_dir=f\"/content/tasks/runs/{task}\",\n",
        "        hf_pretrained_model_name_or_path=bert_adversarial_path,\n",
        "        model_path=f\"/content/models/{bert_adversarial_model}/model/model.p\",\n",
        "        model_config_path=f\"/content/models/{bert_adversarial_model}/model/config.json\",\n",
        "        learning_rate=1e-3,\n",
        "        eval_every_steps=1000,\n",
        "        do_train=True,\n",
        "        do_val=True,\n",
        "        do_save=True,\n",
        "        force_overwrite=True,\n",
        "        num_hidden_layers=n_layers,\n",
        "    )\n",
        "    probing_output = main_runscript.run_loop(run_args)\n",
        "    f1_macro = str(probing_output[task][\"metrics\"][\"minor\"][\"f1_macro\"])\n",
        "\n",
        "    ques_results[bert_adversarial_model][task][n_layers] = {}\n",
        "    ques_results[bert_adversarial_model][task][n_layers]['f1_macro'] = f1_macro # save f1 macro for plotting"
      ],
      "execution_count": null,
      "outputs": []
    },
    {
      "cell_type": "code",
      "metadata": {
        "id": "eXA2E2vyQNMc"
      },
      "source": [
        "bert_adversarial_model = \"bert-adversarial\"\n",
        "ques_results[bert_adversarial_model] = {\n",
        "    'ques': {\n",
        "        1: {'f1_macro': '0.0'}, \n",
        "        3: {'f1_macro': '0.0'}, \n",
        "        5: {'f1_macro': '0.0'}, \n",
        "        7: {'f1_macro': '0.0'}, \n",
        "        9: {'f1_macro': '0.0'}, \n",
        "        11: {'f1_macro': '0.0'}\n",
        "      }\n",
        "    }"
      ],
      "execution_count": 204,
      "outputs": []
    },
    {
      "cell_type": "markdown",
      "metadata": {
        "id": "AGBiTPMPbfCF"
      },
      "source": [
        "###2.4.2 Visualization"
      ]
    },
    {
      "cell_type": "code",
      "metadata": {
        "colab": {
          "base_uri": "https://localhost:8080/",
          "height": 381
        },
        "id": "kJuMxQMobuos",
        "outputId": "56632121-a844-45a0-a075-4aabe5964115"
      },
      "source": [
        "models = [bert_base_model, bert_squad_model, bert_babi_model, bert_adversarial_model]\n",
        "\n",
        "for model in models:\n",
        "  plot_task(model, task, model_to_linestyle[model], ques_results)\n",
        "plt.show()"
      ],
      "execution_count": 205,
      "outputs": [
        {
          "output_type": "display_data",
          "data": {
            "image/png": "[encoded data removed]",
            "text/plain": [
              "<Figure size 432x288 with 1 Axes>"
            ]
          },
          "metadata": {
            "tags": [],
            "needs_background": "light"
          }
        }
      ]
    },
    {
      "cell_type": "markdown",
      "metadata": {
        "id": "xeIGu1uYxjnI"
      },
      "source": [
        "# **3. Experiment with `Roberta-base`**\n",
        "\n",
        "---\n",
        "\n"
      ]
    },
    {
      "cell_type": "markdown",
      "metadata": {
        "id": "gR0LXlUAAdGg"
      },
      "source": [
        "Download and export Roberta-base model"
      ]
    },
    {
      "cell_type": "code",
      "metadata": {
        "id": "s_X_f_WZAf5i",
        "colab": {
          "base_uri": "https://localhost:8080/",
          "height": 83,
          "referenced_widgets": [
            "a9572f721ae944f0b2ac4823f5afbeda",
            "1a2d2fbd8c0843ed95507e79b89d77cc",
            "9a51a8c778a64727bf6cc10921629bfa",
            "2f72ca83cd614ab8b13e2885317bf228",
            "4b50c7faf0e04ad09767dc4f7e5754b7",
            "c59220931cd548b5b579961e0cbd3a56",
            "eb6a5e2710f246f2bbc41b62d2f85a68",
            "c0c0a53e5808476bb6b1f7b1980413bb"
          ]
        },
        "outputId": "b35b8084-45cd-463a-fd6f-216d9c1d8f87"
      },
      "source": [
        "import jiant.proj.main.export_model as export_model\n",
        "\n",
        "roberta_model = \"roberta-base\"\n",
        "\n",
        "export_model.export_model(\n",
        "    hf_pretrained_model_name_or_path=roberta_model,\n",
        "    output_base_path=f\"/content/models/{roberta_model}\",\n",
        ")"
      ],
      "execution_count": 84,
      "outputs": [
        {
          "output_type": "display_data",
          "data": {
            "application/vnd.jupyter.widget-view+json": {
              "model_id": "a9572f721ae944f0b2ac4823f5afbeda",
              "version_minor": 0,
              "version_major": 2
            },
            "text/plain": [
              "HBox(children=(FloatProgress(value=0.0, description='Downloading', max=501200538.0, style=ProgressStyle(descri…"
            ]
          },
          "metadata": {
            "tags": []
          }
        },
        {
          "output_type": "stream",
          "text": [
            "\n",
            "\n"
          ],
          "name": "stdout"
        }
      ]
    },
    {
      "cell_type": "markdown",
      "metadata": {
        "id": "2JAp_uJz-ZLN"
      },
      "source": [
        "## **3.1 NER Task**"
      ]
    },
    {
      "cell_type": "markdown",
      "metadata": {
        "id": "q0Tk82zq91nL"
      },
      "source": [
        "###3.1.1 Train"
      ]
    },
    {
      "cell_type": "code",
      "metadata": {
        "id": "hhamAWYvn1hZ"
      },
      "source": [
        "task = \"ner\"\n",
        "dataset_size = \"small\"\n",
        "ner_results = {}"
      ],
      "execution_count": null,
      "outputs": []
    },
    {
      "cell_type": "code",
      "metadata": {
        "id": "baz3dHYNnFAJ"
      },
      "source": [
        "num_layers = list(range(1, 13, 2))      # from 1 to 12 layers \n",
        "\n",
        "ner_results[roberta_model] = {}\n",
        "ner_results[roberta_model][task] = {}\n",
        "\n",
        "for n_layers in num_layers:\n",
        "    f1_macro = probe(roberta_model, task, n_layers, dataset_size) # get f1_macro after probing\n",
        "    ner_results[roberta_model][task][n_layers] = {}\n",
        "    ner_results[roberta_model][task][n_layers]['f1_macro'] = f1_macro # save f1 macro for plotting"
      ],
      "execution_count": null,
      "outputs": []
    },
    {
      "cell_type": "code",
      "metadata": {
        "id": "fXyilTp395PX"
      },
      "source": [
        "roberta_model = \"roberta-base\"\n",
        "ner_results[roberta_model] = {\n",
        "    'ner': {\n",
        "        1: {'f1_macro': '0.08040177260694373'}, \n",
        "        3: {'f1_macro': '0.0'}, \n",
        "        5: {'f1_macro': '0.0'}, \n",
        "        7: {'f1_macro': '0.0'}, \n",
        "        9: {'f1_macro': '0.0'}, \n",
        "        11: {'f1_macro': '0.0'}\n",
        "      }\n",
        "    }"
      ],
      "execution_count": 174,
      "outputs": []
    },
    {
      "cell_type": "markdown",
      "metadata": {
        "id": "J4dXMpBX-JqK"
      },
      "source": [
        "###3.1.2 Visualization"
      ]
    },
    {
      "cell_type": "code",
      "metadata": {
        "colab": {
          "base_uri": "https://localhost:8080/",
          "height": 381
        },
        "id": "FU-LjuR3uw-L",
        "outputId": "3be13bb2-ee44-4bbf-fe4c-0b4b6bc580fd"
      },
      "source": [
        "models = [bert_base_model, bert_squad_model, bert_babi_model, roberta_model, bert_adversarial_model]\n",
        "\n",
        "for model in models:\n",
        "  plot_task(model, task, model_to_linestyle[model], ner_results)\n",
        "plt.show()"
      ],
      "execution_count": 177,
      "outputs": [
        {
          "output_type": "display_data",
          "data": {
            "image/png": "[encoded data removed]",
            "text/plain": [
              "<Figure size 432x288 with 1 Axes>"
            ]
          },
          "metadata": {
            "tags": [],
            "needs_background": "light"
          }
        }
      ]
    },
    {
      "cell_type": "markdown",
      "metadata": {
        "id": "_zjEAx8t-hYs"
      },
      "source": [
        "## **3.2 SEMEVAL Task**"
      ]
    },
    {
      "cell_type": "markdown",
      "metadata": {
        "id": "vyJZimpR8iYp"
      },
      "source": [
        "###3.2.1 Train"
      ]
    },
    {
      "cell_type": "code",
      "metadata": {
        "id": "2XzWmmEvov20"
      },
      "source": [
        "task = \"semeval\"\n",
        "dataset_size = \"small\""
      ],
      "execution_count": null,
      "outputs": []
    },
    {
      "cell_type": "code",
      "metadata": {
        "id": "6MggpxE1q4fd"
      },
      "source": [
        "num_layers = list(range(1, 13, 2))      # from 1 to 12 layers \n",
        "\n",
        "semeval_results[roberta_model] = {}\n",
        "semeval_results[roberta_model][task] = {}\n",
        "\n",
        "for n_layers in num_layers:\n",
        "    f1_macro = probe(roberta_model, task, n_layers, dataset_size) # get f1_macro after probing\n",
        "    semeval_results[roberta_model][task][n_layers] = {}\n",
        "    semeval_results[roberta_model][task][n_layers]['f1_macro'] = f1_macro # save f1 macro for plotting"
      ],
      "execution_count": null,
      "outputs": []
    },
    {
      "cell_type": "code",
      "metadata": {
        "id": "3gKPi3t3-yDR"
      },
      "source": [
        "roberta_model = \"roberta-base\"\n",
        "semeval_results[roberta_model] = {\n",
        "    'semeval': {\n",
        "        1: {'f1_macro': '0.0'}, \n",
        "        3: {'f1_macro': '0.0'}, \n",
        "        5: {'f1_macro': '0.0'}, \n",
        "        7: {'f1_macro': '0.0'}, \n",
        "        9: {'f1_macro': '0.0'}, \n",
        "        11: {'f1_macro': '0.0'}\n",
        "      }\n",
        "    }"
      ],
      "execution_count": 185,
      "outputs": []
    },
    {
      "cell_type": "markdown",
      "metadata": {
        "id": "HcDKsg42A-vw"
      },
      "source": [
        "###3.2.2 Visualization"
      ]
    },
    {
      "cell_type": "code",
      "metadata": {
        "colab": {
          "base_uri": "https://localhost:8080/",
          "height": 381
        },
        "id": "JCcRKhdo8kIH",
        "outputId": "c0ec1fa7-60cb-4329-919c-cde35d9cf101"
      },
      "source": [
        "models = [bert_base_model, bert_squad_model, bert_babi_model, bert_adversarial_model, roberta_model]\n",
        "\n",
        "for model in models:\n",
        "  plot_task(model, task, model_to_linestyle[model], semeval_results)\n",
        "plt.show()"
      ],
      "execution_count": 186,
      "outputs": [
        {
          "output_type": "display_data",
          "data": {
            "image/png": "[encoded data removed]",
            "text/plain": [
              "<Figure size 432x288 with 1 Axes>"
            ]
          },
          "metadata": {
            "tags": [],
            "needs_background": "light"
          }
        }
      ]
    },
    {
      "cell_type": "markdown",
      "metadata": {
        "id": "Dw1FHkej-iCx"
      },
      "source": [
        "## **3.3 COREF Task**"
      ]
    },
    {
      "cell_type": "markdown",
      "metadata": {
        "id": "sdCcS8sb5ZwL"
      },
      "source": [
        "###3.3.1 Train"
      ]
    },
    {
      "cell_type": "code",
      "metadata": {
        "id": "cMAXdMOTuO2J"
      },
      "source": [
        "task = \"coref\"\n",
        "dataset_size = \"small\""
      ],
      "execution_count": null,
      "outputs": []
    },
    {
      "cell_type": "code",
      "metadata": {
        "id": "JqEoG1_XrcBn"
      },
      "source": [
        "num_layers = list(range(1, 13, 2))      # from 1 to 12 layers \n",
        "\n",
        "coref_results[roberta_model] = {}\n",
        "coref_results[roberta_model][task] = {}\n",
        "\n",
        "for n_layers in num_layers:\n",
        "    f1_macro = probe(roberta_model, task, n_layers, dataset_size) # get f1_macro after probing\n",
        "    coref_results[roberta_model][task][n_layers] = {}\n",
        "    coref_results[roberta_model][task][n_layers]['f1_macro'] = f1_macro # save f1 macro for plotting"
      ],
      "execution_count": null,
      "outputs": []
    },
    {
      "cell_type": "code",
      "metadata": {
        "id": "6ua0T3k-5H8h"
      },
      "source": [
        "roberta_model = \"roberta-base\"\n",
        "coref_results[roberta_model] = {\n",
        "    'coref': {\n",
        "        1: {'f1_macro': '0.5810381355932204'}, \n",
        "        3: {'f1_macro': '0.0'}, \n",
        "        5: {'f1_macro': '0.44525547445255476'}, \n",
        "        7: {'f1_macro': '0.44525547445255476'}, \n",
        "        9: {'f1_macro': '0.44525547445255476'}, \n",
        "        11: {'f1_macro': '0.3777777777777777'}\n",
        "      }\n",
        "    }"
      ],
      "execution_count": 194,
      "outputs": []
    },
    {
      "cell_type": "markdown",
      "metadata": {
        "id": "cRjCKhSc5eCL"
      },
      "source": [
        "###3.3.2 Visualization"
      ]
    },
    {
      "cell_type": "code",
      "metadata": {
        "colab": {
          "base_uri": "https://localhost:8080/",
          "height": 381
        },
        "id": "mtT7UZNe5g-y",
        "outputId": "4ea53749-c375-4497-ef2f-1c9ea35d9893"
      },
      "source": [
        "models = [bert_base_model, bert_squad_model, bert_babi_model, roberta_model, bert_adversarial_model]\n",
        "\n",
        "for model in models:\n",
        "  plot_task(model, task, model_to_linestyle[model], coref_results)\n",
        "plt.show()"
      ],
      "execution_count": 195,
      "outputs": [
        {
          "output_type": "display_data",
          "data": {
            "image/png": "[encoded data removed]",
            "text/plain": [
              "<Figure size 432x288 with 1 Axes>"
            ]
          },
          "metadata": {
            "tags": [],
            "needs_background": "light"
          }
        }
      ]
    },
    {
      "cell_type": "markdown",
      "metadata": {
        "id": "vpDrCo32-iU-"
      },
      "source": [
        "## **3.4 QUES Task**"
      ]
    },
    {
      "cell_type": "markdown",
      "metadata": {
        "id": "8bKvw6yp6lK9"
      },
      "source": [
        "###3.4.1 Train"
      ]
    },
    {
      "cell_type": "code",
      "metadata": {
        "id": "er_pmgBousm8"
      },
      "source": [
        "task = \"ques\"\n",
        "dataset_size = \"small\""
      ],
      "execution_count": null,
      "outputs": []
    },
    {
      "cell_type": "code",
      "metadata": {
        "id": "JLSnbEmQrqyN"
      },
      "source": [
        "num_layers = list(range(1, 13, 2))      # from 1 to 12 layers \n",
        "\n",
        "ques_results[roberta_model] = {}\n",
        "ques_results[roberta_model][task] = {}\n",
        "\n",
        "for n_layers in num_layers:\n",
        "    f1_macro = probe(roberta_model, task, n_layers, dataset_size) # get f1_macro after probing\n",
        "    ques_results[roberta_model][task][n_layers] = {}\n",
        "    ques_results[roberta_model][task][n_layers]['f1_macro'] = f1_macro # save f1 macro for plotting"
      ],
      "execution_count": null,
      "outputs": []
    },
    {
      "cell_type": "code",
      "metadata": {
        "id": "AXFWei9X6m9x"
      },
      "source": [
        "roberta_model = \"roberta-base\"\n",
        "ques_results[roberta_model] = {\n",
        "    'ques': {\n",
        "        1: {'f1_macro': '0.0'}, \n",
        "        3: {'f1_macro': '0.0'}, \n",
        "        5: {'f1_macro': '0.0'}, \n",
        "        7: {'f1_macro': '0.0'}, \n",
        "        9: {'f1_macro': '0.0'}, \n",
        "        11: {'f1_macro': '0.0'}\n",
        "      }\n",
        "    }"
      ],
      "execution_count": 206,
      "outputs": []
    },
    {
      "cell_type": "markdown",
      "metadata": {
        "id": "CzWuRKdR7-Hv"
      },
      "source": [
        "###3.4.2 Visualization"
      ]
    },
    {
      "cell_type": "code",
      "metadata": {
        "colab": {
          "base_uri": "https://localhost:8080/",
          "height": 381
        },
        "id": "hFuXl1j38FEK",
        "outputId": "95c81f57-c51f-4f65-9280-af7004e6b6c0"
      },
      "source": [
        "models = [bert_base_model, bert_squad_model, bert_babi_model, roberta_model, bert_adversarial_model]\n",
        "\n",
        "for model in models:\n",
        "  plot_task(model, task, model_to_linestyle[model], ques_results)\n",
        "plt.show()"
      ],
      "execution_count": 207,
      "outputs": [
        {
          "output_type": "display_data",
          "data": {
            "image/png": "[encoded data removed]",
            "text/plain": [
              "<Figure size 432x288 with 1 Axes>"
            ]
          },
          "metadata": {
            "tags": [],
            "needs_background": "light"
          }
        }
      ]
    },
    {
      "cell_type": "markdown",
      "metadata": {
        "id": "GL84X7yi-51J"
      },
      "source": [
        "## **3.5 SUP-SQUAD Task**"
      ]
    },
    {
      "cell_type": "markdown",
      "metadata": {
        "id": "PBYd8zsb4xsM"
      },
      "source": [
        "###3.5.1 Train"
      ]
    },
    {
      "cell_type": "code",
      "metadata": {
        "id": "nbEyJdGqu13l"
      },
      "source": [
        "task = \"sup-squad\"\n",
        "dataset_size = \"small\""
      ],
      "execution_count": null,
      "outputs": []
    },
    {
      "cell_type": "code",
      "metadata": {
        "id": "wpfRZYGcruEK"
      },
      "source": [
        "num_layers = list(range(1, 13, 2))      # from 1 to 12 layers \n",
        "\n",
        "sup_squad_results[roberta_model] = {}\n",
        "sup_squad_results[roberta_model][task] = {}\n",
        "\n",
        "for n_layers in num_layers:\n",
        "    f1_macro = probe(roberta_model, task, n_layers, dataset_size) # get f1_macro after probing\n",
        "    sup_squad_results[roberta_model][task][n_layers] = {}\n",
        "    sup_squad_results[roberta_model][task][n_layers]['f1_macro'] = f1_macro # save f1 macro for plotting"
      ],
      "execution_count": null,
      "outputs": []
    },
    {
      "cell_type": "code",
      "metadata": {
        "id": "lfwU_8R9u4eV"
      },
      "source": [
        "roberta_model = \"roberta-base\"\n",
        "sup_squad_results[roberta_model] = {\n",
        "    'sup-squad': {\n",
        "        1: {'f1_macro': '0.5017421602787456'}, \n",
        "        3: {'f1_macro': '0.44525547445255476'}, \n",
        "        5: {'f1_macro': '0.44525547445255476'}, \n",
        "        7: {'f1_macro': '0.44525547445255476'}, \n",
        "        9: {'f1_macro': '0.44525547445255476'}, \n",
        "        11: {'f1_macro': '0.44525547445255476'}\n",
        "      }\n",
        "    }"
      ],
      "execution_count": 218,
      "outputs": []
    },
    {
      "cell_type": "markdown",
      "metadata": {
        "id": "niXE0Sz-41WK"
      },
      "source": [
        "###3.5.2 Visualization"
      ]
    },
    {
      "cell_type": "code",
      "metadata": {
        "colab": {
          "base_uri": "https://localhost:8080/",
          "height": 381
        },
        "id": "p2q50HSt39D6",
        "outputId": "86d19a91-ad1a-430f-f5a3-8a0a14174c44"
      },
      "source": [
        "models = [bert_base_model, bert_squad_model, roberta_model]\n",
        "\n",
        "for model in models:\n",
        "  plot_task(model, task, model_to_linestyle[model], sup_squad_results)\n",
        "plt.show()"
      ],
      "execution_count": 219,
      "outputs": [
        {
          "output_type": "display_data",
          "data": {
            "image/png": "[encoded data removed]",
            "text/plain": [
              "<Figure size 432x288 with 1 Axes>"
            ]
          },
          "metadata": {
            "tags": [],
            "needs_background": "light"
          }
        }
      ]
    },
    {
      "cell_type": "markdown",
      "metadata": {
        "id": "xzTix5zE-6AI"
      },
      "source": [
        "## **3.6 SUP-BABI Task**"
      ]
    },
    {
      "cell_type": "markdown",
      "metadata": {
        "id": "XlHyU_KQCA7W"
      },
      "source": [
        "###3.6.1 Train"
      ]
    },
    {
      "cell_type": "code",
      "metadata": {
        "id": "x2dFWQC9vIJ4"
      },
      "source": [
        "task = \"sup-babi\"\n",
        "dataset_size = \"test\""
      ],
      "execution_count": 82,
      "outputs": []
    },
    {
      "cell_type": "code",
      "metadata": {
        "id": "Df_ChPRzsRTv"
      },
      "source": [
        "num_layers = list(range(1, 13, 2))      # from 1 to 12 layers \n",
        "\n",
        "sup_babi_results[roberta_model] = {}\n",
        "sup_babi_results[roberta_model][task] = {}\n",
        "\n",
        "for n_layers in num_layers:\n",
        "    f1_macro = probe(roberta_model, task, n_layers, dataset_size) # get f1_macro after probing\n",
        "    sup_babi_results[roberta_model][task][n_layers] = {}\n",
        "    sup_babi_results[roberta_model][task][n_layers]['f1_macro'] = f1_macro # save f1 macro for plotting"
      ],
      "execution_count": null,
      "outputs": []
    },
    {
      "cell_type": "code",
      "metadata": {
        "id": "HZKu7D6DCWZO"
      },
      "source": [
        "roberta_model = \"roberta-base\"\n",
        "sup_babi_results[roberta_model] = {\n",
        "    'sup-babi': {\n",
        "        1: {'f1_macro': '0.4666666666666667'}, \n",
        "        3: {'f1_macro': '0.4666666666666667'}, \n",
        "        5: {'f1_macro': '0.4666666666666667'}, \n",
        "        7: {'f1_macro': '0.4666666666666667'}, \n",
        "        9: {'f1_macro': '0.4666666666666667'}, \n",
        "        11: {'f1_macro': '0.4666666666666667'}\n",
        "      }\n",
        "    }"
      ],
      "execution_count": 224,
      "outputs": []
    },
    {
      "cell_type": "markdown",
      "metadata": {
        "id": "qA3TaRtqCEM6"
      },
      "source": [
        "###3.6.2 Visualization"
      ]
    },
    {
      "cell_type": "code",
      "metadata": {
        "colab": {
          "base_uri": "https://localhost:8080/",
          "height": 381
        },
        "id": "Po5y-vn3CpMO",
        "outputId": "f21f0fec-9594-45c1-b5b3-ceda7b8ca8cc"
      },
      "source": [
        "models = [bert_base_model, bert_babi_model, roberta_model]\n",
        "\n",
        "for model in models:\n",
        "  plot_task(model, task, model_to_linestyle[model], sup_babi_results)\n",
        "plt.show()"
      ],
      "execution_count": 225,
      "outputs": [
        {
          "output_type": "display_data",
          "data": {
            "image/png": "[encoded data removed]",
            "text/plain": [
              "<Figure size 432x288 with 1 Axes>"
            ]
          },
          "metadata": {
            "tags": [],
            "needs_background": "light"
          }
        }
      ]
    }
  ]
}