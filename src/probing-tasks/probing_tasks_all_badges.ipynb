{
  "nbformat": 4,
  "nbformat_minor": 0,
  "metadata": {
    "accelerator": "TPU",
    "colab": {
      "name": "probing_tasks_all_badges.ipynb",
      "provenance": [],
      "collapsed_sections": [
        "U1iV-pKNjJDS",
        "Yg6j-eMFjv_T",
        "ZZuCr3C1n7C2",
        "30ep-DwIGwr-",
        "ear-ihyitWp2",
        "U1Rc0qYJwe3M",
        "eVcNpk3lzSiV",
        "oHXy9ZmYJ721",
        "KCjy2WNXFhLN",
        "5h3GGF08GehK",
        "t516voTVG2M7",
        "Aq6uRwboQ9B8",
        "BdB390hEFjOB",
        "J7Y4HoVIGkjE",
        "zaIKDsy1G36T",
        "iZOOz79kHRHE",
        "l2ONkVJcRuhl",
        "TkeTt8ZqS1at",
        "-aWsXihuXSOt",
        "80d4GNwNxZhl",
        "QqUmwLpEF0D2",
        "YLw2i4RdHzTD",
        "TjPmagJpH3Ck",
        "loiZsMccH5gU",
        "OhRyi4eUIBkl",
        "sf_J-kPvID5T",
        "xeIGu1uYxjnI"
      ]
    },
    "kernelspec": {
      "display_name": "Python 3",
      "name": "python3"
    },
    "language_info": {
      "name": "python"
    },
    "widgets": {
      "application/vnd.jupyter.widget-state+json": {
        "34d80bcfd63841be9740d7feca5bfa9b": {
          "model_module": "@jupyter-widgets/controls",
          "model_name": "HBoxModel",
          "state": {
            "_view_name": "HBoxView",
            "_dom_classes": [],
            "_model_name": "HBoxModel",
            "_view_module": "@jupyter-widgets/controls",
            "_model_module_version": "1.5.0",
            "_view_count": null,
            "_view_module_version": "1.5.0",
            "box_style": "",
            "layout": "IPY_MODEL_590f648e1b274438930b19104d654e95",
            "_model_module": "@jupyter-widgets/controls",
            "children": [
              "IPY_MODEL_403cf1ee0ca847dba72210936f75c121",
              "IPY_MODEL_2b09c507ea844ecb92ddf78f6f8e60f8"
            ]
          }
        },
        "590f648e1b274438930b19104d654e95": {
          "model_module": "@jupyter-widgets/base",
          "model_name": "LayoutModel",
          "state": {
            "_view_name": "LayoutView",
            "grid_template_rows": null,
            "right": null,
            "justify_content": null,
            "_view_module": "@jupyter-widgets/base",
            "overflow": null,
            "_model_module_version": "1.2.0",
            "_view_count": null,
            "flex_flow": null,
            "width": null,
            "min_width": null,
            "border": null,
            "align_items": null,
            "bottom": null,
            "_model_module": "@jupyter-widgets/base",
            "top": null,
            "grid_column": null,
            "overflow_y": null,
            "overflow_x": null,
            "grid_auto_flow": null,
            "grid_area": null,
            "grid_template_columns": null,
            "flex": null,
            "_model_name": "LayoutModel",
            "justify_items": null,
            "grid_row": null,
            "max_height": null,
            "align_content": null,
            "visibility": null,
            "align_self": null,
            "height": null,
            "min_height": null,
            "padding": null,
            "grid_auto_rows": null,
            "grid_gap": null,
            "max_width": null,
            "order": null,
            "_view_module_version": "1.2.0",
            "grid_template_areas": null,
            "object_position": null,
            "object_fit": null,
            "grid_auto_columns": null,
            "margin": null,
            "display": null,
            "left": null
          }
        },
        "403cf1ee0ca847dba72210936f75c121": {
          "model_module": "@jupyter-widgets/controls",
          "model_name": "FloatProgressModel",
          "state": {
            "_view_name": "ProgressView",
            "style": "IPY_MODEL_af8489ce77394f1f944e04796d2df416",
            "_dom_classes": [],
            "description": "Downloading: 100%",
            "_model_name": "FloatProgressModel",
            "bar_style": "success",
            "max": 570,
            "_view_module": "@jupyter-widgets/controls",
            "_model_module_version": "1.5.0",
            "value": 570,
            "_view_count": null,
            "_view_module_version": "1.5.0",
            "orientation": "horizontal",
            "min": 0,
            "description_tooltip": null,
            "_model_module": "@jupyter-widgets/controls",
            "layout": "IPY_MODEL_55618a580cc549118cb2d4180e5fe224"
          }
        },
        "2b09c507ea844ecb92ddf78f6f8e60f8": {
          "model_module": "@jupyter-widgets/controls",
          "model_name": "HTMLModel",
          "state": {
            "_view_name": "HTMLView",
            "style": "IPY_MODEL_2be46d94e4504d1585ee9315e20a0882",
            "_dom_classes": [],
            "description": "",
            "_model_name": "HTMLModel",
            "placeholder": "​",
            "_view_module": "@jupyter-widgets/controls",
            "_model_module_version": "1.5.0",
            "value": " 570/570 [00:00&lt;00:00, 2.08kB/s]",
            "_view_count": null,
            "_view_module_version": "1.5.0",
            "description_tooltip": null,
            "_model_module": "@jupyter-widgets/controls",
            "layout": "IPY_MODEL_7d7156d493894294b1848f36eff38e46"
          }
        },
        "af8489ce77394f1f944e04796d2df416": {
          "model_module": "@jupyter-widgets/controls",
          "model_name": "ProgressStyleModel",
          "state": {
            "_view_name": "StyleView",
            "_model_name": "ProgressStyleModel",
            "description_width": "initial",
            "_view_module": "@jupyter-widgets/base",
            "_model_module_version": "1.5.0",
            "_view_count": null,
            "_view_module_version": "1.2.0",
            "bar_color": null,
            "_model_module": "@jupyter-widgets/controls"
          }
        },
        "55618a580cc549118cb2d4180e5fe224": {
          "model_module": "@jupyter-widgets/base",
          "model_name": "LayoutModel",
          "state": {
            "_view_name": "LayoutView",
            "grid_template_rows": null,
            "right": null,
            "justify_content": null,
            "_view_module": "@jupyter-widgets/base",
            "overflow": null,
            "_model_module_version": "1.2.0",
            "_view_count": null,
            "flex_flow": null,
            "width": null,
            "min_width": null,
            "border": null,
            "align_items": null,
            "bottom": null,
            "_model_module": "@jupyter-widgets/base",
            "top": null,
            "grid_column": null,
            "overflow_y": null,
            "overflow_x": null,
            "grid_auto_flow": null,
            "grid_area": null,
            "grid_template_columns": null,
            "flex": null,
            "_model_name": "LayoutModel",
            "justify_items": null,
            "grid_row": null,
            "max_height": null,
            "align_content": null,
            "visibility": null,
            "align_self": null,
            "height": null,
            "min_height": null,
            "padding": null,
            "grid_auto_rows": null,
            "grid_gap": null,
            "max_width": null,
            "order": null,
            "_view_module_version": "1.2.0",
            "grid_template_areas": null,
            "object_position": null,
            "object_fit": null,
            "grid_auto_columns": null,
            "margin": null,
            "display": null,
            "left": null
          }
        },
        "2be46d94e4504d1585ee9315e20a0882": {
          "model_module": "@jupyter-widgets/controls",
          "model_name": "DescriptionStyleModel",
          "state": {
            "_view_name": "StyleView",
            "_model_name": "DescriptionStyleModel",
            "description_width": "",
            "_view_module": "@jupyter-widgets/base",
            "_model_module_version": "1.5.0",
            "_view_count": null,
            "_view_module_version": "1.2.0",
            "_model_module": "@jupyter-widgets/controls"
          }
        },
        "7d7156d493894294b1848f36eff38e46": {
          "model_module": "@jupyter-widgets/base",
          "model_name": "LayoutModel",
          "state": {
            "_view_name": "LayoutView",
            "grid_template_rows": null,
            "right": null,
            "justify_content": null,
            "_view_module": "@jupyter-widgets/base",
            "overflow": null,
            "_model_module_version": "1.2.0",
            "_view_count": null,
            "flex_flow": null,
            "width": null,
            "min_width": null,
            "border": null,
            "align_items": null,
            "bottom": null,
            "_model_module": "@jupyter-widgets/base",
            "top": null,
            "grid_column": null,
            "overflow_y": null,
            "overflow_x": null,
            "grid_auto_flow": null,
            "grid_area": null,
            "grid_template_columns": null,
            "flex": null,
            "_model_name": "LayoutModel",
            "justify_items": null,
            "grid_row": null,
            "max_height": null,
            "align_content": null,
            "visibility": null,
            "align_self": null,
            "height": null,
            "min_height": null,
            "padding": null,
            "grid_auto_rows": null,
            "grid_gap": null,
            "max_width": null,
            "order": null,
            "_view_module_version": "1.2.0",
            "grid_template_areas": null,
            "object_position": null,
            "object_fit": null,
            "grid_auto_columns": null,
            "margin": null,
            "display": null,
            "left": null
          }
        },
        "d575c21eb98e49efb64351a52b096e98": {
          "model_module": "@jupyter-widgets/controls",
          "model_name": "HBoxModel",
          "state": {
            "_view_name": "HBoxView",
            "_dom_classes": [],
            "_model_name": "HBoxModel",
            "_view_module": "@jupyter-widgets/controls",
            "_model_module_version": "1.5.0",
            "_view_count": null,
            "_view_module_version": "1.5.0",
            "box_style": "",
            "layout": "IPY_MODEL_c83f4914dfc0493a9640519e8446ac2f",
            "_model_module": "@jupyter-widgets/controls",
            "children": [
              "IPY_MODEL_19584cbc9dd849669deba7faf86c7bd2",
              "IPY_MODEL_27b28660c624472fb266290542240066"
            ]
          }
        },
        "c83f4914dfc0493a9640519e8446ac2f": {
          "model_module": "@jupyter-widgets/base",
          "model_name": "LayoutModel",
          "state": {
            "_view_name": "LayoutView",
            "grid_template_rows": null,
            "right": null,
            "justify_content": null,
            "_view_module": "@jupyter-widgets/base",
            "overflow": null,
            "_model_module_version": "1.2.0",
            "_view_count": null,
            "flex_flow": null,
            "width": null,
            "min_width": null,
            "border": null,
            "align_items": null,
            "bottom": null,
            "_model_module": "@jupyter-widgets/base",
            "top": null,
            "grid_column": null,
            "overflow_y": null,
            "overflow_x": null,
            "grid_auto_flow": null,
            "grid_area": null,
            "grid_template_columns": null,
            "flex": null,
            "_model_name": "LayoutModel",
            "justify_items": null,
            "grid_row": null,
            "max_height": null,
            "align_content": null,
            "visibility": null,
            "align_self": null,
            "height": null,
            "min_height": null,
            "padding": null,
            "grid_auto_rows": null,
            "grid_gap": null,
            "max_width": null,
            "order": null,
            "_view_module_version": "1.2.0",
            "grid_template_areas": null,
            "object_position": null,
            "object_fit": null,
            "grid_auto_columns": null,
            "margin": null,
            "display": null,
            "left": null
          }
        },
        "19584cbc9dd849669deba7faf86c7bd2": {
          "model_module": "@jupyter-widgets/controls",
          "model_name": "FloatProgressModel",
          "state": {
            "_view_name": "ProgressView",
            "style": "IPY_MODEL_e154422390754d54b2ba20f9f5684bc5",
            "_dom_classes": [],
            "description": "Downloading: 100%",
            "_model_name": "FloatProgressModel",
            "bar_style": "success",
            "max": 440473133,
            "_view_module": "@jupyter-widgets/controls",
            "_model_module_version": "1.5.0",
            "value": 440473133,
            "_view_count": null,
            "_view_module_version": "1.5.0",
            "orientation": "horizontal",
            "min": 0,
            "description_tooltip": null,
            "_model_module": "@jupyter-widgets/controls",
            "layout": "IPY_MODEL_5305bfec50eb4db1a379d919986d0575"
          }
        },
        "27b28660c624472fb266290542240066": {
          "model_module": "@jupyter-widgets/controls",
          "model_name": "HTMLModel",
          "state": {
            "_view_name": "HTMLView",
            "style": "IPY_MODEL_4d81f7084d524386a92538d570ebbe39",
            "_dom_classes": [],
            "description": "",
            "_model_name": "HTMLModel",
            "placeholder": "​",
            "_view_module": "@jupyter-widgets/controls",
            "_model_module_version": "1.5.0",
            "value": " 440M/440M [00:13&lt;00:00, 33.0MB/s]",
            "_view_count": null,
            "_view_module_version": "1.5.0",
            "description_tooltip": null,
            "_model_module": "@jupyter-widgets/controls",
            "layout": "IPY_MODEL_aecc9f27ee2f40adab7317e93a0c626d"
          }
        },
        "e154422390754d54b2ba20f9f5684bc5": {
          "model_module": "@jupyter-widgets/controls",
          "model_name": "ProgressStyleModel",
          "state": {
            "_view_name": "StyleView",
            "_model_name": "ProgressStyleModel",
            "description_width": "initial",
            "_view_module": "@jupyter-widgets/base",
            "_model_module_version": "1.5.0",
            "_view_count": null,
            "_view_module_version": "1.2.0",
            "bar_color": null,
            "_model_module": "@jupyter-widgets/controls"
          }
        },
        "5305bfec50eb4db1a379d919986d0575": {
          "model_module": "@jupyter-widgets/base",
          "model_name": "LayoutModel",
          "state": {
            "_view_name": "LayoutView",
            "grid_template_rows": null,
            "right": null,
            "justify_content": null,
            "_view_module": "@jupyter-widgets/base",
            "overflow": null,
            "_model_module_version": "1.2.0",
            "_view_count": null,
            "flex_flow": null,
            "width": null,
            "min_width": null,
            "border": null,
            "align_items": null,
            "bottom": null,
            "_model_module": "@jupyter-widgets/base",
            "top": null,
            "grid_column": null,
            "overflow_y": null,
            "overflow_x": null,
            "grid_auto_flow": null,
            "grid_area": null,
            "grid_template_columns": null,
            "flex": null,
            "_model_name": "LayoutModel",
            "justify_items": null,
            "grid_row": null,
            "max_height": null,
            "align_content": null,
            "visibility": null,
            "align_self": null,
            "height": null,
            "min_height": null,
            "padding": null,
            "grid_auto_rows": null,
            "grid_gap": null,
            "max_width": null,
            "order": null,
            "_view_module_version": "1.2.0",
            "grid_template_areas": null,
            "object_position": null,
            "object_fit": null,
            "grid_auto_columns": null,
            "margin": null,
            "display": null,
            "left": null
          }
        },
        "4d81f7084d524386a92538d570ebbe39": {
          "model_module": "@jupyter-widgets/controls",
          "model_name": "DescriptionStyleModel",
          "state": {
            "_view_name": "StyleView",
            "_model_name": "DescriptionStyleModel",
            "description_width": "",
            "_view_module": "@jupyter-widgets/base",
            "_model_module_version": "1.5.0",
            "_view_count": null,
            "_view_module_version": "1.2.0",
            "_model_module": "@jupyter-widgets/controls"
          }
        },
        "aecc9f27ee2f40adab7317e93a0c626d": {
          "model_module": "@jupyter-widgets/base",
          "model_name": "LayoutModel",
          "state": {
            "_view_name": "LayoutView",
            "grid_template_rows": null,
            "right": null,
            "justify_content": null,
            "_view_module": "@jupyter-widgets/base",
            "overflow": null,
            "_model_module_version": "1.2.0",
            "_view_count": null,
            "flex_flow": null,
            "width": null,
            "min_width": null,
            "border": null,
            "align_items": null,
            "bottom": null,
            "_model_module": "@jupyter-widgets/base",
            "top": null,
            "grid_column": null,
            "overflow_y": null,
            "overflow_x": null,
            "grid_auto_flow": null,
            "grid_area": null,
            "grid_template_columns": null,
            "flex": null,
            "_model_name": "LayoutModel",
            "justify_items": null,
            "grid_row": null,
            "max_height": null,
            "align_content": null,
            "visibility": null,
            "align_self": null,
            "height": null,
            "min_height": null,
            "padding": null,
            "grid_auto_rows": null,
            "grid_gap": null,
            "max_width": null,
            "order": null,
            "_view_module_version": "1.2.0",
            "grid_template_areas": null,
            "object_position": null,
            "object_fit": null,
            "grid_auto_columns": null,
            "margin": null,
            "display": null,
            "left": null
          }
        },
        "29ad0f8d4c0249128435729b92878d0c": {
          "model_module": "@jupyter-widgets/controls",
          "model_name": "HBoxModel",
          "state": {
            "_view_name": "HBoxView",
            "_dom_classes": [],
            "_model_name": "HBoxModel",
            "_view_module": "@jupyter-widgets/controls",
            "_model_module_version": "1.5.0",
            "_view_count": null,
            "_view_module_version": "1.5.0",
            "box_style": "",
            "layout": "IPY_MODEL_08e7d983b22b4c93bb6ec211ee5f8a92",
            "_model_module": "@jupyter-widgets/controls",
            "children": [
              "IPY_MODEL_ef866c7134f248559867c87e178931a5",
              "IPY_MODEL_05cb869243eb4ed29781abed36e3282c"
            ]
          }
        },
        "08e7d983b22b4c93bb6ec211ee5f8a92": {
          "model_module": "@jupyter-widgets/base",
          "model_name": "LayoutModel",
          "state": {
            "_view_name": "LayoutView",
            "grid_template_rows": null,
            "right": null,
            "justify_content": null,
            "_view_module": "@jupyter-widgets/base",
            "overflow": null,
            "_model_module_version": "1.2.0",
            "_view_count": null,
            "flex_flow": null,
            "width": null,
            "min_width": null,
            "border": null,
            "align_items": null,
            "bottom": null,
            "_model_module": "@jupyter-widgets/base",
            "top": null,
            "grid_column": null,
            "overflow_y": null,
            "overflow_x": null,
            "grid_auto_flow": null,
            "grid_area": null,
            "grid_template_columns": null,
            "flex": null,
            "_model_name": "LayoutModel",
            "justify_items": null,
            "grid_row": null,
            "max_height": null,
            "align_content": null,
            "visibility": null,
            "align_self": null,
            "height": null,
            "min_height": null,
            "padding": null,
            "grid_auto_rows": null,
            "grid_gap": null,
            "max_width": null,
            "order": null,
            "_view_module_version": "1.2.0",
            "grid_template_areas": null,
            "object_position": null,
            "object_fit": null,
            "grid_auto_columns": null,
            "margin": null,
            "display": null,
            "left": null
          }
        },
        "ef866c7134f248559867c87e178931a5": {
          "model_module": "@jupyter-widgets/controls",
          "model_name": "FloatProgressModel",
          "state": {
            "_view_name": "ProgressView",
            "style": "IPY_MODEL_b829dd316409426a984bbbfd69940a02",
            "_dom_classes": [],
            "description": "Downloading: 100%",
            "_model_name": "FloatProgressModel",
            "bar_style": "success",
            "max": 231508,
            "_view_module": "@jupyter-widgets/controls",
            "_model_module_version": "1.5.0",
            "value": 231508,
            "_view_count": null,
            "_view_module_version": "1.5.0",
            "orientation": "horizontal",
            "min": 0,
            "description_tooltip": null,
            "_model_module": "@jupyter-widgets/controls",
            "layout": "IPY_MODEL_8d19e4014c1047ce8e70758000a8c4a0"
          }
        },
        "05cb869243eb4ed29781abed36e3282c": {
          "model_module": "@jupyter-widgets/controls",
          "model_name": "HTMLModel",
          "state": {
            "_view_name": "HTMLView",
            "style": "IPY_MODEL_807128b4896241b0a066279d4f573a1a",
            "_dom_classes": [],
            "description": "",
            "_model_name": "HTMLModel",
            "placeholder": "​",
            "_view_module": "@jupyter-widgets/controls",
            "_model_module_version": "1.5.0",
            "value": " 232k/232k [00:01&lt;00:00, 193kB/s]",
            "_view_count": null,
            "_view_module_version": "1.5.0",
            "description_tooltip": null,
            "_model_module": "@jupyter-widgets/controls",
            "layout": "IPY_MODEL_257cf1bb12714c63a861fa7e32dacdad"
          }
        },
        "b829dd316409426a984bbbfd69940a02": {
          "model_module": "@jupyter-widgets/controls",
          "model_name": "ProgressStyleModel",
          "state": {
            "_view_name": "StyleView",
            "_model_name": "ProgressStyleModel",
            "description_width": "initial",
            "_view_module": "@jupyter-widgets/base",
            "_model_module_version": "1.5.0",
            "_view_count": null,
            "_view_module_version": "1.2.0",
            "bar_color": null,
            "_model_module": "@jupyter-widgets/controls"
          }
        },
        "8d19e4014c1047ce8e70758000a8c4a0": {
          "model_module": "@jupyter-widgets/base",
          "model_name": "LayoutModel",
          "state": {
            "_view_name": "LayoutView",
            "grid_template_rows": null,
            "right": null,
            "justify_content": null,
            "_view_module": "@jupyter-widgets/base",
            "overflow": null,
            "_model_module_version": "1.2.0",
            "_view_count": null,
            "flex_flow": null,
            "width": null,
            "min_width": null,
            "border": null,
            "align_items": null,
            "bottom": null,
            "_model_module": "@jupyter-widgets/base",
            "top": null,
            "grid_column": null,
            "overflow_y": null,
            "overflow_x": null,
            "grid_auto_flow": null,
            "grid_area": null,
            "grid_template_columns": null,
            "flex": null,
            "_model_name": "LayoutModel",
            "justify_items": null,
            "grid_row": null,
            "max_height": null,
            "align_content": null,
            "visibility": null,
            "align_self": null,
            "height": null,
            "min_height": null,
            "padding": null,
            "grid_auto_rows": null,
            "grid_gap": null,
            "max_width": null,
            "order": null,
            "_view_module_version": "1.2.0",
            "grid_template_areas": null,
            "object_position": null,
            "object_fit": null,
            "grid_auto_columns": null,
            "margin": null,
            "display": null,
            "left": null
          }
        },
        "807128b4896241b0a066279d4f573a1a": {
          "model_module": "@jupyter-widgets/controls",
          "model_name": "DescriptionStyleModel",
          "state": {
            "_view_name": "StyleView",
            "_model_name": "DescriptionStyleModel",
            "description_width": "",
            "_view_module": "@jupyter-widgets/base",
            "_model_module_version": "1.5.0",
            "_view_count": null,
            "_view_module_version": "1.2.0",
            "_model_module": "@jupyter-widgets/controls"
          }
        },
        "257cf1bb12714c63a861fa7e32dacdad": {
          "model_module": "@jupyter-widgets/base",
          "model_name": "LayoutModel",
          "state": {
            "_view_name": "LayoutView",
            "grid_template_rows": null,
            "right": null,
            "justify_content": null,
            "_view_module": "@jupyter-widgets/base",
            "overflow": null,
            "_model_module_version": "1.2.0",
            "_view_count": null,
            "flex_flow": null,
            "width": null,
            "min_width": null,
            "border": null,
            "align_items": null,
            "bottom": null,
            "_model_module": "@jupyter-widgets/base",
            "top": null,
            "grid_column": null,
            "overflow_y": null,
            "overflow_x": null,
            "grid_auto_flow": null,
            "grid_area": null,
            "grid_template_columns": null,
            "flex": null,
            "_model_name": "LayoutModel",
            "justify_items": null,
            "grid_row": null,
            "max_height": null,
            "align_content": null,
            "visibility": null,
            "align_self": null,
            "height": null,
            "min_height": null,
            "padding": null,
            "grid_auto_rows": null,
            "grid_gap": null,
            "max_width": null,
            "order": null,
            "_view_module_version": "1.2.0",
            "grid_template_areas": null,
            "object_position": null,
            "object_fit": null,
            "grid_auto_columns": null,
            "margin": null,
            "display": null,
            "left": null
          }
        },
        "35d1ca0ec621429394f8611fd3b917c3": {
          "model_module": "@jupyter-widgets/controls",
          "model_name": "HBoxModel",
          "state": {
            "_view_name": "HBoxView",
            "_dom_classes": [],
            "_model_name": "HBoxModel",
            "_view_module": "@jupyter-widgets/controls",
            "_model_module_version": "1.5.0",
            "_view_count": null,
            "_view_module_version": "1.5.0",
            "box_style": "",
            "layout": "IPY_MODEL_549bcb0605c7421aa5332d0bc958e1a6",
            "_model_module": "@jupyter-widgets/controls",
            "children": [
              "IPY_MODEL_8c622b94d56342469bc987bf52277e9e",
              "IPY_MODEL_cd155799e97642c594f6a5d5a29404ef"
            ]
          }
        },
        "549bcb0605c7421aa5332d0bc958e1a6": {
          "model_module": "@jupyter-widgets/base",
          "model_name": "LayoutModel",
          "state": {
            "_view_name": "LayoutView",
            "grid_template_rows": null,
            "right": null,
            "justify_content": null,
            "_view_module": "@jupyter-widgets/base",
            "overflow": null,
            "_model_module_version": "1.2.0",
            "_view_count": null,
            "flex_flow": null,
            "width": null,
            "min_width": null,
            "border": null,
            "align_items": null,
            "bottom": null,
            "_model_module": "@jupyter-widgets/base",
            "top": null,
            "grid_column": null,
            "overflow_y": null,
            "overflow_x": null,
            "grid_auto_flow": null,
            "grid_area": null,
            "grid_template_columns": null,
            "flex": null,
            "_model_name": "LayoutModel",
            "justify_items": null,
            "grid_row": null,
            "max_height": null,
            "align_content": null,
            "visibility": null,
            "align_self": null,
            "height": null,
            "min_height": null,
            "padding": null,
            "grid_auto_rows": null,
            "grid_gap": null,
            "max_width": null,
            "order": null,
            "_view_module_version": "1.2.0",
            "grid_template_areas": null,
            "object_position": null,
            "object_fit": null,
            "grid_auto_columns": null,
            "margin": null,
            "display": null,
            "left": null
          }
        },
        "8c622b94d56342469bc987bf52277e9e": {
          "model_module": "@jupyter-widgets/controls",
          "model_name": "FloatProgressModel",
          "state": {
            "_view_name": "ProgressView",
            "style": "IPY_MODEL_cacec2fc9ac2442d8855590424351931",
            "_dom_classes": [],
            "description": "Downloading: 100%",
            "_model_name": "FloatProgressModel",
            "bar_style": "success",
            "max": 28,
            "_view_module": "@jupyter-widgets/controls",
            "_model_module_version": "1.5.0",
            "value": 28,
            "_view_count": null,
            "_view_module_version": "1.5.0",
            "orientation": "horizontal",
            "min": 0,
            "description_tooltip": null,
            "_model_module": "@jupyter-widgets/controls",
            "layout": "IPY_MODEL_4951528139894d149f98342e058607a6"
          }
        },
        "cd155799e97642c594f6a5d5a29404ef": {
          "model_module": "@jupyter-widgets/controls",
          "model_name": "HTMLModel",
          "state": {
            "_view_name": "HTMLView",
            "style": "IPY_MODEL_61f0e30e213340ea9e78510ff0a5b52c",
            "_dom_classes": [],
            "description": "",
            "_model_name": "HTMLModel",
            "placeholder": "​",
            "_view_module": "@jupyter-widgets/controls",
            "_model_module_version": "1.5.0",
            "value": " 28.0/28.0 [00:00&lt;00:00, 106B/s]",
            "_view_count": null,
            "_view_module_version": "1.5.0",
            "description_tooltip": null,
            "_model_module": "@jupyter-widgets/controls",
            "layout": "IPY_MODEL_68801fd777e94d0c96f12f2222819a5e"
          }
        },
        "cacec2fc9ac2442d8855590424351931": {
          "model_module": "@jupyter-widgets/controls",
          "model_name": "ProgressStyleModel",
          "state": {
            "_view_name": "StyleView",
            "_model_name": "ProgressStyleModel",
            "description_width": "initial",
            "_view_module": "@jupyter-widgets/base",
            "_model_module_version": "1.5.0",
            "_view_count": null,
            "_view_module_version": "1.2.0",
            "bar_color": null,
            "_model_module": "@jupyter-widgets/controls"
          }
        },
        "4951528139894d149f98342e058607a6": {
          "model_module": "@jupyter-widgets/base",
          "model_name": "LayoutModel",
          "state": {
            "_view_name": "LayoutView",
            "grid_template_rows": null,
            "right": null,
            "justify_content": null,
            "_view_module": "@jupyter-widgets/base",
            "overflow": null,
            "_model_module_version": "1.2.0",
            "_view_count": null,
            "flex_flow": null,
            "width": null,
            "min_width": null,
            "border": null,
            "align_items": null,
            "bottom": null,
            "_model_module": "@jupyter-widgets/base",
            "top": null,
            "grid_column": null,
            "overflow_y": null,
            "overflow_x": null,
            "grid_auto_flow": null,
            "grid_area": null,
            "grid_template_columns": null,
            "flex": null,
            "_model_name": "LayoutModel",
            "justify_items": null,
            "grid_row": null,
            "max_height": null,
            "align_content": null,
            "visibility": null,
            "align_self": null,
            "height": null,
            "min_height": null,
            "padding": null,
            "grid_auto_rows": null,
            "grid_gap": null,
            "max_width": null,
            "order": null,
            "_view_module_version": "1.2.0",
            "grid_template_areas": null,
            "object_position": null,
            "object_fit": null,
            "grid_auto_columns": null,
            "margin": null,
            "display": null,
            "left": null
          }
        },
        "61f0e30e213340ea9e78510ff0a5b52c": {
          "model_module": "@jupyter-widgets/controls",
          "model_name": "DescriptionStyleModel",
          "state": {
            "_view_name": "StyleView",
            "_model_name": "DescriptionStyleModel",
            "description_width": "",
            "_view_module": "@jupyter-widgets/base",
            "_model_module_version": "1.5.0",
            "_view_count": null,
            "_view_module_version": "1.2.0",
            "_model_module": "@jupyter-widgets/controls"
          }
        },
        "68801fd777e94d0c96f12f2222819a5e": {
          "model_module": "@jupyter-widgets/base",
          "model_name": "LayoutModel",
          "state": {
            "_view_name": "LayoutView",
            "grid_template_rows": null,
            "right": null,
            "justify_content": null,
            "_view_module": "@jupyter-widgets/base",
            "overflow": null,
            "_model_module_version": "1.2.0",
            "_view_count": null,
            "flex_flow": null,
            "width": null,
            "min_width": null,
            "border": null,
            "align_items": null,
            "bottom": null,
            "_model_module": "@jupyter-widgets/base",
            "top": null,
            "grid_column": null,
            "overflow_y": null,
            "overflow_x": null,
            "grid_auto_flow": null,
            "grid_area": null,
            "grid_template_columns": null,
            "flex": null,
            "_model_name": "LayoutModel",
            "justify_items": null,
            "grid_row": null,
            "max_height": null,
            "align_content": null,
            "visibility": null,
            "align_self": null,
            "height": null,
            "min_height": null,
            "padding": null,
            "grid_auto_rows": null,
            "grid_gap": null,
            "max_width": null,
            "order": null,
            "_view_module_version": "1.2.0",
            "grid_template_areas": null,
            "object_position": null,
            "object_fit": null,
            "grid_auto_columns": null,
            "margin": null,
            "display": null,
            "left": null
          }
        },
        "82b1700b1229439bbcaedabf739911f1": {
          "model_module": "@jupyter-widgets/controls",
          "model_name": "HBoxModel",
          "state": {
            "_view_name": "HBoxView",
            "_dom_classes": [],
            "_model_name": "HBoxModel",
            "_view_module": "@jupyter-widgets/controls",
            "_model_module_version": "1.5.0",
            "_view_count": null,
            "_view_module_version": "1.5.0",
            "box_style": "",
            "layout": "IPY_MODEL_90229b4bc24e42ac94e966806e4dc042",
            "_model_module": "@jupyter-widgets/controls",
            "children": [
              "IPY_MODEL_a71ba695e27b4999a6f91479399746ff",
              "IPY_MODEL_d73b45d229ac46b6b61e69a06aa99ae5"
            ]
          }
        },
        "90229b4bc24e42ac94e966806e4dc042": {
          "model_module": "@jupyter-widgets/base",
          "model_name": "LayoutModel",
          "state": {
            "_view_name": "LayoutView",
            "grid_template_rows": null,
            "right": null,
            "justify_content": null,
            "_view_module": "@jupyter-widgets/base",
            "overflow": null,
            "_model_module_version": "1.2.0",
            "_view_count": null,
            "flex_flow": null,
            "width": null,
            "min_width": null,
            "border": null,
            "align_items": null,
            "bottom": null,
            "_model_module": "@jupyter-widgets/base",
            "top": null,
            "grid_column": null,
            "overflow_y": null,
            "overflow_x": null,
            "grid_auto_flow": null,
            "grid_area": null,
            "grid_template_columns": null,
            "flex": null,
            "_model_name": "LayoutModel",
            "justify_items": null,
            "grid_row": null,
            "max_height": null,
            "align_content": null,
            "visibility": null,
            "align_self": null,
            "height": null,
            "min_height": null,
            "padding": null,
            "grid_auto_rows": null,
            "grid_gap": null,
            "max_width": null,
            "order": null,
            "_view_module_version": "1.2.0",
            "grid_template_areas": null,
            "object_position": null,
            "object_fit": null,
            "grid_auto_columns": null,
            "margin": null,
            "display": null,
            "left": null
          }
        },
        "a71ba695e27b4999a6f91479399746ff": {
          "model_module": "@jupyter-widgets/controls",
          "model_name": "FloatProgressModel",
          "state": {
            "_view_name": "ProgressView",
            "style": "IPY_MODEL_3a86820af5c244569f41988641d7d4e9",
            "_dom_classes": [],
            "description": "Downloading: 100%",
            "_model_name": "FloatProgressModel",
            "bar_style": "success",
            "max": 466062,
            "_view_module": "@jupyter-widgets/controls",
            "_model_module_version": "1.5.0",
            "value": 466062,
            "_view_count": null,
            "_view_module_version": "1.5.0",
            "orientation": "horizontal",
            "min": 0,
            "description_tooltip": null,
            "_model_module": "@jupyter-widgets/controls",
            "layout": "IPY_MODEL_9e94dc6cecb0452cb163cfaa2b57bc14"
          }
        },
        "d73b45d229ac46b6b61e69a06aa99ae5": {
          "model_module": "@jupyter-widgets/controls",
          "model_name": "HTMLModel",
          "state": {
            "_view_name": "HTMLView",
            "style": "IPY_MODEL_7926cf82f3df4f30aa5782cdaa71b2a9",
            "_dom_classes": [],
            "description": "",
            "_model_name": "HTMLModel",
            "placeholder": "​",
            "_view_module": "@jupyter-widgets/controls",
            "_model_module_version": "1.5.0",
            "value": " 466k/466k [00:00&lt;00:00, 2.91MB/s]",
            "_view_count": null,
            "_view_module_version": "1.5.0",
            "description_tooltip": null,
            "_model_module": "@jupyter-widgets/controls",
            "layout": "IPY_MODEL_4f51500da02248f59c61ee3af1b3ddc0"
          }
        },
        "3a86820af5c244569f41988641d7d4e9": {
          "model_module": "@jupyter-widgets/controls",
          "model_name": "ProgressStyleModel",
          "state": {
            "_view_name": "StyleView",
            "_model_name": "ProgressStyleModel",
            "description_width": "initial",
            "_view_module": "@jupyter-widgets/base",
            "_model_module_version": "1.5.0",
            "_view_count": null,
            "_view_module_version": "1.2.0",
            "bar_color": null,
            "_model_module": "@jupyter-widgets/controls"
          }
        },
        "9e94dc6cecb0452cb163cfaa2b57bc14": {
          "model_module": "@jupyter-widgets/base",
          "model_name": "LayoutModel",
          "state": {
            "_view_name": "LayoutView",
            "grid_template_rows": null,
            "right": null,
            "justify_content": null,
            "_view_module": "@jupyter-widgets/base",
            "overflow": null,
            "_model_module_version": "1.2.0",
            "_view_count": null,
            "flex_flow": null,
            "width": null,
            "min_width": null,
            "border": null,
            "align_items": null,
            "bottom": null,
            "_model_module": "@jupyter-widgets/base",
            "top": null,
            "grid_column": null,
            "overflow_y": null,
            "overflow_x": null,
            "grid_auto_flow": null,
            "grid_area": null,
            "grid_template_columns": null,
            "flex": null,
            "_model_name": "LayoutModel",
            "justify_items": null,
            "grid_row": null,
            "max_height": null,
            "align_content": null,
            "visibility": null,
            "align_self": null,
            "height": null,
            "min_height": null,
            "padding": null,
            "grid_auto_rows": null,
            "grid_gap": null,
            "max_width": null,
            "order": null,
            "_view_module_version": "1.2.0",
            "grid_template_areas": null,
            "object_position": null,
            "object_fit": null,
            "grid_auto_columns": null,
            "margin": null,
            "display": null,
            "left": null
          }
        },
        "7926cf82f3df4f30aa5782cdaa71b2a9": {
          "model_module": "@jupyter-widgets/controls",
          "model_name": "DescriptionStyleModel",
          "state": {
            "_view_name": "StyleView",
            "_model_name": "DescriptionStyleModel",
            "description_width": "",
            "_view_module": "@jupyter-widgets/base",
            "_model_module_version": "1.5.0",
            "_view_count": null,
            "_view_module_version": "1.2.0",
            "_model_module": "@jupyter-widgets/controls"
          }
        },
        "4f51500da02248f59c61ee3af1b3ddc0": {
          "model_module": "@jupyter-widgets/base",
          "model_name": "LayoutModel",
          "state": {
            "_view_name": "LayoutView",
            "grid_template_rows": null,
            "right": null,
            "justify_content": null,
            "_view_module": "@jupyter-widgets/base",
            "overflow": null,
            "_model_module_version": "1.2.0",
            "_view_count": null,
            "flex_flow": null,
            "width": null,
            "min_width": null,
            "border": null,
            "align_items": null,
            "bottom": null,
            "_model_module": "@jupyter-widgets/base",
            "top": null,
            "grid_column": null,
            "overflow_y": null,
            "overflow_x": null,
            "grid_auto_flow": null,
            "grid_area": null,
            "grid_template_columns": null,
            "flex": null,
            "_model_name": "LayoutModel",
            "justify_items": null,
            "grid_row": null,
            "max_height": null,
            "align_content": null,
            "visibility": null,
            "align_self": null,
            "height": null,
            "min_height": null,
            "padding": null,
            "grid_auto_rows": null,
            "grid_gap": null,
            "max_width": null,
            "order": null,
            "_view_module_version": "1.2.0",
            "grid_template_areas": null,
            "object_position": null,
            "object_fit": null,
            "grid_auto_columns": null,
            "margin": null,
            "display": null,
            "left": null
          }
        },
        "27dc308fa1bb4d43a966bd51f48ecabd": {
          "model_module": "@jupyter-widgets/controls",
          "model_name": "HBoxModel",
          "state": {
            "_view_name": "HBoxView",
            "_dom_classes": [],
            "_model_name": "HBoxModel",
            "_view_module": "@jupyter-widgets/controls",
            "_model_module_version": "1.5.0",
            "_view_count": null,
            "_view_module_version": "1.5.0",
            "box_style": "",
            "layout": "IPY_MODEL_e21b50b5b1884882aae8d409354cb55a",
            "_model_module": "@jupyter-widgets/controls",
            "children": [
              "IPY_MODEL_aa2b0329eff24a13bca930502ecf46e7",
              "IPY_MODEL_61a4fd3943304eb483ba3273798b5a70"
            ]
          }
        },
        "e21b50b5b1884882aae8d409354cb55a": {
          "model_module": "@jupyter-widgets/base",
          "model_name": "LayoutModel",
          "state": {
            "_view_name": "LayoutView",
            "grid_template_rows": null,
            "right": null,
            "justify_content": null,
            "_view_module": "@jupyter-widgets/base",
            "overflow": null,
            "_model_module_version": "1.2.0",
            "_view_count": null,
            "flex_flow": null,
            "width": null,
            "min_width": null,
            "border": null,
            "align_items": null,
            "bottom": null,
            "_model_module": "@jupyter-widgets/base",
            "top": null,
            "grid_column": null,
            "overflow_y": null,
            "overflow_x": null,
            "grid_auto_flow": null,
            "grid_area": null,
            "grid_template_columns": null,
            "flex": null,
            "_model_name": "LayoutModel",
            "justify_items": null,
            "grid_row": null,
            "max_height": null,
            "align_content": null,
            "visibility": null,
            "align_self": null,
            "height": null,
            "min_height": null,
            "padding": null,
            "grid_auto_rows": null,
            "grid_gap": null,
            "max_width": null,
            "order": null,
            "_view_module_version": "1.2.0",
            "grid_template_areas": null,
            "object_position": null,
            "object_fit": null,
            "grid_auto_columns": null,
            "margin": null,
            "display": null,
            "left": null
          }
        },
        "aa2b0329eff24a13bca930502ecf46e7": {
          "model_module": "@jupyter-widgets/controls",
          "model_name": "FloatProgressModel",
          "state": {
            "_view_name": "ProgressView",
            "style": "IPY_MODEL_a9c171357f174a0dbefbd0a193d3e6b4",
            "_dom_classes": [],
            "description": "Downloading: 100%",
            "_model_name": "FloatProgressModel",
            "bar_style": "success",
            "max": 477,
            "_view_module": "@jupyter-widgets/controls",
            "_model_module_version": "1.5.0",
            "value": 477,
            "_view_count": null,
            "_view_module_version": "1.5.0",
            "orientation": "horizontal",
            "min": 0,
            "description_tooltip": null,
            "_model_module": "@jupyter-widgets/controls",
            "layout": "IPY_MODEL_6bad4ba1aa3b4891a8b51f5f357a9984"
          }
        },
        "61a4fd3943304eb483ba3273798b5a70": {
          "model_module": "@jupyter-widgets/controls",
          "model_name": "HTMLModel",
          "state": {
            "_view_name": "HTMLView",
            "style": "IPY_MODEL_0ed6f51429ac4bd69a6b2ac07fd0596e",
            "_dom_classes": [],
            "description": "",
            "_model_name": "HTMLModel",
            "placeholder": "​",
            "_view_module": "@jupyter-widgets/controls",
            "_model_module_version": "1.5.0",
            "value": " 477/477 [00:00&lt;00:00, 585B/s]",
            "_view_count": null,
            "_view_module_version": "1.5.0",
            "description_tooltip": null,
            "_model_module": "@jupyter-widgets/controls",
            "layout": "IPY_MODEL_9f9e919e3a5a43408841cdcac5c50db2"
          }
        },
        "a9c171357f174a0dbefbd0a193d3e6b4": {
          "model_module": "@jupyter-widgets/controls",
          "model_name": "ProgressStyleModel",
          "state": {
            "_view_name": "StyleView",
            "_model_name": "ProgressStyleModel",
            "description_width": "initial",
            "_view_module": "@jupyter-widgets/base",
            "_model_module_version": "1.5.0",
            "_view_count": null,
            "_view_module_version": "1.2.0",
            "bar_color": null,
            "_model_module": "@jupyter-widgets/controls"
          }
        },
        "6bad4ba1aa3b4891a8b51f5f357a9984": {
          "model_module": "@jupyter-widgets/base",
          "model_name": "LayoutModel",
          "state": {
            "_view_name": "LayoutView",
            "grid_template_rows": null,
            "right": null,
            "justify_content": null,
            "_view_module": "@jupyter-widgets/base",
            "overflow": null,
            "_model_module_version": "1.2.0",
            "_view_count": null,
            "flex_flow": null,
            "width": null,
            "min_width": null,
            "border": null,
            "align_items": null,
            "bottom": null,
            "_model_module": "@jupyter-widgets/base",
            "top": null,
            "grid_column": null,
            "overflow_y": null,
            "overflow_x": null,
            "grid_auto_flow": null,
            "grid_area": null,
            "grid_template_columns": null,
            "flex": null,
            "_model_name": "LayoutModel",
            "justify_items": null,
            "grid_row": null,
            "max_height": null,
            "align_content": null,
            "visibility": null,
            "align_self": null,
            "height": null,
            "min_height": null,
            "padding": null,
            "grid_auto_rows": null,
            "grid_gap": null,
            "max_width": null,
            "order": null,
            "_view_module_version": "1.2.0",
            "grid_template_areas": null,
            "object_position": null,
            "object_fit": null,
            "grid_auto_columns": null,
            "margin": null,
            "display": null,
            "left": null
          }
        },
        "0ed6f51429ac4bd69a6b2ac07fd0596e": {
          "model_module": "@jupyter-widgets/controls",
          "model_name": "DescriptionStyleModel",
          "state": {
            "_view_name": "StyleView",
            "_model_name": "DescriptionStyleModel",
            "description_width": "",
            "_view_module": "@jupyter-widgets/base",
            "_model_module_version": "1.5.0",
            "_view_count": null,
            "_view_module_version": "1.2.0",
            "_model_module": "@jupyter-widgets/controls"
          }
        },
        "9f9e919e3a5a43408841cdcac5c50db2": {
          "model_module": "@jupyter-widgets/base",
          "model_name": "LayoutModel",
          "state": {
            "_view_name": "LayoutView",
            "grid_template_rows": null,
            "right": null,
            "justify_content": null,
            "_view_module": "@jupyter-widgets/base",
            "overflow": null,
            "_model_module_version": "1.2.0",
            "_view_count": null,
            "flex_flow": null,
            "width": null,
            "min_width": null,
            "border": null,
            "align_items": null,
            "bottom": null,
            "_model_module": "@jupyter-widgets/base",
            "top": null,
            "grid_column": null,
            "overflow_y": null,
            "overflow_x": null,
            "grid_auto_flow": null,
            "grid_area": null,
            "grid_template_columns": null,
            "flex": null,
            "_model_name": "LayoutModel",
            "justify_items": null,
            "grid_row": null,
            "max_height": null,
            "align_content": null,
            "visibility": null,
            "align_self": null,
            "height": null,
            "min_height": null,
            "padding": null,
            "grid_auto_rows": null,
            "grid_gap": null,
            "max_width": null,
            "order": null,
            "_view_module_version": "1.2.0",
            "grid_template_areas": null,
            "object_position": null,
            "object_fit": null,
            "grid_auto_columns": null,
            "margin": null,
            "display": null,
            "left": null
          }
        },
        "68b36da629ad4843becd5c6aac4bdd14": {
          "model_module": "@jupyter-widgets/controls",
          "model_name": "HBoxModel",
          "state": {
            "_view_name": "HBoxView",
            "_dom_classes": [],
            "_model_name": "HBoxModel",
            "_view_module": "@jupyter-widgets/controls",
            "_model_module_version": "1.5.0",
            "_view_count": null,
            "_view_module_version": "1.5.0",
            "box_style": "",
            "layout": "IPY_MODEL_2f9fd088af8f474d98ae86fe88f8ae29",
            "_model_module": "@jupyter-widgets/controls",
            "children": [
              "IPY_MODEL_1e56981cf90d47798ec44cbdaf0ddf0c",
              "IPY_MODEL_6a0285326abe42deaf4dcbccadbf9cfe"
            ]
          }
        },
        "2f9fd088af8f474d98ae86fe88f8ae29": {
          "model_module": "@jupyter-widgets/base",
          "model_name": "LayoutModel",
          "state": {
            "_view_name": "LayoutView",
            "grid_template_rows": null,
            "right": null,
            "justify_content": null,
            "_view_module": "@jupyter-widgets/base",
            "overflow": null,
            "_model_module_version": "1.2.0",
            "_view_count": null,
            "flex_flow": null,
            "width": null,
            "min_width": null,
            "border": null,
            "align_items": null,
            "bottom": null,
            "_model_module": "@jupyter-widgets/base",
            "top": null,
            "grid_column": null,
            "overflow_y": null,
            "overflow_x": null,
            "grid_auto_flow": null,
            "grid_area": null,
            "grid_template_columns": null,
            "flex": null,
            "_model_name": "LayoutModel",
            "justify_items": null,
            "grid_row": null,
            "max_height": null,
            "align_content": null,
            "visibility": null,
            "align_self": null,
            "height": null,
            "min_height": null,
            "padding": null,
            "grid_auto_rows": null,
            "grid_gap": null,
            "max_width": null,
            "order": null,
            "_view_module_version": "1.2.0",
            "grid_template_areas": null,
            "object_position": null,
            "object_fit": null,
            "grid_auto_columns": null,
            "margin": null,
            "display": null,
            "left": null
          }
        },
        "1e56981cf90d47798ec44cbdaf0ddf0c": {
          "model_module": "@jupyter-widgets/controls",
          "model_name": "FloatProgressModel",
          "state": {
            "_view_name": "ProgressView",
            "style": "IPY_MODEL_103f9b83efc8436abe4553ae58785079",
            "_dom_classes": [],
            "description": "Downloading: 100%",
            "_model_name": "FloatProgressModel",
            "bar_style": "success",
            "max": 437983344,
            "_view_module": "@jupyter-widgets/controls",
            "_model_module_version": "1.5.0",
            "value": 437983344,
            "_view_count": null,
            "_view_module_version": "1.5.0",
            "orientation": "horizontal",
            "min": 0,
            "description_tooltip": null,
            "_model_module": "@jupyter-widgets/controls",
            "layout": "IPY_MODEL_289e90902b6e414aa8a8288dba597198"
          }
        },
        "6a0285326abe42deaf4dcbccadbf9cfe": {
          "model_module": "@jupyter-widgets/controls",
          "model_name": "HTMLModel",
          "state": {
            "_view_name": "HTMLView",
            "style": "IPY_MODEL_316a0b88f07243ccabd2ef9d2e1f160f",
            "_dom_classes": [],
            "description": "",
            "_model_name": "HTMLModel",
            "placeholder": "​",
            "_view_module": "@jupyter-widgets/controls",
            "_model_module_version": "1.5.0",
            "value": " 438M/438M [00:15&lt;00:00, 28.8MB/s]",
            "_view_count": null,
            "_view_module_version": "1.5.0",
            "description_tooltip": null,
            "_model_module": "@jupyter-widgets/controls",
            "layout": "IPY_MODEL_73e199e12b524bfaae484aa32844361a"
          }
        },
        "103f9b83efc8436abe4553ae58785079": {
          "model_module": "@jupyter-widgets/controls",
          "model_name": "ProgressStyleModel",
          "state": {
            "_view_name": "StyleView",
            "_model_name": "ProgressStyleModel",
            "description_width": "initial",
            "_view_module": "@jupyter-widgets/base",
            "_model_module_version": "1.5.0",
            "_view_count": null,
            "_view_module_version": "1.2.0",
            "bar_color": null,
            "_model_module": "@jupyter-widgets/controls"
          }
        },
        "289e90902b6e414aa8a8288dba597198": {
          "model_module": "@jupyter-widgets/base",
          "model_name": "LayoutModel",
          "state": {
            "_view_name": "LayoutView",
            "grid_template_rows": null,
            "right": null,
            "justify_content": null,
            "_view_module": "@jupyter-widgets/base",
            "overflow": null,
            "_model_module_version": "1.2.0",
            "_view_count": null,
            "flex_flow": null,
            "width": null,
            "min_width": null,
            "border": null,
            "align_items": null,
            "bottom": null,
            "_model_module": "@jupyter-widgets/base",
            "top": null,
            "grid_column": null,
            "overflow_y": null,
            "overflow_x": null,
            "grid_auto_flow": null,
            "grid_area": null,
            "grid_template_columns": null,
            "flex": null,
            "_model_name": "LayoutModel",
            "justify_items": null,
            "grid_row": null,
            "max_height": null,
            "align_content": null,
            "visibility": null,
            "align_self": null,
            "height": null,
            "min_height": null,
            "padding": null,
            "grid_auto_rows": null,
            "grid_gap": null,
            "max_width": null,
            "order": null,
            "_view_module_version": "1.2.0",
            "grid_template_areas": null,
            "object_position": null,
            "object_fit": null,
            "grid_auto_columns": null,
            "margin": null,
            "display": null,
            "left": null
          }
        },
        "316a0b88f07243ccabd2ef9d2e1f160f": {
          "model_module": "@jupyter-widgets/controls",
          "model_name": "DescriptionStyleModel",
          "state": {
            "_view_name": "StyleView",
            "_model_name": "DescriptionStyleModel",
            "description_width": "",
            "_view_module": "@jupyter-widgets/base",
            "_model_module_version": "1.5.0",
            "_view_count": null,
            "_view_module_version": "1.2.0",
            "_model_module": "@jupyter-widgets/controls"
          }
        },
        "73e199e12b524bfaae484aa32844361a": {
          "model_module": "@jupyter-widgets/base",
          "model_name": "LayoutModel",
          "state": {
            "_view_name": "LayoutView",
            "grid_template_rows": null,
            "right": null,
            "justify_content": null,
            "_view_module": "@jupyter-widgets/base",
            "overflow": null,
            "_model_module_version": "1.2.0",
            "_view_count": null,
            "flex_flow": null,
            "width": null,
            "min_width": null,
            "border": null,
            "align_items": null,
            "bottom": null,
            "_model_module": "@jupyter-widgets/base",
            "top": null,
            "grid_column": null,
            "overflow_y": null,
            "overflow_x": null,
            "grid_auto_flow": null,
            "grid_area": null,
            "grid_template_columns": null,
            "flex": null,
            "_model_name": "LayoutModel",
            "justify_items": null,
            "grid_row": null,
            "max_height": null,
            "align_content": null,
            "visibility": null,
            "align_self": null,
            "height": null,
            "min_height": null,
            "padding": null,
            "grid_auto_rows": null,
            "grid_gap": null,
            "max_width": null,
            "order": null,
            "_view_module_version": "1.2.0",
            "grid_template_areas": null,
            "object_position": null,
            "object_fit": null,
            "grid_auto_columns": null,
            "margin": null,
            "display": null,
            "left": null
          }
        },
        "2920cab4d35b4f84bc937e1a6c62745a": {
          "model_module": "@jupyter-widgets/controls",
          "model_name": "HBoxModel",
          "state": {
            "_view_name": "HBoxView",
            "_dom_classes": [],
            "_model_name": "HBoxModel",
            "_view_module": "@jupyter-widgets/controls",
            "_model_module_version": "1.5.0",
            "_view_count": null,
            "_view_module_version": "1.5.0",
            "box_style": "",
            "layout": "IPY_MODEL_9a960908413043b9bc75d86759a30d54",
            "_model_module": "@jupyter-widgets/controls",
            "children": [
              "IPY_MODEL_5d00cd441bac4cffae81af09c9c96989",
              "IPY_MODEL_791d12d2ac1748c384b0884b3e47ae50"
            ]
          }
        },
        "9a960908413043b9bc75d86759a30d54": {
          "model_module": "@jupyter-widgets/base",
          "model_name": "LayoutModel",
          "state": {
            "_view_name": "LayoutView",
            "grid_template_rows": null,
            "right": null,
            "justify_content": null,
            "_view_module": "@jupyter-widgets/base",
            "overflow": null,
            "_model_module_version": "1.2.0",
            "_view_count": null,
            "flex_flow": null,
            "width": null,
            "min_width": null,
            "border": null,
            "align_items": null,
            "bottom": null,
            "_model_module": "@jupyter-widgets/base",
            "top": null,
            "grid_column": null,
            "overflow_y": null,
            "overflow_x": null,
            "grid_auto_flow": null,
            "grid_area": null,
            "grid_template_columns": null,
            "flex": null,
            "_model_name": "LayoutModel",
            "justify_items": null,
            "grid_row": null,
            "max_height": null,
            "align_content": null,
            "visibility": null,
            "align_self": null,
            "height": null,
            "min_height": null,
            "padding": null,
            "grid_auto_rows": null,
            "grid_gap": null,
            "max_width": null,
            "order": null,
            "_view_module_version": "1.2.0",
            "grid_template_areas": null,
            "object_position": null,
            "object_fit": null,
            "grid_auto_columns": null,
            "margin": null,
            "display": null,
            "left": null
          }
        },
        "5d00cd441bac4cffae81af09c9c96989": {
          "model_module": "@jupyter-widgets/controls",
          "model_name": "FloatProgressModel",
          "state": {
            "_view_name": "ProgressView",
            "style": "IPY_MODEL_a710c31866714974a8665d53cde0f19b",
            "_dom_classes": [],
            "description": "Downloading: 100%",
            "_model_name": "FloatProgressModel",
            "bar_style": "success",
            "max": 231508,
            "_view_module": "@jupyter-widgets/controls",
            "_model_module_version": "1.5.0",
            "value": 231508,
            "_view_count": null,
            "_view_module_version": "1.5.0",
            "orientation": "horizontal",
            "min": 0,
            "description_tooltip": null,
            "_model_module": "@jupyter-widgets/controls",
            "layout": "IPY_MODEL_b22908a5f819488abf1587bc77f69196"
          }
        },
        "791d12d2ac1748c384b0884b3e47ae50": {
          "model_module": "@jupyter-widgets/controls",
          "model_name": "HTMLModel",
          "state": {
            "_view_name": "HTMLView",
            "style": "IPY_MODEL_d01359b9bad04c0fbffdfafb6e9f8dff",
            "_dom_classes": [],
            "description": "",
            "_model_name": "HTMLModel",
            "placeholder": "​",
            "_view_module": "@jupyter-widgets/controls",
            "_model_module_version": "1.5.0",
            "value": " 232k/232k [00:00&lt;00:00, 304kB/s]",
            "_view_count": null,
            "_view_module_version": "1.5.0",
            "description_tooltip": null,
            "_model_module": "@jupyter-widgets/controls",
            "layout": "IPY_MODEL_9fece40f93ce49f59c8d0b5ea4cf1101"
          }
        },
        "a710c31866714974a8665d53cde0f19b": {
          "model_module": "@jupyter-widgets/controls",
          "model_name": "ProgressStyleModel",
          "state": {
            "_view_name": "StyleView",
            "_model_name": "ProgressStyleModel",
            "description_width": "initial",
            "_view_module": "@jupyter-widgets/base",
            "_model_module_version": "1.5.0",
            "_view_count": null,
            "_view_module_version": "1.2.0",
            "bar_color": null,
            "_model_module": "@jupyter-widgets/controls"
          }
        },
        "b22908a5f819488abf1587bc77f69196": {
          "model_module": "@jupyter-widgets/base",
          "model_name": "LayoutModel",
          "state": {
            "_view_name": "LayoutView",
            "grid_template_rows": null,
            "right": null,
            "justify_content": null,
            "_view_module": "@jupyter-widgets/base",
            "overflow": null,
            "_model_module_version": "1.2.0",
            "_view_count": null,
            "flex_flow": null,
            "width": null,
            "min_width": null,
            "border": null,
            "align_items": null,
            "bottom": null,
            "_model_module": "@jupyter-widgets/base",
            "top": null,
            "grid_column": null,
            "overflow_y": null,
            "overflow_x": null,
            "grid_auto_flow": null,
            "grid_area": null,
            "grid_template_columns": null,
            "flex": null,
            "_model_name": "LayoutModel",
            "justify_items": null,
            "grid_row": null,
            "max_height": null,
            "align_content": null,
            "visibility": null,
            "align_self": null,
            "height": null,
            "min_height": null,
            "padding": null,
            "grid_auto_rows": null,
            "grid_gap": null,
            "max_width": null,
            "order": null,
            "_view_module_version": "1.2.0",
            "grid_template_areas": null,
            "object_position": null,
            "object_fit": null,
            "grid_auto_columns": null,
            "margin": null,
            "display": null,
            "left": null
          }
        },
        "d01359b9bad04c0fbffdfafb6e9f8dff": {
          "model_module": "@jupyter-widgets/controls",
          "model_name": "DescriptionStyleModel",
          "state": {
            "_view_name": "StyleView",
            "_model_name": "DescriptionStyleModel",
            "description_width": "",
            "_view_module": "@jupyter-widgets/base",
            "_model_module_version": "1.5.0",
            "_view_count": null,
            "_view_module_version": "1.2.0",
            "_model_module": "@jupyter-widgets/controls"
          }
        },
        "9fece40f93ce49f59c8d0b5ea4cf1101": {
          "model_module": "@jupyter-widgets/base",
          "model_name": "LayoutModel",
          "state": {
            "_view_name": "LayoutView",
            "grid_template_rows": null,
            "right": null,
            "justify_content": null,
            "_view_module": "@jupyter-widgets/base",
            "overflow": null,
            "_model_module_version": "1.2.0",
            "_view_count": null,
            "flex_flow": null,
            "width": null,
            "min_width": null,
            "border": null,
            "align_items": null,
            "bottom": null,
            "_model_module": "@jupyter-widgets/base",
            "top": null,
            "grid_column": null,
            "overflow_y": null,
            "overflow_x": null,
            "grid_auto_flow": null,
            "grid_area": null,
            "grid_template_columns": null,
            "flex": null,
            "_model_name": "LayoutModel",
            "justify_items": null,
            "grid_row": null,
            "max_height": null,
            "align_content": null,
            "visibility": null,
            "align_self": null,
            "height": null,
            "min_height": null,
            "padding": null,
            "grid_auto_rows": null,
            "grid_gap": null,
            "max_width": null,
            "order": null,
            "_view_module_version": "1.2.0",
            "grid_template_areas": null,
            "object_position": null,
            "object_fit": null,
            "grid_auto_columns": null,
            "margin": null,
            "display": null,
            "left": null
          }
        },
        "eaa3d564e0dc48f6b32a9f3ba0d54474": {
          "model_module": "@jupyter-widgets/controls",
          "model_name": "HBoxModel",
          "state": {
            "_view_name": "HBoxView",
            "_dom_classes": [],
            "_model_name": "HBoxModel",
            "_view_module": "@jupyter-widgets/controls",
            "_model_module_version": "1.5.0",
            "_view_count": null,
            "_view_module_version": "1.5.0",
            "box_style": "",
            "layout": "IPY_MODEL_40c04e8b3930448e9f681641d3179e6e",
            "_model_module": "@jupyter-widgets/controls",
            "children": [
              "IPY_MODEL_421c82d3e8de4328966181583ce47faa",
              "IPY_MODEL_bf8f968acb57467f93c8e6c6bb206dd9"
            ]
          }
        },
        "40c04e8b3930448e9f681641d3179e6e": {
          "model_module": "@jupyter-widgets/base",
          "model_name": "LayoutModel",
          "state": {
            "_view_name": "LayoutView",
            "grid_template_rows": null,
            "right": null,
            "justify_content": null,
            "_view_module": "@jupyter-widgets/base",
            "overflow": null,
            "_model_module_version": "1.2.0",
            "_view_count": null,
            "flex_flow": null,
            "width": null,
            "min_width": null,
            "border": null,
            "align_items": null,
            "bottom": null,
            "_model_module": "@jupyter-widgets/base",
            "top": null,
            "grid_column": null,
            "overflow_y": null,
            "overflow_x": null,
            "grid_auto_flow": null,
            "grid_area": null,
            "grid_template_columns": null,
            "flex": null,
            "_model_name": "LayoutModel",
            "justify_items": null,
            "grid_row": null,
            "max_height": null,
            "align_content": null,
            "visibility": null,
            "align_self": null,
            "height": null,
            "min_height": null,
            "padding": null,
            "grid_auto_rows": null,
            "grid_gap": null,
            "max_width": null,
            "order": null,
            "_view_module_version": "1.2.0",
            "grid_template_areas": null,
            "object_position": null,
            "object_fit": null,
            "grid_auto_columns": null,
            "margin": null,
            "display": null,
            "left": null
          }
        },
        "421c82d3e8de4328966181583ce47faa": {
          "model_module": "@jupyter-widgets/controls",
          "model_name": "FloatProgressModel",
          "state": {
            "_view_name": "ProgressView",
            "style": "IPY_MODEL_f43942bb0565409c92d30468d21dbd4f",
            "_dom_classes": [],
            "description": "Downloading: 100%",
            "_model_name": "FloatProgressModel",
            "bar_style": "success",
            "max": 112,
            "_view_module": "@jupyter-widgets/controls",
            "_model_module_version": "1.5.0",
            "value": 112,
            "_view_count": null,
            "_view_module_version": "1.5.0",
            "orientation": "horizontal",
            "min": 0,
            "description_tooltip": null,
            "_model_module": "@jupyter-widgets/controls",
            "layout": "IPY_MODEL_806365dd0b984a44907a39326d979246"
          }
        },
        "bf8f968acb57467f93c8e6c6bb206dd9": {
          "model_module": "@jupyter-widgets/controls",
          "model_name": "HTMLModel",
          "state": {
            "_view_name": "HTMLView",
            "style": "IPY_MODEL_3ad30281e56d4769873c380f25e1f17b",
            "_dom_classes": [],
            "description": "",
            "_model_name": "HTMLModel",
            "placeholder": "​",
            "_view_module": "@jupyter-widgets/controls",
            "_model_module_version": "1.5.0",
            "value": " 112/112 [00:00&lt;00:00, 144B/s]",
            "_view_count": null,
            "_view_module_version": "1.5.0",
            "description_tooltip": null,
            "_model_module": "@jupyter-widgets/controls",
            "layout": "IPY_MODEL_e1c13a61f8db41df9e60db0d30327adb"
          }
        },
        "f43942bb0565409c92d30468d21dbd4f": {
          "model_module": "@jupyter-widgets/controls",
          "model_name": "ProgressStyleModel",
          "state": {
            "_view_name": "StyleView",
            "_model_name": "ProgressStyleModel",
            "description_width": "initial",
            "_view_module": "@jupyter-widgets/base",
            "_model_module_version": "1.5.0",
            "_view_count": null,
            "_view_module_version": "1.2.0",
            "bar_color": null,
            "_model_module": "@jupyter-widgets/controls"
          }
        },
        "806365dd0b984a44907a39326d979246": {
          "model_module": "@jupyter-widgets/base",
          "model_name": "LayoutModel",
          "state": {
            "_view_name": "LayoutView",
            "grid_template_rows": null,
            "right": null,
            "justify_content": null,
            "_view_module": "@jupyter-widgets/base",
            "overflow": null,
            "_model_module_version": "1.2.0",
            "_view_count": null,
            "flex_flow": null,
            "width": null,
            "min_width": null,
            "border": null,
            "align_items": null,
            "bottom": null,
            "_model_module": "@jupyter-widgets/base",
            "top": null,
            "grid_column": null,
            "overflow_y": null,
            "overflow_x": null,
            "grid_auto_flow": null,
            "grid_area": null,
            "grid_template_columns": null,
            "flex": null,
            "_model_name": "LayoutModel",
            "justify_items": null,
            "grid_row": null,
            "max_height": null,
            "align_content": null,
            "visibility": null,
            "align_self": null,
            "height": null,
            "min_height": null,
            "padding": null,
            "grid_auto_rows": null,
            "grid_gap": null,
            "max_width": null,
            "order": null,
            "_view_module_version": "1.2.0",
            "grid_template_areas": null,
            "object_position": null,
            "object_fit": null,
            "grid_auto_columns": null,
            "margin": null,
            "display": null,
            "left": null
          }
        },
        "3ad30281e56d4769873c380f25e1f17b": {
          "model_module": "@jupyter-widgets/controls",
          "model_name": "DescriptionStyleModel",
          "state": {
            "_view_name": "StyleView",
            "_model_name": "DescriptionStyleModel",
            "description_width": "",
            "_view_module": "@jupyter-widgets/base",
            "_model_module_version": "1.5.0",
            "_view_count": null,
            "_view_module_version": "1.2.0",
            "_model_module": "@jupyter-widgets/controls"
          }
        },
        "e1c13a61f8db41df9e60db0d30327adb": {
          "model_module": "@jupyter-widgets/base",
          "model_name": "LayoutModel",
          "state": {
            "_view_name": "LayoutView",
            "grid_template_rows": null,
            "right": null,
            "justify_content": null,
            "_view_module": "@jupyter-widgets/base",
            "overflow": null,
            "_model_module_version": "1.2.0",
            "_view_count": null,
            "flex_flow": null,
            "width": null,
            "min_width": null,
            "border": null,
            "align_items": null,
            "bottom": null,
            "_model_module": "@jupyter-widgets/base",
            "top": null,
            "grid_column": null,
            "overflow_y": null,
            "overflow_x": null,
            "grid_auto_flow": null,
            "grid_area": null,
            "grid_template_columns": null,
            "flex": null,
            "_model_name": "LayoutModel",
            "justify_items": null,
            "grid_row": null,
            "max_height": null,
            "align_content": null,
            "visibility": null,
            "align_self": null,
            "height": null,
            "min_height": null,
            "padding": null,
            "grid_auto_rows": null,
            "grid_gap": null,
            "max_width": null,
            "order": null,
            "_view_module_version": "1.2.0",
            "grid_template_areas": null,
            "object_position": null,
            "object_fit": null,
            "grid_auto_columns": null,
            "margin": null,
            "display": null,
            "left": null
          }
        },
        "de904ebbb86242139d33bbae58c43e7e": {
          "model_module": "@jupyter-widgets/controls",
          "model_name": "HBoxModel",
          "state": {
            "_view_name": "HBoxView",
            "_dom_classes": [],
            "_model_name": "HBoxModel",
            "_view_module": "@jupyter-widgets/controls",
            "_model_module_version": "1.5.0",
            "_view_count": null,
            "_view_module_version": "1.5.0",
            "box_style": "",
            "layout": "IPY_MODEL_706c991ce4de43b1bc1362c372fcad55",
            "_model_module": "@jupyter-widgets/controls",
            "children": [
              "IPY_MODEL_396b05388d6b45bab1ee987cd1e0efcf",
              "IPY_MODEL_4e7de82b7a4d46a68f6c9140deea51a5"
            ]
          }
        },
        "706c991ce4de43b1bc1362c372fcad55": {
          "model_module": "@jupyter-widgets/base",
          "model_name": "LayoutModel",
          "state": {
            "_view_name": "LayoutView",
            "grid_template_rows": null,
            "right": null,
            "justify_content": null,
            "_view_module": "@jupyter-widgets/base",
            "overflow": null,
            "_model_module_version": "1.2.0",
            "_view_count": null,
            "flex_flow": null,
            "width": null,
            "min_width": null,
            "border": null,
            "align_items": null,
            "bottom": null,
            "_model_module": "@jupyter-widgets/base",
            "top": null,
            "grid_column": null,
            "overflow_y": null,
            "overflow_x": null,
            "grid_auto_flow": null,
            "grid_area": null,
            "grid_template_columns": null,
            "flex": null,
            "_model_name": "LayoutModel",
            "justify_items": null,
            "grid_row": null,
            "max_height": null,
            "align_content": null,
            "visibility": null,
            "align_self": null,
            "height": null,
            "min_height": null,
            "padding": null,
            "grid_auto_rows": null,
            "grid_gap": null,
            "max_width": null,
            "order": null,
            "_view_module_version": "1.2.0",
            "grid_template_areas": null,
            "object_position": null,
            "object_fit": null,
            "grid_auto_columns": null,
            "margin": null,
            "display": null,
            "left": null
          }
        },
        "396b05388d6b45bab1ee987cd1e0efcf": {
          "model_module": "@jupyter-widgets/controls",
          "model_name": "FloatProgressModel",
          "state": {
            "_view_name": "ProgressView",
            "style": "IPY_MODEL_09f6d915975e4a398d22638479a114b7",
            "_dom_classes": [],
            "description": "Downloading: 100%",
            "_model_name": "FloatProgressModel",
            "bar_style": "success",
            "max": 48,
            "_view_module": "@jupyter-widgets/controls",
            "_model_module_version": "1.5.0",
            "value": 48,
            "_view_count": null,
            "_view_module_version": "1.5.0",
            "orientation": "horizontal",
            "min": 0,
            "description_tooltip": null,
            "_model_module": "@jupyter-widgets/controls",
            "layout": "IPY_MODEL_7a378fef7cf44749ba4258b2feb4e725"
          }
        },
        "4e7de82b7a4d46a68f6c9140deea51a5": {
          "model_module": "@jupyter-widgets/controls",
          "model_name": "HTMLModel",
          "state": {
            "_view_name": "HTMLView",
            "style": "IPY_MODEL_f030ea1e1a5547f094700560375cc8b6",
            "_dom_classes": [],
            "description": "",
            "_model_name": "HTMLModel",
            "placeholder": "​",
            "_view_module": "@jupyter-widgets/controls",
            "_model_module_version": "1.5.0",
            "value": " 48.0/48.0 [00:00&lt;00:00, 156B/s]",
            "_view_count": null,
            "_view_module_version": "1.5.0",
            "description_tooltip": null,
            "_model_module": "@jupyter-widgets/controls",
            "layout": "IPY_MODEL_bdf0cf54c2e64ebf9eb90a2c4fea6f05"
          }
        },
        "09f6d915975e4a398d22638479a114b7": {
          "model_module": "@jupyter-widgets/controls",
          "model_name": "ProgressStyleModel",
          "state": {
            "_view_name": "StyleView",
            "_model_name": "ProgressStyleModel",
            "description_width": "initial",
            "_view_module": "@jupyter-widgets/base",
            "_model_module_version": "1.5.0",
            "_view_count": null,
            "_view_module_version": "1.2.0",
            "bar_color": null,
            "_model_module": "@jupyter-widgets/controls"
          }
        },
        "7a378fef7cf44749ba4258b2feb4e725": {
          "model_module": "@jupyter-widgets/base",
          "model_name": "LayoutModel",
          "state": {
            "_view_name": "LayoutView",
            "grid_template_rows": null,
            "right": null,
            "justify_content": null,
            "_view_module": "@jupyter-widgets/base",
            "overflow": null,
            "_model_module_version": "1.2.0",
            "_view_count": null,
            "flex_flow": null,
            "width": null,
            "min_width": null,
            "border": null,
            "align_items": null,
            "bottom": null,
            "_model_module": "@jupyter-widgets/base",
            "top": null,
            "grid_column": null,
            "overflow_y": null,
            "overflow_x": null,
            "grid_auto_flow": null,
            "grid_area": null,
            "grid_template_columns": null,
            "flex": null,
            "_model_name": "LayoutModel",
            "justify_items": null,
            "grid_row": null,
            "max_height": null,
            "align_content": null,
            "visibility": null,
            "align_self": null,
            "height": null,
            "min_height": null,
            "padding": null,
            "grid_auto_rows": null,
            "grid_gap": null,
            "max_width": null,
            "order": null,
            "_view_module_version": "1.2.0",
            "grid_template_areas": null,
            "object_position": null,
            "object_fit": null,
            "grid_auto_columns": null,
            "margin": null,
            "display": null,
            "left": null
          }
        },
        "f030ea1e1a5547f094700560375cc8b6": {
          "model_module": "@jupyter-widgets/controls",
          "model_name": "DescriptionStyleModel",
          "state": {
            "_view_name": "StyleView",
            "_model_name": "DescriptionStyleModel",
            "description_width": "",
            "_view_module": "@jupyter-widgets/base",
            "_model_module_version": "1.5.0",
            "_view_count": null,
            "_view_module_version": "1.2.0",
            "_model_module": "@jupyter-widgets/controls"
          }
        },
        "bdf0cf54c2e64ebf9eb90a2c4fea6f05": {
          "model_module": "@jupyter-widgets/base",
          "model_name": "LayoutModel",
          "state": {
            "_view_name": "LayoutView",
            "grid_template_rows": null,
            "right": null,
            "justify_content": null,
            "_view_module": "@jupyter-widgets/base",
            "overflow": null,
            "_model_module_version": "1.2.0",
            "_view_count": null,
            "flex_flow": null,
            "width": null,
            "min_width": null,
            "border": null,
            "align_items": null,
            "bottom": null,
            "_model_module": "@jupyter-widgets/base",
            "top": null,
            "grid_column": null,
            "overflow_y": null,
            "overflow_x": null,
            "grid_auto_flow": null,
            "grid_area": null,
            "grid_template_columns": null,
            "flex": null,
            "_model_name": "LayoutModel",
            "justify_items": null,
            "grid_row": null,
            "max_height": null,
            "align_content": null,
            "visibility": null,
            "align_self": null,
            "height": null,
            "min_height": null,
            "padding": null,
            "grid_auto_rows": null,
            "grid_gap": null,
            "max_width": null,
            "order": null,
            "_view_module_version": "1.2.0",
            "grid_template_areas": null,
            "object_position": null,
            "object_fit": null,
            "grid_auto_columns": null,
            "margin": null,
            "display": null,
            "left": null
          }
        },
        "defcd458825c48c8a7e13e13a35d10d7": {
          "model_module": "@jupyter-widgets/controls",
          "model_name": "HBoxModel",
          "state": {
            "_view_name": "HBoxView",
            "_dom_classes": [],
            "_model_name": "HBoxModel",
            "_view_module": "@jupyter-widgets/controls",
            "_model_module_version": "1.5.0",
            "_view_count": null,
            "_view_module_version": "1.5.0",
            "box_style": "",
            "layout": "IPY_MODEL_be339eda2e6648e283a5a57c2269a552",
            "_model_module": "@jupyter-widgets/controls",
            "children": [
              "IPY_MODEL_197f2642862a47c8a4ca7c315580593b",
              "IPY_MODEL_027c96f24fa34ce1ab2f09fbcf8ed4ca"
            ]
          }
        },
        "be339eda2e6648e283a5a57c2269a552": {
          "model_module": "@jupyter-widgets/base",
          "model_name": "LayoutModel",
          "state": {
            "_view_name": "LayoutView",
            "grid_template_rows": null,
            "right": null,
            "justify_content": null,
            "_view_module": "@jupyter-widgets/base",
            "overflow": null,
            "_model_module_version": "1.2.0",
            "_view_count": null,
            "flex_flow": null,
            "width": null,
            "min_width": null,
            "border": null,
            "align_items": null,
            "bottom": null,
            "_model_module": "@jupyter-widgets/base",
            "top": null,
            "grid_column": null,
            "overflow_y": null,
            "overflow_x": null,
            "grid_auto_flow": null,
            "grid_area": null,
            "grid_template_columns": null,
            "flex": null,
            "_model_name": "LayoutModel",
            "justify_items": null,
            "grid_row": null,
            "max_height": null,
            "align_content": null,
            "visibility": null,
            "align_self": null,
            "height": null,
            "min_height": null,
            "padding": null,
            "grid_auto_rows": null,
            "grid_gap": null,
            "max_width": null,
            "order": null,
            "_view_module_version": "1.2.0",
            "grid_template_areas": null,
            "object_position": null,
            "object_fit": null,
            "grid_auto_columns": null,
            "margin": null,
            "display": null,
            "left": null
          }
        },
        "197f2642862a47c8a4ca7c315580593b": {
          "model_module": "@jupyter-widgets/controls",
          "model_name": "FloatProgressModel",
          "state": {
            "_view_name": "ProgressView",
            "style": "IPY_MODEL_e0c653adaca24f57ab1253b26e6cba47",
            "_dom_classes": [],
            "description": "Tokenizing: 100%",
            "_model_name": "FloatProgressModel",
            "bar_style": "success",
            "max": 135,
            "_view_module": "@jupyter-widgets/controls",
            "_model_module_version": "1.5.0",
            "value": 135,
            "_view_count": null,
            "_view_module_version": "1.5.0",
            "orientation": "horizontal",
            "min": 0,
            "description_tooltip": null,
            "_model_module": "@jupyter-widgets/controls",
            "layout": "IPY_MODEL_73fe5a65cad44b87b401ef08dbdbe52c"
          }
        },
        "027c96f24fa34ce1ab2f09fbcf8ed4ca": {
          "model_module": "@jupyter-widgets/controls",
          "model_name": "HTMLModel",
          "state": {
            "_view_name": "HTMLView",
            "style": "IPY_MODEL_5bb0eac86b8d4ae9890a2325c8b848cd",
            "_dom_classes": [],
            "description": "",
            "_model_name": "HTMLModel",
            "placeholder": "​",
            "_view_module": "@jupyter-widgets/controls",
            "_model_module_version": "1.5.0",
            "value": " 135/135 [00:03&lt;00:00, 37.56it/s]",
            "_view_count": null,
            "_view_module_version": "1.5.0",
            "description_tooltip": null,
            "_model_module": "@jupyter-widgets/controls",
            "layout": "IPY_MODEL_3a5a81bb2f484a48b95d6dd024647019"
          }
        },
        "e0c653adaca24f57ab1253b26e6cba47": {
          "model_module": "@jupyter-widgets/controls",
          "model_name": "ProgressStyleModel",
          "state": {
            "_view_name": "StyleView",
            "_model_name": "ProgressStyleModel",
            "description_width": "initial",
            "_view_module": "@jupyter-widgets/base",
            "_model_module_version": "1.5.0",
            "_view_count": null,
            "_view_module_version": "1.2.0",
            "bar_color": null,
            "_model_module": "@jupyter-widgets/controls"
          }
        },
        "73fe5a65cad44b87b401ef08dbdbe52c": {
          "model_module": "@jupyter-widgets/base",
          "model_name": "LayoutModel",
          "state": {
            "_view_name": "LayoutView",
            "grid_template_rows": null,
            "right": null,
            "justify_content": null,
            "_view_module": "@jupyter-widgets/base",
            "overflow": null,
            "_model_module_version": "1.2.0",
            "_view_count": null,
            "flex_flow": null,
            "width": null,
            "min_width": null,
            "border": null,
            "align_items": null,
            "bottom": null,
            "_model_module": "@jupyter-widgets/base",
            "top": null,
            "grid_column": null,
            "overflow_y": null,
            "overflow_x": null,
            "grid_auto_flow": null,
            "grid_area": null,
            "grid_template_columns": null,
            "flex": null,
            "_model_name": "LayoutModel",
            "justify_items": null,
            "grid_row": null,
            "max_height": null,
            "align_content": null,
            "visibility": null,
            "align_self": null,
            "height": null,
            "min_height": null,
            "padding": null,
            "grid_auto_rows": null,
            "grid_gap": null,
            "max_width": null,
            "order": null,
            "_view_module_version": "1.2.0",
            "grid_template_areas": null,
            "object_position": null,
            "object_fit": null,
            "grid_auto_columns": null,
            "margin": null,
            "display": null,
            "left": null
          }
        },
        "5bb0eac86b8d4ae9890a2325c8b848cd": {
          "model_module": "@jupyter-widgets/controls",
          "model_name": "DescriptionStyleModel",
          "state": {
            "_view_name": "StyleView",
            "_model_name": "DescriptionStyleModel",
            "description_width": "",
            "_view_module": "@jupyter-widgets/base",
            "_model_module_version": "1.5.0",
            "_view_count": null,
            "_view_module_version": "1.2.0",
            "_model_module": "@jupyter-widgets/controls"
          }
        },
        "3a5a81bb2f484a48b95d6dd024647019": {
          "model_module": "@jupyter-widgets/base",
          "model_name": "LayoutModel",
          "state": {
            "_view_name": "LayoutView",
            "grid_template_rows": null,
            "right": null,
            "justify_content": null,
            "_view_module": "@jupyter-widgets/base",
            "overflow": null,
            "_model_module_version": "1.2.0",
            "_view_count": null,
            "flex_flow": null,
            "width": null,
            "min_width": null,
            "border": null,
            "align_items": null,
            "bottom": null,
            "_model_module": "@jupyter-widgets/base",
            "top": null,
            "grid_column": null,
            "overflow_y": null,
            "overflow_x": null,
            "grid_auto_flow": null,
            "grid_area": null,
            "grid_template_columns": null,
            "flex": null,
            "_model_name": "LayoutModel",
            "justify_items": null,
            "grid_row": null,
            "max_height": null,
            "align_content": null,
            "visibility": null,
            "align_self": null,
            "height": null,
            "min_height": null,
            "padding": null,
            "grid_auto_rows": null,
            "grid_gap": null,
            "max_width": null,
            "order": null,
            "_view_module_version": "1.2.0",
            "grid_template_areas": null,
            "object_position": null,
            "object_fit": null,
            "grid_auto_columns": null,
            "margin": null,
            "display": null,
            "left": null
          }
        },
        "9ad07beeb5144e6992ee0cf84e999597": {
          "model_module": "@jupyter-widgets/controls",
          "model_name": "HBoxModel",
          "state": {
            "_view_name": "HBoxView",
            "_dom_classes": [],
            "_model_name": "HBoxModel",
            "_view_module": "@jupyter-widgets/controls",
            "_model_module_version": "1.5.0",
            "_view_count": null,
            "_view_module_version": "1.5.0",
            "box_style": "",
            "layout": "IPY_MODEL_3f479bd5f15b4af3af8e1672e4e15a62",
            "_model_module": "@jupyter-widgets/controls",
            "children": [
              "IPY_MODEL_c52f6e72395040899a3f06f4b2db33db",
              "IPY_MODEL_5bc3258f3d9e42a4b8b308c6457e8588"
            ]
          }
        },
        "3f479bd5f15b4af3af8e1672e4e15a62": {
          "model_module": "@jupyter-widgets/base",
          "model_name": "LayoutModel",
          "state": {
            "_view_name": "LayoutView",
            "grid_template_rows": null,
            "right": null,
            "justify_content": null,
            "_view_module": "@jupyter-widgets/base",
            "overflow": null,
            "_model_module_version": "1.2.0",
            "_view_count": null,
            "flex_flow": null,
            "width": null,
            "min_width": null,
            "border": null,
            "align_items": null,
            "bottom": null,
            "_model_module": "@jupyter-widgets/base",
            "top": null,
            "grid_column": null,
            "overflow_y": null,
            "overflow_x": null,
            "grid_auto_flow": null,
            "grid_area": null,
            "grid_template_columns": null,
            "flex": null,
            "_model_name": "LayoutModel",
            "justify_items": null,
            "grid_row": null,
            "max_height": null,
            "align_content": null,
            "visibility": null,
            "align_self": null,
            "height": null,
            "min_height": null,
            "padding": null,
            "grid_auto_rows": null,
            "grid_gap": null,
            "max_width": null,
            "order": null,
            "_view_module_version": "1.2.0",
            "grid_template_areas": null,
            "object_position": null,
            "object_fit": null,
            "grid_auto_columns": null,
            "margin": null,
            "display": null,
            "left": null
          }
        },
        "c52f6e72395040899a3f06f4b2db33db": {
          "model_module": "@jupyter-widgets/controls",
          "model_name": "FloatProgressModel",
          "state": {
            "_view_name": "ProgressView",
            "style": "IPY_MODEL_a6385b9977104815a4f6746a425197d5",
            "_dom_classes": [],
            "description": "Tokenizing: 100%",
            "_model_name": "FloatProgressModel",
            "bar_style": "success",
            "max": 21,
            "_view_module": "@jupyter-widgets/controls",
            "_model_module_version": "1.5.0",
            "value": 21,
            "_view_count": null,
            "_view_module_version": "1.5.0",
            "orientation": "horizontal",
            "min": 0,
            "description_tooltip": null,
            "_model_module": "@jupyter-widgets/controls",
            "layout": "IPY_MODEL_007703c7d3534836a9fe54b75c862510"
          }
        },
        "5bc3258f3d9e42a4b8b308c6457e8588": {
          "model_module": "@jupyter-widgets/controls",
          "model_name": "HTMLModel",
          "state": {
            "_view_name": "HTMLView",
            "style": "IPY_MODEL_87eb5766e8d2447f80d1d9c8f5c4f695",
            "_dom_classes": [],
            "description": "",
            "_model_name": "HTMLModel",
            "placeholder": "​",
            "_view_module": "@jupyter-widgets/controls",
            "_model_module_version": "1.5.0",
            "value": " 21/21 [00:01&lt;00:00, 12.65it/s]",
            "_view_count": null,
            "_view_module_version": "1.5.0",
            "description_tooltip": null,
            "_model_module": "@jupyter-widgets/controls",
            "layout": "IPY_MODEL_72fc955b6f47483195059e3414079bcb"
          }
        },
        "a6385b9977104815a4f6746a425197d5": {
          "model_module": "@jupyter-widgets/controls",
          "model_name": "ProgressStyleModel",
          "state": {
            "_view_name": "StyleView",
            "_model_name": "ProgressStyleModel",
            "description_width": "initial",
            "_view_module": "@jupyter-widgets/base",
            "_model_module_version": "1.5.0",
            "_view_count": null,
            "_view_module_version": "1.2.0",
            "bar_color": null,
            "_model_module": "@jupyter-widgets/controls"
          }
        },
        "007703c7d3534836a9fe54b75c862510": {
          "model_module": "@jupyter-widgets/base",
          "model_name": "LayoutModel",
          "state": {
            "_view_name": "LayoutView",
            "grid_template_rows": null,
            "right": null,
            "justify_content": null,
            "_view_module": "@jupyter-widgets/base",
            "overflow": null,
            "_model_module_version": "1.2.0",
            "_view_count": null,
            "flex_flow": null,
            "width": null,
            "min_width": null,
            "border": null,
            "align_items": null,
            "bottom": null,
            "_model_module": "@jupyter-widgets/base",
            "top": null,
            "grid_column": null,
            "overflow_y": null,
            "overflow_x": null,
            "grid_auto_flow": null,
            "grid_area": null,
            "grid_template_columns": null,
            "flex": null,
            "_model_name": "LayoutModel",
            "justify_items": null,
            "grid_row": null,
            "max_height": null,
            "align_content": null,
            "visibility": null,
            "align_self": null,
            "height": null,
            "min_height": null,
            "padding": null,
            "grid_auto_rows": null,
            "grid_gap": null,
            "max_width": null,
            "order": null,
            "_view_module_version": "1.2.0",
            "grid_template_areas": null,
            "object_position": null,
            "object_fit": null,
            "grid_auto_columns": null,
            "margin": null,
            "display": null,
            "left": null
          }
        },
        "87eb5766e8d2447f80d1d9c8f5c4f695": {
          "model_module": "@jupyter-widgets/controls",
          "model_name": "DescriptionStyleModel",
          "state": {
            "_view_name": "StyleView",
            "_model_name": "DescriptionStyleModel",
            "description_width": "",
            "_view_module": "@jupyter-widgets/base",
            "_model_module_version": "1.5.0",
            "_view_count": null,
            "_view_module_version": "1.2.0",
            "_model_module": "@jupyter-widgets/controls"
          }
        },
        "72fc955b6f47483195059e3414079bcb": {
          "model_module": "@jupyter-widgets/base",
          "model_name": "LayoutModel",
          "state": {
            "_view_name": "LayoutView",
            "grid_template_rows": null,
            "right": null,
            "justify_content": null,
            "_view_module": "@jupyter-widgets/base",
            "overflow": null,
            "_model_module_version": "1.2.0",
            "_view_count": null,
            "flex_flow": null,
            "width": null,
            "min_width": null,
            "border": null,
            "align_items": null,
            "bottom": null,
            "_model_module": "@jupyter-widgets/base",
            "top": null,
            "grid_column": null,
            "overflow_y": null,
            "overflow_x": null,
            "grid_auto_flow": null,
            "grid_area": null,
            "grid_template_columns": null,
            "flex": null,
            "_model_name": "LayoutModel",
            "justify_items": null,
            "grid_row": null,
            "max_height": null,
            "align_content": null,
            "visibility": null,
            "align_self": null,
            "height": null,
            "min_height": null,
            "padding": null,
            "grid_auto_rows": null,
            "grid_gap": null,
            "max_width": null,
            "order": null,
            "_view_module_version": "1.2.0",
            "grid_template_areas": null,
            "object_position": null,
            "object_fit": null,
            "grid_auto_columns": null,
            "margin": null,
            "display": null,
            "left": null
          }
        },
        "6baff63d7ce84ef5a0b9c40b9c497733": {
          "model_module": "@jupyter-widgets/controls",
          "model_name": "HBoxModel",
          "state": {
            "_view_name": "HBoxView",
            "_dom_classes": [],
            "_model_name": "HBoxModel",
            "_view_module": "@jupyter-widgets/controls",
            "_model_module_version": "1.5.0",
            "_view_count": null,
            "_view_module_version": "1.5.0",
            "box_style": "",
            "layout": "IPY_MODEL_4296645db6b6415daa1675597bb8ad6a",
            "_model_module": "@jupyter-widgets/controls",
            "children": [
              "IPY_MODEL_fdd908413be343e78c39ffc1f5b11a83",
              "IPY_MODEL_19fe7db2a0e94fe7b68219292fa3ab32"
            ]
          }
        },
        "4296645db6b6415daa1675597bb8ad6a": {
          "model_module": "@jupyter-widgets/base",
          "model_name": "LayoutModel",
          "state": {
            "_view_name": "LayoutView",
            "grid_template_rows": null,
            "right": null,
            "justify_content": null,
            "_view_module": "@jupyter-widgets/base",
            "overflow": null,
            "_model_module_version": "1.2.0",
            "_view_count": null,
            "flex_flow": null,
            "width": null,
            "min_width": null,
            "border": null,
            "align_items": null,
            "bottom": null,
            "_model_module": "@jupyter-widgets/base",
            "top": null,
            "grid_column": null,
            "overflow_y": null,
            "overflow_x": null,
            "grid_auto_flow": null,
            "grid_area": null,
            "grid_template_columns": null,
            "flex": null,
            "_model_name": "LayoutModel",
            "justify_items": null,
            "grid_row": null,
            "max_height": null,
            "align_content": null,
            "visibility": null,
            "align_self": null,
            "height": null,
            "min_height": null,
            "padding": null,
            "grid_auto_rows": null,
            "grid_gap": null,
            "max_width": null,
            "order": null,
            "_view_module_version": "1.2.0",
            "grid_template_areas": null,
            "object_position": null,
            "object_fit": null,
            "grid_auto_columns": null,
            "margin": null,
            "display": null,
            "left": null
          }
        },
        "fdd908413be343e78c39ffc1f5b11a83": {
          "model_module": "@jupyter-widgets/controls",
          "model_name": "FloatProgressModel",
          "state": {
            "_view_name": "ProgressView",
            "style": "IPY_MODEL_00a0198cfa234c84a0b553076b802188",
            "_dom_classes": [],
            "description": "Tokenizing: 100%",
            "_model_name": "FloatProgressModel",
            "bar_style": "success",
            "max": 135,
            "_view_module": "@jupyter-widgets/controls",
            "_model_module_version": "1.5.0",
            "value": 135,
            "_view_count": null,
            "_view_module_version": "1.5.0",
            "orientation": "horizontal",
            "min": 0,
            "description_tooltip": null,
            "_model_module": "@jupyter-widgets/controls",
            "layout": "IPY_MODEL_67e5ce8f58434531af9b0d43b95bf7dc"
          }
        },
        "19fe7db2a0e94fe7b68219292fa3ab32": {
          "model_module": "@jupyter-widgets/controls",
          "model_name": "HTMLModel",
          "state": {
            "_view_name": "HTMLView",
            "style": "IPY_MODEL_24bf75644ae34aeda0cd708c689b6784",
            "_dom_classes": [],
            "description": "",
            "_model_name": "HTMLModel",
            "placeholder": "​",
            "_view_module": "@jupyter-widgets/controls",
            "_model_module_version": "1.5.0",
            "value": " 135/135 [3:41:45&lt;00:00, 98.56s/it]",
            "_view_count": null,
            "_view_module_version": "1.5.0",
            "description_tooltip": null,
            "_model_module": "@jupyter-widgets/controls",
            "layout": "IPY_MODEL_a5d0feb0eaf84060b984d8fb8d84368f"
          }
        },
        "00a0198cfa234c84a0b553076b802188": {
          "model_module": "@jupyter-widgets/controls",
          "model_name": "ProgressStyleModel",
          "state": {
            "_view_name": "StyleView",
            "_model_name": "ProgressStyleModel",
            "description_width": "initial",
            "_view_module": "@jupyter-widgets/base",
            "_model_module_version": "1.5.0",
            "_view_count": null,
            "_view_module_version": "1.2.0",
            "bar_color": null,
            "_model_module": "@jupyter-widgets/controls"
          }
        },
        "67e5ce8f58434531af9b0d43b95bf7dc": {
          "model_module": "@jupyter-widgets/base",
          "model_name": "LayoutModel",
          "state": {
            "_view_name": "LayoutView",
            "grid_template_rows": null,
            "right": null,
            "justify_content": null,
            "_view_module": "@jupyter-widgets/base",
            "overflow": null,
            "_model_module_version": "1.2.0",
            "_view_count": null,
            "flex_flow": null,
            "width": null,
            "min_width": null,
            "border": null,
            "align_items": null,
            "bottom": null,
            "_model_module": "@jupyter-widgets/base",
            "top": null,
            "grid_column": null,
            "overflow_y": null,
            "overflow_x": null,
            "grid_auto_flow": null,
            "grid_area": null,
            "grid_template_columns": null,
            "flex": null,
            "_model_name": "LayoutModel",
            "justify_items": null,
            "grid_row": null,
            "max_height": null,
            "align_content": null,
            "visibility": null,
            "align_self": null,
            "height": null,
            "min_height": null,
            "padding": null,
            "grid_auto_rows": null,
            "grid_gap": null,
            "max_width": null,
            "order": null,
            "_view_module_version": "1.2.0",
            "grid_template_areas": null,
            "object_position": null,
            "object_fit": null,
            "grid_auto_columns": null,
            "margin": null,
            "display": null,
            "left": null
          }
        },
        "24bf75644ae34aeda0cd708c689b6784": {
          "model_module": "@jupyter-widgets/controls",
          "model_name": "DescriptionStyleModel",
          "state": {
            "_view_name": "StyleView",
            "_model_name": "DescriptionStyleModel",
            "description_width": "",
            "_view_module": "@jupyter-widgets/base",
            "_model_module_version": "1.5.0",
            "_view_count": null,
            "_view_module_version": "1.2.0",
            "_model_module": "@jupyter-widgets/controls"
          }
        },
        "a5d0feb0eaf84060b984d8fb8d84368f": {
          "model_module": "@jupyter-widgets/base",
          "model_name": "LayoutModel",
          "state": {
            "_view_name": "LayoutView",
            "grid_template_rows": null,
            "right": null,
            "justify_content": null,
            "_view_module": "@jupyter-widgets/base",
            "overflow": null,
            "_model_module_version": "1.2.0",
            "_view_count": null,
            "flex_flow": null,
            "width": null,
            "min_width": null,
            "border": null,
            "align_items": null,
            "bottom": null,
            "_model_module": "@jupyter-widgets/base",
            "top": null,
            "grid_column": null,
            "overflow_y": null,
            "overflow_x": null,
            "grid_auto_flow": null,
            "grid_area": null,
            "grid_template_columns": null,
            "flex": null,
            "_model_name": "LayoutModel",
            "justify_items": null,
            "grid_row": null,
            "max_height": null,
            "align_content": null,
            "visibility": null,
            "align_self": null,
            "height": null,
            "min_height": null,
            "padding": null,
            "grid_auto_rows": null,
            "grid_gap": null,
            "max_width": null,
            "order": null,
            "_view_module_version": "1.2.0",
            "grid_template_areas": null,
            "object_position": null,
            "object_fit": null,
            "grid_auto_columns": null,
            "margin": null,
            "display": null,
            "left": null
          }
        },
        "26da3e6c9cfc47b8be7a0193ace1ba5a": {
          "model_module": "@jupyter-widgets/controls",
          "model_name": "HBoxModel",
          "state": {
            "_view_name": "HBoxView",
            "_dom_classes": [],
            "_model_name": "HBoxModel",
            "_view_module": "@jupyter-widgets/controls",
            "_model_module_version": "1.5.0",
            "_view_count": null,
            "_view_module_version": "1.5.0",
            "box_style": "",
            "layout": "IPY_MODEL_13bb8bde678f445cad76702af75491ca",
            "_model_module": "@jupyter-widgets/controls",
            "children": [
              "IPY_MODEL_58a378ef16054e84be6d1d050a705d57",
              "IPY_MODEL_9e250e934f1b4ec4aafc12b78ce739d9"
            ]
          }
        },
        "13bb8bde678f445cad76702af75491ca": {
          "model_module": "@jupyter-widgets/base",
          "model_name": "LayoutModel",
          "state": {
            "_view_name": "LayoutView",
            "grid_template_rows": null,
            "right": null,
            "justify_content": null,
            "_view_module": "@jupyter-widgets/base",
            "overflow": null,
            "_model_module_version": "1.2.0",
            "_view_count": null,
            "flex_flow": null,
            "width": null,
            "min_width": null,
            "border": null,
            "align_items": null,
            "bottom": null,
            "_model_module": "@jupyter-widgets/base",
            "top": null,
            "grid_column": null,
            "overflow_y": null,
            "overflow_x": null,
            "grid_auto_flow": null,
            "grid_area": null,
            "grid_template_columns": null,
            "flex": null,
            "_model_name": "LayoutModel",
            "justify_items": null,
            "grid_row": null,
            "max_height": null,
            "align_content": null,
            "visibility": null,
            "align_self": null,
            "height": null,
            "min_height": null,
            "padding": null,
            "grid_auto_rows": null,
            "grid_gap": null,
            "max_width": null,
            "order": null,
            "_view_module_version": "1.2.0",
            "grid_template_areas": null,
            "object_position": null,
            "object_fit": null,
            "grid_auto_columns": null,
            "margin": null,
            "display": null,
            "left": null
          }
        },
        "58a378ef16054e84be6d1d050a705d57": {
          "model_module": "@jupyter-widgets/controls",
          "model_name": "FloatProgressModel",
          "state": {
            "_view_name": "ProgressView",
            "style": "IPY_MODEL_217f3a45066e493d870daea5cd69b874",
            "_dom_classes": [],
            "description": "Tokenizing: 100%",
            "_model_name": "FloatProgressModel",
            "bar_style": "success",
            "max": 21,
            "_view_module": "@jupyter-widgets/controls",
            "_model_module_version": "1.5.0",
            "value": 21,
            "_view_count": null,
            "_view_module_version": "1.5.0",
            "orientation": "horizontal",
            "min": 0,
            "description_tooltip": null,
            "_model_module": "@jupyter-widgets/controls",
            "layout": "IPY_MODEL_4852042354144e54897717ee2843301a"
          }
        },
        "9e250e934f1b4ec4aafc12b78ce739d9": {
          "model_module": "@jupyter-widgets/controls",
          "model_name": "HTMLModel",
          "state": {
            "_view_name": "HTMLView",
            "style": "IPY_MODEL_6dd3e7e9d47048cfaa92b20542344ecb",
            "_dom_classes": [],
            "description": "",
            "_model_name": "HTMLModel",
            "placeholder": "​",
            "_view_module": "@jupyter-widgets/controls",
            "_model_module_version": "1.5.0",
            "value": " 21/21 [00:00&lt;00:00, 127.02it/s]",
            "_view_count": null,
            "_view_module_version": "1.5.0",
            "description_tooltip": null,
            "_model_module": "@jupyter-widgets/controls",
            "layout": "IPY_MODEL_56f110d340a944889528d69bf94e5586"
          }
        },
        "217f3a45066e493d870daea5cd69b874": {
          "model_module": "@jupyter-widgets/controls",
          "model_name": "ProgressStyleModel",
          "state": {
            "_view_name": "StyleView",
            "_model_name": "ProgressStyleModel",
            "description_width": "initial",
            "_view_module": "@jupyter-widgets/base",
            "_model_module_version": "1.5.0",
            "_view_count": null,
            "_view_module_version": "1.2.0",
            "bar_color": null,
            "_model_module": "@jupyter-widgets/controls"
          }
        },
        "4852042354144e54897717ee2843301a": {
          "model_module": "@jupyter-widgets/base",
          "model_name": "LayoutModel",
          "state": {
            "_view_name": "LayoutView",
            "grid_template_rows": null,
            "right": null,
            "justify_content": null,
            "_view_module": "@jupyter-widgets/base",
            "overflow": null,
            "_model_module_version": "1.2.0",
            "_view_count": null,
            "flex_flow": null,
            "width": null,
            "min_width": null,
            "border": null,
            "align_items": null,
            "bottom": null,
            "_model_module": "@jupyter-widgets/base",
            "top": null,
            "grid_column": null,
            "overflow_y": null,
            "overflow_x": null,
            "grid_auto_flow": null,
            "grid_area": null,
            "grid_template_columns": null,
            "flex": null,
            "_model_name": "LayoutModel",
            "justify_items": null,
            "grid_row": null,
            "max_height": null,
            "align_content": null,
            "visibility": null,
            "align_self": null,
            "height": null,
            "min_height": null,
            "padding": null,
            "grid_auto_rows": null,
            "grid_gap": null,
            "max_width": null,
            "order": null,
            "_view_module_version": "1.2.0",
            "grid_template_areas": null,
            "object_position": null,
            "object_fit": null,
            "grid_auto_columns": null,
            "margin": null,
            "display": null,
            "left": null
          }
        },
        "6dd3e7e9d47048cfaa92b20542344ecb": {
          "model_module": "@jupyter-widgets/controls",
          "model_name": "DescriptionStyleModel",
          "state": {
            "_view_name": "StyleView",
            "_model_name": "DescriptionStyleModel",
            "description_width": "",
            "_view_module": "@jupyter-widgets/base",
            "_model_module_version": "1.5.0",
            "_view_count": null,
            "_view_module_version": "1.2.0",
            "_model_module": "@jupyter-widgets/controls"
          }
        },
        "56f110d340a944889528d69bf94e5586": {
          "model_module": "@jupyter-widgets/base",
          "model_name": "LayoutModel",
          "state": {
            "_view_name": "LayoutView",
            "grid_template_rows": null,
            "right": null,
            "justify_content": null,
            "_view_module": "@jupyter-widgets/base",
            "overflow": null,
            "_model_module_version": "1.2.0",
            "_view_count": null,
            "flex_flow": null,
            "width": null,
            "min_width": null,
            "border": null,
            "align_items": null,
            "bottom": null,
            "_model_module": "@jupyter-widgets/base",
            "top": null,
            "grid_column": null,
            "overflow_y": null,
            "overflow_x": null,
            "grid_auto_flow": null,
            "grid_area": null,
            "grid_template_columns": null,
            "flex": null,
            "_model_name": "LayoutModel",
            "justify_items": null,
            "grid_row": null,
            "max_height": null,
            "align_content": null,
            "visibility": null,
            "align_self": null,
            "height": null,
            "min_height": null,
            "padding": null,
            "grid_auto_rows": null,
            "grid_gap": null,
            "max_width": null,
            "order": null,
            "_view_module_version": "1.2.0",
            "grid_template_areas": null,
            "object_position": null,
            "object_fit": null,
            "grid_auto_columns": null,
            "margin": null,
            "display": null,
            "left": null
          }
        },
        "645157ed3a01414292f5bcbb320920a0": {
          "model_module": "@jupyter-widgets/controls",
          "model_name": "HBoxModel",
          "state": {
            "_view_name": "HBoxView",
            "_dom_classes": [],
            "_model_name": "HBoxModel",
            "_view_module": "@jupyter-widgets/controls",
            "_model_module_version": "1.5.0",
            "_view_count": null,
            "_view_module_version": "1.5.0",
            "box_style": "",
            "layout": "IPY_MODEL_323e32e6838544f58041e7687869cb51",
            "_model_module": "@jupyter-widgets/controls",
            "children": [
              "IPY_MODEL_9a99350044754a6fbc13ed4c73fa3855",
              "IPY_MODEL_a0a4ee2b44ab4efbb326d1e60f8f3cd1"
            ]
          }
        },
        "323e32e6838544f58041e7687869cb51": {
          "model_module": "@jupyter-widgets/base",
          "model_name": "LayoutModel",
          "state": {
            "_view_name": "LayoutView",
            "grid_template_rows": null,
            "right": null,
            "justify_content": null,
            "_view_module": "@jupyter-widgets/base",
            "overflow": null,
            "_model_module_version": "1.2.0",
            "_view_count": null,
            "flex_flow": null,
            "width": null,
            "min_width": null,
            "border": null,
            "align_items": null,
            "bottom": null,
            "_model_module": "@jupyter-widgets/base",
            "top": null,
            "grid_column": null,
            "overflow_y": null,
            "overflow_x": null,
            "grid_auto_flow": null,
            "grid_area": null,
            "grid_template_columns": null,
            "flex": null,
            "_model_name": "LayoutModel",
            "justify_items": null,
            "grid_row": null,
            "max_height": null,
            "align_content": null,
            "visibility": null,
            "align_self": null,
            "height": null,
            "min_height": null,
            "padding": null,
            "grid_auto_rows": null,
            "grid_gap": null,
            "max_width": null,
            "order": null,
            "_view_module_version": "1.2.0",
            "grid_template_areas": null,
            "object_position": null,
            "object_fit": null,
            "grid_auto_columns": null,
            "margin": null,
            "display": null,
            "left": null
          }
        },
        "9a99350044754a6fbc13ed4c73fa3855": {
          "model_module": "@jupyter-widgets/controls",
          "model_name": "FloatProgressModel",
          "state": {
            "_view_name": "ProgressView",
            "style": "IPY_MODEL_c4f62c2aca6b4dae95c05f87ef0424c8",
            "_dom_classes": [],
            "description": "Tokenizing:   4%",
            "_model_name": "FloatProgressModel",
            "bar_style": "",
            "max": 110,
            "_view_module": "@jupyter-widgets/controls",
            "_model_module_version": "1.5.0",
            "value": 4,
            "_view_count": null,
            "_view_module_version": "1.5.0",
            "orientation": "horizontal",
            "min": 0,
            "description_tooltip": null,
            "_model_module": "@jupyter-widgets/controls",
            "layout": "IPY_MODEL_895ade5e4d3a425a9cad8c9c592c1be5"
          }
        },
        "a0a4ee2b44ab4efbb326d1e60f8f3cd1": {
          "model_module": "@jupyter-widgets/controls",
          "model_name": "HTMLModel",
          "state": {
            "_view_name": "HTMLView",
            "style": "IPY_MODEL_e883a1e534f74f0aa2dc8ef2121039db",
            "_dom_classes": [],
            "description": "",
            "_model_name": "HTMLModel",
            "placeholder": "​",
            "_view_module": "@jupyter-widgets/controls",
            "_model_module_version": "1.5.0",
            "value": " 4/110 [01:24&lt;37:13, 21.07s/it]",
            "_view_count": null,
            "_view_module_version": "1.5.0",
            "description_tooltip": null,
            "_model_module": "@jupyter-widgets/controls",
            "layout": "IPY_MODEL_c34c654a80e14f838cf9d7c1b58ac984"
          }
        },
        "c4f62c2aca6b4dae95c05f87ef0424c8": {
          "model_module": "@jupyter-widgets/controls",
          "model_name": "ProgressStyleModel",
          "state": {
            "_view_name": "StyleView",
            "_model_name": "ProgressStyleModel",
            "description_width": "initial",
            "_view_module": "@jupyter-widgets/base",
            "_model_module_version": "1.5.0",
            "_view_count": null,
            "_view_module_version": "1.2.0",
            "bar_color": null,
            "_model_module": "@jupyter-widgets/controls"
          }
        },
        "895ade5e4d3a425a9cad8c9c592c1be5": {
          "model_module": "@jupyter-widgets/base",
          "model_name": "LayoutModel",
          "state": {
            "_view_name": "LayoutView",
            "grid_template_rows": null,
            "right": null,
            "justify_content": null,
            "_view_module": "@jupyter-widgets/base",
            "overflow": null,
            "_model_module_version": "1.2.0",
            "_view_count": null,
            "flex_flow": null,
            "width": null,
            "min_width": null,
            "border": null,
            "align_items": null,
            "bottom": null,
            "_model_module": "@jupyter-widgets/base",
            "top": null,
            "grid_column": null,
            "overflow_y": null,
            "overflow_x": null,
            "grid_auto_flow": null,
            "grid_area": null,
            "grid_template_columns": null,
            "flex": null,
            "_model_name": "LayoutModel",
            "justify_items": null,
            "grid_row": null,
            "max_height": null,
            "align_content": null,
            "visibility": null,
            "align_self": null,
            "height": null,
            "min_height": null,
            "padding": null,
            "grid_auto_rows": null,
            "grid_gap": null,
            "max_width": null,
            "order": null,
            "_view_module_version": "1.2.0",
            "grid_template_areas": null,
            "object_position": null,
            "object_fit": null,
            "grid_auto_columns": null,
            "margin": null,
            "display": null,
            "left": null
          }
        },
        "e883a1e534f74f0aa2dc8ef2121039db": {
          "model_module": "@jupyter-widgets/controls",
          "model_name": "DescriptionStyleModel",
          "state": {
            "_view_name": "StyleView",
            "_model_name": "DescriptionStyleModel",
            "description_width": "",
            "_view_module": "@jupyter-widgets/base",
            "_model_module_version": "1.5.0",
            "_view_count": null,
            "_view_module_version": "1.2.0",
            "_model_module": "@jupyter-widgets/controls"
          }
        },
        "c34c654a80e14f838cf9d7c1b58ac984": {
          "model_module": "@jupyter-widgets/base",
          "model_name": "LayoutModel",
          "state": {
            "_view_name": "LayoutView",
            "grid_template_rows": null,
            "right": null,
            "justify_content": null,
            "_view_module": "@jupyter-widgets/base",
            "overflow": null,
            "_model_module_version": "1.2.0",
            "_view_count": null,
            "flex_flow": null,
            "width": null,
            "min_width": null,
            "border": null,
            "align_items": null,
            "bottom": null,
            "_model_module": "@jupyter-widgets/base",
            "top": null,
            "grid_column": null,
            "overflow_y": null,
            "overflow_x": null,
            "grid_auto_flow": null,
            "grid_area": null,
            "grid_template_columns": null,
            "flex": null,
            "_model_name": "LayoutModel",
            "justify_items": null,
            "grid_row": null,
            "max_height": null,
            "align_content": null,
            "visibility": null,
            "align_self": null,
            "height": null,
            "min_height": null,
            "padding": null,
            "grid_auto_rows": null,
            "grid_gap": null,
            "max_width": null,
            "order": null,
            "_view_module_version": "1.2.0",
            "grid_template_areas": null,
            "object_position": null,
            "object_fit": null,
            "grid_auto_columns": null,
            "margin": null,
            "display": null,
            "left": null
          }
        }
      }
    }
  },
  "cells": [
    {
      "cell_type": "markdown",
      "metadata": {
        "id": "Ydn1RkgqV33e"
      },
      "source": [
        "# **Probing Tasks - How Does BERT Answer Questions?**\n",
        "In this notebook, we will carry out the following badges:\n",
        "\n",
        "**0.** implement the `jiant`'s pipeline: \n",
        "\n",
        "**1.**   reproduce the probing tasks: (with bert-base and bert-finetuned)\n",
        "  *   NEL, REL, COREF on the Ontonotes dataset\n",
        "  *   QUES on TREC-10 dataset\n",
        "  *   SUP on the Squad dataset\n",
        "  *   SUP on the Babi dataset\n",
        "  *   ~~SUP on the Hotpot dataset~~: We don't do this probing task because for this task we need to train bert-large. It might take very long time to train.\n",
        "\n",
        "**2.**   experiment with BERT (**todo:** which type?) trained on (**todo:** which dataset?) dataset\n",
        "\n",
        "**3.**   experiment with Roberta-base model on a task\n",
        "\n"
      ]
    },
    {
      "cell_type": "markdown",
      "metadata": {
        "id": "U1iV-pKNjJDS"
      },
      "source": [
        "# **0. Implement `jiant's` pipeline**\n",
        "\n",
        "---\n",
        "\n"
      ]
    },
    {
      "cell_type": "markdown",
      "metadata": {
        "id": "HPmDe-byoi4q"
      },
      "source": [
        "`jiant` has a new training pipeline to facilitate modern experimental workflows (see report). For further use, we implement a convenient method to complete the whole pipeline and to train the model on probing task."
      ]
    },
    {
      "cell_type": "markdown",
      "metadata": {
        "id": "Yg6j-eMFjv_T"
      },
      "source": [
        "## **0.1 Use modified `jiant` library**\n",
        "We modified some codes of the [original jiant library](https://github.com/nyu-mll/jiant) in order to achieve our desired functions that aren't supported by `jiant` e.g probing each layer. For more details please see our pdf report.\n",
        "\n",
        "First, we will clone the modified jiant and install libraries we need for this code."
      ]
    },
    {
      "cell_type": "code",
      "metadata": {
        "colab": {
          "base_uri": "https://localhost:8080/",
          "height": 0
        },
        "id": "6oaJe7PeGpDE",
        "outputId": "e73500c0-f720-483f-e703-0eae65a6d5f9"
      },
      "source": [
        "!git clone https://github.com/SwiftPredator/How-Does-Bert-Answer-QA-DLP2021.git\n",
        "\n",
        "# copy the modified jiant lib to the /content/\n",
        "!mv \"/content/How-Does-Bert-Answer-QA-DLP2021/src/probing-tasks/jiant\" \"/content/\"\n",
        "\n",
        "%cd jiant\n",
        "!pip install -r requirements-no-torch.txt\n",
        "!pip install --no-deps -e ./\n",
        "!pip install gdown  # lib to download file from googlde drive link"
      ],
      "execution_count": 1,
      "outputs": [
        {
          "output_type": "stream",
          "text": [
            "Cloning into 'How-Does-Bert-Answer-QA-DLP2021'...\n",
            "remote: Enumerating objects: 1084, done.\u001b[K\n",
            "remote: Counting objects: 100% (445/445), done.\u001b[K\n",
            "remote: Compressing objects: 100% (258/258), done.\u001b[K\n",
            "remote: Total 1084 (delta 249), reused 360 (delta 181), pack-reused 639\u001b[K\n",
            "Receiving objects: 100% (1084/1084), 118.46 MiB | 20.18 MiB/s, done.\n",
            "Resolving deltas: 100% (456/456), done.\n",
            "Checking out files: 100% (424/424), done.\n",
            "/content/jiant\n",
            "Collecting attrs==19.3.0\n",
            "  Downloading attrs-19.3.0-py2.py3-none-any.whl (39 kB)\n",
            "Requirement already satisfied: bs4==0.0.1 in /usr/local/lib/python3.7/dist-packages (from -r requirements-no-torch.txt (line 2)) (0.0.1)\n",
            "Collecting jsonnet==0.15.0\n",
            "  Downloading jsonnet-0.15.0.tar.gz (255 kB)\n",
            "\u001b[K     |████████████████████████████████| 255 kB 8.2 MB/s \n",
            "\u001b[?25hCollecting lxml==4.6.3\n",
            "  Downloading lxml-4.6.3-cp37-cp37m-manylinux2014_x86_64.whl (6.3 MB)\n",
            "\u001b[K     |████████████████████████████████| 6.3 MB 44.1 MB/s \n",
            "\u001b[?25hCollecting datasets==1.1.2\n",
            "  Downloading datasets-1.1.2-py3-none-any.whl (147 kB)\n",
            "\u001b[K     |████████████████████████████████| 147 kB 56.9 MB/s \n",
            "\u001b[?25hCollecting nltk>=3.5\n",
            "  Downloading nltk-3.6.2-py3-none-any.whl (1.5 MB)\n",
            "\u001b[K     |████████████████████████████████| 1.5 MB 45.4 MB/s \n",
            "\u001b[?25hCollecting numexpr==2.7.1\n",
            "  Downloading numexpr-2.7.1-cp37-cp37m-manylinux1_x86_64.whl (162 kB)\n",
            "\u001b[K     |████████████████████████████████| 162 kB 47.8 MB/s \n",
            "\u001b[?25hCollecting numpy==1.18.4\n",
            "  Downloading numpy-1.18.4-cp37-cp37m-manylinux1_x86_64.whl (20.2 MB)\n",
            "\u001b[K     |████████████████████████████████| 20.2 MB 1.3 MB/s \n",
            "\u001b[?25hCollecting pandas==1.0.3\n",
            "  Downloading pandas-1.0.3-cp37-cp37m-manylinux1_x86_64.whl (10.0 MB)\n",
            "\u001b[K     |████████████████████████████████| 10.0 MB 40.1 MB/s \n",
            "\u001b[?25hCollecting python-Levenshtein==0.12.0\n",
            "  Downloading python-Levenshtein-0.12.0.tar.gz (48 kB)\n",
            "\u001b[K     |████████████████████████████████| 48 kB 5.6 MB/s \n",
            "\u001b[?25hCollecting sacremoses==0.0.43\n",
            "  Downloading sacremoses-0.0.43.tar.gz (883 kB)\n",
            "\u001b[K     |████████████████████████████████| 883 kB 32.0 MB/s \n",
            "\u001b[?25hCollecting seqeval==0.0.12\n",
            "  Downloading seqeval-0.0.12.tar.gz (21 kB)\n",
            "Requirement already satisfied: scikit-learn==0.22.2.post1 in /usr/local/lib/python3.7/dist-packages (from -r requirements-no-torch.txt (line 13)) (0.22.2.post1)\n",
            "Requirement already satisfied: scipy==1.4.1 in /usr/local/lib/python3.7/dist-packages (from -r requirements-no-torch.txt (line 14)) (1.4.1)\n",
            "Collecting sentencepiece==0.1.91\n",
            "  Downloading sentencepiece-0.1.91-cp37-cp37m-manylinux1_x86_64.whl (1.1 MB)\n",
            "\u001b[K     |████████████████████████████████| 1.1 MB 18.5 MB/s \n",
            "\u001b[?25hCollecting tokenizers==0.10.1\n",
            "  Downloading tokenizers-0.10.1-cp37-cp37m-manylinux2010_x86_64.whl (3.2 MB)\n",
            "\u001b[K     |████████████████████████████████| 3.2 MB 33.7 MB/s \n",
            "\u001b[?25hCollecting tqdm==4.46.0\n",
            "  Downloading tqdm-4.46.0-py2.py3-none-any.whl (63 kB)\n",
            "\u001b[K     |████████████████████████████████| 63 kB 2.3 MB/s \n",
            "\u001b[?25hCollecting transformers==4.5.0\n",
            "  Downloading transformers-4.5.0-py3-none-any.whl (2.1 MB)\n",
            "\u001b[K     |████████████████████████████████| 2.1 MB 34.9 MB/s \n",
            "\u001b[?25hRequirement already satisfied: beautifulsoup4 in /usr/local/lib/python3.7/dist-packages (from bs4==0.0.1->-r requirements-no-torch.txt (line 2)) (4.6.3)\n",
            "Requirement already satisfied: filelock in /usr/local/lib/python3.7/dist-packages (from datasets==1.1.2->-r requirements-no-torch.txt (line 5)) (3.0.12)\n",
            "Collecting xxhash\n",
            "  Downloading xxhash-2.0.2-cp37-cp37m-manylinux2010_x86_64.whl (243 kB)\n",
            "\u001b[K     |████████████████████████████████| 243 kB 61.3 MB/s \n",
            "\u001b[?25hRequirement already satisfied: requests>=2.19.0 in /usr/local/lib/python3.7/dist-packages (from datasets==1.1.2->-r requirements-no-torch.txt (line 5)) (2.23.0)\n",
            "Requirement already satisfied: dill in /usr/local/lib/python3.7/dist-packages (from datasets==1.1.2->-r requirements-no-torch.txt (line 5)) (0.3.4)\n",
            "Requirement already satisfied: multiprocess in /usr/local/lib/python3.7/dist-packages (from datasets==1.1.2->-r requirements-no-torch.txt (line 5)) (0.70.12.2)\n",
            "Requirement already satisfied: pyarrow>=0.17.1 in /usr/local/lib/python3.7/dist-packages (from datasets==1.1.2->-r requirements-no-torch.txt (line 5)) (3.0.0)\n",
            "Requirement already satisfied: pytz>=2017.2 in /usr/local/lib/python3.7/dist-packages (from pandas==1.0.3->-r requirements-no-torch.txt (line 9)) (2018.9)\n",
            "Requirement already satisfied: python-dateutil>=2.6.1 in /usr/local/lib/python3.7/dist-packages (from pandas==1.0.3->-r requirements-no-torch.txt (line 9)) (2.8.1)\n",
            "Requirement already satisfied: setuptools in /usr/local/lib/python3.7/dist-packages (from python-Levenshtein==0.12.0->-r requirements-no-torch.txt (line 10)) (57.2.0)\n",
            "Requirement already satisfied: regex in /usr/local/lib/python3.7/dist-packages (from sacremoses==0.0.43->-r requirements-no-torch.txt (line 11)) (2019.12.20)\n",
            "Requirement already satisfied: six in /usr/local/lib/python3.7/dist-packages (from sacremoses==0.0.43->-r requirements-no-torch.txt (line 11)) (1.15.0)\n",
            "Requirement already satisfied: click in /usr/local/lib/python3.7/dist-packages (from sacremoses==0.0.43->-r requirements-no-torch.txt (line 11)) (7.1.2)\n",
            "Requirement already satisfied: joblib in /usr/local/lib/python3.7/dist-packages (from sacremoses==0.0.43->-r requirements-no-torch.txt (line 11)) (1.0.1)\n",
            "Requirement already satisfied: Keras>=2.2.4 in /usr/local/lib/python3.7/dist-packages (from seqeval==0.0.12->-r requirements-no-torch.txt (line 12)) (2.4.3)\n",
            "Requirement already satisfied: importlib-metadata in /usr/local/lib/python3.7/dist-packages (from transformers==4.5.0->-r requirements-no-torch.txt (line 18)) (4.6.1)\n",
            "Requirement already satisfied: packaging in /usr/local/lib/python3.7/dist-packages (from transformers==4.5.0->-r requirements-no-torch.txt (line 18)) (21.0)\n",
            "Requirement already satisfied: pyyaml in /usr/local/lib/python3.7/dist-packages (from Keras>=2.2.4->seqeval==0.0.12->-r requirements-no-torch.txt (line 12)) (3.13)\n",
            "Requirement already satisfied: h5py in /usr/local/lib/python3.7/dist-packages (from Keras>=2.2.4->seqeval==0.0.12->-r requirements-no-torch.txt (line 12)) (3.1.0)\n",
            "Requirement already satisfied: idna<3,>=2.5 in /usr/local/lib/python3.7/dist-packages (from requests>=2.19.0->datasets==1.1.2->-r requirements-no-torch.txt (line 5)) (2.10)\n",
            "Requirement already satisfied: urllib3!=1.25.0,!=1.25.1,<1.26,>=1.21.1 in /usr/local/lib/python3.7/dist-packages (from requests>=2.19.0->datasets==1.1.2->-r requirements-no-torch.txt (line 5)) (1.24.3)\n",
            "Requirement already satisfied: certifi>=2017.4.17 in /usr/local/lib/python3.7/dist-packages (from requests>=2.19.0->datasets==1.1.2->-r requirements-no-torch.txt (line 5)) (2021.5.30)\n",
            "Requirement already satisfied: chardet<4,>=3.0.2 in /usr/local/lib/python3.7/dist-packages (from requests>=2.19.0->datasets==1.1.2->-r requirements-no-torch.txt (line 5)) (3.0.4)\n",
            "Requirement already satisfied: cached-property in /usr/local/lib/python3.7/dist-packages (from h5py->Keras>=2.2.4->seqeval==0.0.12->-r requirements-no-torch.txt (line 12)) (1.5.2)\n",
            "Requirement already satisfied: typing-extensions>=3.6.4 in /usr/local/lib/python3.7/dist-packages (from importlib-metadata->transformers==4.5.0->-r requirements-no-torch.txt (line 18)) (3.7.4.3)\n",
            "Requirement already satisfied: zipp>=0.5 in /usr/local/lib/python3.7/dist-packages (from importlib-metadata->transformers==4.5.0->-r requirements-no-torch.txt (line 18)) (3.5.0)\n",
            "Requirement already satisfied: pyparsing>=2.0.2 in /usr/local/lib/python3.7/dist-packages (from packaging->transformers==4.5.0->-r requirements-no-torch.txt (line 18)) (2.4.7)\n",
            "\u001b[33mWARNING: The candidate selected for download or install is a yanked version: 'python-levenshtein' candidate (version 0.12.0 at https://files.pythonhosted.org/packages/42/a9/d1785c85ebf9b7dfacd08938dd028209c34a0ea3b1bcdb895208bd40a67d/python-Levenshtein-0.12.0.tar.gz#sha256=033a11de5e3d19ea25c9302d11224e1a1898fe5abd23c61c7c360c25195e3eb1 (from https://pypi.org/simple/python-levenshtein/))\n",
            "Reason for being yanked: Insecure, upgrade to 0.12.1\u001b[0m\n",
            "Building wheels for collected packages: jsonnet, python-Levenshtein, sacremoses, seqeval\n",
            "  Building wheel for jsonnet (setup.py) ... \u001b[?25l\u001b[?25hdone\n",
            "  Created wheel for jsonnet: filename=jsonnet-0.15.0-cp37-cp37m-linux_x86_64.whl size=3320447 sha256=bd5152018cbf7bb63d70b2c94890be875aaa1c853ddac5bede365f4ebaabc624\n",
            "  Stored in directory: /root/.cache/pip/wheels/21/01/e4/6fabcb0c191f51e98452f2af6cb2086f0f1cec94a2c0ce9948\n",
            "  Building wheel for python-Levenshtein (setup.py) ... \u001b[?25l\u001b[?25hdone\n",
            "  Created wheel for python-Levenshtein: filename=python_Levenshtein-0.12.0-cp37-cp37m-linux_x86_64.whl size=145920 sha256=1fa0123bde6b092400118e8f9af14f7f55e6d5d1693674c9da755da89c3cc8fc\n",
            "  Stored in directory: /root/.cache/pip/wheels/f0/9b/13/49c281164c37be18343230d3cd0fca29efb23a493351db0009\n",
            "  Building wheel for sacremoses (setup.py) ... \u001b[?25l\u001b[?25hdone\n",
            "  Created wheel for sacremoses: filename=sacremoses-0.0.43-py3-none-any.whl size=893251 sha256=030c97bf9962bc2ee9acd3f92c7004b9e391e314c9469d6a0171363972b02349\n",
            "  Stored in directory: /root/.cache/pip/wheels/69/09/d1/bf058f7d6fa0ecba2ce7c66be3b8d012beb4bf61a6e0c101c0\n",
            "  Building wheel for seqeval (setup.py) ... \u001b[?25l\u001b[?25hdone\n",
            "  Created wheel for seqeval: filename=seqeval-0.0.12-py3-none-any.whl size=7434 sha256=3e199fbe9f22bf98059d36257d58d67302bfeb1071e6bf1ed09d22615edeb6e5\n",
            "  Stored in directory: /root/.cache/pip/wheels/dc/cc/62/a3b81f92d35a80e39eb9b2a9d8b31abac54c02b21b2d466edc\n",
            "Successfully built jsonnet python-Levenshtein sacremoses seqeval\n",
            "Installing collected packages: numpy, tqdm, xxhash, tokenizers, sacremoses, pandas, transformers, seqeval, sentencepiece, python-Levenshtein, numexpr, nltk, lxml, jsonnet, datasets, attrs\n",
            "  Attempting uninstall: numpy\n",
            "    Found existing installation: numpy 1.19.5\n",
            "    Uninstalling numpy-1.19.5:\n",
            "      Successfully uninstalled numpy-1.19.5\n",
            "  Attempting uninstall: tqdm\n",
            "    Found existing installation: tqdm 4.41.1\n",
            "    Uninstalling tqdm-4.41.1:\n",
            "      Successfully uninstalled tqdm-4.41.1\n",
            "  Attempting uninstall: pandas\n",
            "    Found existing installation: pandas 1.1.5\n",
            "    Uninstalling pandas-1.1.5:\n",
            "      Successfully uninstalled pandas-1.1.5\n",
            "  Attempting uninstall: numexpr\n",
            "    Found existing installation: numexpr 2.7.3\n",
            "    Uninstalling numexpr-2.7.3:\n",
            "      Successfully uninstalled numexpr-2.7.3\n",
            "  Attempting uninstall: nltk\n",
            "    Found existing installation: nltk 3.2.5\n",
            "    Uninstalling nltk-3.2.5:\n",
            "      Successfully uninstalled nltk-3.2.5\n",
            "  Attempting uninstall: lxml\n",
            "    Found existing installation: lxml 4.2.6\n",
            "    Uninstalling lxml-4.2.6:\n",
            "      Successfully uninstalled lxml-4.2.6\n",
            "  Attempting uninstall: attrs\n",
            "    Found existing installation: attrs 21.2.0\n",
            "    Uninstalling attrs-21.2.0:\n",
            "      Successfully uninstalled attrs-21.2.0\n",
            "\u001b[31mERROR: pip's dependency resolver does not currently take into account all the packages that are installed. This behaviour is the source of the following dependency conflicts.\n",
            "tensorflow 2.5.0 requires numpy~=1.19.2, but you have numpy 1.18.4 which is incompatible.\n",
            "kapre 0.3.5 requires numpy>=1.18.5, but you have numpy 1.18.4 which is incompatible.\n",
            "google-colab 1.0.0 requires pandas~=1.1.0; python_version >= \"3.0\", but you have pandas 1.0.3 which is incompatible.\n",
            "fbprophet 0.7.1 requires pandas>=1.0.4, but you have pandas 1.0.3 which is incompatible.\n",
            "datascience 0.10.6 requires folium==0.2.1, but you have folium 0.8.3 which is incompatible.\n",
            "albumentations 0.1.12 requires imgaug<0.2.7,>=0.2.5, but you have imgaug 0.2.9 which is incompatible.\u001b[0m\n",
            "Successfully installed attrs-19.3.0 datasets-1.1.2 jsonnet-0.15.0 lxml-4.6.3 nltk-3.6.2 numexpr-2.7.1 numpy-1.18.4 pandas-1.0.3 python-Levenshtein-0.12.0 sacremoses-0.0.43 sentencepiece-0.1.91 seqeval-0.0.12 tokenizers-0.10.1 tqdm-4.46.0 transformers-4.5.0 xxhash-2.0.2\n"
          ],
          "name": "stdout"
        },
        {
          "output_type": "display_data",
          "data": {
            "application/vnd.colab-display-data+json": {
              "pip_warning": {
                "packages": [
                  "numpy",
                  "pandas"
                ]
              }
            }
          },
          "metadata": {
            "tags": []
          }
        },
        {
          "output_type": "stream",
          "text": [
            "Obtaining file:///content/jiant\n",
            "  Installing build dependencies ... \u001b[?25l\u001b[?25hdone\n",
            "  Getting requirements to build wheel ... \u001b[?25l\u001b[?25hdone\n",
            "    Preparing wheel metadata ... \u001b[?25l\u001b[?25hdone\n",
            "Installing collected packages: jiant\n",
            "  Running setup.py develop for jiant\n",
            "Successfully installed jiant\n",
            "Requirement already satisfied: gdown in /usr/local/lib/python3.7/dist-packages (3.6.4)\n",
            "Requirement already satisfied: six in /usr/local/lib/python3.7/dist-packages (from gdown) (1.15.0)\n",
            "Requirement already satisfied: tqdm in /usr/local/lib/python3.7/dist-packages (from gdown) (4.46.0)\n",
            "Requirement already satisfied: requests in /usr/local/lib/python3.7/dist-packages (from gdown) (2.23.0)\n",
            "Requirement already satisfied: chardet<4,>=3.0.2 in /usr/local/lib/python3.7/dist-packages (from requests->gdown) (3.0.4)\n",
            "Requirement already satisfied: certifi>=2017.4.17 in /usr/local/lib/python3.7/dist-packages (from requests->gdown) (2021.5.30)\n",
            "Requirement already satisfied: urllib3!=1.25.0,!=1.25.1,<1.26,>=1.21.1 in /usr/local/lib/python3.7/dist-packages (from requests->gdown) (1.24.3)\n",
            "Requirement already satisfied: idna<3,>=2.5 in /usr/local/lib/python3.7/dist-packages (from requests->gdown) (2.10)\n"
          ],
          "name": "stdout"
        }
      ]
    },
    {
      "cell_type": "markdown",
      "metadata": {
        "id": "TkvpqthuQTZe"
      },
      "source": [
        "Restart runtime after installing libs"
      ]
    },
    {
      "cell_type": "markdown",
      "metadata": {
        "id": "OFXf-RICoEqh"
      },
      "source": [
        "## **0.2 Download Edge Probing data**\n",
        "After preprocessing and generating the Edge Probing data for all the tasks (see report for details), these data was uploaded to our github and will be used here. Next, we will create the corresponding task configs.\n",
        "\n",
        "Because the tasks QUES and SUP are not supported by jiant, we added new task QUES to the jiant library (see report). The task SUP has the same jiant format structure as COREF, therefore we will reuse the default COREF task in jiant to probe SUP task."
      ]
    },
    {
      "cell_type": "code",
      "metadata": {
        "colab": {
          "base_uri": "https://localhost:8080/"
        },
        "id": "1WptdOn-EsMA",
        "outputId": "d17f9802-7281-41d5-af5e-10d1de46fdaa"
      },
      "source": [
        "%cd /content/jiant\n",
        "\n",
        "import jiant.utils.python.io as py_io\n",
        "import jiant.utils.display as display\n",
        "import os\n",
        "\n",
        "def init_task_config(task_name, size):\n",
        "  jiant_task = task_name\n",
        "  if(task_name == \"sup-squad\" or task_name == \"sup-babi\"):\n",
        "    jiant_task = \"coref\"  # use coref task to probe supporting facts task because of the analog structure of jiant EP json format\n",
        "\n",
        "  os.makedirs(\"/content/tasks/configs/\", exist_ok=True)\n",
        "  os.makedirs(f\"/content/tasks/data/{task_name}\", exist_ok=True)\n",
        "\n",
        "  py_io.write_json({\n",
        "    \"task\": jiant_task,\n",
        "    \"paths\": {\n",
        "      \"train\": f\"/content/tasks/data/{task_name}/{size}/train.jsonl\",\n",
        "      \"val\":   f\"/content/tasks/data/{task_name}/{size}/val.jsonl\",\n",
        "    },\n",
        "    \"name\": jiant_task\n",
        "  }, f\"/content/tasks/configs/{task_name}_config.json\")"
      ],
      "execution_count": 2,
      "outputs": [
        {
          "output_type": "stream",
          "text": [
            "/content/jiant\n"
          ],
          "name": "stdout"
        }
      ]
    },
    {
      "cell_type": "code",
      "metadata": {
        "id": "n0OVplH1gSFW"
      },
      "source": [
        "task_names = [\n",
        "              #\"ner\", \n",
        "              #\"semeval\", \n",
        "              \"coref\",    \n",
        "              #\"ques\" \n",
        "              #\"sup-squad\", \n",
        "              #\"sup-babi\",\n",
        "              #\"sup-hotpot\",\n",
        "             ]\n",
        "\n",
        "size = \"test\" # small, medium or big\n",
        "\n",
        "for task_name in task_names:\n",
        "  init_task_config(task_name, size)"
      ],
      "execution_count": 3,
      "outputs": []
    },
    {
      "cell_type": "code",
      "metadata": {
        "id": "Y6Y2zTi1JRtp"
      },
      "source": [
        "# copy the task data to the tasks folder created above\n",
        "!cp -r \"/content/How-Does-Bert-Answer-QA-DLP2021/src/probing-tasks/data\" \"/content/tasks\""
      ],
      "execution_count": 4,
      "outputs": []
    },
    {
      "cell_type": "markdown",
      "metadata": {
        "id": "4CZBFmqsr2A4"
      },
      "source": [
        "## **0.3 Download BERT models**\n",
        "Next, we download the models we want to train, for example a `bert-base-uncased` and a `bert-base-uncased-squad-v1` model\n",
        "\n"
      ]
    },
    {
      "cell_type": "code",
      "metadata": {
        "colab": {
          "base_uri": "https://localhost:8080/",
          "height": 642,
          "referenced_widgets": [
            "34d80bcfd63841be9740d7feca5bfa9b",
            "590f648e1b274438930b19104d654e95",
            "403cf1ee0ca847dba72210936f75c121",
            "2b09c507ea844ecb92ddf78f6f8e60f8",
            "af8489ce77394f1f944e04796d2df416",
            "55618a580cc549118cb2d4180e5fe224",
            "2be46d94e4504d1585ee9315e20a0882",
            "7d7156d493894294b1848f36eff38e46",
            "d575c21eb98e49efb64351a52b096e98",
            "c83f4914dfc0493a9640519e8446ac2f",
            "19584cbc9dd849669deba7faf86c7bd2",
            "27b28660c624472fb266290542240066",
            "e154422390754d54b2ba20f9f5684bc5",
            "5305bfec50eb4db1a379d919986d0575",
            "4d81f7084d524386a92538d570ebbe39",
            "aecc9f27ee2f40adab7317e93a0c626d",
            "29ad0f8d4c0249128435729b92878d0c",
            "08e7d983b22b4c93bb6ec211ee5f8a92",
            "ef866c7134f248559867c87e178931a5",
            "05cb869243eb4ed29781abed36e3282c",
            "b829dd316409426a984bbbfd69940a02",
            "8d19e4014c1047ce8e70758000a8c4a0",
            "807128b4896241b0a066279d4f573a1a",
            "257cf1bb12714c63a861fa7e32dacdad",
            "35d1ca0ec621429394f8611fd3b917c3",
            "549bcb0605c7421aa5332d0bc958e1a6",
            "8c622b94d56342469bc987bf52277e9e",
            "cd155799e97642c594f6a5d5a29404ef",
            "cacec2fc9ac2442d8855590424351931",
            "4951528139894d149f98342e058607a6",
            "61f0e30e213340ea9e78510ff0a5b52c",
            "68801fd777e94d0c96f12f2222819a5e",
            "82b1700b1229439bbcaedabf739911f1",
            "90229b4bc24e42ac94e966806e4dc042",
            "a71ba695e27b4999a6f91479399746ff",
            "d73b45d229ac46b6b61e69a06aa99ae5",
            "3a86820af5c244569f41988641d7d4e9",
            "9e94dc6cecb0452cb163cfaa2b57bc14",
            "7926cf82f3df4f30aa5782cdaa71b2a9",
            "4f51500da02248f59c61ee3af1b3ddc0",
            "27dc308fa1bb4d43a966bd51f48ecabd",
            "e21b50b5b1884882aae8d409354cb55a",
            "aa2b0329eff24a13bca930502ecf46e7",
            "61a4fd3943304eb483ba3273798b5a70",
            "a9c171357f174a0dbefbd0a193d3e6b4",
            "6bad4ba1aa3b4891a8b51f5f357a9984",
            "0ed6f51429ac4bd69a6b2ac07fd0596e",
            "9f9e919e3a5a43408841cdcac5c50db2",
            "68b36da629ad4843becd5c6aac4bdd14",
            "2f9fd088af8f474d98ae86fe88f8ae29",
            "1e56981cf90d47798ec44cbdaf0ddf0c",
            "6a0285326abe42deaf4dcbccadbf9cfe",
            "103f9b83efc8436abe4553ae58785079",
            "289e90902b6e414aa8a8288dba597198",
            "316a0b88f07243ccabd2ef9d2e1f160f",
            "73e199e12b524bfaae484aa32844361a",
            "2920cab4d35b4f84bc937e1a6c62745a",
            "9a960908413043b9bc75d86759a30d54",
            "5d00cd441bac4cffae81af09c9c96989",
            "791d12d2ac1748c384b0884b3e47ae50",
            "a710c31866714974a8665d53cde0f19b",
            "b22908a5f819488abf1587bc77f69196",
            "d01359b9bad04c0fbffdfafb6e9f8dff",
            "9fece40f93ce49f59c8d0b5ea4cf1101",
            "eaa3d564e0dc48f6b32a9f3ba0d54474",
            "40c04e8b3930448e9f681641d3179e6e",
            "421c82d3e8de4328966181583ce47faa",
            "bf8f968acb57467f93c8e6c6bb206dd9",
            "f43942bb0565409c92d30468d21dbd4f",
            "806365dd0b984a44907a39326d979246",
            "3ad30281e56d4769873c380f25e1f17b",
            "e1c13a61f8db41df9e60db0d30327adb",
            "de904ebbb86242139d33bbae58c43e7e",
            "706c991ce4de43b1bc1362c372fcad55",
            "396b05388d6b45bab1ee987cd1e0efcf",
            "4e7de82b7a4d46a68f6c9140deea51a5",
            "09f6d915975e4a398d22638479a114b7",
            "7a378fef7cf44749ba4258b2feb4e725",
            "f030ea1e1a5547f094700560375cc8b6",
            "bdf0cf54c2e64ebf9eb90a2c4fea6f05"
          ]
        },
        "id": "kICMJQvNllO6",
        "outputId": "3ffb4607-5a16-4011-f7b6-116f22151b9f"
      },
      "source": [
        "import jiant.proj.main.export_model as export_model\n",
        "\n",
        "models = [\n",
        "          \"bert-base-uncased\", \n",
        "          \"csarron/bert-base-uncased-squad-v1\"\n",
        "          ]\n",
        "\n",
        "for model in models:\n",
        "  export_model.export_model(\n",
        "      hf_pretrained_model_name_or_path=model,\n",
        "      output_base_path=f\"/content/models/{model}\",\n",
        "  )"
      ],
      "execution_count": 5,
      "outputs": [
        {
          "output_type": "display_data",
          "data": {
            "application/vnd.jupyter.widget-view+json": {
              "model_id": "34d80bcfd63841be9740d7feca5bfa9b",
              "version_minor": 0,
              "version_major": 2
            },
            "text/plain": [
              "HBox(children=(FloatProgress(value=0.0, description='Downloading', max=570.0, style=ProgressStyle(description_…"
            ]
          },
          "metadata": {
            "tags": []
          }
        },
        {
          "output_type": "stream",
          "text": [
            "\n"
          ],
          "name": "stdout"
        },
        {
          "output_type": "display_data",
          "data": {
            "application/vnd.jupyter.widget-view+json": {
              "model_id": "d575c21eb98e49efb64351a52b096e98",
              "version_minor": 0,
              "version_major": 2
            },
            "text/plain": [
              "HBox(children=(FloatProgress(value=0.0, description='Downloading', max=440473133.0, style=ProgressStyle(descri…"
            ]
          },
          "metadata": {
            "tags": []
          }
        },
        {
          "output_type": "stream",
          "text": [
            "\n"
          ],
          "name": "stdout"
        },
        {
          "output_type": "stream",
          "text": [
            "Some weights of BertForPreTraining were not initialized from the model checkpoint at bert-base-uncased and are newly initialized: ['cls.predictions.decoder.bias']\n",
            "You should probably TRAIN this model on a down-stream task to be able to use it for predictions and inference.\n"
          ],
          "name": "stderr"
        },
        {
          "output_type": "display_data",
          "data": {
            "application/vnd.jupyter.widget-view+json": {
              "model_id": "29ad0f8d4c0249128435729b92878d0c",
              "version_minor": 0,
              "version_major": 2
            },
            "text/plain": [
              "HBox(children=(FloatProgress(value=0.0, description='Downloading', max=231508.0, style=ProgressStyle(descripti…"
            ]
          },
          "metadata": {
            "tags": []
          }
        },
        {
          "output_type": "stream",
          "text": [
            "\n"
          ],
          "name": "stdout"
        },
        {
          "output_type": "display_data",
          "data": {
            "application/vnd.jupyter.widget-view+json": {
              "model_id": "35d1ca0ec621429394f8611fd3b917c3",
              "version_minor": 0,
              "version_major": 2
            },
            "text/plain": [
              "HBox(children=(FloatProgress(value=0.0, description='Downloading', max=28.0, style=ProgressStyle(description_w…"
            ]
          },
          "metadata": {
            "tags": []
          }
        },
        {
          "output_type": "stream",
          "text": [
            "\n"
          ],
          "name": "stdout"
        },
        {
          "output_type": "display_data",
          "data": {
            "application/vnd.jupyter.widget-view+json": {
              "model_id": "82b1700b1229439bbcaedabf739911f1",
              "version_minor": 0,
              "version_major": 2
            },
            "text/plain": [
              "HBox(children=(FloatProgress(value=0.0, description='Downloading', max=466062.0, style=ProgressStyle(descripti…"
            ]
          },
          "metadata": {
            "tags": []
          }
        },
        {
          "output_type": "stream",
          "text": [
            "\n"
          ],
          "name": "stdout"
        },
        {
          "output_type": "display_data",
          "data": {
            "application/vnd.jupyter.widget-view+json": {
              "model_id": "27dc308fa1bb4d43a966bd51f48ecabd",
              "version_minor": 0,
              "version_major": 2
            },
            "text/plain": [
              "HBox(children=(FloatProgress(value=0.0, description='Downloading', max=477.0, style=ProgressStyle(description_…"
            ]
          },
          "metadata": {
            "tags": []
          }
        },
        {
          "output_type": "stream",
          "text": [
            "\n"
          ],
          "name": "stdout"
        },
        {
          "output_type": "display_data",
          "data": {
            "application/vnd.jupyter.widget-view+json": {
              "model_id": "68b36da629ad4843becd5c6aac4bdd14",
              "version_minor": 0,
              "version_major": 2
            },
            "text/plain": [
              "HBox(children=(FloatProgress(value=0.0, description='Downloading', max=437983344.0, style=ProgressStyle(descri…"
            ]
          },
          "metadata": {
            "tags": []
          }
        },
        {
          "output_type": "stream",
          "text": [
            "\n"
          ],
          "name": "stdout"
        },
        {
          "output_type": "stream",
          "text": [
            "Some weights of the model checkpoint at csarron/bert-base-uncased-squad-v1 were not used when initializing BertForPreTraining: ['qa_outputs.weight', 'qa_outputs.bias']\n",
            "- This IS expected if you are initializing BertForPreTraining from the checkpoint of a model trained on another task or with another architecture (e.g. initializing a BertForSequenceClassification model from a BertForPreTraining model).\n",
            "- This IS NOT expected if you are initializing BertForPreTraining from the checkpoint of a model that you expect to be exactly identical (initializing a BertForSequenceClassification model from a BertForSequenceClassification model).\n",
            "Some weights of BertForPreTraining were not initialized from the model checkpoint at csarron/bert-base-uncased-squad-v1 and are newly initialized: ['cls.predictions.bias', 'cls.predictions.transform.dense.weight', 'cls.predictions.transform.dense.bias', 'cls.predictions.transform.LayerNorm.weight', 'cls.predictions.transform.LayerNorm.bias', 'cls.predictions.decoder.weight', 'cls.predictions.decoder.bias', 'cls.seq_relationship.weight', 'cls.seq_relationship.bias']\n",
            "You should probably TRAIN this model on a down-stream task to be able to use it for predictions and inference.\n"
          ],
          "name": "stderr"
        },
        {
          "output_type": "display_data",
          "data": {
            "application/vnd.jupyter.widget-view+json": {
              "model_id": "2920cab4d35b4f84bc937e1a6c62745a",
              "version_minor": 0,
              "version_major": 2
            },
            "text/plain": [
              "HBox(children=(FloatProgress(value=0.0, description='Downloading', max=231508.0, style=ProgressStyle(descripti…"
            ]
          },
          "metadata": {
            "tags": []
          }
        },
        {
          "output_type": "stream",
          "text": [
            "\n"
          ],
          "name": "stdout"
        },
        {
          "output_type": "display_data",
          "data": {
            "application/vnd.jupyter.widget-view+json": {
              "model_id": "eaa3d564e0dc48f6b32a9f3ba0d54474",
              "version_minor": 0,
              "version_major": 2
            },
            "text/plain": [
              "HBox(children=(FloatProgress(value=0.0, description='Downloading', max=112.0, style=ProgressStyle(description_…"
            ]
          },
          "metadata": {
            "tags": []
          }
        },
        {
          "output_type": "stream",
          "text": [
            "\n"
          ],
          "name": "stdout"
        },
        {
          "output_type": "display_data",
          "data": {
            "application/vnd.jupyter.widget-view+json": {
              "model_id": "de904ebbb86242139d33bbae58c43e7e",
              "version_minor": 0,
              "version_major": 2
            },
            "text/plain": [
              "HBox(children=(FloatProgress(value=0.0, description='Downloading', max=48.0, style=ProgressStyle(description_w…"
            ]
          },
          "metadata": {
            "tags": []
          }
        },
        {
          "output_type": "stream",
          "text": [
            "\n"
          ],
          "name": "stdout"
        }
      ]
    },
    {
      "cell_type": "markdown",
      "metadata": {
        "id": "3I4NLR9HteB3"
      },
      "source": [
        "## **0.4 Tokenize and cache**\n",
        "With the model and data ready, we can now tokenize and cache the inputs features for our task. This converts the input examples to tokenized features ready to be consumed by the model, and saved them to disk in chunks."
      ]
    },
    {
      "cell_type": "code",
      "metadata": {
        "colab": {
          "base_uri": "https://localhost:8080/",
          "height": 313,
          "referenced_widgets": [
            "defcd458825c48c8a7e13e13a35d10d7",
            "be339eda2e6648e283a5a57c2269a552",
            "197f2642862a47c8a4ca7c315580593b",
            "027c96f24fa34ce1ab2f09fbcf8ed4ca",
            "e0c653adaca24f57ab1253b26e6cba47",
            "73fe5a65cad44b87b401ef08dbdbe52c",
            "5bb0eac86b8d4ae9890a2325c8b848cd",
            "3a5a81bb2f484a48b95d6dd024647019",
            "9ad07beeb5144e6992ee0cf84e999597",
            "3f479bd5f15b4af3af8e1672e4e15a62",
            "c52f6e72395040899a3f06f4b2db33db",
            "5bc3258f3d9e42a4b8b308c6457e8588",
            "a6385b9977104815a4f6746a425197d5",
            "007703c7d3534836a9fe54b75c862510",
            "87eb5766e8d2447f80d1d9c8f5c4f695",
            "72fc955b6f47483195059e3414079bcb",
            "6baff63d7ce84ef5a0b9c40b9c497733",
            "4296645db6b6415daa1675597bb8ad6a",
            "fdd908413be343e78c39ffc1f5b11a83",
            "19fe7db2a0e94fe7b68219292fa3ab32",
            "00a0198cfa234c84a0b553076b802188",
            "67e5ce8f58434531af9b0d43b95bf7dc",
            "24bf75644ae34aeda0cd708c689b6784",
            "a5d0feb0eaf84060b984d8fb8d84368f",
            "26da3e6c9cfc47b8be7a0193ace1ba5a",
            "13bb8bde678f445cad76702af75491ca",
            "58a378ef16054e84be6d1d050a705d57",
            "9e250e934f1b4ec4aafc12b78ce739d9",
            "217f3a45066e493d870daea5cd69b874",
            "4852042354144e54897717ee2843301a",
            "6dd3e7e9d47048cfaa92b20542344ecb",
            "56f110d340a944889528d69bf94e5586"
          ]
        },
        "id": "wq2CmWcJRxK_",
        "outputId": "160d54ed-c808-4989-d58d-2095b6aa3101"
      },
      "source": [
        "import jiant.shared.caching as caching\n",
        "import jiant.proj.main.tokenize_and_cache as tokenize_and_cache\n",
        "\n",
        "seq_length_options = {\n",
        "    \"ner\":        128, \n",
        "    \"semeval\":    128, \n",
        "    \"coref\":      128,\n",
        "    \"ques\":       128,     \n",
        "    \"sup-squad\":  384, \n",
        "    \"sup-babi\":   384,\n",
        "    \"sup-hotpot\": 384,\n",
        "}\n",
        "\n",
        "# Tokenize and cache each task\n",
        "def tokenize(task_name, model):\n",
        "    tokenize_and_cache.main(tokenize_and_cache.RunConfiguration(\n",
        "        task_config_path=f\"/content/tasks/configs/{task_name}_config.json\",\n",
        "        hf_pretrained_model_name_or_path=model,\n",
        "        output_dir=f\"/content/cache/{task_name}\",\n",
        "        phases=[\"train\", \"val\"],\n",
        "        max_seq_length=seq_length_options[task_name],\n",
        "    ))\n",
        "\n",
        "for task_name in task_names:\n",
        "  for model in models:\n",
        "    tokenize(task_name, model)"
      ],
      "execution_count": 6,
      "outputs": [
        {
          "output_type": "stream",
          "text": [
            "CorefTask\n",
            "  [train]: /content/tasks/data/coref/test/train.jsonl\n",
            "  [val]: /content/tasks/data/coref/test/val.jsonl\n"
          ],
          "name": "stdout"
        },
        {
          "output_type": "display_data",
          "data": {
            "application/vnd.jupyter.widget-view+json": {
              "model_id": "defcd458825c48c8a7e13e13a35d10d7",
              "version_minor": 0,
              "version_major": 2
            },
            "text/plain": [
              "HBox(children=(FloatProgress(value=0.0, description='Tokenizing', max=135.0, style=ProgressStyle(description_w…"
            ]
          },
          "metadata": {
            "tags": []
          }
        },
        {
          "output_type": "stream",
          "text": [
            "\n"
          ],
          "name": "stdout"
        },
        {
          "output_type": "display_data",
          "data": {
            "application/vnd.jupyter.widget-view+json": {
              "model_id": "9ad07beeb5144e6992ee0cf84e999597",
              "version_minor": 0,
              "version_major": 2
            },
            "text/plain": [
              "HBox(children=(FloatProgress(value=0.0, description='Tokenizing', max=21.0, style=ProgressStyle(description_wi…"
            ]
          },
          "metadata": {
            "tags": []
          }
        },
        {
          "output_type": "stream",
          "text": [
            "\n",
            "CorefTask\n",
            "  [train]: /content/tasks/data/coref/test/train.jsonl\n",
            "  [val]: /content/tasks/data/coref/test/val.jsonl\n"
          ],
          "name": "stdout"
        },
        {
          "output_type": "display_data",
          "data": {
            "application/vnd.jupyter.widget-view+json": {
              "model_id": "6baff63d7ce84ef5a0b9c40b9c497733",
              "version_minor": 0,
              "version_major": 2
            },
            "text/plain": [
              "HBox(children=(FloatProgress(value=0.0, description='Tokenizing', max=135.0, style=ProgressStyle(description_w…"
            ]
          },
          "metadata": {
            "tags": []
          }
        },
        {
          "output_type": "stream",
          "text": [
            "\n"
          ],
          "name": "stdout"
        },
        {
          "output_type": "display_data",
          "data": {
            "application/vnd.jupyter.widget-view+json": {
              "model_id": "26da3e6c9cfc47b8be7a0193ace1ba5a",
              "version_minor": 0,
              "version_major": 2
            },
            "text/plain": [
              "HBox(children=(FloatProgress(value=0.0, description='Tokenizing', max=21.0, style=ProgressStyle(description_wi…"
            ]
          },
          "metadata": {
            "tags": []
          }
        },
        {
          "output_type": "stream",
          "text": [
            "\n"
          ],
          "name": "stdout"
        }
      ]
    },
    {
      "cell_type": "markdown",
      "metadata": {
        "id": "YlyEeBQOtwrv"
      },
      "source": [
        "We can inspect the first examples of the first chunk of each task."
      ]
    },
    {
      "cell_type": "code",
      "metadata": {
        "colab": {
          "base_uri": "https://localhost:8080/"
        },
        "id": "AjUks1IQClLO",
        "outputId": "c5410590-9aeb-4045-8c1b-acfe10bd1ac5"
      },
      "source": [
        "row = caching.ChunkedFilesDataCache(f\"/content/cache/{task_names[0]}/train\").load_chunk(0)[0][\"data_row\"]\n",
        "print(row.input_ids)\n",
        "print(row.tokens)\n",
        "print(row.spans)\n",
        "print(row.tokens[row.spans[0][0]: row.spans[0][1]+1])\n",
        "#print(row.tokens[row.spans[1][0]: row.spans[1][1]+1])"
      ],
      "execution_count": 7,
      "outputs": [
        {
          "output_type": "stream",
          "text": [
            "[  101 24111  1005  1055  2197  2420  1998  2054  2003  2056  2002  2001\n",
            "  2066   102     0     0     0     0     0     0     0     0     0     0\n",
            "     0     0     0     0     0     0     0     0     0     0     0     0\n",
            "     0     0     0     0     0     0     0     0     0     0     0     0\n",
            "     0     0     0     0     0     0     0     0     0     0     0     0\n",
            "     0     0     0     0     0     0     0     0     0     0     0     0\n",
            "     0     0     0     0     0     0     0     0     0     0     0     0\n",
            "     0     0     0     0     0     0     0     0     0     0     0     0\n",
            "     0     0     0     0     0     0     0     0     0     0     0     0\n",
            "     0     0     0     0     0     0     0     0     0     0     0     0\n",
            "     0     0     0     0     0     0     0     0]\n",
            "['[CLS]', 'saddam', \"'\", 's', 'last', 'days', 'and', 'what', 'is', 'said', 'he', 'was', 'like', '[SEP]']\n",
            "[[ 1  3]\n",
            " [10 10]]\n",
            "['saddam', \"'\", 's']\n"
          ],
          "name": "stdout"
        }
      ]
    },
    {
      "cell_type": "markdown",
      "metadata": {
        "id": "XWb2rZ49ukZy"
      },
      "source": [
        "## **0.5 Write a run config**\n",
        "Here we are going to write what we call a `jiant_task_config`. This configuration file basically defines a lot of the subtleties of our training pipeline, such as what tasks we will train on, do evaluation on, batch size for each task. We use a helper `Configurator` to write out a `jiant_task_container_config`."
      ]
    },
    {
      "cell_type": "code",
      "metadata": {
        "id": "wQPixTeAClQD"
      },
      "source": [
        "import jiant.proj.main.scripts.configurator as configurator\n",
        "\n",
        "def create_jiant_task_config(task_name):\n",
        "  jiant_run_config = configurator.SimpleAPIMultiTaskConfigurator(\n",
        "      task_config_base_path=\"/content/tasks/configs\",\n",
        "      task_cache_base_path=\"/content/cache\",\n",
        "      train_task_name_list=[task_name],\n",
        "      val_task_name_list=[task_name],\n",
        "      train_batch_size=8,\n",
        "      eval_batch_size=2,\n",
        "      epochs=5,\n",
        "      num_gpus=1,\n",
        "  ).create_config()\n",
        "  os.makedirs(\"/content/tasks/run_configs/\", exist_ok=True)\n",
        "  py_io.write_json(jiant_run_config, f\"/content/tasks/run_configs/{task_name}_run_config.json\")\n",
        "  #display.show_json(jiant_run_config)"
      ],
      "execution_count": 8,
      "outputs": []
    },
    {
      "cell_type": "markdown",
      "metadata": {
        "id": "BjTi5usdvdKo"
      },
      "source": [
        "## **0.6 Write the training function**\n",
        "The last step is to train the model on the probing tasks. We create a function that allows us to configure the training process through the parameters e.g which probing task, which model and number of layers you want to train."
      ]
    },
    {
      "cell_type": "code",
      "metadata": {
        "id": "yyZbu_KjClfE"
      },
      "source": [
        "import jiant.proj.main.runscript as main_runscript\n",
        "\n",
        "def run_probing_task(task_name, model_name=\"bert-base-uncased\", num_layers=1, bin_model_path=\"\"):\n",
        "  hf_model_name = model_name\n",
        "  if(model_name == \"bert-babi\"):\n",
        "    hf_model_name = \"bert-base-uncased\"\n",
        "  \n",
        "  run_args = main_runscript.RunConfiguration(\n",
        "      jiant_task_container_config_path=f\"/content/tasks/run_configs/{task_name}_run_config.json\",\n",
        "      output_dir=f\"/content/tasks/runs/{task_name}\",\n",
        "      hf_pretrained_model_name_or_path=hf_model_name,\n",
        "      model_path=f\"/content/models/{model_name}/model/model.p\",\n",
        "      model_config_path=f\"/content/models/{model_name}/model/config.json\",\n",
        "      learning_rate=1e-3,\n",
        "      eval_every_steps=1000,\n",
        "      do_train=True,\n",
        "      do_val=True,\n",
        "      do_save=True,\n",
        "      force_overwrite=True,\n",
        "      num_hidden_layers=num_layers,\n",
        "      bin_model_path=bin_model_path,\n",
        "  )\n",
        "  return main_runscript.run_loop(run_args)"
      ],
      "execution_count": 9,
      "outputs": []
    },
    {
      "cell_type": "markdown",
      "metadata": {
        "id": "4JgLIkk8SmhM"
      },
      "source": [
        "We sum up all the steps above in a convenient method that do the whole probing pipeline. After probing we extract the macro averaged F1 to prepare for the visualization."
      ]
    },
    {
      "cell_type": "code",
      "metadata": {
        "id": "SI3lqN7KGXcV"
      },
      "source": [
        "# the whole jiant pipeline\n",
        "def probe(model, task_name, n_layers, dataset_size):\n",
        "  init_task_config(task_name, dataset_size)\n",
        "  tokenize(task_name, model)\n",
        "  create_jiant_task_config(task_name)\n",
        "  probing_output = run_probing_task(task_name, model, n_layers)\n",
        "  f1_macro = str(probing_output[task_name][\"metrics\"][\"minor\"][\"f1_macro\"])\n",
        "  \n",
        "  return f1_macro"
      ],
      "execution_count": 10,
      "outputs": []
    },
    {
      "cell_type": "markdown",
      "metadata": {
        "id": "34qwAWqYSlns"
      },
      "source": [
        "## **0.7 Write the visualization**\n"
      ]
    },
    {
      "cell_type": "code",
      "metadata": {
        "id": "ojJ2BLYlaZ0o"
      },
      "source": [
        "import os\n",
        "import json\n",
        "import matplotlib.pyplot as plt\n",
        "\n",
        "num_layers = list(range(1, 13, 2))      # from 1 to 12 layers\n",
        "\n",
        "def plot_task(model, task, linestyle, f1_result):\n",
        "  y = [float(f1_result[model][task][n_layers]['f1_macro']) for n_layers in num_layers]\n",
        "  plt.plot(num_layers, y,linestyle, label=model)\n",
        "  plt.legend(loc='center left', bbox_to_anchor=(1, 0.5))\n",
        "  plt.suptitle(task)\n",
        "\n",
        "def plot_task_from_file(input_path, model, task, linestyle, f1_result):\n",
        "  with open(input_path, \"r\") as f:\n",
        "    f1_result = json.load(f)\n",
        "  y = [float(f1_result[model][task][n_layers]['f1_macro']) for n_layers in num_layers]\n",
        "  plt.plot(num_layers, y,linestyle, label=model)\n",
        "  plt.legend()\n",
        "  plt.suptitle(task)\n",
        "\n",
        "\n",
        "model_to_linestyle = {\n",
        "    \"bert-base-uncased\": \":g\", \n",
        "    \"csarron/bert-base-uncased-squad-v1\": \"-y\",\n",
        "    \"bert-babi\": \"b\"\n",
        "}\n",
        "\n",
        "# from google.colab import drive\n",
        "# drive.mount('/content/drive')\n",
        "# os.makedirs(f'/content/drive/MyDrive/probing-results', exist_ok=True)"
      ],
      "execution_count": 11,
      "outputs": []
    },
    {
      "cell_type": "markdown",
      "metadata": {
        "id": "ZZuCr3C1n7C2"
      },
      "source": [
        "# **1. Reproduce the probing tasks**\n",
        "\n",
        "---\n",
        "\n"
      ]
    },
    {
      "cell_type": "markdown",
      "metadata": {
        "id": "gNp6qgqTHybL"
      },
      "source": [
        "Now we can start training the models on the probing tasks like the paper did, and then visualize the results."
      ]
    },
    {
      "cell_type": "markdown",
      "metadata": {
        "id": "_mWl9Q8IIvK_"
      },
      "source": [
        "Download the bert models from huggingface web. Skip this step If these models was already downloaded."
      ]
    },
    {
      "cell_type": "code",
      "metadata": {
        "colab": {
          "base_uri": "https://localhost:8080/"
        },
        "id": "ZOMHEETaEhq-",
        "outputId": "3cac2b98-6626-4ee5-e63b-053cc41cd624"
      },
      "source": [
        "import jiant.proj.main.export_model as export_model\n",
        "\n",
        "models = [\n",
        "          \"bert-base-uncased\", \n",
        "          \"csarron/bert-base-uncased-squad-v1\"\n",
        "          ]\n",
        "\n",
        "for model in models:\n",
        "  export_model.export_model(\n",
        "      hf_pretrained_model_name_or_path=model,\n",
        "      output_base_path=f\"/content/models/{model}\",\n",
        "  )"
      ],
      "execution_count": null,
      "outputs": [
        {
          "output_type": "stream",
          "text": [
            "Some weights of BertForPreTraining were not initialized from the model checkpoint at bert-base-uncased and are newly initialized: ['cls.predictions.decoder.bias']\n",
            "You should probably TRAIN this model on a down-stream task to be able to use it for predictions and inference.\n",
            "Some weights of the model checkpoint at csarron/bert-base-uncased-squad-v1 were not used when initializing BertForPreTraining: ['qa_outputs.weight', 'qa_outputs.bias']\n",
            "- This IS expected if you are initializing BertForPreTraining from the checkpoint of a model trained on another task or with another architecture (e.g. initializing a BertForSequenceClassification model from a BertForPreTraining model).\n",
            "- This IS NOT expected if you are initializing BertForPreTraining from the checkpoint of a model that you expect to be exactly identical (initializing a BertForSequenceClassification model from a BertForSequenceClassification model).\n",
            "Some weights of BertForPreTraining were not initialized from the model checkpoint at csarron/bert-base-uncased-squad-v1 and are newly initialized: ['cls.predictions.bias', 'cls.predictions.transform.dense.weight', 'cls.predictions.transform.dense.bias', 'cls.predictions.transform.LayerNorm.weight', 'cls.predictions.transform.LayerNorm.bias', 'cls.predictions.decoder.weight', 'cls.predictions.decoder.bias', 'cls.seq_relationship.weight', 'cls.seq_relationship.bias']\n",
            "You should probably TRAIN this model on a down-stream task to be able to use it for predictions and inference.\n"
          ],
          "name": "stderr"
        }
      ]
    },
    {
      "cell_type": "markdown",
      "metadata": {
        "id": "1QYZbMuwwwQz"
      },
      "source": [
        "Download and export bert babi model provided by Betty (https://cloud.beuth-hochschule.de/index.php/s/X8NN6BaZA3Wg7JW)"
      ]
    },
    {
      "cell_type": "code",
      "metadata": {
        "colab": {
          "base_uri": "https://localhost:8080/"
        },
        "id": "DloPYpRxwpvz",
        "outputId": "9324c95d-380c-47ac-9b48-f48b257fa270"
      },
      "source": [
        "babi_id_url = \"1nl8Hft8isOmocwjZ-ulAvIfwifAyMTtY\"\n",
        "os.makedirs(\"/content/babi-bin-betty/\", exist_ok=True)\n",
        "!gdown --id $babi_id_url -O \"/content/babi-bin-betty/babi.bin\"\n",
        "\n",
        "\n",
        "babi_model_path = \"/content/babi-bin-betty/babi.bin\"\n",
        "model_name = \"bert-babi\"\n",
        "export_model.export_model(\n",
        "    hf_pretrained_model_name_or_path=\"bert-base-uncased\",\n",
        "    bin_model_path=babi_model_path,\n",
        "    output_base_path=f\"/content/models/{model_name}\",\n",
        ")"
      ],
      "execution_count": 12,
      "outputs": [
        {
          "output_type": "stream",
          "text": [
            "Downloading...\n",
            "From: https://drive.google.com/uc?id=1nl8Hft8isOmocwjZ-ulAvIfwifAyMTtY\n",
            "To: /content/babi-bin-betty/babi.bin\n",
            "438MB [00:08, 54.3MB/s]\n"
          ],
          "name": "stdout"
        }
      ]
    },
    {
      "cell_type": "markdown",
      "metadata": {
        "id": "30ep-DwIGwr-"
      },
      "source": [
        "## **1.1 NER Task**"
      ]
    },
    {
      "cell_type": "code",
      "metadata": {
        "id": "MDN_iozgtwRb"
      },
      "source": [
        "ner_results = {}\n",
        "task = \"ner\"\n",
        "dataset_size = \"small\"\n",
        "\n",
        "bert_base_model = \"bert-base-uncased\"\n",
        "bert_squad_model = \"csarron/bert-base-uncased-squad-v1\"\n",
        "bert_babi_model = \"bert-babi\""
      ],
      "execution_count": 18,
      "outputs": []
    },
    {
      "cell_type": "markdown",
      "metadata": {
        "id": "csTU_f46G_BB"
      },
      "source": [
        "### 1.1.1 Train `bert-base` model"
      ]
    },
    {
      "cell_type": "code",
      "metadata": {
        "id": "-Qsiv7OQkLNT"
      },
      "source": [
        "bert_base_model = \"bert-base-uncased\"\n",
        "num_layers = list(range(1, 13, 2))      # from 1 to 12 layers \n",
        "\n",
        "ner_results[bert_base_model] = {}\n",
        "ner_results[bert_base_model][task] = {}\n",
        "\n",
        "for n_layers in num_layers:\n",
        "    f1_macro = probe(bert_base_model, task, n_layers, dataset_size) # get f1_macro after probing\n",
        "    ner_results[bert_base_model][task][n_layers] = {}\n",
        "    ner_results[bert_base_model][task][n_layers]['f1_macro'] = f1_macro # save f1 macro for plotting"
      ],
      "execution_count": null,
      "outputs": []
    },
    {
      "cell_type": "code",
      "metadata": {
        "id": "xx3TvnPuT8k1"
      },
      "source": [
        "ner_results[bert_base_model] = {\n",
        "      'ner': {\n",
        "          1: {'f1_macro': '0.3268712768712769'}, \n",
        "          3: {'f1_macro': '0.3961069023569024'}, \n",
        "          5: {'f1_macro': '0.0'}, \n",
        "          7: {'f1_macro': '0.0'}, \n",
        "          9: {'f1_macro': '0.0'}, \n",
        "          11: {'f1_macro': '0.0'}\n",
        "        }\n",
        "      }"
      ],
      "execution_count": null,
      "outputs": []
    },
    {
      "cell_type": "markdown",
      "metadata": {
        "id": "ear-ihyitWp2"
      },
      "source": [
        "### 1.1.2 Train `bert-base-finetuned-squad` model"
      ]
    },
    {
      "cell_type": "code",
      "metadata": {
        "id": "khMmPpl9tcXh"
      },
      "source": [
        "bert_squad_model = \"csarron/bert-base-uncased-squad-v1\"\n",
        "num_layers = list(range(7, 13, 2))      # from 1 to 12 layers \n",
        "\n",
        "ner_results[bert_squad_model] = {}\n",
        "ner_results[bert_squad_model][task] = {}\n",
        "for n_layers in num_layers:\n",
        "    f1_macro = probe(bert_squad_model, task, n_layers, dataset_size) # get f1_macro after probing\n",
        "    ner_results[bert_squad_model][task][n_layers] = {}\n",
        "    ner_results[bert_squad_model][task][n_layers]['f1_macro'] = f1_macro # save f1 macro for plotting"
      ],
      "execution_count": null,
      "outputs": []
    },
    {
      "cell_type": "code",
      "metadata": {
        "id": "YoXw2bVjtcny"
      },
      "source": [
        "ner_results[bert_squad_model] = {\n",
        "      'ner': {\n",
        "          1: {'f1_macro': '0.3846153846153846'}, \n",
        "          3: {'f1_macro': '0.42857142857142855'}, \n",
        "          5: {'f1_macro': '0.42857142857142855'}, \n",
        "          7: {'f1_macro': '0.0'}, \n",
        "          9: {'f1_macro': '0.0'}, \n",
        "          11: {'f1_macro': '0.0'}\n",
        "        }\n",
        "      }"
      ],
      "execution_count": null,
      "outputs": []
    },
    {
      "cell_type": "markdown",
      "metadata": {
        "id": "U1Rc0qYJwe3M"
      },
      "source": [
        "### 1.1.3 Train `bert-base-finetuned-babi` model"
      ]
    },
    {
      "cell_type": "code",
      "metadata": {
        "id": "x5bQBXq7xBif"
      },
      "source": [
        "bert_babi_model = \"bert-babi\"\n",
        "num_layers = list(range(1, 13, 2))      # from 1 to 12 layers \n",
        "\n",
        "ner_results[bert_babi_model] = {}\n",
        "ner_results[bert_babi_model][task] = {}\n",
        "\n",
        "for n_layers in num_layers:\n",
        "    init_task_config(task, dataset_size)\n",
        "    tokenize(task, \"bert-base-uncased\")  # use tokenizer of bert base\n",
        "    create_jiant_task_config(task)\n",
        "    probing_output = run_probing_task(task, bert_babi_model, n_layers, bin_model_path=babi_model_path)\n",
        "    f1_macro = str(probing_output[task][\"metrics\"][\"minor\"][\"f1_macro\"])\n",
        "\n",
        "    ner_results[bert_babi_model][task][n_layers] = {}\n",
        "    ner_results[bert_babi_model][task][n_layers]['f1_macro'] = f1_macro # save f1 macro for plotting\n"
      ],
      "execution_count": null,
      "outputs": []
    },
    {
      "cell_type": "code",
      "metadata": {
        "id": "EloSlEjK5pig"
      },
      "source": [
        "ner_results[bert_babi_model] = {\n",
        "      'ner': {\n",
        "          1: {'f1_macro': '0.36396805106482527'}, \n",
        "          3: {'f1_macro': '0.2668458781362007'}, \n",
        "          5: {'f1_macro': '0.0'}, \n",
        "          7: {'f1_macro': '0.0'}, \n",
        "          9: {'f1_macro': '0.0'}, \n",
        "          11: {'f1_macro': '0.0'}\n",
        "        }\n",
        "      }"
      ],
      "execution_count": null,
      "outputs": []
    },
    {
      "cell_type": "markdown",
      "metadata": {
        "id": "eVcNpk3lzSiV"
      },
      "source": [
        "### 1.1.4 Visualization"
      ]
    },
    {
      "cell_type": "code",
      "metadata": {
        "colab": {
          "base_uri": "https://localhost:8080/",
          "height": 294
        },
        "id": "HuZHGl2J58Q5",
        "outputId": "1394ed58-b7de-473f-dd44-f87e3c1f3092"
      },
      "source": [
        "models = [bert_base_model, bert_squad_model, bert_babi_model]\n",
        "\n",
        "for model in models:\n",
        "  plot_task(model, task, model_to_linestyle[model], ner_results)\n",
        "plt.show()"
      ],
      "execution_count": null,
      "outputs": [
        {
          "output_type": "display_data",
          "data": {
            "image/png": "[encoded data removed]",
            "text/plain": [
              "<Figure size 432x288 with 1 Axes>"
            ]
          },
          "metadata": {
            "tags": []
          }
        }
      ]
    },
    {
      "cell_type": "markdown",
      "metadata": {
        "id": "oHXy9ZmYJ721"
      },
      "source": [
        "## **1.2 SEMEVAL (aka REL) Task**"
      ]
    },
    {
      "cell_type": "code",
      "metadata": {
        "id": "-3CgsuCbFafO"
      },
      "source": [
        "semeval_results = {}\n",
        "task = \"semeval\"\n",
        "dataset_size = \"small\""
      ],
      "execution_count": null,
      "outputs": []
    },
    {
      "cell_type": "markdown",
      "metadata": {
        "id": "KCjy2WNXFhLN"
      },
      "source": [
        "### 1.2.1 Train `bert-base` model"
      ]
    },
    {
      "cell_type": "code",
      "metadata": {
        "id": "lgma94TxknlJ"
      },
      "source": [
        "# Probe SEMEVAL task with bert-base and bert-squad and plot macro f1 score\n",
        "bert_base_model = \"bert-base-uncased\"\n",
        "num_layers = list(range(1, 13, 2))      # from 1 to 12 layers \n",
        "\n",
        "semeval_results[bert_base_model] = {}\n",
        "semeval_results[bert_base_model][task] = {}\n",
        "\n",
        "for n_layers in num_layers:\n",
        "    f1_macro = probe(bert_base_model, task, n_layers, dataset_size) # get f1_macro after probing\n",
        "    semeval_results[bert_base_model][task][n_layers] = {}\n",
        "    semeval_results[bert_base_model][task][n_layers]['f1_macro'] = f1_macro # save f1 macro for plotting"
      ],
      "execution_count": null,
      "outputs": []
    },
    {
      "cell_type": "code",
      "metadata": {
        "id": "vIOajzZtTQRi"
      },
      "source": [
        "semeval_results[bert_base_model] = {\n",
        "      'semeval': {\n",
        "          1: {'f1_macro': '0.021052631578947368'}, \n",
        "          3: {'f1_macro': '0.0'}, \n",
        "          5: {'f1_macro': '0.0'}, \n",
        "          7: {'f1_macro': '0.0'}, \n",
        "          9: {'f1_macro': '0.0'}, \n",
        "          11: {'f1_macro': '0.0'}\n",
        "        }\n",
        "      }"
      ],
      "execution_count": null,
      "outputs": []
    },
    {
      "cell_type": "markdown",
      "metadata": {
        "id": "5h3GGF08GehK"
      },
      "source": [
        "### 1.2.2 Train `bert-base-finetuned-squad` model"
      ]
    },
    {
      "cell_type": "code",
      "metadata": {
        "id": "UXPFT9ZjOtqE"
      },
      "source": [
        "bert_squad_model = \"csarron/bert-base-uncased-squad-v1\"\n",
        "num_layers = list(range(7, 13, 2))      # from 1 to 12 layers \n",
        "\n",
        "semeval_results[bert_squad_model] = {}\n",
        "semeval_results[bert_squad_model][task] = {}\n",
        "for n_layers in num_layers:\n",
        "    f1_macro = probe(bert_squad_model, task, n_layers, dataset_size) # get f1_macro after probing\n",
        "    semeval_results[bert_squad_model][task][n_layers] = {}\n",
        "    semeval_results[bert_squad_model][task][n_layers]['f1_macro'] = f1_macro # save f1 macro for plotting"
      ],
      "execution_count": null,
      "outputs": []
    },
    {
      "cell_type": "code",
      "metadata": {
        "id": "hAOhH1cDTwNC"
      },
      "source": [
        "semeval_results[bert_squad_model] = {\n",
        "      'semeval': {\n",
        "          1: {'f1_macro': '0.17449392712550607'}, \n",
        "          3: {'f1_macro': '0.0'}, \n",
        "          5: {'f1_macro': '0.0'}, \n",
        "          7: {'f1_macro': '0.0'}, \n",
        "          9: {'f1_macro': '0.0'}, \n",
        "          11: {'f1_macro': '0.0'}\n",
        "        }\n",
        "      }"
      ],
      "execution_count": null,
      "outputs": []
    },
    {
      "cell_type": "markdown",
      "metadata": {
        "id": "t516voTVG2M7"
      },
      "source": [
        "### 1.2.3 Train `bert-base-finetuned-babi` model"
      ]
    },
    {
      "cell_type": "code",
      "metadata": {
        "id": "KwaWfl_4inkY"
      },
      "source": [
        "bert_babi_model = \"bert-babi\"\n",
        "num_layers = list(range(1, 13, 2))      # from 1 to 12 layers \n",
        "\n",
        "semeval_results[bert_babi_model] = {}\n",
        "semeval_results[bert_babi_model][task] = {}\n",
        "\n",
        "for n_layers in num_layers:\n",
        "    init_task_config(task, dataset_size)\n",
        "    tokenize(task, \"bert-base-uncased\")  # use tokenizer of bert base\n",
        "    create_jiant_task_config(task)\n",
        "    probing_output = run_probing_task(task, bert_babi_model, n_layers, bin_model_path=babi_model_path)\n",
        "    f1_macro = str(probing_output[task][\"metrics\"][\"minor\"][\"f1_macro\"])\n",
        "\n",
        "    semeval_results[bert_babi_model][task][n_layers] = {}\n",
        "    semeval_results[bert_babi_model][task][n_layers]['f1_macro'] = f1_macro # save f1 macro for plotting"
      ],
      "execution_count": null,
      "outputs": []
    },
    {
      "cell_type": "code",
      "metadata": {
        "id": "vgvCLYfTrLwl"
      },
      "source": [
        "semeval_results[bert_babi_model] = {\n",
        "      'semeval': {\n",
        "          1: {'f1_macro': '0.16478696741854637'}, \n",
        "          3: {'f1_macro': '0.011695906432748537'}, \n",
        "          5: {'f1_macro': '0.0'}, \n",
        "          7: {'f1_macro': '0.0'}, \n",
        "          9: {'f1_macro': '0.0'}, \n",
        "          11: {'f1_macro': '0.0'}\n",
        "      }\n",
        "    }"
      ],
      "execution_count": null,
      "outputs": []
    },
    {
      "cell_type": "markdown",
      "metadata": {
        "id": "YUjTK3-qHPWa"
      },
      "source": [
        "### 1.2.4 Visualization"
      ]
    },
    {
      "cell_type": "code",
      "metadata": {
        "colab": {
          "base_uri": "https://localhost:8080/",
          "height": 294
        },
        "id": "tMdN66q5tllt",
        "outputId": "4c8be957-0823-435a-ad09-69147f02c4df"
      },
      "source": [
        "models = [bert_base_model, bert_squad_model, bert_babi_model]\n",
        "\n",
        "for model in models:\n",
        "  plot_task(model, task, model_to_linestyle[model], semeval_results)\n",
        "plt.show()"
      ],
      "execution_count": null,
      "outputs": [
        {
          "output_type": "display_data",
          "data": {
            "image/png": "[encoded data removed]",
            "text/plain": [
              "<Figure size 432x288 with 1 Axes>"
            ]
          },
          "metadata": {
            "tags": []
          }
        }
      ]
    },
    {
      "cell_type": "markdown",
      "metadata": {
        "id": "Aq6uRwboQ9B8"
      },
      "source": [
        "## **1.3 COREF Task**"
      ]
    },
    {
      "cell_type": "code",
      "metadata": {
        "id": "VWbbb1u6kJ8i"
      },
      "source": [
        "coref_results = {}\n",
        "task = \"coref\"\n",
        "dataset_size = \"small\""
      ],
      "execution_count": null,
      "outputs": []
    },
    {
      "cell_type": "markdown",
      "metadata": {
        "id": "BdB390hEFjOB"
      },
      "source": [
        "### 1.3.1 Train `bert-base` model"
      ]
    },
    {
      "cell_type": "code",
      "metadata": {
        "id": "M1tAKACzVx1s"
      },
      "source": [
        "bert_base_model = \"bert-base-uncased\"\n",
        "num_layers = list(range(1, 13, 2))      # from 1 to 12 layers \n",
        "\n",
        "coref_results[bert_base_model] = {}\n",
        "coref_results[bert_base_model][task] = {}\n",
        "\n",
        "for n_layers in num_layers:\n",
        "    f1_macro = probe(bert_base_model, task, n_layers, dataset_size) # get f1_macro after probing\n",
        "    coref_results[bert_base_model][task][n_layers] = {}\n",
        "    coref_results[bert_base_model][task][n_layers]['f1_macro'] = f1_macro # save f1 macro for plotting"
      ],
      "execution_count": null,
      "outputs": []
    },
    {
      "cell_type": "code",
      "metadata": {
        "id": "X0BG1ANXQuBj"
      },
      "source": [
        "bert_base_model = \"bert-base-uncased\"\n",
        "coref_results[bert_base_model] = {\n",
        "    'coref': {\n",
        "        1: {'f1_macro': '0.7942326490713587'}, \n",
        "        3: {'f1_macro': '0.4074074074074074'}, \n",
        "        5: {'f1_macro': '0.0'}, \n",
        "        7: {'f1_macro': '0.0'}, \n",
        "        9: {'f1_macro': '0.0'}, \n",
        "        11: {'f1_macro': '0.0'}\n",
        "      }\n",
        "    }"
      ],
      "execution_count": null,
      "outputs": []
    },
    {
      "cell_type": "markdown",
      "metadata": {
        "id": "J7Y4HoVIGkjE"
      },
      "source": [
        "### 1.3.2 Train `bert-base-finetuned-squad` model"
      ]
    },
    {
      "cell_type": "code",
      "metadata": {
        "id": "9TJ_daSWl6Xy"
      },
      "source": [
        "bert_squad_model = \"csarron/bert-base-uncased-squad-v1\"\n",
        "num_layers = list(range(5, 13, 2))      # from 1 to 12 layers \n",
        "\n",
        "coref_results[bert_squad_model] = {}\n",
        "coref_results[bert_squad_model][task] = {}\n",
        "for n_layers in num_layers:\n",
        "    f1_macro = probe(bert_squad_model, task, n_layers, dataset_size) # get f1_macro after probing\n",
        "    coref_results[bert_squad_model][task][n_layers] = {}\n",
        "    coref_results[bert_squad_model][task][n_layers]['f1_macro'] = f1_macro # save f1 macro for plotting"
      ],
      "execution_count": null,
      "outputs": []
    },
    {
      "cell_type": "code",
      "metadata": {
        "id": "JYayuyx_4H3l"
      },
      "source": [
        "bert_squad_model = \"csarron/bert-base-uncased-squad-v1\"\n",
        "coref_results[bert_squad_model] = {\n",
        "    'coref': {\n",
        "        1: {'f1_macro': '0.7834101382488479'}, \n",
        "        3: {'f1_macro': '0.3928571428571429'}, \n",
        "        5: {'f1_macro': '0.0'}, \n",
        "        7: {'f1_macro': '0.3928571428571429'}, \n",
        "        9: {'f1_macro': '0.0'}, \n",
        "        11: {'f1_macro': '0.0'}\n",
        "      }\n",
        "    }"
      ],
      "execution_count": null,
      "outputs": []
    },
    {
      "cell_type": "markdown",
      "metadata": {
        "id": "zaIKDsy1G36T"
      },
      "source": [
        "### 1.3.3 Train `bert-base-finetuned-babi` model"
      ]
    },
    {
      "cell_type": "code",
      "metadata": {
        "id": "_u91xmvSmXy4"
      },
      "source": [
        "bert_babi_model = \"bert-babi\"\n",
        "num_layers = list(range(1, 13, 2))      # from 1 to 12 layers \n",
        "\n",
        "coref_results[bert_babi_model] = {}\n",
        "coref_results[bert_babi_model][task] = {}\n",
        "\n",
        "for n_layers in num_layers:\n",
        "    init_task_config(task, dataset_size)\n",
        "    tokenize(task, \"bert-base-uncased\")  # use tokenizer of bert base\n",
        "    create_jiant_task_config(task)\n",
        "    probing_output = run_probing_task(task, bert_babi_model, n_layers, bin_model_path=babi_model_path)\n",
        "    f1_macro = str(probing_output[task][\"metrics\"][\"minor\"][\"f1_macro\"])\n",
        "\n",
        "    coref_results[bert_babi_model][task][n_layers] = {}\n",
        "    coref_results[bert_babi_model][task][n_layers]['f1_macro'] = f1_macro # save f1 macro for plotting"
      ],
      "execution_count": null,
      "outputs": []
    },
    {
      "cell_type": "code",
      "metadata": {
        "id": "MTJvRX9kgNMP"
      },
      "source": [
        "bert_babi_model = \"bert-babi\"\n",
        "coref_results[bert_babi_model] = {\n",
        "    'coref': {\n",
        "        1: {'f1_macro': '0.746031746031746'}, \n",
        "        3: {'f1_macro': '0.45022194039315155'}, \n",
        "        5: {'f1_macro': '0.0'}, \n",
        "        7: {'f1_macro': '0.0'}, \n",
        "        9: {'f1_macro': '0.0'}, \n",
        "        11: {'f1_macro': '0.0'}\n",
        "      }\n",
        "    }"
      ],
      "execution_count": null,
      "outputs": []
    },
    {
      "cell_type": "markdown",
      "metadata": {
        "id": "iZOOz79kHRHE"
      },
      "source": [
        "### 1.3.4 Visualization"
      ]
    },
    {
      "cell_type": "code",
      "metadata": {
        "colab": {
          "base_uri": "https://localhost:8080/",
          "height": 294
        },
        "id": "1AitqJocgMfz",
        "outputId": "2ca422fc-3cc4-435c-e535-7b7fd1cd7e61"
      },
      "source": [
        "models = [bert_base_model, bert_squad_model, bert_babi_model]\n",
        "\n",
        "for model in models:\n",
        "  plot_task(model, task, model_to_linestyle[model], coref_results)\n",
        "plt.show()"
      ],
      "execution_count": null,
      "outputs": [
        {
          "output_type": "display_data",
          "data": {
            "image/png": "[encoded data removed]",
            "text/plain": [
              "<Figure size 432x288 with 1 Axes>"
            ]
          },
          "metadata": {
            "tags": []
          }
        }
      ]
    },
    {
      "cell_type": "markdown",
      "metadata": {
        "id": "l2ONkVJcRuhl"
      },
      "source": [
        "## **1.4 QUES Task**"
      ]
    },
    {
      "cell_type": "code",
      "metadata": {
        "id": "k0XvXEWikT6c"
      },
      "source": [
        "ques_results = {}\n",
        "task = \"ques\"\n",
        "dataset_size = \"small\""
      ],
      "execution_count": null,
      "outputs": []
    },
    {
      "cell_type": "markdown",
      "metadata": {
        "id": "bIZxm5OjFlr9"
      },
      "source": [
        "### 1.4.1 Train `bert-base` model"
      ]
    },
    {
      "cell_type": "code",
      "metadata": {
        "id": "68Dy2J-3V2oU"
      },
      "source": [
        "bert_base_model = \"bert-base-uncased\"\n",
        "num_layers = list(range(1, 13, 2))      # from 1 to 12 layers \n",
        "\n",
        "ques_results[bert_base_model] = {}\n",
        "ques_results[bert_base_model][task] = {}\n",
        "\n",
        "for n_layers in num_layers:\n",
        "    f1_macro = probe(bert_base_model, task, n_layers, dataset_size) # get f1_macro after probing\n",
        "    ques_results[bert_base_model][task][n_layers] = {}\n",
        "    ques_results[bert_base_model][task][n_layers]['f1_macro'] = f1_macro # save f1 macro for plotting"
      ],
      "execution_count": null,
      "outputs": []
    },
    {
      "cell_type": "code",
      "metadata": {
        "id": "Rxl3F1TBqrZo"
      },
      "source": [
        "bert_base_model = \"bert-base-uncased\"\n",
        "ques_results[bert_base_model] = {\n",
        "    'ques': {\n",
        "        1: {'f1_macro': '0.0833234303822539'}, \n",
        "        3: {'f1_macro': '0.0'}, \n",
        "        5: {'f1_macro': '0.0'}, \n",
        "        7: {'f1_macro': '0.0'}, \n",
        "        9: {'f1_macro': '0.0'}, \n",
        "        11: {'f1_macro': '0.0'}\n",
        "      }\n",
        "    }"
      ],
      "execution_count": null,
      "outputs": []
    },
    {
      "cell_type": "markdown",
      "metadata": {
        "id": "I6Bi2RlbGnSG"
      },
      "source": [
        "### 1.4.2 Train `bert-base-finetuned-squad` model"
      ]
    },
    {
      "cell_type": "code",
      "metadata": {
        "id": "nituPzsKl_Vz"
      },
      "source": [
        "bert_squad_model = \"csarron/bert-base-uncased-squad-v1\"\n",
        "num_layers = list(range(1, 13, 2))      # from 1 to 12 layers \n",
        "\n",
        "ques_results[bert_squad_model] = {}\n",
        "ques_results[bert_squad_model][task] = {}\n",
        "for n_layers in num_layers:\n",
        "    f1_macro = probe(bert_squad_model, task, n_layers, dataset_size) # get f1_macro after probing\n",
        "    ques_results[bert_squad_model][task][n_layers] = {}\n",
        "    ques_results[bert_squad_model][task][n_layers]['f1_macro'] = f1_macro # save f1 macro for plotting"
      ],
      "execution_count": null,
      "outputs": []
    },
    {
      "cell_type": "code",
      "metadata": {
        "id": "xBu7XCXZrB4N"
      },
      "source": [
        "bert_squad_model = \"csarron/bert-base-uncased-squad-v1\"\n",
        "ques_results[bert_squad_model] = {\n",
        "    'ques': {\n",
        "        1: {'f1_macro': '0.0404040404040404'}, \n",
        "        3: {'f1_macro': '0.0'}, \n",
        "        5: {'f1_macro': '0.0'}, \n",
        "        7: {'f1_macro': '0.0'}, \n",
        "        9: {'f1_macro': '0.0'}, \n",
        "        11: {'f1_macro': '0.0'}\n",
        "      }\n",
        "    }"
      ],
      "execution_count": null,
      "outputs": []
    },
    {
      "cell_type": "markdown",
      "metadata": {
        "id": "9lEZAMZWG7Qj"
      },
      "source": [
        "### 1.4.3 Train `bert-base-finetuned-babi` model"
      ]
    },
    {
      "cell_type": "code",
      "metadata": {
        "id": "CP5rKMrimbqP"
      },
      "source": [
        "bert_babi_model = \"bert-babi\"\n",
        "num_layers = list(range(1, 13, 2))      # from 1 to 12 layers \n",
        "\n",
        "ques_results[bert_babi_model] = {}\n",
        "ques_results[bert_babi_model][task] = {}\n",
        "\n",
        "for n_layers in num_layers:\n",
        "    init_task_config(task, dataset_size)\n",
        "    tokenize(task, \"bert-base-uncased\")  # use tokenizer of bert base\n",
        "    create_jiant_task_config(task)\n",
        "    probing_output = run_probing_task(task, bert_babi_model, n_layers, bin_model_path=babi_model_path)\n",
        "    f1_macro = str(probing_output[task][\"metrics\"][\"minor\"][\"f1_macro\"])\n",
        "\n",
        "    ques_results[bert_babi_model][task][n_layers] = {}\n",
        "    ques_results[bert_babi_model][task][n_layers]['f1_macro'] = f1_macro # save f1 macro for plotting"
      ],
      "execution_count": null,
      "outputs": []
    },
    {
      "cell_type": "code",
      "metadata": {
        "id": "j5YSqSiqzPQE"
      },
      "source": [
        "bert_babi_model = \"bert-babi\"\n",
        "ques_results[bert_babi_model] = {\n",
        "    'ques': {\n",
        "        1: {'f1_macro': '0.0665478312537136'}, \n",
        "        3: {'f1_macro': '0.0'}, \n",
        "        5: {'f1_macro': '0.0'}, \n",
        "        7: {'f1_macro': '0.0'}, \n",
        "        9: {'f1_macro': '0.0'}, \n",
        "        11: {'f1_macro': '0.0'}\n",
        "      }\n",
        "    }"
      ],
      "execution_count": null,
      "outputs": []
    },
    {
      "cell_type": "markdown",
      "metadata": {
        "id": "mVq_g1AYHTbB"
      },
      "source": [
        "### 1.4.4 Visualization"
      ]
    },
    {
      "cell_type": "code",
      "metadata": {
        "colab": {
          "base_uri": "https://localhost:8080/",
          "height": 294
        },
        "id": "r4jqLoJ0z3J5",
        "outputId": "8d2604da-fca2-4b5a-ce72-8b0c10474ae3"
      },
      "source": [
        "models = [bert_base_model, bert_squad_model, bert_babi_model]\n",
        "\n",
        "for model in models:\n",
        "  plot_task(model, task, model_to_linestyle[model], ques_results)\n",
        "plt.show()"
      ],
      "execution_count": null,
      "outputs": [
        {
          "output_type": "display_data",
          "data": {
            "image/png": "[encoded data removed]",
            "text/plain": [
              "<Figure size 432x288 with 1 Axes>"
            ]
          },
          "metadata": {
            "tags": []
          }
        }
      ]
    },
    {
      "cell_type": "markdown",
      "metadata": {
        "id": "TkeTt8ZqS1at"
      },
      "source": [
        "## **1.5 SUP-SQUAD Task**"
      ]
    },
    {
      "cell_type": "code",
      "metadata": {
        "id": "uQcutZWvkXcu"
      },
      "source": [
        "sup_squad_results = {}\n",
        "task = \"sup-squad\"\n",
        "dataset_size = \"test\""
      ],
      "execution_count": 35,
      "outputs": []
    },
    {
      "cell_type": "markdown",
      "metadata": {
        "id": "C7OUyPpqFnfs"
      },
      "source": [
        "### 1.5.1 Train `bert-base` model"
      ]
    },
    {
      "cell_type": "code",
      "metadata": {
        "id": "0Yjy-9HOV9Kd"
      },
      "source": [
        "bert_base_model = \"bert-base-uncased\"\n",
        "num_layers = list(range(9, 13, 2))      # from 1 to 12 layers \n",
        "\n",
        "sup_squad_results[bert_base_model] = {}\n",
        "sup_squad_results[bert_base_model][task] = {}\n",
        "\n",
        "for n_layers in num_layers:\n",
        "    f1_macro = probe(bert_base_model, task, n_layers, dataset_size) # get f1_macro after probing\n",
        "    sup_squad_results[bert_base_model][task][n_layers] = {}\n",
        "    sup_squad_results[bert_base_model][task][n_layers]['f1_macro'] = f1_macro # save f1 macro for plotting"
      ],
      "execution_count": null,
      "outputs": []
    },
    {
      "cell_type": "code",
      "metadata": {
        "id": "Umz3qKRkr3tV"
      },
      "source": [
        "bert_base_model = \"bert-base-uncased\"\n",
        "sup_squad_results[bert_base_model] = {\n",
        "    'sup-squad': {\n",
        "        1: {'f1_macro': '0.3846153846153846'}, \n",
        "        3: {'f1_macro': '0.3333333333333333'}, \n",
        "        5: {'f1_macro': '0.42857142857142855'}, \n",
        "        7: {'f1_macro': '0.42857142857142855'}, \n",
        "        9: {'f1_macro': '0.42857142857142855'}, \n",
        "        11: {'f1_macro': '0.42857142857142855'}\n",
        "      }\n",
        "    }"
      ],
      "execution_count": 19,
      "outputs": []
    },
    {
      "cell_type": "markdown",
      "metadata": {
        "id": "hVVQ9N37GtaL"
      },
      "source": [
        "### 1.5.2 Train `bert-base-finetuned-squad` model"
      ]
    },
    {
      "cell_type": "code",
      "metadata": {
        "id": "zabGRyWVmDeZ"
      },
      "source": [
        "bert_squad_model = \"csarron/bert-base-uncased-squad-v1\"\n",
        "num_layers = list(range(1, 13, 2))      # from 1 to 12 layers \n",
        "\n",
        "sup_squad_results[bert_squad_model] = {}\n",
        "sup_squad_results[bert_squad_model][task] = {}\n",
        "for n_layers in num_layers:\n",
        "    f1_macro = probe(bert_squad_model, task, n_layers, dataset_size) # get f1_macro after probing\n",
        "    sup_squad_results[bert_squad_model][task][n_layers] = {}\n",
        "    sup_squad_results[bert_squad_model][task][n_layers]['f1_macro'] = f1_macro # save f1 macro for plotting"
      ],
      "execution_count": null,
      "outputs": []
    },
    {
      "cell_type": "code",
      "metadata": {
        "id": "J0DIO3eG28GN"
      },
      "source": [
        "bert_squad_model = \"csarron/bert-base-uncased-squad-v1\"\n",
        "sup_squad_results[bert_squad_model] = {\n",
        "    'sup-squad': {\n",
        "        1: {'f1_macro': '0.3846153846153846'}, \n",
        "        3: {'f1_macro': '0.42857142857142855'}, \n",
        "        5: {'f1_macro': '0.42857142857142855'}, \n",
        "        7: {'f1_macro': '0.42857142857142855'}, \n",
        "        9: {'f1_macro': '0.42857142857142855'}, \n",
        "        11: {'f1_macro': '0.42857142857142855'}\n",
        "      }\n",
        "    }"
      ],
      "execution_count": 22,
      "outputs": []
    },
    {
      "cell_type": "markdown",
      "metadata": {
        "id": "eHGFSu39HV5M"
      },
      "source": [
        "### 1.5.3 Visualization"
      ]
    },
    {
      "cell_type": "code",
      "metadata": {
        "colab": {
          "base_uri": "https://localhost:8080/",
          "height": 294
        },
        "id": "SHYqFX2936g7",
        "outputId": "b5001f2b-76b5-4d89-9cd8-c7fc59ee39d8"
      },
      "source": [
        "models = [bert_base_model, bert_squad_model]\n",
        "\n",
        "for model in models:\n",
        "  plot_task(model, task, model_to_linestyle[model], sup_squad_results)\n",
        "plt.show()"
      ],
      "execution_count": 23,
      "outputs": [
        {
          "output_type": "display_data",
          "data": {
            "image/png": "[encoded data removed]",
            "text/plain": [
              "<Figure size 432x288 with 1 Axes>"
            ]
          },
          "metadata": {
            "tags": [],
            "needs_background": "light"
          }
        }
      ]
    },
    {
      "cell_type": "markdown",
      "metadata": {
        "id": "-aWsXihuXSOt"
      },
      "source": [
        "## **1.6 SUP-BABI Task**"
      ]
    },
    {
      "cell_type": "code",
      "metadata": {
        "id": "auBd_ikJkaY7"
      },
      "source": [
        "sup_babi_results = {}\n",
        "task = \"sup-babi\"\n",
        "dataset_size = \"small\""
      ],
      "execution_count": 13,
      "outputs": []
    },
    {
      "cell_type": "markdown",
      "metadata": {
        "id": "ekuKPJwDFpsU"
      },
      "source": [
        "### 1.6.1 Train `bert-base` model"
      ]
    },
    {
      "cell_type": "code",
      "metadata": {
        "id": "wfC1UpST7n1P"
      },
      "source": [
        "bert_base_model = \"bert-base-uncased\"\n",
        "num_layers = list(range(11, 13, 2))      # from 1 to 12 layers \n",
        "\n",
        "sup_babi_results[bert_base_model] = {}\n",
        "sup_babi_results[bert_base_model][task] = {}\n",
        "\n",
        "for n_layers in num_layers:\n",
        "    f1_macro = probe(bert_base_model, task, n_layers, dataset_size) # get f1_macro after probing\n",
        "    sup_babi_results[bert_base_model][task][n_layers] = {}\n",
        "    sup_babi_results[bert_base_model][task][n_layers]['f1_macro'] = f1_macro # save f1 macro for plotting"
      ],
      "execution_count": null,
      "outputs": []
    },
    {
      "cell_type": "code",
      "metadata": {
        "id": "DFq1Vsjxcnh3"
      },
      "source": [
        "bert_base_model = \"bert-base-uncased\"\n",
        "sup_babi_results[bert_base_model] = {\n",
        "    'sup-babi': {\n",
        "        1: {'f1_macro': '0.7700578990901572'}, \n",
        "        3: {'f1_macro': '0.47058823529411764'}, \n",
        "        5: {'f1_macro': '0.47058823529411764'}, \n",
        "        7: {'f1_macro': '0.47058823529411764'}, \n",
        "        9: {'f1_macro': '0.47058823529411764'}, \n",
        "        11: {'f1_macro': '0.47058823529411764'}\n",
        "      }\n",
        "    }"
      ],
      "execution_count": null,
      "outputs": []
    },
    {
      "cell_type": "markdown",
      "metadata": {
        "id": "nMpYhw3-HGEb"
      },
      "source": [
        "### 1.6.2 Train `bert-base-finetuned-babi` model"
      ]
    },
    {
      "cell_type": "code",
      "metadata": {
        "id": "5qU1EJrRkvEj"
      },
      "source": [
        "bert_babi_model = \"bert-babi\"\n",
        "num_layers = list(range(5, 13, 2))      # from 1 to 12 layers \n",
        "\n",
        "sup_babi_results[bert_babi_model] = {}\n",
        "sup_babi_results[bert_babi_model][task] = {}\n",
        "\n",
        "for n_layers in num_layers:\n",
        "    init_task_config(task, dataset_size)\n",
        "    #tokenize(task, \"bert-base-uncased\")  # use tokenizer of bert base\n",
        "    create_jiant_task_config(task)\n",
        "    probing_output = run_probing_task(task, bert_babi_model, n_layers, bin_model_path=babi_model_path)\n",
        "    f1_macro = str(probing_output[task][\"metrics\"][\"minor\"][\"f1_macro\"])\n",
        "\n",
        "    sup_babi_results[bert_babi_model][task][n_layers] = {}\n",
        "    sup_babi_results[bert_babi_model][task][n_layers]['f1_macro'] = f1_macro # save f1 macro for plotting\n"
      ],
      "execution_count": null,
      "outputs": []
    },
    {
      "cell_type": "code",
      "metadata": {
        "id": "6pIrFZ_pgmnG"
      },
      "source": [
        "bert_babi_model = \"bert-babi\"\n",
        "bert_babi_model[bert_base_model] = {\n",
        "    'sup-babi': {\n",
        "        1: {'f1_macro': '0.6228571428571429'}, \n",
        "        3: {'f1_macro': '0.47058823529411764'}, \n",
        "        5: {'f1_macro': '0.47058823529411764'}, \n",
        "        7: {'f1_macro': '0.47058823529411764'}, \n",
        "        9: {'f1_macro': '0.47058823529411764'}, \n",
        "        11: {'f1_macro': '0.47058823529411764'}\n",
        "      }\n",
        "    }"
      ],
      "execution_count": null,
      "outputs": []
    },
    {
      "cell_type": "markdown",
      "metadata": {
        "id": "HN4-HBQbHawl"
      },
      "source": [
        "### 1.6.3 Visualization"
      ]
    },
    {
      "cell_type": "markdown",
      "metadata": {
        "id": "80d4GNwNxZhl"
      },
      "source": [
        "# **2. Experiment with `Bert-base-uncased` trained on `AdversarialQA` dataset**\n",
        "\n",
        "---\n",
        "\n"
      ]
    },
    {
      "cell_type": "code",
      "metadata": {
        "id": "wIUUb9uY5mnt"
      },
      "source": [
        "import os\n",
        "\n",
        "bert_adversarial_model = \"bert-adversarial\"\n",
        "bert_adversarial_path = \"/content/bert-adversarial\"\n",
        "os.makedirs(bert_adversarial, exist_ok=True)\n",
        "\n",
        "# google drive id of all files included in t5 model\n",
        "config_json_id = \"19-gobmJ_8PWuQURkHZ1JvEtublNS29Cd\"\n",
        "pytorch_model_bin_id = \"1G8WurpHMyfk14nHgaZ9b6CKPCi3HdbQc\"\n",
        "special_tokens_map_id = \"1GZI4j31ejNFYlEJfgW70bs1cV6He_LEX\"\n",
        "tokenizer_config_id = \"1qhSB_QoGL1Kel_2OwAXHP5uTCkPAW4Pl\"\n",
        "tokenizer_json_id = \"1wWRk5BdPBwGUd6X3halFrDWq_KqPCVe3\"\n",
        "training_args_id = \"1bHZqsV08OjsN6n4Gax1luwF5Rcn4e3AG\"\n",
        "vocab_id = \"1aAYV6W5isBQe2T09QbkAkYGibyEsXDyE\"\n",
        "\n",
        "!gdown --id \"{config_json_id}\" -O \"{bert_adversarial}/config.json\"\n",
        "!gdown --id \"{pytorch_model_bin_id}\" -O \"{bert_adversarial}/pytorch_model.bin\"\n",
        "!gdown --id \"{special_tokens_map_id}\" -O \"{bert_adversarial}/special_tokens_map.json\"\n",
        "!gdown --id \"{tokenizer_config_id}\" -O \"{bert_adversarial}/tokenizer_config.json\"\n",
        "!gdown --id \"{tokenizer_json_id}\" -O \"{bert_adversarial}/tokenizer.json\"\n",
        "!gdown --id \"{training_args_id}\" -O \"{bert_adversarial}/training_args.bin\"\n",
        "!gdown --id \"{vocab_id}\" -O \"{bert_adversarial}/vocab.txt\""
      ],
      "execution_count": null,
      "outputs": []
    },
    {
      "cell_type": "code",
      "metadata": {
        "id": "g_3hbgh8HXrk"
      },
      "source": [
        "export_model.export_model(\n",
        "    hf_pretrained_model_name_or_path=bert_adversarial_path,\n",
        "    output_base_path=f\"/content/models/{bert_adversarial_model}\",\n",
        ")"
      ],
      "execution_count": null,
      "outputs": []
    },
    {
      "cell_type": "markdown",
      "metadata": {
        "id": "QqUmwLpEF0D2"
      },
      "source": [
        "## **2.1 NER Task**"
      ]
    },
    {
      "cell_type": "code",
      "metadata": {
        "id": "iy3PmgJW-ZJm"
      },
      "source": [
        "task = \"ner\"\n",
        "dataset_size = \"test\"\n",
        "\n",
        "bert_adversarial_model = \"bert-adversarial\"\n",
        "num_layers = list(range(1, 13, 2))      # from 1 to 12 layers \n",
        "\n",
        "ner_results[bert_adversarial_model] = {}\n",
        "ner_results[bert_adversarial_model][task] = {}\n",
        "\n",
        "for n_layers in num_layers:\n",
        "    init_task_config(task, dataset_size)\n",
        "    tokenize(task, \"bert-base-uncased\")  # use tokenizer of bert base\n",
        "    create_jiant_task_config(task)\n",
        "\n",
        "    run_args = main_runscript.RunConfiguration(\n",
        "        jiant_task_container_config_path=f\"/content/tasks/run_configs/{task}_run_config.json\",\n",
        "        output_dir=f\"/content/tasks/runs/{task}\",\n",
        "        hf_pretrained_model_name_or_path=bert_adversarial_path,\n",
        "        model_path=f\"/content/models/{bert_adversarial_model}/model/model.p\",\n",
        "        model_config_path=f\"/content/models/{bert_adversarial_model}/model/config.json\",\n",
        "        learning_rate=1e-3,\n",
        "        eval_every_steps=1000,\n",
        "        do_train=True,\n",
        "        do_val=True,\n",
        "        do_save=True,\n",
        "        force_overwrite=True,\n",
        "        num_hidden_layers=n_layers,\n",
        "    )\n",
        "    probing_output = main_runscript.run_loop(run_args)\n",
        "    f1_macro = str(probing_output[task][\"metrics\"][\"minor\"][\"f1_macro\"])\n",
        "\n",
        "    ner_results[bert_adversarial_model][task][n_layers] = {}\n",
        "    ner_results[bert_adversarial_model][task][n_layers]['f1_macro'] = f1_macro # save f1 macro for plotting"
      ],
      "execution_count": null,
      "outputs": []
    },
    {
      "cell_type": "markdown",
      "metadata": {
        "id": "YLw2i4RdHzTD"
      },
      "source": [
        "## **2.2 SEMEVAL Task**"
      ]
    },
    {
      "cell_type": "code",
      "metadata": {
        "id": "VhCCe0aEM7AG"
      },
      "source": [
        "task = \"semeval\"\n",
        "dataset_size = \"test\"\n",
        "\n",
        "bert_adversarial_model = \"bert-adversarial\"\n",
        "num_layers = list(range(1, 13, 2))      # from 1 to 12 layers \n",
        "\n",
        "semeval_results[bert_adversarial_model] = {}\n",
        "semeval_results[bert_adversarial_model][task] = {}\n",
        "\n",
        "for n_layers in num_layers:\n",
        "    init_task_config(task, dataset_size)\n",
        "    tokenize(task, \"bert-base-uncased\")  # use tokenizer of bert base\n",
        "    create_jiant_task_config(task)\n",
        "\n",
        "    run_args = main_runscript.RunConfiguration(\n",
        "        jiant_task_container_config_path=f\"/content/tasks/run_configs/{task}_run_config.json\",\n",
        "        output_dir=f\"/content/tasks/runs/{task}\",\n",
        "        hf_pretrained_model_name_or_path=bert_adversarial_path,\n",
        "        model_path=f\"/content/models/{bert_adversarial_model}/model/model.p\",\n",
        "        model_config_path=f\"/content/models/{bert_adversarial_model}/model/config.json\",\n",
        "        learning_rate=1e-3,\n",
        "        eval_every_steps=1000,\n",
        "        do_train=True,\n",
        "        do_val=True,\n",
        "        do_save=True,\n",
        "        force_overwrite=True,\n",
        "        num_hidden_layers=n_layers,\n",
        "    )\n",
        "    probing_output = main_runscript.run_loop(run_args)\n",
        "    f1_macro = str(probing_output[task][\"metrics\"][\"minor\"][\"f1_macro\"])\n",
        "\n",
        "    semeval_results[bert_adversarial_model][task][n_layers] = {}\n",
        "    semeval_results[bert_adversarial_model][task][n_layers]['f1_macro'] = f1_macro # save f1 macro for plotting"
      ],
      "execution_count": null,
      "outputs": []
    },
    {
      "cell_type": "markdown",
      "metadata": {
        "id": "TjPmagJpH3Ck"
      },
      "source": [
        "## **2.3 COREF Task**"
      ]
    },
    {
      "cell_type": "code",
      "metadata": {
        "id": "VVNMrpRgNFOR"
      },
      "source": [
        "task = \"coref\"\n",
        "dataset_size = \"test\"\n",
        "\n",
        "bert_adversarial_model = \"bert-adversarial\"\n",
        "num_layers = list(range(1, 13, 2))      # from 1 to 12 layers \n",
        "\n",
        "coref_results[bert_adversarial_model] = {}\n",
        "coref_results[bert_adversarial_model][task] = {}\n",
        "\n",
        "for n_layers in num_layers:\n",
        "    init_task_config(task, dataset_size)\n",
        "    tokenize(task, \"bert-base-uncased\")  # use tokenizer of bert base\n",
        "    create_jiant_task_config(task)\n",
        "\n",
        "    run_args = main_runscript.RunConfiguration(\n",
        "        jiant_task_container_config_path=f\"/content/tasks/run_configs/{task}_run_config.json\",\n",
        "        output_dir=f\"/content/tasks/runs/{task}\",\n",
        "        hf_pretrained_model_name_or_path=bert_adversarial_path,\n",
        "        model_path=f\"/content/models/{bert_adversarial_model}/model/model.p\",\n",
        "        model_config_path=f\"/content/models/{bert_adversarial_model}/model/config.json\",\n",
        "        learning_rate=1e-3,\n",
        "        eval_every_steps=1000,\n",
        "        do_train=True,\n",
        "        do_val=True,\n",
        "        do_save=True,\n",
        "        force_overwrite=True,\n",
        "        num_hidden_layers=n_layers,\n",
        "    )\n",
        "    probing_output = main_runscript.run_loop(run_args)\n",
        "    f1_macro = str(probing_output[task][\"metrics\"][\"minor\"][\"f1_macro\"])\n",
        "\n",
        "    coref_results[bert_adversarial_model][task][n_layers] = {}\n",
        "    coref_results[bert_adversarial_model][task][n_layers]['f1_macro'] = f1_macro # save f1 macro for plotting"
      ],
      "execution_count": null,
      "outputs": []
    },
    {
      "cell_type": "markdown",
      "metadata": {
        "id": "loiZsMccH5gU"
      },
      "source": [
        "## **2.4 QUES Task**"
      ]
    },
    {
      "cell_type": "code",
      "metadata": {
        "id": "ia3dMdajNNN_"
      },
      "source": [
        "task = \"ques\"\n",
        "dataset_size = \"test\"\n",
        "\n",
        "bert_adversarial_model = \"bert-adversarial\"\n",
        "num_layers = list(range(1, 13, 2))      # from 1 to 12 layers \n",
        "\n",
        "ques_results[bert_adversarial_model] = {}\n",
        "ques_results[bert_adversarial_model][task] = {}\n",
        "\n",
        "for n_layers in num_layers:\n",
        "    init_task_config(task, dataset_size)\n",
        "    tokenize(task, \"bert-base-uncased\")  # use tokenizer of bert base\n",
        "    create_jiant_task_config(task)\n",
        "\n",
        "    run_args = main_runscript.RunConfiguration(\n",
        "        jiant_task_container_config_path=f\"/content/tasks/run_configs/{task}_run_config.json\",\n",
        "        output_dir=f\"/content/tasks/runs/{task}\",\n",
        "        hf_pretrained_model_name_or_path=bert_adversarial_path,\n",
        "        model_path=f\"/content/models/{bert_adversarial_model}/model/model.p\",\n",
        "        model_config_path=f\"/content/models/{bert_adversarial_model}/model/config.json\",\n",
        "        learning_rate=1e-3,\n",
        "        eval_every_steps=1000,\n",
        "        do_train=True,\n",
        "        do_val=True,\n",
        "        do_save=True,\n",
        "        force_overwrite=True,\n",
        "        num_hidden_layers=n_layers,\n",
        "    )\n",
        "    probing_output = main_runscript.run_loop(run_args)\n",
        "    f1_macro = str(probing_output[task][\"metrics\"][\"minor\"][\"f1_macro\"])\n",
        "\n",
        "    ques_results[bert_adversarial_model][task][n_layers] = {}\n",
        "    ques_results[bert_adversarial_model][task][n_layers]['f1_macro'] = f1_macro # save f1 macro for plotting"
      ],
      "execution_count": null,
      "outputs": []
    },
    {
      "cell_type": "markdown",
      "metadata": {
        "id": "OhRyi4eUIBkl"
      },
      "source": [
        "## **2.5 SUP-SQUAD Task**"
      ]
    },
    {
      "cell_type": "code",
      "metadata": {
        "colab": {
          "base_uri": "https://localhost:8080/",
          "height": 453,
          "referenced_widgets": [
            "645157ed3a01414292f5bcbb320920a0",
            "323e32e6838544f58041e7687869cb51",
            "9a99350044754a6fbc13ed4c73fa3855",
            "a0a4ee2b44ab4efbb326d1e60f8f3cd1",
            "c4f62c2aca6b4dae95c05f87ef0424c8",
            "895ade5e4d3a425a9cad8c9c592c1be5",
            "e883a1e534f74f0aa2dc8ef2121039db",
            "c34c654a80e14f838cf9d7c1b58ac984"
          ]
        },
        "id": "P1nLyOwrNbRC",
        "outputId": "53e9bed4-0b8c-4989-a4de-3748765cbee9"
      },
      "source": [
        "task = \"sup-squad\"\n",
        "dataset_size = \"test\"\n",
        "\n",
        "bert_adversarial_model = \"bert-adversarial\"\n",
        "num_layers = list(range(1, 13, 2))      # from 1 to 12 layers \n",
        "\n",
        "sup_squad_results[bert_adversarial_model] = {}\n",
        "sup_squad_results[bert_adversarial_model][task] = {}\n",
        "\n",
        "for n_layers in num_layers:\n",
        "    init_task_config(task, dataset_size)\n",
        "    tokenize(task, \"bert-base-uncased\")  # use tokenizer of bert base\n",
        "    create_jiant_task_config(task)\n",
        "\n",
        "    run_args = main_runscript.RunConfiguration(\n",
        "        jiant_task_container_config_path=f\"/content/tasks/run_configs/{task}_run_config.json\",\n",
        "        output_dir=f\"/content/tasks/runs/{task}\",\n",
        "        hf_pretrained_model_name_or_path=bert_adversarial_path,\n",
        "        model_path=f\"/content/models/{bert_adversarial_model}/model/model.p\",\n",
        "        model_config_path=f\"/content/models/{bert_adversarial_model}/model/config.json\",\n",
        "        learning_rate=1e-3,\n",
        "        eval_every_steps=1000,\n",
        "        do_train=True,\n",
        "        do_val=True,\n",
        "        do_save=True,\n",
        "        force_overwrite=True,\n",
        "        num_hidden_layers=n_layers,\n",
        "    )\n",
        "    probing_output = main_runscript.run_loop(run_args)\n",
        "    f1_macro = str(probing_output[task][\"metrics\"][\"minor\"][\"f1_macro\"])\n",
        "\n",
        "    sup_squad_results[bert_adversarial_model][task][n_layers] = {}\n",
        "    sup_squad_results[bert_adversarial_model][task][n_layers]['f1_macro'] = f1_macro # save f1 macro for plotting"
      ],
      "execution_count": 36,
      "outputs": [
        {
          "output_type": "stream",
          "text": [
            "CorefTask\n",
            "  [train]: /content/tasks/data/sup-squad/test/train.jsonl\n",
            "  [val]: /content/tasks/data/sup-squad/test/val.jsonl\n"
          ],
          "name": "stdout"
        },
        {
          "output_type": "display_data",
          "data": {
            "application/vnd.jupyter.widget-view+json": {
              "model_id": "645157ed3a01414292f5bcbb320920a0",
              "version_minor": 0,
              "version_major": 2
            },
            "text/plain": [
              "HBox(children=(FloatProgress(value=0.0, description='Tokenizing', max=110.0, style=ProgressStyle(description_w…"
            ]
          },
          "metadata": {
            "tags": []
          }
        },
        {
          "output_type": "error",
          "ename": "KeyboardInterrupt",
          "evalue": "ignored",
          "traceback": [
            "\u001b[0;31m---------------------------------------------------------------------------\u001b[0m",
            "\u001b[0;31mKeyboardInterrupt\u001b[0m                         Traceback (most recent call last)",
            "\u001b[0;32m<ipython-input-36-5743ce612171>\u001b[0m in \u001b[0;36m<module>\u001b[0;34m()\u001b[0m\n\u001b[1;32m     10\u001b[0m \u001b[0;32mfor\u001b[0m \u001b[0mn_layers\u001b[0m \u001b[0;32min\u001b[0m \u001b[0mnum_layers\u001b[0m\u001b[0;34m:\u001b[0m\u001b[0;34m\u001b[0m\u001b[0;34m\u001b[0m\u001b[0m\n\u001b[1;32m     11\u001b[0m     \u001b[0minit_task_config\u001b[0m\u001b[0;34m(\u001b[0m\u001b[0mtask\u001b[0m\u001b[0;34m,\u001b[0m \u001b[0mdataset_size\u001b[0m\u001b[0;34m)\u001b[0m\u001b[0;34m\u001b[0m\u001b[0;34m\u001b[0m\u001b[0m\n\u001b[0;32m---> 12\u001b[0;31m     \u001b[0mtokenize\u001b[0m\u001b[0;34m(\u001b[0m\u001b[0mtask\u001b[0m\u001b[0;34m,\u001b[0m \u001b[0;34m\"bert-base-uncased\"\u001b[0m\u001b[0;34m)\u001b[0m  \u001b[0;31m# use tokenizer of bert base\u001b[0m\u001b[0;34m\u001b[0m\u001b[0;34m\u001b[0m\u001b[0m\n\u001b[0m\u001b[1;32m     13\u001b[0m     \u001b[0mcreate_jiant_task_config\u001b[0m\u001b[0;34m(\u001b[0m\u001b[0mtask\u001b[0m\u001b[0;34m)\u001b[0m\u001b[0;34m\u001b[0m\u001b[0;34m\u001b[0m\u001b[0m\n\u001b[1;32m     14\u001b[0m \u001b[0;34m\u001b[0m\u001b[0m\n",
            "\u001b[0;32m<ipython-input-6-95ab504d2fe2>\u001b[0m in \u001b[0;36mtokenize\u001b[0;34m(task_name, model)\u001b[0m\n\u001b[1;32m     19\u001b[0m         \u001b[0moutput_dir\u001b[0m\u001b[0;34m=\u001b[0m\u001b[0;34mf\"/content/cache/{task_name}\"\u001b[0m\u001b[0;34m,\u001b[0m\u001b[0;34m\u001b[0m\u001b[0;34m\u001b[0m\u001b[0m\n\u001b[1;32m     20\u001b[0m         \u001b[0mphases\u001b[0m\u001b[0;34m=\u001b[0m\u001b[0;34m[\u001b[0m\u001b[0;34m\"train\"\u001b[0m\u001b[0;34m,\u001b[0m \u001b[0;34m\"val\"\u001b[0m\u001b[0;34m]\u001b[0m\u001b[0;34m,\u001b[0m\u001b[0;34m\u001b[0m\u001b[0;34m\u001b[0m\u001b[0m\n\u001b[0;32m---> 21\u001b[0;31m         \u001b[0mmax_seq_length\u001b[0m\u001b[0;34m=\u001b[0m\u001b[0mseq_length_options\u001b[0m\u001b[0;34m[\u001b[0m\u001b[0mtask_name\u001b[0m\u001b[0;34m]\u001b[0m\u001b[0;34m,\u001b[0m\u001b[0;34m\u001b[0m\u001b[0;34m\u001b[0m\u001b[0m\n\u001b[0m\u001b[1;32m     22\u001b[0m     ))\n\u001b[1;32m     23\u001b[0m \u001b[0;34m\u001b[0m\u001b[0m\n",
            "\u001b[0;32m/content/jiant/jiant/proj/main/tokenize_and_cache.py\u001b[0m in \u001b[0;36mmain\u001b[0;34m(args)\u001b[0m\n\u001b[1;32m    169\u001b[0m             \u001b[0mfeat_spec\u001b[0m\u001b[0;34m=\u001b[0m\u001b[0mfeat_spec\u001b[0m\u001b[0;34m,\u001b[0m\u001b[0;34m\u001b[0m\u001b[0;34m\u001b[0m\u001b[0m\n\u001b[1;32m    170\u001b[0m             \u001b[0mtokenizer\u001b[0m\u001b[0;34m=\u001b[0m\u001b[0mtokenizer\u001b[0m\u001b[0;34m,\u001b[0m\u001b[0;34m\u001b[0m\u001b[0;34m\u001b[0m\u001b[0m\n\u001b[0;32m--> 171\u001b[0;31m             \u001b[0margs\u001b[0m\u001b[0;34m=\u001b[0m\u001b[0margs\u001b[0m\u001b[0;34m,\u001b[0m\u001b[0;34m\u001b[0m\u001b[0;34m\u001b[0m\u001b[0m\n\u001b[0m\u001b[1;32m    172\u001b[0m         )\n\u001b[1;32m    173\u001b[0m         \u001b[0mpaths_dict\u001b[0m\u001b[0;34m[\u001b[0m\u001b[0;34m\"train\"\u001b[0m\u001b[0;34m]\u001b[0m \u001b[0;34m=\u001b[0m \u001b[0mos\u001b[0m\u001b[0;34m.\u001b[0m\u001b[0mpath\u001b[0m\u001b[0;34m.\u001b[0m\u001b[0mjoin\u001b[0m\u001b[0;34m(\u001b[0m\u001b[0margs\u001b[0m\u001b[0;34m.\u001b[0m\u001b[0moutput_dir\u001b[0m\u001b[0;34m,\u001b[0m \u001b[0mPHASE\u001b[0m\u001b[0;34m.\u001b[0m\u001b[0mTRAIN\u001b[0m\u001b[0;34m)\u001b[0m\u001b[0;34m\u001b[0m\u001b[0;34m\u001b[0m\u001b[0m\n",
            "\u001b[0;32m/content/jiant/jiant/proj/main/tokenize_and_cache.py\u001b[0m in \u001b[0;36mchunk_and_save\u001b[0;34m(task, phase, examples, feat_spec, tokenizer, args)\u001b[0m\n\u001b[1;32m     62\u001b[0m             \u001b[0mfeat_spec\u001b[0m\u001b[0;34m=\u001b[0m\u001b[0mfeat_spec\u001b[0m\u001b[0;34m,\u001b[0m\u001b[0;34m\u001b[0m\u001b[0;34m\u001b[0m\u001b[0m\n\u001b[1;32m     63\u001b[0m             \u001b[0mtokenizer\u001b[0m\u001b[0;34m=\u001b[0m\u001b[0mtokenizer\u001b[0m\u001b[0;34m,\u001b[0m\u001b[0;34m\u001b[0m\u001b[0;34m\u001b[0m\u001b[0m\n\u001b[0;32m---> 64\u001b[0;31m             \u001b[0margs\u001b[0m\u001b[0;34m=\u001b[0m\u001b[0margs\u001b[0m\u001b[0;34m,\u001b[0m\u001b[0;34m\u001b[0m\u001b[0;34m\u001b[0m\u001b[0m\n\u001b[0m\u001b[1;32m     65\u001b[0m         )\n\u001b[1;32m     66\u001b[0m \u001b[0;34m\u001b[0m\u001b[0m\n",
            "\u001b[0;32m/content/jiant/jiant/proj/main/tokenize_and_cache.py\u001b[0m in \u001b[0;36mfull_chunk_and_save\u001b[0;34m(task, phase, examples, feat_spec, tokenizer, args)\u001b[0m\n\u001b[1;32m     84\u001b[0m         \u001b[0mtokenizer\u001b[0m\u001b[0;34m=\u001b[0m\u001b[0mtokenizer\u001b[0m\u001b[0;34m,\u001b[0m\u001b[0;34m\u001b[0m\u001b[0;34m\u001b[0m\u001b[0m\n\u001b[1;32m     85\u001b[0m         \u001b[0mphase\u001b[0m\u001b[0;34m=\u001b[0m\u001b[0mphase\u001b[0m\u001b[0;34m,\u001b[0m\u001b[0;34m\u001b[0m\u001b[0;34m\u001b[0m\u001b[0m\n\u001b[0;32m---> 86\u001b[0;31m         \u001b[0mverbose\u001b[0m\u001b[0;34m=\u001b[0m\u001b[0;32mTrue\u001b[0m\u001b[0;34m,\u001b[0m\u001b[0;34m\u001b[0m\u001b[0;34m\u001b[0m\u001b[0m\n\u001b[0m\u001b[1;32m     87\u001b[0m     )\n\u001b[1;32m     88\u001b[0m     \u001b[0;32mif\u001b[0m \u001b[0margs\u001b[0m\u001b[0;34m.\u001b[0m\u001b[0msmart_truncate\u001b[0m\u001b[0;34m:\u001b[0m\u001b[0;34m\u001b[0m\u001b[0;34m\u001b[0m\u001b[0m\n",
            "\u001b[0;32m/content/jiant/jiant/proj/main/preprocessing.py\u001b[0m in \u001b[0;36mconvert_examples_to_dataset\u001b[0;34m(task, examples, tokenizer, feat_spec, phase, verbose)\u001b[0m\n\u001b[1;32m    123\u001b[0m         \u001b[0mfeat_spec\u001b[0m\u001b[0;34m=\u001b[0m\u001b[0mfeat_spec\u001b[0m\u001b[0;34m,\u001b[0m\u001b[0;34m\u001b[0m\u001b[0;34m\u001b[0m\u001b[0m\n\u001b[1;32m    124\u001b[0m         \u001b[0mphase\u001b[0m\u001b[0;34m=\u001b[0m\u001b[0mphase\u001b[0m\u001b[0;34m,\u001b[0m\u001b[0;34m\u001b[0m\u001b[0;34m\u001b[0m\u001b[0m\n\u001b[0;32m--> 125\u001b[0;31m         \u001b[0mverbose\u001b[0m\u001b[0;34m=\u001b[0m\u001b[0mverbose\u001b[0m\u001b[0;34m,\u001b[0m\u001b[0;34m\u001b[0m\u001b[0;34m\u001b[0m\u001b[0m\n\u001b[0m\u001b[1;32m    126\u001b[0m     )\n\u001b[1;32m    127\u001b[0m     \u001b[0mmetadata\u001b[0m \u001b[0;34m=\u001b[0m \u001b[0;34m{\u001b[0m\u001b[0;34m\"example_id\"\u001b[0m\u001b[0;34m:\u001b[0m \u001b[0mlist\u001b[0m\u001b[0;34m(\u001b[0m\u001b[0mrange\u001b[0m\u001b[0;34m(\u001b[0m\u001b[0mlen\u001b[0m\u001b[0;34m(\u001b[0m\u001b[0mdata_rows\u001b[0m\u001b[0;34m)\u001b[0m\u001b[0;34m)\u001b[0m\u001b[0;34m)\u001b[0m\u001b[0;34m}\u001b[0m\u001b[0;34m\u001b[0m\u001b[0;34m\u001b[0m\u001b[0m\n",
            "\u001b[0;32m/content/jiant/jiant/proj/main/preprocessing.py\u001b[0m in \u001b[0;36mtokenize_and_featurize\u001b[0;34m(task, examples, tokenizer, feat_spec, phase, verbose)\u001b[0m\n\u001b[1;32m    181\u001b[0m         data_rows = [\n\u001b[1;32m    182\u001b[0m             \u001b[0mexample\u001b[0m\u001b[0;34m.\u001b[0m\u001b[0mtokenize\u001b[0m\u001b[0;34m(\u001b[0m\u001b[0mtokenizer\u001b[0m\u001b[0;34m)\u001b[0m\u001b[0;34m.\u001b[0m\u001b[0mfeaturize\u001b[0m\u001b[0;34m(\u001b[0m\u001b[0mtokenizer\u001b[0m\u001b[0;34m,\u001b[0m \u001b[0mfeat_spec\u001b[0m\u001b[0;34m)\u001b[0m\u001b[0;34m\u001b[0m\u001b[0;34m\u001b[0m\u001b[0m\n\u001b[0;32m--> 183\u001b[0;31m             \u001b[0;32mfor\u001b[0m \u001b[0mexample\u001b[0m \u001b[0;32min\u001b[0m \u001b[0mmaybe_tqdm\u001b[0m\u001b[0;34m(\u001b[0m\u001b[0mexamples\u001b[0m\u001b[0;34m,\u001b[0m \u001b[0mdesc\u001b[0m\u001b[0;34m=\u001b[0m\u001b[0;34m\"Tokenizing\"\u001b[0m\u001b[0;34m,\u001b[0m \u001b[0mverbose\u001b[0m\u001b[0;34m=\u001b[0m\u001b[0mverbose\u001b[0m\u001b[0;34m)\u001b[0m\u001b[0;34m\u001b[0m\u001b[0;34m\u001b[0m\u001b[0m\n\u001b[0m\u001b[1;32m    184\u001b[0m         ]\n\u001b[1;32m    185\u001b[0m     \u001b[0;32mreturn\u001b[0m \u001b[0mdata_rows\u001b[0m\u001b[0;34m\u001b[0m\u001b[0;34m\u001b[0m\u001b[0m\n",
            "\u001b[0;32m/content/jiant/jiant/proj/main/preprocessing.py\u001b[0m in \u001b[0;36m<listcomp>\u001b[0;34m(.0)\u001b[0m\n\u001b[1;32m    181\u001b[0m         data_rows = [\n\u001b[1;32m    182\u001b[0m             \u001b[0mexample\u001b[0m\u001b[0;34m.\u001b[0m\u001b[0mtokenize\u001b[0m\u001b[0;34m(\u001b[0m\u001b[0mtokenizer\u001b[0m\u001b[0;34m)\u001b[0m\u001b[0;34m.\u001b[0m\u001b[0mfeaturize\u001b[0m\u001b[0;34m(\u001b[0m\u001b[0mtokenizer\u001b[0m\u001b[0;34m,\u001b[0m \u001b[0mfeat_spec\u001b[0m\u001b[0;34m)\u001b[0m\u001b[0;34m\u001b[0m\u001b[0;34m\u001b[0m\u001b[0m\n\u001b[0;32m--> 183\u001b[0;31m             \u001b[0;32mfor\u001b[0m \u001b[0mexample\u001b[0m \u001b[0;32min\u001b[0m \u001b[0mmaybe_tqdm\u001b[0m\u001b[0;34m(\u001b[0m\u001b[0mexamples\u001b[0m\u001b[0;34m,\u001b[0m \u001b[0mdesc\u001b[0m\u001b[0;34m=\u001b[0m\u001b[0;34m\"Tokenizing\"\u001b[0m\u001b[0;34m,\u001b[0m \u001b[0mverbose\u001b[0m\u001b[0;34m=\u001b[0m\u001b[0mverbose\u001b[0m\u001b[0;34m)\u001b[0m\u001b[0;34m\u001b[0m\u001b[0;34m\u001b[0m\u001b[0m\n\u001b[0m\u001b[1;32m    184\u001b[0m         ]\n\u001b[1;32m    185\u001b[0m     \u001b[0;32mreturn\u001b[0m \u001b[0mdata_rows\u001b[0m\u001b[0;34m\u001b[0m\u001b[0;34m\u001b[0m\u001b[0m\n",
            "\u001b[0;32m/content/jiant/jiant/tasks/lib/templates/edge_probing_two_span.py\u001b[0m in \u001b[0;36mtokenize\u001b[0;34m(self, tokenizer)\u001b[0m\n\u001b[1;32m     48\u001b[0m             \u001b[0mspace_tokenization\u001b[0m\u001b[0;34m,\u001b[0m \u001b[0mtarget_tokenization\u001b[0m\u001b[0;34m,\u001b[0m \u001b[0mtokenizer\u001b[0m\u001b[0;34m\u001b[0m\u001b[0;34m\u001b[0m\u001b[0m\n\u001b[1;32m     49\u001b[0m         )\n\u001b[0;32m---> 50\u001b[0;31m         \u001b[0maligner\u001b[0m \u001b[0;34m=\u001b[0m \u001b[0mretokenize\u001b[0m\u001b[0;34m.\u001b[0m\u001b[0mTokenAligner\u001b[0m\u001b[0;34m(\u001b[0m\u001b[0mnormed_space_tokenization\u001b[0m\u001b[0;34m,\u001b[0m \u001b[0mnormed_target_tokenization\u001b[0m\u001b[0;34m)\u001b[0m\u001b[0;34m\u001b[0m\u001b[0;34m\u001b[0m\u001b[0m\n\u001b[0m\u001b[1;32m     51\u001b[0m         \u001b[0mtarget_span1\u001b[0m \u001b[0;34m=\u001b[0m \u001b[0maligner\u001b[0m\u001b[0;34m.\u001b[0m\u001b[0mproject_token_span\u001b[0m\u001b[0;34m(\u001b[0m\u001b[0mself\u001b[0m\u001b[0;34m.\u001b[0m\u001b[0mspan1\u001b[0m\u001b[0;34m[\u001b[0m\u001b[0;36m0\u001b[0m\u001b[0;34m]\u001b[0m\u001b[0;34m,\u001b[0m \u001b[0mself\u001b[0m\u001b[0;34m.\u001b[0m\u001b[0mspan1\u001b[0m\u001b[0;34m[\u001b[0m\u001b[0;36m1\u001b[0m\u001b[0;34m]\u001b[0m\u001b[0;34m)\u001b[0m\u001b[0;34m\u001b[0m\u001b[0;34m\u001b[0m\u001b[0m\n\u001b[1;32m     52\u001b[0m         \u001b[0mtarget_span2\u001b[0m \u001b[0;34m=\u001b[0m \u001b[0maligner\u001b[0m\u001b[0;34m.\u001b[0m\u001b[0mproject_token_span\u001b[0m\u001b[0;34m(\u001b[0m\u001b[0mself\u001b[0m\u001b[0;34m.\u001b[0m\u001b[0mspan2\u001b[0m\u001b[0;34m[\u001b[0m\u001b[0;36m0\u001b[0m\u001b[0;34m]\u001b[0m\u001b[0;34m,\u001b[0m \u001b[0mself\u001b[0m\u001b[0;34m.\u001b[0m\u001b[0mspan2\u001b[0m\u001b[0;34m[\u001b[0m\u001b[0;36m1\u001b[0m\u001b[0;34m]\u001b[0m\u001b[0;34m)\u001b[0m\u001b[0;34m\u001b[0m\u001b[0;34m\u001b[0m\u001b[0m\n",
            "\u001b[0;32m/content/jiant/jiant/utils/retokenize.py\u001b[0m in \u001b[0;36m__init__\u001b[0;34m(self, source, target)\u001b[0m\n\u001b[1;32m    157\u001b[0m         \u001b[0;31m# index i, j measures the character overlap btwn the ith source token and jth target token.\u001b[0m\u001b[0;34m\u001b[0m\u001b[0;34m\u001b[0m\u001b[0;34m\u001b[0m\u001b[0m\n\u001b[1;32m    158\u001b[0m         \u001b[0mself\u001b[0m\u001b[0;34m.\u001b[0m\u001b[0msource_token_idx_to_target_token_idx\u001b[0m \u001b[0;34m=\u001b[0m \u001b[0mself\u001b[0m\u001b[0;34m.\u001b[0m\u001b[0mU\u001b[0m\u001b[0;34m.\u001b[0m\u001b[0mdot\u001b[0m\u001b[0;34m(\u001b[0m\u001b[0mself\u001b[0m\u001b[0;34m.\u001b[0m\u001b[0mC\u001b[0m\u001b[0;34m)\u001b[0m\u001b[0;34m.\u001b[0m\u001b[0mdot\u001b[0m\u001b[0;34m(\u001b[0m\u001b[0mself\u001b[0m\u001b[0;34m.\u001b[0m\u001b[0mV\u001b[0m\u001b[0;34m.\u001b[0m\u001b[0mT\u001b[0m\u001b[0;34m)\u001b[0m\u001b[0;34m\u001b[0m\u001b[0;34m\u001b[0m\u001b[0m\n\u001b[0;32m--> 159\u001b[0;31m         \u001b[0mself\u001b[0m\u001b[0;34m.\u001b[0m\u001b[0msource_token_idx_to_target_char_idx\u001b[0m \u001b[0;34m=\u001b[0m \u001b[0mself\u001b[0m\u001b[0;34m.\u001b[0m\u001b[0mU\u001b[0m\u001b[0;34m.\u001b[0m\u001b[0mdot\u001b[0m\u001b[0;34m(\u001b[0m\u001b[0mself\u001b[0m\u001b[0;34m.\u001b[0m\u001b[0mC\u001b[0m\u001b[0;34m)\u001b[0m\u001b[0;34m\u001b[0m\u001b[0;34m\u001b[0m\u001b[0m\n\u001b[0m\u001b[1;32m    160\u001b[0m         \u001b[0mself\u001b[0m\u001b[0;34m.\u001b[0m\u001b[0msource_char_idx_to_target_token_idx\u001b[0m \u001b[0;34m=\u001b[0m \u001b[0mself\u001b[0m\u001b[0;34m.\u001b[0m\u001b[0mC\u001b[0m\u001b[0;34m.\u001b[0m\u001b[0mdot\u001b[0m\u001b[0;34m(\u001b[0m\u001b[0mself\u001b[0m\u001b[0;34m.\u001b[0m\u001b[0mV\u001b[0m\u001b[0;34m.\u001b[0m\u001b[0mT\u001b[0m\u001b[0;34m)\u001b[0m\u001b[0;34m\u001b[0m\u001b[0;34m\u001b[0m\u001b[0m\n\u001b[1;32m    161\u001b[0m \u001b[0;34m\u001b[0m\u001b[0m\n",
            "\u001b[0;31mKeyboardInterrupt\u001b[0m: "
          ]
        }
      ]
    },
    {
      "cell_type": "markdown",
      "metadata": {
        "id": "sf_J-kPvID5T"
      },
      "source": [
        "## **2.6 SUP-BABI Task**"
      ]
    },
    {
      "cell_type": "code",
      "metadata": {
        "id": "CDVMNfXaO78h"
      },
      "source": [
        "task = \"sup-babi\"\n",
        "dataset_size = \"test\"\n",
        "\n",
        "bert_adversarial_model = \"bert-adversarial\"\n",
        "num_layers = list(range(1, 13, 2))      # from 1 to 12 layers \n",
        "\n",
        "sup_babi_results[bert_adversarial_model] = {}\n",
        "sup_babi_results[bert_adversarial_model][task] = {}\n",
        "\n",
        "for n_layers in num_layers:\n",
        "    init_task_config(task, dataset_size)\n",
        "    tokenize(task, \"bert-base-uncased\")  # use tokenizer of bert base\n",
        "    create_jiant_task_config(task)\n",
        "\n",
        "    run_args = main_runscript.RunConfiguration(\n",
        "        jiant_task_container_config_path=f\"/content/tasks/run_configs/{task}_run_config.json\",\n",
        "        output_dir=f\"/content/tasks/runs/{task}\",\n",
        "        hf_pretrained_model_name_or_path=bert_adversarial_path,\n",
        "        model_path=f\"/content/models/{bert_adversarial_model}/model/model.p\",\n",
        "        model_config_path=f\"/content/models/{bert_adversarial_model}/model/config.json\",\n",
        "        learning_rate=1e-3,\n",
        "        eval_every_steps=1000,\n",
        "        do_train=True,\n",
        "        do_val=True,\n",
        "        do_save=True,\n",
        "        force_overwrite=True,\n",
        "        num_hidden_layers=n_layers,\n",
        "    )\n",
        "    probing_output = main_runscript.run_loop(run_args)\n",
        "    f1_macro = str(probing_output[task][\"metrics\"][\"minor\"][\"f1_macro\"])\n",
        "\n",
        "    sup_babi_results[bert_adversarial_model][task][n_layers] = {}\n",
        "    sup_babi_results[bert_adversarial_model][task][n_layers]['f1_macro'] = f1_macro # save f1 macro for plotting"
      ],
      "execution_count": null,
      "outputs": []
    },
    {
      "cell_type": "markdown",
      "metadata": {
        "id": "xeIGu1uYxjnI"
      },
      "source": [
        "# **3. Experiment with `Roberta-base`**\n",
        "\n",
        "---\n",
        "\n"
      ]
    },
    {
      "cell_type": "markdown",
      "metadata": {
        "id": "gR0LXlUAAdGg"
      },
      "source": [
        "Download and export Roberta-base model"
      ]
    },
    {
      "cell_type": "code",
      "metadata": {
        "id": "s_X_f_WZAf5i"
      },
      "source": [
        "import jiant.proj.main.export_model as export_model\n",
        "\n",
        "roberta_model = \"roberta-base\"\n",
        "\n",
        "export_model.export_model(\n",
        "    hf_pretrained_model_name_or_path=roberta_model,\n",
        "    output_base_path=f\"/content/models/{roberta_model}\",\n",
        ")"
      ],
      "execution_count": null,
      "outputs": []
    },
    {
      "cell_type": "markdown",
      "metadata": {
        "id": "2JAp_uJz-ZLN"
      },
      "source": [
        "## **3.1 NER Task**"
      ]
    },
    {
      "cell_type": "code",
      "metadata": {
        "id": "hhamAWYvn1hZ"
      },
      "source": [
        "task = \"ner\"\n",
        "dataset_size = \"small\"\n",
        "ner_results = {}"
      ],
      "execution_count": null,
      "outputs": []
    },
    {
      "cell_type": "markdown",
      "metadata": {
        "id": "0Q2MauaTF_KD"
      },
      "source": [
        "### 3.1.1 Train `bert-base` model"
      ]
    },
    {
      "cell_type": "code",
      "metadata": {
        "id": "baz3dHYNnFAJ"
      },
      "source": [
        "num_layers = list(range(1, 13, 2))      # from 1 to 12 layers \n",
        "\n",
        "ner_results[bert_base_model] = {}\n",
        "ner_results[bert_base_model][task] = {}\n",
        "\n",
        "for n_layers in num_layers:\n",
        "    f1_macro = probe(bert_base_model, task, n_layers, dataset_size) # get f1_macro after probing\n",
        "    ner_results[bert_base_model][task][n_layers] = {}\n",
        "    ner_results[bert_base_model][task][n_layers]['f1_macro'] = f1_macro # save f1 macro for plotting"
      ],
      "execution_count": null,
      "outputs": []
    },
    {
      "cell_type": "markdown",
      "metadata": {
        "id": "Nak5qdzsI-oj"
      },
      "source": [
        "### 3.1.2 Train `bert-base-finetuned-squad` model"
      ]
    },
    {
      "cell_type": "code",
      "metadata": {
        "id": "tRZg9TFBtV7i"
      },
      "source": [
        "bert_squad_model = \"csarron/bert-base-uncased-squad-v1\"\n",
        "num_layers = list(range(1, 13, 2))      # from 1 to 12 layers \n",
        "\n",
        "ner_results[bert_squad_model] = {}\n",
        "ner_results[bert_squad_model][task] = {}\n",
        "for n_layers in num_layers:\n",
        "    f1_macro = probe(bert_squad_model, task, n_layers, dataset_size) # get f1_macro after probing\n",
        "    ner_results[bert_squad_model][task][n_layers] = {}\n",
        "    ner_results[bert_squad_model][task][n_layers]['f1_macro'] = f1_macro # save f1 macro for plotting"
      ],
      "execution_count": null,
      "outputs": []
    },
    {
      "cell_type": "markdown",
      "metadata": {
        "id": "d5-Qe9Q_Jm29"
      },
      "source": [
        "### 3.1.3 Train `bert-base-finetuned-babi` model"
      ]
    },
    {
      "cell_type": "code",
      "metadata": {
        "id": "_fjW-UDGvhQU"
      },
      "source": [
        "bert_babi_model = \"bert-babi\"\n",
        "num_layers = list(range(1, 13, 2))      # from 1 to 12 layers \n",
        "\n",
        "ner_results[bert_babi_model] = {}\n",
        "ner_results[bert_babi_model][task] = {}\n",
        "\n",
        "for n_layers in num_layers:\n",
        "    init_task_config(task, dataset_size)\n",
        "    tokenize(task, \"bert-base-uncased\")  # use tokenizer of bert base\n",
        "    create_jiant_task_config(task)\n",
        "    probing_output = run_probing_task(task, bert_babi_model, n_layers, bin_model_path=babi_model_path)\n",
        "    f1_macro = str(probing_output[task][\"metrics\"][\"minor\"][\"f1_macro\"])\n",
        "\n",
        "    ner_results[bert_babi_model][task][n_layers] = {}\n",
        "    ner_results[bert_babi_model][task][n_layers]['f1_macro'] = f1_macro # save f1 macro for plotting\n"
      ],
      "execution_count": null,
      "outputs": []
    },
    {
      "cell_type": "markdown",
      "metadata": {
        "id": "R2fcIKfTKVYU"
      },
      "source": [
        "### 3.1.4 Visualization"
      ]
    },
    {
      "cell_type": "markdown",
      "metadata": {
        "id": "_zjEAx8t-hYs"
      },
      "source": [
        "## **3.2 SEMEVAL Task**"
      ]
    },
    {
      "cell_type": "code",
      "metadata": {
        "id": "2XzWmmEvov20"
      },
      "source": [
        "task = \"semeval\"\n",
        "dataset_size = \"small\"\n",
        "semeval_results = {}"
      ],
      "execution_count": null,
      "outputs": []
    },
    {
      "cell_type": "markdown",
      "metadata": {
        "id": "OZ7ojCYlITPs"
      },
      "source": [
        "### 3.2.1 Train `bert-base` model"
      ]
    },
    {
      "cell_type": "code",
      "metadata": {
        "id": "6MggpxE1q4fd"
      },
      "source": [
        "num_layers = list(range(1, 13, 2))      # from 1 to 12 layers \n",
        "\n",
        "semeval_results[bert_base_model] = {}\n",
        "semeval_results[bert_base_model][task] = {}\n",
        "\n",
        "for n_layers in num_layers:\n",
        "    f1_macro = probe(bert_base_model, task, n_layers, dataset_size) # get f1_macro after probing\n",
        "    semeval_results[bert_base_model][task][n_layers] = {}\n",
        "    semeval_results[bert_base_model][task][n_layers]['f1_macro'] = f1_macro # save f1 macro for plotting"
      ],
      "execution_count": null,
      "outputs": []
    },
    {
      "cell_type": "markdown",
      "metadata": {
        "id": "NUvC9r1WJA-6"
      },
      "source": [
        "### 3.2.2 Train `bert-base-finetuned-squad` model"
      ]
    },
    {
      "cell_type": "code",
      "metadata": {
        "id": "N7DCKRYHt2LB"
      },
      "source": [
        "bert_squad_model = \"csarron/bert-base-uncased-squad-v1\"\n",
        "num_layers = list(range(1, 13, 2))      # from 1 to 12 layers \n",
        "\n",
        "semeval_results[bert_squad_model] = {}\n",
        "semeval_results[bert_squad_model][task] = {}\n",
        "for n_layers in num_layers:\n",
        "    f1_macro = probe(bert_squad_model, task, n_layers, dataset_size) # get f1_macro after probing\n",
        "    semeval_results[bert_squad_model][task][n_layers] = {}\n",
        "    semeval_results[bert_squad_model][task][n_layers]['f1_macro'] = f1_macro # save f1 macro for plotting"
      ],
      "execution_count": null,
      "outputs": []
    },
    {
      "cell_type": "markdown",
      "metadata": {
        "id": "NGMVW65cJoVI"
      },
      "source": [
        "### 3.2.3 Train `bert-base-finetuned-babi` model"
      ]
    },
    {
      "cell_type": "code",
      "metadata": {
        "id": "8KcoMbvZvm2l"
      },
      "source": [
        "bert_babi_model = \"bert-babi\"\n",
        "num_layers = list(range(1, 13, 2))      # from 1 to 12 layers \n",
        "\n",
        "semeval_results[bert_babi_model] = {}\n",
        "semeval_results[bert_babi_model][task] = {}\n",
        "\n",
        "for n_layers in num_layers:\n",
        "    init_task_config(task, dataset_size)\n",
        "    tokenize(task, \"bert-base-uncased\")  # use tokenizer of bert base\n",
        "    create_jiant_task_config(task)\n",
        "    probing_output = run_probing_task(task, bert_babi_model, n_layers, bin_model_path=babi_model_path)\n",
        "    f1_macro = str(probing_output[task][\"metrics\"][\"minor\"][\"f1_macro\"])\n",
        "\n",
        "    semeval_results[bert_babi_model][task][n_layers] = {}\n",
        "    semeval_results[bert_babi_model][task][n_layers]['f1_macro'] = f1_macro # save f1 macro for plotting\n"
      ],
      "execution_count": null,
      "outputs": []
    },
    {
      "cell_type": "markdown",
      "metadata": {
        "id": "XzcD3I7uKXRJ"
      },
      "source": [
        "### 3.2.4 Visualization"
      ]
    },
    {
      "cell_type": "markdown",
      "metadata": {
        "id": "Dw1FHkej-iCx"
      },
      "source": [
        "## **3.3 COREF Task**"
      ]
    },
    {
      "cell_type": "code",
      "metadata": {
        "id": "cMAXdMOTuO2J"
      },
      "source": [
        "task = \"coref\"\n",
        "dataset_size = \"small\"\n",
        "coref_results = {}"
      ],
      "execution_count": null,
      "outputs": []
    },
    {
      "cell_type": "markdown",
      "metadata": {
        "id": "eXms0weuIVc6"
      },
      "source": [
        "### 3.3.1 Train `bert-base` model"
      ]
    },
    {
      "cell_type": "code",
      "metadata": {
        "id": "JqEoG1_XrcBn"
      },
      "source": [
        "num_layers = list(range(1, 13, 2))      # from 1 to 12 layers \n",
        "\n",
        "coref_results[bert_base_model] = {}\n",
        "coref_results[bert_base_model][task] = {}\n",
        "\n",
        "for n_layers in num_layers:\n",
        "    f1_macro = probe(bert_base_model, task, n_layers, dataset_size) # get f1_macro after probing\n",
        "    coref_results[bert_base_model][task][n_layers] = {}\n",
        "    coref_results[bert_base_model][task][n_layers]['f1_macro'] = f1_macro # save f1 macro for plotting"
      ],
      "execution_count": null,
      "outputs": []
    },
    {
      "cell_type": "markdown",
      "metadata": {
        "id": "P1aGSgCuJCfT"
      },
      "source": [
        "### 3.3.2 Train `bert-base-finetuned-squad` model"
      ]
    },
    {
      "cell_type": "code",
      "metadata": {
        "id": "VMRzXDiBuMop"
      },
      "source": [
        "bert_squad_model = \"csarron/bert-base-uncased-squad-v1\"\n",
        "num_layers = list(range(1, 13, 2))      # from 1 to 12 layers \n",
        "\n",
        "coref_results[bert_squad_model] = {}\n",
        "coref_results[bert_squad_model][task] = {}\n",
        "for n_layers in num_layers:\n",
        "    f1_macro = probe(bert_squad_model, task, n_layers, dataset_size) # get f1_macro after probing\n",
        "    coref_results[bert_squad_model][task][n_layers] = {}\n",
        "    coref_results[bert_squad_model][task][n_layers]['f1_macro'] = f1_macro # save f1 macro for plotting"
      ],
      "execution_count": null,
      "outputs": []
    },
    {
      "cell_type": "markdown",
      "metadata": {
        "id": "wFczdR-rJp5U"
      },
      "source": [
        "### 3.3.3 Train `bert-base-finetuned-babi` model"
      ]
    },
    {
      "cell_type": "code",
      "metadata": {
        "id": "bsyzZogLvu7e"
      },
      "source": [
        "bert_babi_model = \"bert-babi\"\n",
        "num_layers = list(range(1, 13, 2))      # from 1 to 12 layers \n",
        "\n",
        "coref_results[bert_babi_model] = {}\n",
        "coref_results[bert_babi_model][task] = {}\n",
        "\n",
        "for n_layers in num_layers:\n",
        "    init_task_config(task, dataset_size)\n",
        "    tokenize(task, \"bert-base-uncased\")  # use tokenizer of bert base\n",
        "    create_jiant_task_config(task)\n",
        "    probing_output = run_probing_task(task, bert_babi_model, n_layers, bin_model_path=babi_model_path)\n",
        "    f1_macro = str(probing_output[task][\"metrics\"][\"minor\"][\"f1_macro\"])\n",
        "\n",
        "    coref_results[bert_babi_model][task][n_layers] = {}\n",
        "    coref_results[bert_babi_model][task][n_layers]['f1_macro'] = f1_macro # save f1 macro for plotting\n"
      ],
      "execution_count": null,
      "outputs": []
    },
    {
      "cell_type": "markdown",
      "metadata": {
        "id": "5pgTbFHVKbIx"
      },
      "source": [
        "### 3.3.4 Visualization"
      ]
    },
    {
      "cell_type": "markdown",
      "metadata": {
        "id": "vpDrCo32-iU-"
      },
      "source": [
        "## **3.4 QUES Task**"
      ]
    },
    {
      "cell_type": "code",
      "metadata": {
        "id": "er_pmgBousm8"
      },
      "source": [
        "task = \"ques\"\n",
        "dataset_size = \"small\"\n",
        "ques_results = {}"
      ],
      "execution_count": null,
      "outputs": []
    },
    {
      "cell_type": "markdown",
      "metadata": {
        "id": "IPUsn8DVIW1d"
      },
      "source": [
        "### 3.4.1 Train `bert-base` model"
      ]
    },
    {
      "cell_type": "code",
      "metadata": {
        "id": "JLSnbEmQrqyN"
      },
      "source": [
        "num_layers = list(range(1, 13, 2))      # from 1 to 12 layers \n",
        "\n",
        "ques_results[bert_base_model] = {}\n",
        "ques_results[bert_base_model][task] = {}\n",
        "\n",
        "for n_layers in num_layers:\n",
        "    f1_macro = probe(bert_base_model, task, n_layers, dataset_size) # get f1_macro after probing\n",
        "    ques_results[bert_base_model][task][n_layers] = {}\n",
        "    ques_results[bert_base_model][task][n_layers]['f1_macro'] = f1_macro # save f1 macro for plotting"
      ],
      "execution_count": null,
      "outputs": []
    },
    {
      "cell_type": "markdown",
      "metadata": {
        "id": "Fp2BZGfPJEZr"
      },
      "source": [
        "### 3.4.2 Train `bert-base-finetuned-squad` model"
      ]
    },
    {
      "cell_type": "code",
      "metadata": {
        "id": "WHJSRDevuvJm"
      },
      "source": [
        "bert_squad_model = \"csarron/bert-base-uncased-squad-v1\"\n",
        "num_layers = list(range(1, 13, 2))      # from 1 to 12 layers \n",
        "\n",
        "ques_results[bert_squad_model] = {}\n",
        "ques_results[bert_squad_model][task] = {}\n",
        "for n_layers in num_layers:\n",
        "    f1_macro = probe(bert_squad_model, task, n_layers, dataset_size) # get f1_macro after probing\n",
        "    ques_results[bert_squad_model][task][n_layers] = {}\n",
        "    ques_results[bert_squad_model][task][n_layers]['f1_macro'] = f1_macro # save f1 macro for plotting"
      ],
      "execution_count": null,
      "outputs": []
    },
    {
      "cell_type": "markdown",
      "metadata": {
        "id": "8jyF2kewJrHw"
      },
      "source": [
        "### 3.4.3 Train `bert-base-finetuned-babi` model"
      ]
    },
    {
      "cell_type": "code",
      "metadata": {
        "id": "sJPO8gENvySL"
      },
      "source": [
        "bert_babi_model = \"bert-babi\"\n",
        "num_layers = list(range(1, 13, 2))      # from 1 to 12 layers \n",
        "\n",
        "ques_results[bert_babi_model] = {}\n",
        "ques_results[bert_babi_model][task] = {}\n",
        "\n",
        "for n_layers in num_layers:\n",
        "    init_task_config(task, dataset_size)\n",
        "    tokenize(task, \"bert-base-uncased\")  # use tokenizer of bert base\n",
        "    create_jiant_task_config(task)\n",
        "    probing_output = run_probing_task(task, bert_babi_model, n_layers, bin_model_path=babi_model_path)\n",
        "    f1_macro = str(probing_output[task][\"metrics\"][\"minor\"][\"f1_macro\"])\n",
        "\n",
        "    ques_results[bert_babi_model][task][n_layers] = {}\n",
        "    ques_results[bert_babi_model][task][n_layers]['f1_macro'] = f1_macro # save f1 macro for plotting\n"
      ],
      "execution_count": null,
      "outputs": []
    },
    {
      "cell_type": "markdown",
      "metadata": {
        "id": "7DyB1ufgKfJ9"
      },
      "source": [
        "### 3.4.4 Visualization"
      ]
    },
    {
      "cell_type": "markdown",
      "metadata": {
        "id": "GL84X7yi-51J"
      },
      "source": [
        "## **3.5 SUP-SQUAD Task**"
      ]
    },
    {
      "cell_type": "code",
      "metadata": {
        "id": "nbEyJdGqu13l"
      },
      "source": [
        "task = \"sup-squad\"\n",
        "dataset_size = \"small\"\n",
        "sup_squad_results = {}"
      ],
      "execution_count": null,
      "outputs": []
    },
    {
      "cell_type": "markdown",
      "metadata": {
        "id": "kTAdRsHOIYRV"
      },
      "source": [
        "### 3.5.1 Train `bert-base` model"
      ]
    },
    {
      "cell_type": "code",
      "metadata": {
        "id": "wpfRZYGcruEK"
      },
      "source": [
        "num_layers = list(range(1, 13, 2))      # from 1 to 12 layers \n",
        "\n",
        "sup_squad_results[bert_base_model] = {}\n",
        "sup_squad_results[bert_base_model][task] = {}\n",
        "\n",
        "for n_layers in num_layers:\n",
        "    f1_macro = probe(bert_base_model, task, n_layers, dataset_size) # get f1_macro after probing\n",
        "    sup_squad_results[bert_base_model][task][n_layers] = {}\n",
        "    sup_squad_results[bert_base_model][task][n_layers]['f1_macro'] = f1_macro # save f1 macro for plotting"
      ],
      "execution_count": null,
      "outputs": []
    },
    {
      "cell_type": "markdown",
      "metadata": {
        "id": "sbcnb04kJF2L"
      },
      "source": [
        "### 3.5.2 Train `bert-base-finetuned-squad` model"
      ]
    },
    {
      "cell_type": "code",
      "metadata": {
        "id": "FrnnK_m6u-zO"
      },
      "source": [
        "bert_squad_model = \"csarron/bert-base-uncased-squad-v1\"\n",
        "num_layers = list(range(1, 13, 2))      # from 1 to 12 layers \n",
        "\n",
        "sup_squad_results[bert_squad_model] = {}\n",
        "sup_squad_results[bert_squad_model][task] = {}\n",
        "for n_layers in num_layers:\n",
        "    f1_macro = probe(bert_squad_model, task, n_layers, dataset_size) # get f1_macro after probing\n",
        "    sup_squad_results[bert_squad_model][task][n_layers] = {}\n",
        "    sup_squad_results[bert_squad_model][task][n_layers]['f1_macro'] = f1_macro # save f1 macro for plotting"
      ],
      "execution_count": null,
      "outputs": []
    },
    {
      "cell_type": "markdown",
      "metadata": {
        "id": "5V-6GXrfKg7a"
      },
      "source": [
        "### 3.5.3 Visualization"
      ]
    },
    {
      "cell_type": "markdown",
      "metadata": {
        "id": "xzTix5zE-6AI"
      },
      "source": [
        "## **3.6 SUP-BABI Task**"
      ]
    },
    {
      "cell_type": "code",
      "metadata": {
        "id": "x2dFWQC9vIJ4"
      },
      "source": [
        "task = \"sup-babi\"\n",
        "dataset_size = \"small\"\n",
        "sup_babi_results = {}"
      ],
      "execution_count": null,
      "outputs": []
    },
    {
      "cell_type": "markdown",
      "metadata": {
        "id": "Vs75KREXIaMb"
      },
      "source": [
        "### 3.6.1 Train `bert-base` model"
      ]
    },
    {
      "cell_type": "code",
      "metadata": {
        "id": "Df_ChPRzsRTv"
      },
      "source": [
        "num_layers = list(range(1, 13, 2))      # from 1 to 12 layers \n",
        "\n",
        "sup_babi_results[bert_base_model] = {}\n",
        "sup_babi_results[bert_base_model][task] = {}\n",
        "\n",
        "for n_layers in num_layers:\n",
        "    f1_macro = probe(bert_base_model, task, n_layers, dataset_size) # get f1_macro after probing\n",
        "    sup_babi_results[bert_base_model][task][n_layers] = {}\n",
        "    sup_babi_results[bert_base_model][task][n_layers]['f1_macro'] = f1_macro # save f1 macro for plotting"
      ],
      "execution_count": null,
      "outputs": []
    },
    {
      "cell_type": "markdown",
      "metadata": {
        "id": "vJUVJXQ6JIF-"
      },
      "source": [
        "### 3.6.2 Train `bert-base-finetuned-babi` model"
      ]
    },
    {
      "cell_type": "code",
      "metadata": {
        "id": "EQhNrDJHv2ZH"
      },
      "source": [
        "bert_babi_model = \"bert-babi\"\n",
        "num_layers = list(range(1, 13, 2))      # from 1 to 12 layers \n",
        "\n",
        "sup_babi_results[bert_babi_model] = {}\n",
        "sup_babi_results[bert_babi_model][task] = {}\n",
        "\n",
        "for n_layers in num_layers:\n",
        "    init_task_config(task, dataset_size)\n",
        "    tokenize(task, \"bert-base-uncased\")  # use tokenizer of bert base\n",
        "    create_jiant_task_config(task)\n",
        "    probing_output = run_probing_task(task, bert_babi_model, n_layers, bin_model_path=babi_model_path)\n",
        "    f1_macro = str(probing_output[task][\"metrics\"][\"minor\"][\"f1_macro\"])\n",
        "\n",
        "    sup_babi_results[bert_babi_model][task][n_layers] = {}\n",
        "    sup_babi_results[bert_babi_model][task][n_layers]['f1_macro'] = f1_macro # save f1 macro for plotting\n"
      ],
      "execution_count": null,
      "outputs": []
    },
    {
      "cell_type": "markdown",
      "metadata": {
        "id": "4rQK0Yk8Ki88"
      },
      "source": [
        "### 3.6.3 Visualization"
      ]
    }
  ]
}