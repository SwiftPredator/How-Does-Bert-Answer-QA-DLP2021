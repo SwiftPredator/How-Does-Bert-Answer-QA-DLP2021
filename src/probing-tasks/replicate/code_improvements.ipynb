{
  "nbformat": 4,
  "nbformat_minor": 2,
  "metadata": {
    "orig_nbformat": 4,
    "colab": {
      "name": "code_improvements.ipynb",
      "provenance": [],
      "collapsed_sections": []
    },
    "accelerator": "GPU",
    "language_info": {
      "name": "python",
      "version": "3.8.10",
      "mimetype": "text/x-python",
      "codemirror_mode": {
        "name": "ipython",
        "version": 3
      },
      "pygments_lexer": "ipython3",
      "nbconvert_exporter": "python",
      "file_extension": ".py"
    },
    "kernelspec": {
      "name": "python3",
      "display_name": "Python 3.8.10 64-bit"
    },
    "interpreter": {
      "hash": "b6f5aa6c83ab6bb418a26169cae6e1f2aa26236cb3670b5bbe663715684b9fc3"
    }
  },
  "cells": [
    {
      "cell_type": "markdown",
      "source": [
        "**Introduction:** In this notebook we compare the speed of edge probing of the following three implementations\n",
        "*   jiant 1.3.2\n",
        "*   jiant 2.2.0\n",
        "*   our own implementation (https://github.com/SwiftPredator/How-Does-Bert-Answer-QA-DLP2021/blob/main/src/probing-tasks/replicate/probing_tasks.ipynb)\n",
        "\n",
        "\n",
        "Before running make sure to set the runtime type to GPU (both jiant versions don't support TPUs)."
      ],
      "metadata": {
        "id": "tlrsfc8BuObA"
      }
    },
    {
      "cell_type": "markdown",
      "source": [
        "**jiant 1.3.2:** First we install the dependencies for jiant 1.3.2 and clone the repository."
      ],
      "metadata": {
        "id": "eaZ_WukYUR4o"
      }
    },
    {
      "cell_type": "code",
      "execution_count": null,
      "source": [
        "!pip install allennlp==0.8.4\n",
        "!pip install overrides==3.1.0\n",
        "!pip install jsondiff\n",
        "!pip install sacremoses\n",
        "!pip install pyhocon==0.3.35\n",
        "!pip install transformers==2.6.0\n",
        "!pip install python-Levenshtein==0.12.0\n",
        "!pip install tensorflow==1.15.0\n",
        "\n",
        "!python -m nltk.downloader perluniprops nonbreaking_prefixes punkt\n",
        "\n",
        "!pip uninstall overrides\n",
        "!pip install overrides==3.1.0\n",
        "\n",
        "!pip install tensorflow==1.15"
      ],
      "outputs": [],
      "metadata": {
        "id": "jNBGQ6F3uObA"
      }
    },
    {
      "cell_type": "markdown",
      "source": [
        "Restart the runtime now. Clone the jiant and OntoNotes repository and set some environment variables."
      ],
      "metadata": {
        "id": "6V55oNT0uObA"
      }
    },
    {
      "cell_type": "code",
      "execution_count": null,
      "source": [
        "!git clone --branch v1.3.2  --recursive https://github.com/nyu-mll/jiant.git jiant\n",
        "!git clone https://github.com/yuchenlin/OntoNotes-5.0-NER-BIO.git\n",
        "\n",
        "import os\n",
        "os.environ['JIANT_PROJECT_PREFIX'] = \"/content/output\"\n",
        "os.environ['JIANT_DATA_DIR'] = \"/content/data\"\n",
        "os.environ['WORD_EMBS_FILE'] = \"/content/embs\""
      ],
      "outputs": [],
      "metadata": {
        "id": "oN6RTSBauObA"
      }
    },
    {
      "cell_type": "markdown",
      "source": [
        "Copy the ontonotes path (/content/OntoNotes-5.0-NER-BIO/conll-formatted-ontonotes-5.0) to /content/jiant/probing/get_and_process_all_data.sh\n",
        "Comment out SPR data and tokenizing for OpenAI, Moses and bert-large in /content/jiant/probing/get_and_process_all_data.sh. Set JIANT_DATA_DIR to \"/content/data\". Run the next cell to preprocess the data"
      ],
      "metadata": {
        "id": "AuoHlz3puObA"
      }
    },
    {
      "cell_type": "code",
      "execution_count": null,
      "source": [
        "%cd /content/\n",
        "!./jiant/probing/get_and_process_all_data.sh"
      ],
      "outputs": [],
      "metadata": {
        "id": "ez-JIjiNuObA"
      }
    },
    {
      "cell_type": "markdown",
      "source": [
        "Afterwards save the data to Google Drive."
      ],
      "metadata": {
        "id": "jQWovUcZlxQY"
      }
    },
    {
      "cell_type": "code",
      "execution_count": null,
      "source": [
        "from google.colab import drive\n",
        "drive.mount('/content/drive')\n",
        "\n",
        "!cp -r \"/content/data\" \"/content/drive/MyDrive/data\""
      ],
      "outputs": [
        {
          "output_type": "stream",
          "name": "stdout",
          "text": [
            "Drive already mounted at /content/drive; to attempt to forcibly remount, call drive.mount(\"/content/drive\", force_remount=True).\n"
          ]
        }
      ],
      "metadata": {
        "colab": {
          "base_uri": "https://localhost:8080/"
        },
        "id": "rDm_3u62k7Ok",
        "outputId": "bd27c03d-5ed2-4dd2-c0b7-b1b961a22e62"
      }
    },
    {
      "cell_type": "markdown",
      "source": [
        "If you have already preprocessed and saved the data, you can just load it from Google Drive."
      ],
      "metadata": {
        "id": "oajV3QUxlHMM"
      }
    },
    {
      "cell_type": "code",
      "execution_count": null,
      "source": [
        "from google.colab import drive\n",
        "drive.mount('/content/drive')\n",
        "\n",
        "!cp -r \"/content/drive/MyDrive/data\" \"/content/data\""
      ],
      "outputs": [],
      "metadata": {
        "id": "6OX073UslSOc"
      }
    },
    {
      "cell_type": "markdown",
      "source": [
        "Before running the next cell go to /content/jiant/jiant/config/defaults.conf and set max_vals in edges-tmpl-large and edges-tmpl-small to 5 and val_interval in edges-tmpl and edges-tmpl-small to 1000. Restart the runtime afterwards."
      ],
      "metadata": {
        "id": "xWwqCf1PmLxk"
      }
    },
    {
      "cell_type": "markdown",
      "source": [
        "To circumvent any difficulties with adding tasks, we just time tasks that are already implemented in jiant. For some reason the runtime has to be factory reset after each task."
      ],
      "metadata": {
        "id": "VrXYXHBSuObA"
      }
    },
    {
      "cell_type": "code",
      "execution_count": null,
      "source": [
        "tasks = [\n",
        "    #\"edges-ner-ontonotes\", \n",
        "    #\"edges-rel-semeval\",\n",
        "    \"edges-coref-ontonotes\",\n",
        "    ]\n",
        "\n",
        "models = [\n",
        "    \"bert-base-uncased\", \n",
        "    ]"
      ],
      "outputs": [],
      "metadata": {
        "id": "HNJkPEyeuObA"
      }
    },
    {
      "cell_type": "code",
      "execution_count": null,
      "source": [
        "%cd /content/jiant/\n",
        "\n",
        "import jiant.__main__ as main\n",
        "from timeit import default_timer as timer\n",
        "import os\n",
        "import json\n",
        "\n",
        "os.environ[\"JIANT_PROJECT_PREFIX\"] = \"/content/output/\"\n",
        "os.environ[\"JIANT_DATA_DIR\"] = \"/content/data/\"\n",
        "os.environ[\"WORD_EMBS_FILE\"] = \"/content/embs/\"\n",
        "\n",
        "with open(\"/content/results.json\", \"r\") as f:\n",
        "    results = json.load(f)\n",
        "if results is None:\n",
        "    results = {}\n",
        "\n",
        "implementation_results = results.setdefault(\"jiant 1.3.2\", {})\n",
        "\n",
        "for model in models:\n",
        "    implementation_results[model] = {}\n",
        "    for task in tasks:\n",
        "        start = timer()\n",
        "        main.main([\n",
        "                   \"--config_file\",\n",
        "                   \"/content/jiant/jiant/config/edgeprobe/edgeprobe_bert.conf\",\n",
        "                   \"-o\",\n",
        "                   f\"target_tasks={task},exp_name=timeit,input_module={model},max_seq_len=384\"\n",
        "                   ])\n",
        "        end = timer()\n",
        "        implementation_results[model][task] = end - start\n",
        "\n",
        "print(results)\n",
        "with open(\"/content/results.json\", \"w\") as f:\n",
        "    json.dump(results, f)"
      ],
      "outputs": [],
      "metadata": {
        "id": "aNbOy1-euObA"
      }
    },
    {
      "cell_type": "markdown",
      "source": [
        "**jiant 2.2.0:** We follow the same steps as in the reproduced notebook."
      ],
      "metadata": {
        "id": "Z3wwnSUnWK7g"
      }
    },
    {
      "cell_type": "code",
      "execution_count": null,
      "source": [
        "!git clone https://github.com/SwiftPredator/How-Does-Bert-Answer-QA-DLP2021.git\n",
        "\n",
        "# copy the modified jiant lib to the /content/\n",
        "!mv \"/content/How-Does-Bert-Answer-QA-DLP2021/src/probing-tasks/jiant\" \"/content/\"\n",
        "\n",
        "%cd jiant\n",
        "!pip install -r requirements-no-torch.txt\n",
        "!pip install --no-deps -e ./\n",
        "!pip install gdown  # lib to download file from googlde drive link"
      ],
      "outputs": [],
      "metadata": {
        "id": "kXlrNxdbrnN0"
      }
    },
    {
      "cell_type": "markdown",
      "source": [
        "Restart the runtime now. When restarting the runtime run from here on."
      ],
      "metadata": {
        "id": "CBakOl4Vr9Cs"
      }
    },
    {
      "cell_type": "code",
      "execution_count": null,
      "source": [
        "%cd /content/jiant\n",
        "\n",
        "import jiant.utils.python.io as py_io\n",
        "import jiant.utils.display as display\n",
        "import os\n",
        "\n",
        "def init_task_config(task_name, size):\n",
        "    jiant_task = task_name\n",
        "    if(task_name == \"sup-squad\" or task_name == \"sup-babi\"):\n",
        "        jiant_task = \"coref\"  # use coref task to probe supporting facts task because of the analog structure of jiant EP json format\n",
        "\n",
        "    os.makedirs(\"/content/tasks/configs/\", exist_ok=True)\n",
        "    os.makedirs(f\"/content/tasks/data/{task_name}\", exist_ok=True)\n",
        "\n",
        "    py_io.write_json({\n",
        "        \"task\": jiant_task,\n",
        "        \"paths\": {\n",
        "        \"train\": f\"/content/tasks/data/{task_name}/{size}/train.jsonl\",\n",
        "        \"val\":   f\"/content/tasks/data/{task_name}/{size}/val.jsonl\",\n",
        "        },\n",
        "        \"name\": jiant_task\n",
        "        }, f\"/content/tasks/configs/{task_name}_config.json\")\n",
        "\n",
        "task_names = [\n",
        "              \"ner\", \n",
        "              \"semeval\", \n",
        "              \"coref\",    \n",
        "              #\"ques\" \n",
        "              #\"sup-squad\", \n",
        "              #\"sup-babi\",\n",
        "              #\"sup-hotpot\",\n",
        "             ]\n",
        "\n",
        "size = \"timing\"\n",
        "\n",
        "for task_name in task_names:\n",
        "    init_task_config(task_name, size)"
      ],
      "outputs": [],
      "metadata": {
        "id": "ahdYHAyB9MPY"
      }
    },
    {
      "cell_type": "code",
      "execution_count": 2,
      "source": [
        "# copy the task data to the tasks folder created above\n",
        "!cp -r \"/content/How-Does-Bert-Answer-QA-DLP2021/src/probing-tasks/data\" \"/content/tasks/\""
      ],
      "outputs": [],
      "metadata": {
        "id": "yMS-ONre-5Os"
      }
    },
    {
      "cell_type": "code",
      "execution_count": null,
      "source": [
        "import jiant.proj.main.export_model as export_model\n",
        "\n",
        "models = [\n",
        "          \"bert-base-uncased\", \n",
        "          ]\n",
        "\n",
        "for model in models:\n",
        "    export_model.export_model(\n",
        "        hf_pretrained_model_name_or_path=model,\n",
        "        output_base_path=f\"/content/models/{model}\",\n",
        "        )"
      ],
      "outputs": [],
      "metadata": {
        "id": "sTtTLW19-1M4"
      }
    },
    {
      "cell_type": "code",
      "execution_count": null,
      "source": [
        "import jiant.shared.caching as caching\n",
        "import jiant.proj.main.tokenize_and_cache as tokenize_and_cache\n",
        "\n",
        "seq_length_options = {\n",
        "    \"ner\":        384, \n",
        "    \"semeval\":    384, \n",
        "    \"coref\":      384,\n",
        "    \"ques\":       128,     \n",
        "    \"sup-squad\":  384, \n",
        "    \"sup-babi\":   384,\n",
        "    \"sup-hotpot\": 384,\n",
        "    }\n",
        "\n",
        "# Tokenize and cache each task\n",
        "def tokenize(task_name, model):\n",
        "    tokenize_and_cache.main(tokenize_and_cache.RunConfiguration(\n",
        "        task_config_path=f\"/content/tasks/configs/{task_name}_config.json\",\n",
        "        hf_pretrained_model_name_or_path=model,\n",
        "        output_dir=f\"/content/cache/{task_name}\",\n",
        "        phases=[\"train\", \"val\"],\n",
        "        max_seq_length=seq_length_options[task_name],\n",
        "        ))\n",
        "\n",
        "for task_name in task_names:\n",
        "    for model in models:\n",
        "        tokenize(task_name, model)\n"
      ],
      "outputs": [],
      "metadata": {
        "id": "-hkcpGYUsQR8"
      }
    },
    {
      "cell_type": "code",
      "execution_count": 5,
      "source": [
        "import jiant.proj.main.scripts.configurator as configurator\n",
        "\n",
        "def create_jiant_task_config(task_name):\n",
        "    jiant_run_config = configurator.SimpleAPIMultiTaskConfigurator(\n",
        "        task_config_base_path=\"/content/tasks/configs\",\n",
        "        task_cache_base_path=\"/content/cache\",\n",
        "        train_task_name_list=[task_name],\n",
        "        val_task_name_list=[task_name],\n",
        "        train_batch_size=32,\n",
        "        eval_batch_size=32,\n",
        "        epochs=50,\n",
        "        num_gpus=1,\n",
        "        ).create_config()\n",
        "    os.makedirs(\"/content/tasks/run_configs/\", exist_ok=True)\n",
        "    py_io.write_json(jiant_run_config, f\"/content/tasks/run_configs/{task_name}_run_config.json\")\n",
        "    #display.show_json(jiant_run_config)"
      ],
      "outputs": [],
      "metadata": {
        "id": "WEF4WdQ1sXNs"
      }
    },
    {
      "cell_type": "code",
      "execution_count": 6,
      "source": [
        "import jiant.proj.main.runscript as main_runscript\n",
        "\n",
        "def run_probing_task(task_name, model_name=\"bert-base-uncased\", num_layers=1, bin_model_path=\"\"):\n",
        "    hf_model_name = model_name\n",
        "    if(model_name == \"bert-babi\"):\n",
        "        hf_model_name = \"bert-base-uncased\"\n",
        "    \n",
        "    run_args = main_runscript.RunConfiguration(\n",
        "        jiant_task_container_config_path=f\"/content/tasks/run_configs/{task_name}_run_config.json\",\n",
        "        output_dir=f\"/content/tasks/runs/{task_name}\",\n",
        "        hf_pretrained_model_name_or_path=hf_model_name,\n",
        "        model_path=f\"/content/models/{model_name}/model/model.p\",\n",
        "        model_config_path=f\"/content/models/{model_name}/model/config.json\",\n",
        "        learning_rate=1e-2,\n",
        "        eval_every_steps=100,\n",
        "        do_train=True,\n",
        "        do_val=True,\n",
        "        do_save=True,\n",
        "        force_overwrite=True,\n",
        "        num_hidden_layers=num_layers,\n",
        "        bin_model_path=bin_model_path,\n",
        "        )\n",
        "    return main_runscript.run_loop(run_args)"
      ],
      "outputs": [],
      "metadata": {
        "id": "F5XrDdPkscfM"
      }
    },
    {
      "cell_type": "code",
      "execution_count": 7,
      "source": [
        "from timeit import default_timer as timer\n",
        "\n",
        "def probe(model, task_name, n_layers, dataset_size):\n",
        "    init_task_config(task_name, dataset_size)\n",
        "    #tokenize(task_name, model)\n",
        "    create_jiant_task_config(task_name)\n",
        "    start = timer()\n",
        "    run_probing_task(task_name, model, n_layers)\n",
        "    end = timer()\n",
        "    return end - start"
      ],
      "outputs": [],
      "metadata": {
        "id": "JZ-wI6v0s0lY"
      }
    },
    {
      "cell_type": "markdown",
      "source": [
        "To avoid lenghty tokenization and caching we run for 50 epochs instead of 5, use train datasets with size 320 (10 batches) and evaluate every 100 steps. The results have to be multiplied by 10 to be comparable to the other implementations."
      ],
      "metadata": {
        "id": "_xPmO_qjBMsM"
      }
    },
    {
      "cell_type": "code",
      "execution_count": null,
      "source": [
        "import json\n",
        "import os\n",
        "\n",
        "if os.path.isfile(\"/content/results.json\"):\n",
        "    with open(\"/content/results.json\", \"w\") as f:\n",
        "        results = json.load(f)\n",
        "else:\n",
        "    results = {}\n",
        "\n",
        "implementation_results = results.setdefault(\"jiant 2.2.0\", {})\n",
        "\n",
        "for model in models:\n",
        "    implementation_results[model] = {}\n",
        "    for task in task_names:\n",
        "        implementation_results[model][task] = probe(model, task, 1, \"test\") * 10\n",
        "\n",
        "print(results)\n",
        "with open(\"/content/results.json\", \"w\") as f:\n",
        "    json.dump(results, f)"
      ],
      "outputs": [],
      "metadata": {
        "id": "lY_YFqkAtGI0"
      }
    },
    {
      "cell_type": "markdown",
      "source": [
        "**Our own implementation:** Change the runtime to TPU now and run the following cell to install our code. Restart the runtime afterwards.\n"
      ],
      "metadata": {
        "id": "CEY2QI5BuObA"
      }
    },
    {
      "cell_type": "code",
      "execution_count": null,
      "source": [
        "!git clone https://github.com/SwiftPredator/How-Does-Bert-Answer-QA-DLP2021/\n",
        "\n",
        "!mv \"/content/How-Does-Bert-Answer-QA-DLP2021/src/probing-tasks/data\" \"/content/\"\n",
        "!mv \"/content/How-Does-Bert-Answer-QA-DLP2021/src/probing-tasks/replicate\" \"/content/\"\n",
        "\n",
        "%cd /content/replicate\n",
        "!pip install -r requirements.txt\n",
        "!pip install cloud-tpu-client==0.10 https://storage.googleapis.com/tpu-pytorch/wheels/torch_xla-1.9-cp37-cp37m-linux_x86_64.whl"
      ],
      "outputs": [],
      "metadata": {
        "id": "cvcctBJOuObA"
      }
    },
    {
      "cell_type": "code",
      "execution_count": null,
      "source": [
        "%cd /content/replicate\n",
        "import torch\n",
        "import torch.nn as nn\n",
        "import torch.utils.data as data\n",
        "from transformers import AutoModel, AutoTokenizer\n",
        "\n",
        "from edge_probing_utils import (\n",
        "    JiantDatasetSingleSpan,\n",
        "    JiantDatasetTwoSpan\n",
        "    )\n",
        "import edge_probing as ep\n",
        "import edge_probing_tpu as ep_tpu"
      ],
      "outputs": [],
      "metadata": {
        "id": "imh-nQRPuObA"
      }
    },
    {
      "cell_type": "code",
      "execution_count": null,
      "source": [
        "tasks = [\n",
        "    \"ner\", \n",
        "    \"semeval\",\n",
        "    \"coref\",\n",
        "    ]\n",
        "\n",
        "task_types = {\n",
        "    \"ner\": \"single_span\", \n",
        "    \"semeval\": \"single_span\",\n",
        "    \"coref\": \"two_span\",\n",
        "    }\n",
        "\n",
        "models = [\n",
        "    \"bert-base-uncased\", \n",
        "    ]\n",
        "\n",
        "task_labels_to_ids = {\n",
        "    \"ner\": {'ORDINAL': 0, 'DATE': 1, 'PERSON': 2, 'LOC': 3, 'GPE': 4, 'QUANTITY': 5, 'ORG': 6, 'WORK_OF_ART': 7, 'CARDINAL': 8, 'TIME': 9, 'MONEY': 10, 'LANGUAGE': 11, 'NORP': 12, 'PERCENT': 13, 'EVENT': 14, 'LAW': 15, 'FAC': 16, 'PRODUCT': 17},\n",
        "    \"coref\": {\"0\": 0, \"1\": 1},\n",
        "    \"semeval\": {'Component-Whole(e2,e1)': 0, 'Other': 1, 'Instrument-Agency(e2,e1)': 2, 'Member-Collection(e1,e2)': 3, 'Entity-Destination(e1,e2)': 4, 'Content-Container(e1,e2)': 5, 'Message-Topic(e1,e2)': 6, 'Cause-Effect(e2,e1)': 7, 'Product-Producer(e2,e1)': 8, 'Member-Collection(e2,e1)': 9, 'Entity-Origin(e1,e2)': 10, 'Cause-Effect(e1,e2)': 11, 'Component-Whole(e1,e2)': 12, 'Message-Topic(e2,e1)': 13, 'Product-Producer(e1,e2)': 14, 'Entity-Origin(e2,e1)': 15, 'Content-Container(e2,e1)': 16, 'Instrument-Agency(e1,e2)': 17, 'Entity-Destination(e2,e1)': 18},\n",
        "    }"
      ],
      "outputs": [],
      "metadata": {
        "id": "Di7xEXw9uObA"
      }
    },
    {
      "cell_type": "code",
      "execution_count": null,
      "source": [
        "import torch_xla\n",
        "import torch_xla.core.xla_model as xm\n",
        "import os\n",
        "import json\n",
        "import matplotlib.pyplot as plt\n",
        "from google.colab import drive\n",
        "from timeit import default_timer as timer\n",
        "\n",
        "loss_function = nn.BCELoss()\n",
        "batch_size = 32\n",
        "num_layers = [12]\n",
        "num_workers = 0\n",
        "\n",
        "device = xm.xla_device()\n",
        "\n",
        "# Disable warnings.\n",
        "os.environ[\"TOKENIZERS_PARALLELISM\"] = \"false\"\n",
        "\n",
        "def probe(model, task, size):\n",
        "    tokenizer = AutoTokenizer.from_pretrained(model)\n",
        "    train_data = ep.tokenize_jiant_dataset(\n",
        "            tokenizer,\n",
        "            *(ep.read_jiant_dataset(f\"/content/data/{task}/{size}/train.jsonl\")),\n",
        "            task_labels_to_ids[task],\n",
        "            )\n",
        "    val_data = ep.tokenize_jiant_dataset(\n",
        "            tokenizer,\n",
        "            *(ep.read_jiant_dataset(f\"/content/data/{task}/{size}/val.jsonl\")),\n",
        "            task_labels_to_ids[task],\n",
        "            )\n",
        "    test_data = ep.tokenize_jiant_dataset(\n",
        "            tokenizer,\n",
        "            *(ep.read_jiant_dataset(f\"/content/data/{task}/{size}/test.jsonl\")),\n",
        "            task_labels_to_ids[task],\n",
        "            )\n",
        "    if task_types[task] == \"single_span\":\n",
        "        train_data = JiantDatasetSingleSpan(train_data)\n",
        "        val_data = JiantDatasetSingleSpan(val_data)\n",
        "        test_data = JiantDatasetSingleSpan(test_data)\n",
        "    elif task_types[task] == \"two_span\":\n",
        "        train_data = JiantDatasetTwoSpan(train_data)\n",
        "        val_data = JiantDatasetTwoSpan(val_data)\n",
        "        test_data = JiantDatasetTwoSpan(test_data)\n",
        "    train_loader = data.DataLoader(train_data, batch_size=batch_size, shuffle=True, pin_memory=True, num_workers=num_workers)\n",
        "    val_loader = data.DataLoader(val_data, batch_size=batch_size, pin_memory=True, num_workers=num_workers)\n",
        "    test_loader = data.DataLoader(test_data, batch_size=batch_size, pin_memory=True, num_workers=num_workers)\n",
        "    start = timer()\n",
        "    ep_tpu.probing(ep.ProbeConfig(\n",
        "        train_loader,\n",
        "        val_loader,\n",
        "        test_loader,\n",
        "        model,\n",
        "        num_layers,\n",
        "        loss_function,\n",
        "        task_labels_to_ids[task],\n",
        "        task_types[task],\n",
        "        lr=0.0001,\n",
        "        max_evals=5,\n",
        "        eval_interval=1000,\n",
        "        dev=device,\n",
        "        ))\n",
        "    end = timer()\n",
        "    return end - start\n",
        "\n",
        "with open(\"/content/results.json\", \"r\") as f:\n",
        "    results = json.load(f)\n",
        "if results is None:\n",
        "    results = {}\n",
        "\n",
        "implementation_results = results.setdefault(\"jiant 1.3.2\", {})\n",
        "\n",
        "for model in models:\n",
        "    implementation_results[model] = {}\n",
        "    for task in tasks:\n",
        "        implementation_results[model][task] = probe(model, task, \"big\")\n",
        "\n",
        "print(results)\n",
        "with open(\"/content/results.json\", \"w\") as f:\n",
        "    json.dump(results, f)"
      ],
      "outputs": [],
      "metadata": {
        "id": "cA2WsyRkuObA"
      }
    },
    {
      "cell_type": "markdown",
      "source": [
        "**Visualization:** Change the task names in /content/results.json to be the same for all implementations"
      ],
      "metadata": {}
    },
    {
      "cell_type": "code",
      "execution_count": 9,
      "source": [
        "import matplotlib.pyplot as plt\n",
        "import json\n",
        "\n",
        "with open(\"/content/results.json\", \"r\") as f:\n",
        "    results = json.load(f)\n",
        "\n",
        "for implementation in results.keys():\n",
        "    plt.scatter(\n",
        "        list(results[implementation][\"bert-base-uncased\"].keys()),\n",
        "        list(results[implementation][\"bert-base-uncased\"].values()),\n",
        "        )\n",
        "\n",
        "plt.legend(list(results.keys())) \n",
        "plt.show()"
      ],
      "outputs": [
        {
          "output_type": "display_data",
          "data": {
            "text/plain": [
              "<Figure size 432x288 with 1 Axes>"
            ],
            "image/png": "[encoded data removed]"
          },
          "metadata": {
            "needs_background": "light"
          }
        }
      ],
      "metadata": {}
    }
  ]
}